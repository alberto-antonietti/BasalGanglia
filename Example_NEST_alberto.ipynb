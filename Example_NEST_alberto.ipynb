{
 "cells": [
  {
   "cell_type": "markdown",
   "id": "ad085d85-941a-4eed-9644-7997eb4d34c4",
   "metadata": {},
   "source": [
    "### How to connect an array of pre and post neurons in a single line of code"
   ]
  },
  {
   "cell_type": "code",
   "execution_count": 1,
   "id": "307e8cf9-765d-41e9-8f41-3c9bca1e2055",
   "metadata": {},
   "outputs": [],
   "source": [
    "import nest\n",
    "import numpy as np"
   ]
  },
  {
   "cell_type": "code",
   "execution_count": 2,
   "id": "dce11388-016b-4d94-90ad-e31dc091cff9",
   "metadata": {},
   "outputs": [],
   "source": [
    "neurons = nest.Create(\"iaf_cond_alpha\", 100)\n",
    "pre_neurons = np.array([1, 5, 88, 99, 3])  # IMPORTANT! It must be a NUMPY ARRAY, not just a list\n",
    "post_neurons = np.array([2, 6, 6, 2, 85])\n",
    "nest.Connect(pre_neurons, post_neurons, \"one_to_one\")"
   ]
  },
  {
   "cell_type": "code",
   "execution_count": 3,
   "id": "80b0ba64-d3f9-46c2-9fb6-5e9b0d924256",
   "metadata": {},
   "outputs": [
    {
     "data": {
      "text/plain": [
       "(5,)"
      ]
     },
     "execution_count": 3,
     "metadata": {},
     "output_type": "execute_result"
    }
   ],
   "source": [
    "pre_neurons.shape"
   ]
  },
  {
   "cell_type": "markdown",
   "id": "08ef2dab-9575-45de-ada3-92b5fa341954",
   "metadata": {},
   "source": [
    "We can check if the connections have been created"
   ]
  },
  {
   "cell_type": "code",
   "execution_count": 4,
   "id": "fed15f1a-35c2-454c-8438-7caf7e89c40b",
   "metadata": {},
   "outputs": [
    {
     "data": {
      "text/plain": [
       "({'delay': 1.0,\n",
       "  'port': 0,\n",
       "  'receptor': 0,\n",
       "  'sizeof': 32,\n",
       "  'source': 1,\n",
       "  'synapse_id': 18,\n",
       "  'synapse_model': 'static_synapse',\n",
       "  'target': 2,\n",
       "  'target_thread': 0,\n",
       "  'weight': 1.0},\n",
       " {'delay': 1.0,\n",
       "  'port': 1,\n",
       "  'receptor': 0,\n",
       "  'sizeof': 32,\n",
       "  'source': 3,\n",
       "  'synapse_id': 18,\n",
       "  'synapse_model': 'static_synapse',\n",
       "  'target': 85,\n",
       "  'target_thread': 0,\n",
       "  'weight': 1.0},\n",
       " {'delay': 1.0,\n",
       "  'port': 2,\n",
       "  'receptor': 0,\n",
       "  'sizeof': 32,\n",
       "  'source': 5,\n",
       "  'synapse_id': 18,\n",
       "  'synapse_model': 'static_synapse',\n",
       "  'target': 6,\n",
       "  'target_thread': 0,\n",
       "  'weight': 1.0},\n",
       " {'delay': 1.0,\n",
       "  'port': 3,\n",
       "  'receptor': 0,\n",
       "  'sizeof': 32,\n",
       "  'source': 88,\n",
       "  'synapse_id': 18,\n",
       "  'synapse_model': 'static_synapse',\n",
       "  'target': 6,\n",
       "  'target_thread': 0,\n",
       "  'weight': 1.0},\n",
       " {'delay': 1.0,\n",
       "  'port': 4,\n",
       "  'receptor': 0,\n",
       "  'sizeof': 32,\n",
       "  'source': 99,\n",
       "  'synapse_id': 18,\n",
       "  'synapse_model': 'static_synapse',\n",
       "  'target': 2,\n",
       "  'target_thread': 0,\n",
       "  'weight': 1.0})"
      ]
     },
     "execution_count": 4,
     "metadata": {},
     "output_type": "execute_result"
    }
   ],
   "source": [
    "connections = nest.GetConnections(neurons, neurons)\n",
    "nest.GetStatus(connections)"
   ]
  },
  {
   "cell_type": "markdown",
   "id": "6b87f2eb-5870-46bb-8fc5-d702483a6250",
   "metadata": {},
   "source": [
    "### How to create multiple spike generators in a single line of code"
   ]
  },
  {
   "cell_type": "code",
   "execution_count": 5,
   "id": "1c3c7532-aef3-4fd1-9e3a-4c7e271a70a8",
   "metadata": {},
   "outputs": [],
   "source": [
    "generators = nest.Create(\"spike_generator\", 3)"
   ]
  },
  {
   "cell_type": "code",
   "execution_count": 6,
   "id": "1dfa0a01-34b0-4934-801d-d27e228aac8b",
   "metadata": {},
   "outputs": [],
   "source": [
    "spikes_dictionaries = [{\"spike_times\": [0.1, 0.2, 55.3]},\n",
    "                     {\"spike_times\": [1.1, 3.3, 5.1]},\n",
    "                     {\"spike_times\": [0.5, 0.6, 0.9]}]  # This must be a list (len equal to the number of spike generators) of dictionaries\n",
    "nest.SetStatus(generators, spikes_dictionaries)"
   ]
  },
  {
   "cell_type": "markdown",
   "id": "95ce530e-9224-4476-971b-fda5f1ad3a09",
   "metadata": {},
   "source": [
    "We can check if the spike times have been correctly set"
   ]
  },
  {
   "cell_type": "code",
   "execution_count": 7,
   "id": "f1e9e585-1d65-4df0-86d4-ecacad530209",
   "metadata": {},
   "outputs": [
    {
     "data": {
      "text/plain": [
       "({'allow_offgrid_times': False,\n",
       "  'element_type': 'stimulator',\n",
       "  'frozen': False,\n",
       "  'global_id': 101,\n",
       "  'label': '',\n",
       "  'local': True,\n",
       "  'model': 'spike_generator',\n",
       "  'node_uses_wfr': False,\n",
       "  'origin': 0.0,\n",
       "  'precise_times': False,\n",
       "  'shift_now_spikes': False,\n",
       "  'spike_multiplicities': array([], dtype=int64),\n",
       "  'spike_times': array([ 0.1,  0.2, 55.3]),\n",
       "  'spike_weights': array([], dtype=float64),\n",
       "  'start': 0.0,\n",
       "  'stimulus_source': '0',\n",
       "  'stop': 1.7976931348623157e+308,\n",
       "  'thread': 0,\n",
       "  'thread_local_id': -1,\n",
       "  'vp': 0},\n",
       " {'allow_offgrid_times': False,\n",
       "  'element_type': 'stimulator',\n",
       "  'frozen': False,\n",
       "  'global_id': 102,\n",
       "  'label': '',\n",
       "  'local': True,\n",
       "  'model': 'spike_generator',\n",
       "  'node_uses_wfr': False,\n",
       "  'origin': 0.0,\n",
       "  'precise_times': False,\n",
       "  'shift_now_spikes': False,\n",
       "  'spike_multiplicities': array([], dtype=int64),\n",
       "  'spike_times': array([1.1, 3.3, 5.1]),\n",
       "  'spike_weights': array([], dtype=float64),\n",
       "  'start': 0.0,\n",
       "  'stimulus_source': '0',\n",
       "  'stop': 1.7976931348623157e+308,\n",
       "  'thread': 0,\n",
       "  'thread_local_id': -1,\n",
       "  'vp': 0},\n",
       " {'allow_offgrid_times': False,\n",
       "  'element_type': 'stimulator',\n",
       "  'frozen': False,\n",
       "  'global_id': 103,\n",
       "  'label': '',\n",
       "  'local': True,\n",
       "  'model': 'spike_generator',\n",
       "  'node_uses_wfr': False,\n",
       "  'origin': 0.0,\n",
       "  'precise_times': False,\n",
       "  'shift_now_spikes': False,\n",
       "  'spike_multiplicities': array([], dtype=int64),\n",
       "  'spike_times': array([0.5, 0.6, 0.9]),\n",
       "  'spike_weights': array([], dtype=float64),\n",
       "  'start': 0.0,\n",
       "  'stimulus_source': '0',\n",
       "  'stop': 1.7976931348623157e+308,\n",
       "  'thread': 0,\n",
       "  'thread_local_id': -1,\n",
       "  'vp': 0})"
      ]
     },
     "execution_count": 7,
     "metadata": {},
     "output_type": "execute_result"
    }
   ],
   "source": [
    "nest.GetStatus(generators)"
   ]
  },
  {
   "cell_type": "code",
   "execution_count": null,
   "id": "a61691c9-849d-42f0-90a3-3f79938365d5",
   "metadata": {},
   "outputs": [],
   "source": []
  }
 ],
 "metadata": {
  "kernelspec": {
   "display_name": "Python 3",
   "language": "python",
   "name": "python3"
  },
  "language_info": {
   "codemirror_mode": {
    "name": "ipython",
    "version": 3
   },
   "file_extension": ".py",
   "mimetype": "text/x-python",
   "name": "python",
   "nbconvert_exporter": "python",
   "pygments_lexer": "ipython3",
   "version": "3.8.10"
  }
 },
 "nbformat": 4,
 "nbformat_minor": 5
}
