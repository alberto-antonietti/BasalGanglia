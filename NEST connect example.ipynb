{
 "cells": [
  {
   "cell_type": "code",
   "execution_count": 1,
   "id": "56bff7c5-e630-4cf6-ba02-3f33eecf87eb",
   "metadata": {},
   "outputs": [],
   "source": [
    "import nest\n",
    "import matplotlib.pyplot as plt\n",
    "import numpy as np\n",
    "\n",
    "\n",
    "def makeMatrix(sources, targets, weights):\n",
    "    \"\"\"\n",
    "    Returns a matrix with the weights between the source and target node_ids.\n",
    "    \"\"\"\n",
    "    aa = np.zeros((max(sources) + 1, max(targets) + 1))\n",
    "\n",
    "    for src, trg, wght in zip(sources, targets, weights):\n",
    "        aa[src, trg] += wght\n",
    "\n",
    "    return aa\n",
    "\n",
    "\n",
    "def plotMatrix(srcs, tgts, weights, title, pos):\n",
    "    \"\"\"\n",
    "    Plots weight matrix.\n",
    "    \"\"\"\n",
    "    plt.subplot(pos)\n",
    "    plt.matshow(makeMatrix(srcs, tgts, weights), fignum=False)\n",
    "    plt.xlim([min(tgts) - 0.5, max(tgts) + 0.5])\n",
    "    plt.xlabel('target')\n",
    "    plt.ylim([max(srcs) + 0.5, min(srcs) - 0.5])\n",
    "    plt.ylabel('source')\n",
    "    plt.title(title)\n",
    "    plt.colorbar(fraction=0.046, pad=0.04)\n",
    "\n",
    "\n"
   ]
  },
  {
   "cell_type": "code",
   "execution_count": 2,
   "id": "cef11f7a-19cb-42a5-bd58-44d077a53c05",
   "metadata": {},
   "outputs": [
    {
     "data": {
      "image/png": "[encoded data removed]",
      "text/plain": [
       "<Figure size 864x720 with 2 Axes>"
      ]
     },
     "metadata": {
      "needs_background": "light"
     },
     "output_type": "display_data"
    }
   ],
   "source": [
    "\"\"\"\n",
    "Start with a simple, one_to_one example.\n",
    "We create the neurons, connect them, and get the connections. From this we can\n",
    "get the connected sources, targets, and weights. The corresponding matrix will\n",
    "be the identity matrix, as we have a one_to_one connection.\n",
    "\"\"\"\n",
    "nest.ResetKernel()\n",
    "\n",
    "nrns = nest.Create('iaf_psc_alpha', 10)\n",
    "\n",
    "nest.Connect(nrns, nrns, 'one_to_one')\n",
    "conns = nest.GetConnections(nrns, nrns)  # This returns a SynapseCollection\n",
    "# We can get desired information of the SynapseCollection with simple get() call.\n",
    "g = conns.get(['source', 'target', 'weight'])\n",
    "srcs = g['source']\n",
    "tgts = g['target']\n",
    "weights = g['weight']\n",
    "\n",
    "# Plot the matrix consisting of the weights between the sources and targets\n",
    "plt.figure(figsize=(12, 10))\n",
    "plotMatrix(srcs, tgts, weights, 'Uniform weight', 121)\n",
    "\n"
   ]
  },
  {
   "cell_type": "code",
   "execution_count": 3,
   "id": "0eee255b-9034-4369-a81f-4b59530e0a2f",
   "metadata": {},
   "outputs": [
    {
     "data": {
      "image/png": "[encoded data removed]",
      "text/plain": [
       "<Figure size 432x288 with 2 Axes>"
      ]
     },
     "metadata": {
      "needs_background": "light"
     },
     "output_type": "display_data"
    }
   ],
   "source": [
    "\"\"\"\n",
    "Add some weights to the connections, and plot the updated weight matrix.\n",
    "\"\"\"\n",
    "# We can set data of the connections with a simple set() call.\n",
    "w = [{'weight': x * 1.0} for x in range(1, 11)]\n",
    "conns.set(w)\n",
    "weights = conns.weight\n",
    "\n",
    "plotMatrix(srcs, tgts, weights, 'Set weight', 122)\n",
    "\n"
   ]
  },
  {
   "cell_type": "code",
   "execution_count": 4,
   "id": "806038c1-0d93-4d81-bf2f-4305ec3caaad",
   "metadata": {},
   "outputs": [
    {
     "data": {
      "image/png": "[encoded data removed]",
      "text/plain": [
       "<Figure size 864x720 with 2 Axes>"
      ]
     },
     "metadata": {
      "needs_background": "light"
     },
     "output_type": "display_data"
    }
   ],
   "source": [
    "\"\"\"\n",
    "We can also plot an all_to_all connection, with uniformly distributed weights,\n",
    "and different number of sources and targets.\n",
    "\"\"\"\n",
    "nest.ResetKernel()\n",
    "\n",
    "pre = nest.Create('iaf_psc_alpha', 10)\n",
    "post = nest.Create('iaf_psc_delta', 5)\n",
    "nest.Connect(pre, post, syn_spec={'weight': nest.random.uniform(min=0.5, max=4.5)})\n",
    "\n",
    "# Get a SynapseCollection with all connections\n",
    "conns = nest.GetConnections()\n",
    "srcs = conns.source\n",
    "tgts = conns.target\n",
    "weights = conns.weight\n",
    "\n",
    "plt.figure(figsize=(12, 10))\n",
    "plotMatrix(srcs, tgts, weights, 'All to all connection', 111)\n",
    "\n"
   ]
  },
  {
   "cell_type": "code",
   "execution_count": null,
   "id": "69763e7f-dc71-436d-b0df-9bdf5c90bb92",
   "metadata": {},
   "outputs": [],
   "source": [
    "\"\"\"\n",
    "Lastly, we'll do an exmple that is a bit more complex. We connect different\n",
    "neurons with different rules, synapse models and weight distributions, and get\n",
    "different SynapseCollections by calling GetConnections with different inputs.\n",
    "\"\"\"\n",
    "nest.ResetKernel()\n",
    "\n",
    "nrns = nest.Create('iaf_psc_alpha', 15)\n",
    "nest.Connect(nrns[:5], nrns[:5], #this here moght be useful, how to \"call\" the neuron inside of a pop\n",
    "             'one_to_one',\n",
    "             {'synapse_model': 'stdp_synapse', 'weight': nest.random.normal(mean=5.0, std=2.0)})\n",
    "nest.Connect(nrns[:10], nrns[5:12],\n",
    "             {'rule': 'pairwise_bernoulli', 'p': 0.4},\n",
    "             {'weight': 4.0})\n",
    "nest.Connect(nrns[5:10], nrns[:5],\n",
    "             {'rule': 'fixed_total_number', 'N': 5},\n",
    "             {'weight': 3.0})\n",
    "nest.Connect(nrns[10:], nrns[:12],\n",
    "             'all_to_all',\n",
    "             {'synapse_model': 'stdp_synapse', 'weight': nest.random.uniform(min=1., max=5.)})\n",
    "nest.Connect(nrns, nrns[12:],\n",
    "             {'rule': 'fixed_indegree', 'indegree': 3})\n",
    "\n",
    "# First get a SynapseCollection consisting of all the connections\n",
    "conns = nest.GetConnections()\n",
    "srcs = conns.source\n",
    "tgts = conns.target\n",
    "weights = conns.weight\n",
    "\n",
    "plt.figure(figsize=(14, 12))\n",
    "plotMatrix(list(srcs), list(tgts), weights, 'All connections', 221)\n",
    "\n",
    "# Get SynapseCollection consisting of a subset of connections\n",
    "conns = nest.GetConnections(nrns[:10], nrns[:10])\n",
    "g = conns.get(['source', 'target', 'weight'])\n",
    "srcs = g['source']\n",
    "tgts = g['target']\n",
    "weights = g['weight']\n",
    "\n",
    "plotMatrix(srcs, tgts, weights, 'Connections of the first ten neurons', 222)\n",
    "\n",
    "# Get SynapseCollection consisting of just the stdp_synapses\n",
    "conns = nest.GetConnections(synapse_model='stdp_synapse')\n",
    "g = conns.get(['source', 'target', 'weight'])\n",
    "srcs = g['source']\n",
    "tgts = g['target']\n",
    "weights = g['weight']\n",
    "\n",
    "plotMatrix(srcs, tgts, weights, 'Connections with stdp_synapse', 223)\n",
    "\n",
    "# Get SynapseCollection consisting of the fixed_total_number connections, but set\n",
    "# weight before plotting\n",
    "conns = nest.GetConnections(nrns[5:10], nrns[:5])\n",
    "w = [{'weight': x * 1.0} for x in range(1, 6)]\n",
    "conns.set(w)\n",
    "g = conns.get(['source', 'target', 'weight'])\n",
    "srcs = g['source']\n",
    "tgts = g['target']\n",
    "weights = g['weight']\n",
    "\n",
    "plotMatrix(srcs, tgts, weights, 'fixed_total_number, set weight', 224)\n",
    "\n",
    "\n",
    "plt.show()"
   ]
  }
 ],
 "metadata": {
  "kernelspec": {
   "display_name": "Python 3",
   "language": "python",
   "name": "python3"
  },
  "language_info": {
   "codemirror_mode": {
    "name": "ipython",
    "version": 3
   },
   "file_extension": ".py",
   "mimetype": "text/x-python",
   "name": "python",
   "nbconvert_exporter": "python",
   "pygments_lexer": "ipython3",
   "version": "3.8.10"
  }
 },
 "nbformat": 4,
 "nbformat_minor": 5
}
