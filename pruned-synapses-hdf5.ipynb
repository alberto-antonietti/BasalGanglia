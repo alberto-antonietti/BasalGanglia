{
 "cells": [
  {
   "cell_type": "markdown",
   "id": "10e6106e-970a-4928-ae80-1cf9321fca30",
   "metadata": {},
   "source": [
    "EXPLORING THE SYNAPSE HDF5 FILE AND POSSIBLE RELEVANT PARAMETERS"
   ]
  },
  {
   "cell_type": "code",
   "execution_count": 2,
   "id": "e4567f6c-23e4-4a4d-8ff2-76371bc33963",
   "metadata": {},
   "outputs": [],
   "source": [
    "import numpy as np\n",
    "import h5py\n",
    "import pandas as pd\n",
    "import matplotlib\n",
    "import matplotlib.pyplot as plt\n",
    "from getData import *\n",
    "#plt.scatter(self.time-skipTime,self.spikeID,color='black',s=1)"
   ]
  },
  {
   "cell_type": "code",
   "execution_count": 26,
   "id": "f0d72768-1f70-4065-958c-6e2be2a745e9",
   "metadata": {
    "tags": []
   },
   "outputs": [
    {
     "name": "stdout",
     "output_type": "stream",
     "text": [
      "This file presents the following folders: ['config', 'meta', 'morphologies', 'network']\n",
      "\n",
      "Inside meta :  ['SlurmID', 'axonStumpIDFlag', 'config', 'configFile', 'connectivityDistributions', 'hyperVoxelIDs', 'hyperVoxelSize', 'nHyperVoxels', 'positionFile', 'simulationOrigo', 'voxelSize']\n",
      "\n",
      " Inside morphologies :  ['ChIN_0', 'FSN_1', 'LTS_0', 'dSPN_0', 'dSPN_1', 'dSPN_2', 'dSPN_3', 'iSPN_0', 'iSPN_1', 'iSPN_2', 'iSPN_3']\n",
      " Inside ChIN_0 :  ['location', 'swc']\n",
      " Inside dSPN_0 :  ['location', 'swc']\n",
      "\n",
      " Inside network :  ['gapJunctions', 'nGapJunctions', 'nSynapses', 'neurons', 'synapses']\n",
      "\n",
      " Synapse Table:\n",
      "      sourceID  destinID    3    4    5  synapseType   7  dentDistance    9  \\\n",
      "0            3         0   75  136  199            6  14           240  143   \n",
      "1            3         0   91  132  211            7  14           260  107   \n",
      "2            3         0  111  136  185           26  14           192   40   \n",
      "3            6         0  117  116  178           26  14           366  115   \n",
      "4            6         0  128  118  167           26  14           289  130   \n",
      "...        ...       ...  ...  ...  ...          ...  ..           ...  ...   \n",
      "7029        89        98  142  104  186           26  14           223   92   \n",
      "7030        89        98  159  135  187           26  14           312   53   \n",
      "7031        92        98  135   94  176           21  14           239  136   \n",
      "7032        92        98  135   98  177           21  14           149  120   \n",
      "7033        92        98  136   98  177           21  14           156  122   \n",
      "\n",
      "      10   11   12      13  \n",
      "0      5  960  191  552959  \n",
      "1      3  612  414  260302  \n",
      "2     22  393  250  294471  \n",
      "3     40  592  209  951077  \n",
      "4      8  852  105  499311  \n",
      "...   ..  ...  ...     ...  \n",
      "7029   5  561  339  364442  \n",
      "7030  66  189  296  178807  \n",
      "7031   3  864  175  241093  \n",
      "7032   3  724  257  701402  \n",
      "7033   3  742  143  753730  \n",
      "\n",
      "[7034 rows x 13 columns]\n",
      "\n",
      " Inside neurons :  ['axonDensity', 'axonDensityBoundsXYZ', 'axonDensityRadius', 'axonDensityType', 'channelID', 'channelMethod', 'hoc', 'maxAxonRadius', 'maxDendRadius', 'modulationID', 'morphology', 'nChannels', 'name', 'neuronID', 'parameterID', 'position', 'rotation', 'virtualNeuron', 'volumeID']\n",
      "\n",
      " config file has info on connectivity:\n",
      "{\"Volume\": {\"Striatum\": {\"type\": \"mesh\", \"dMin\": 1.5e-05, \"meshFile\": \"networks/tinySim/mesh/Striatum-cube-mesh-0.00010749824478388102.obj\", \"meshBinWidth\": 0.00010749824478388102}}, \"Channels\": {\"nChannels\": 1, \"method\": \"random\"}, \"Connectivity\": {\"FSN,FSN\": {\"GABA\": {\"conductance\": [1.1e-09, 1.5e-09], \"channelParameters\": {\"tau1\": [0.00133, 1000.0], \"tau2\": [0.0057, 1000.0], \"modFile\": \"tmGabaA\"}, \"pruning\": {\"f1\": 0.15, \"softMax\": 5, \"mu2\": 2, \"a3\": 1, \"distPruning\": null}}, \"GapJunction\": {\"conductance\": [5e-10, 1e-10], \"channelParameters\": null, \"pruning\": {\"f1\": 0.7, \"softMax\": 8, \"mu2\": 2, \"a3\": 1.0, \"distPruning\": null}}}, \"FSN,dSPN\": {\"GABA\": {\"conductance\": [1.1e-09, 1.5e-09], \"channelParameters\": {\"tau1\": [0.0012, 1000.0], \"tau2\": [0.008, 1000.0], \"parameterFile\": \"/home/ubuntu/Snudda/snudda/data/synapses/v2/PlanertFitting-FD-tmgaba-fit.json\", \"modFile\": \"tmGabaA\"}, \"pruning\": {\"f1\": 0.5, \"softMax\": 5, \"mu2\": 2, \"a3\": 1.0, \"distPruning\": \"np.exp(-(0.5*d/60e-6)**2)\"}}}, \"FSN,iSPN\": {\"GABA\": {\"conductance\": [1.1e-09, 1.5e-09], \"channelParameters\": {\"tau1\": [0.0012, 1000.0], \"tau2\": [0.008, 1000.0], \"parameterFile\": \"/home/ubuntu/Snudda/snudda/data/synapses/v2/PlanertFitting-FI-tmgaba-fit.json\", \"modFile\": \"tmGabaA\"}, \"pruning\": {\"f1\": 0.5, \"softMax\": 5, \"mu2\": 2, \"a3\": 0.9, \"distPruning\": \"np.exp(-(0.5*d/60e-6)**2)\"}}}, \"FSN,LTS\": {\"GABA\": {\"conductance\": [1.1e-10, 1.5e-10], \"channelParameters\": {\"modFile\": \"tmGabaA\"}, \"pruning\": {\"f1\": 0.15, \"softMax\": 3, \"mu2\": 2, \"a3\": 1.0, \"distPruning\": null}}}, \"dSPN,dSPN\": {\"GABA\": {\"conductance\": [2.4e-10, 1e-10], \"channelParameters\": {\"tau1\": [0.0013, 1000.0], \"tau2\": [0.0124, 1000.0], \"failRate\": 0.7, \"parameterFile\": \"/home/ubuntu/Snudda/snudda/data/synapses/v2/PlanertFitting-DD-tmgaba-fit.json\", \"modFile\": \"tmGabaA\"}, \"pruning\": {\"f1\": 0.38, \"softMax\": 3, \"mu2\": 2.4, \"a3\": 1.0, \"distPruning\": \"1-np.exp(-(0.4*d/60e-6)**2)\"}, \"pruningOther\": {\"f1\": 0.38, \"softMax\": 3, \"mu2\": 2.4, \"a3\": 1.0, \"distPruning\": \"1-np.exp(-(0.4*d/60e-6)**2)\"}}}, \"dSPN,iSPN\": {\"GABA\": {\"conductance\": [2.4e-10, 1e-10], \"channelParameters\": {\"tau1\": [0.0013, 1000.0], \"tau2\": [0.0124, 1000.0], \"failRate\": 0.7, \"parameterFile\": \"/home/ubuntu/Snudda/snudda/data/synapses/v2/PlanertFitting-DI-tmgaba-fit.json\", \"modFile\": \"tmGabaA\"}, \"pruning\": {\"f1\": 0.2, \"softMax\": 3, \"mu2\": 2.4, \"a3\": 1.0, \"distPruning\": \"1-np.exp(-(0.4*d/60e-6)**2)\"}, \"pruningOther\": {\"f1\": 0.2, \"softMax\": 3, \"mu2\": 2.4, \"a3\": 1.0, \"distPruning\": \"1-np.exp(-(0.4*d/60e-6)**2)\"}}}, \"dSPN,ChIN\": {\"GABA\": {\"conductance\": [2.4e-10, 1e-10], \"channelParameters\": {\"failRate\": 0.7, \"modFile\": \"tmGabaA\"}, \"pruning\": {\"f1\": 0.1, \"softMax\": 3, \"mu2\": 2.4, \"a3\": 0.1, \"distPruning\": \"1-np.exp(-(0.4*d/60e-6)**2)\"}}}, \"iSPN,dSPN\": {\"GABA\": {\"conductance\": [2.4e-10, 1e-10], \"channelParameters\": {\"tau1\": [0.0013, 1000.0], \"tau2\": [0.0124, 1000.0], \"failRate\": 0.4, \"parameterFile\": \"/home/ubuntu/Snudda/snudda/data/synapses/v2/PlanertFitting-ID-tmgaba-fit.json\", \"modFile\": \"tmGabaA\"}, \"pruning\": {\"f1\": 0.3, \"softMax\": 4, \"mu2\": 2.4, \"a3\": 1.0, \"distPruning\": \"1-np.exp(-(0.4*d/60e-6)**2)\"}, \"pruningOther\": {\"f1\": 0.3, \"softMax\": 4, \"mu2\": 2.4, \"a3\": 1.0, \"distPruning\": \"1-np.exp(-(0.4*d/60e-6)**2)\"}}}, \"iSPN,iSPN\": {\"GABA\": {\"conductance\": [2.4e-10, 1e-10], \"channelParameters\": {\"tau1\": [0.0013, 1000.0], \"tau2\": [0.0124, 1000.0], \"failRate\": 0.4, \"parameterFile\": \"/home/ubuntu/Snudda/snudda/data/synapses/v2/PlanertFitting-II-tmgaba-fit.json\", \"modFile\": \"tmGabaA\"}, \"pruning\": {\"f1\": 0.55, \"softMax\": 4, \"mu2\": 2.4, \"a3\": 1.0, \"distPruning\": \"1-np.exp(-(0.4*d/60e-6)**2)\"}, \"pruningOther\": {\"f1\": 0.55, \"softMax\": 4, \"mu2\": 2.4, \"a3\": 1.0, \"distPruning\": \"1-np.exp(-(0.4*d/60e-6)**2)\"}}}, \"iSPN,ChIN\": {\"GABA\": {\"conductance\": [2.4e-10, 1e-10], \"channelParameters\": {\"failRate\": 0.4, \"modFile\": \"tmGabaA\"}, \"pruning\": {\"f1\": 0.1, \"softMax\": 3, \"mu2\": 2.4, \"a3\": 0.1, \"distPruning\": \"1-np.exp(-(0.4*d/60e-6)**2)\"}}}, \"LTS,dSPN\": {\"GABA\": {\"conductance\": [3e-09, 0], \"channelParameters\": {\"tau1\": [0.003, 1000.0], \"tau2\": [0.038, 1000.0], \"modFile\": \"tmGabaA\"}, \"pruning\": {\"f1\": 1.0, \"softMax\": 15, \"mu2\": 3, \"a3\": 0.3, \"distPruning\": \"1-np.exp(-(0.4*d/60e-6)**2)\"}}}, \"LTS,iSPN\": {\"GABA\": {\"conductance\": [3e-09, 0], \"channelParameters\": {\"tau1\": [0.003, 1000.0], \"tau2\": [0.038, 1000.0], \"modFile\": \"tmGabaA\"}, \"pruning\": {\"f1\": 1.0, \"softMax\": 15, \"mu2\": 3, \"a3\": 0.3, \"distPruning\": \"1-np.exp(-(0.4*d/60e-6)**2)\"}}}, \"LTS,ChIN\": {\"GABA\": {\"conductance\": [3e-09, 0], \"channelParameters\": {\"modFile\": \"tmGabaA\"}, \"pruning\": {\"f1\": 0.5, \"softMax\": 10, \"mu2\": 3, \"a3\": 0.4, \"distPruning\": null}}}}, \"Neurons\": {\"FSN_1\": {\"morphology\": \"/home/ubuntu/Snudda/snudda/data/cellspecs-v2/fs/str-fs-e180418_FS5-mMTC251001A-IDB-v20190301/MTC251001A-IDB-cor-rep.swc\", \"parameters\": \"/home/ubuntu/Snudda/snudda/data/cellspecs-v2/fs/str-fs-e180418_FS5-mMTC251001A-IDB-v20190301/parameters.json\", \"mechanisms\": \"/home/ubuntu/Snudda/snudda/data/cellspecs-v2/fs/str-fs-e180418_FS5-mMTC251001A-IDB-v20190301/mechanisms.json\", \"modulation\": \"/home/ubuntu/Snudda/snudda/data/cellspecs-v2/fs/str-fs-e180418_FS5-mMTC251001A-IDB-v20190301/modulation.json\", \"num\": 1, \"hoc\": null, \"neuronType\": \"neuron\", \"rotationMode\": \"random\", \"volumeID\": \"Striatum\"}, \"dSPN_0\": {\"morphology\": \"/home/ubuntu/Snudda/snudda/data/cellspecs-v2/dspn/str-dspn-e150917_c10_D1-mWT-P270-20-v20190521/WT-P270-20-15ak-cor.swc\", \"parameters\": \"/home/ubuntu/Snudda/snudda/data/cellspecs-v2/dspn/str-dspn-e150917_c10_D1-mWT-P270-20-v20190521/parameters.json\", \"mechanisms\": \"/home/ubuntu/Snudda/snudda/data/cellspecs-v2/dspn/str-dspn-e150917_c10_D1-mWT-P270-20-v20190521/mechanisms.json\", \"modulation\": \"/home/ubuntu/Snudda/snudda/data/cellspecs-v2/dspn/str-dspn-e150917_c10_D1-mWT-P270-20-v20190521/modulation.json\", \"num\": 12, \"hoc\": null, \"neuronType\": \"neuron\", \"rotationMode\": \"random\", \"volumeID\": \"Striatum\"}, \"dSPN_1\": {\"morphology\": \"/home/ubuntu/Snudda/snudda/data/cellspecs-v2/dspn/str-dspn-e150602_c1_D1-mWT-0728MSN01-v20190508/WT-0728MSN01-cor-rep-ax.swc\", \"parameters\": \"/home/ubuntu/Snudda/snudda/data/cellspecs-v2/dspn/str-dspn-e150602_c1_D1-mWT-0728MSN01-v20190508/parameters.json\", \"mechanisms\": \"/home/ubuntu/Snudda/snudda/data/cellspecs-v2/dspn/str-dspn-e150602_c1_D1-mWT-0728MSN01-v20190508/mechanisms.json\", \"modulation\": \"/home/ubuntu/Snudda/snudda/data/cellspecs-v2/dspn/str-dspn-e150602_c1_D1-mWT-0728MSN01-v20190508/modulation.json\", \"num\": 12, \"hoc\": null, \"neuronType\": \"neuron\", \"rotationMode\": \"random\", \"volumeID\": \"Striatum\"}, \"dSPN_2\": {\"morphology\": \"/home/ubuntu/Snudda/snudda/data/cellspecs-v2/dspn/str-dspn-e150917_c6_D1-m21-6-DE-v20190503/21-6-DE-cor-rep-ax.swc\", \"parameters\": \"/home/ubuntu/Snudda/snudda/data/cellspecs-v2/dspn/str-dspn-e150917_c6_D1-m21-6-DE-v20190503/parameters.json\", \"mechanisms\": \"/home/ubuntu/Snudda/snudda/data/cellspecs-v2/dspn/str-dspn-e150917_c6_D1-m21-6-DE-v20190503/mechanisms.json\", \"modulation\": \"/home/ubuntu/Snudda/snudda/data/cellspecs-v2/dspn/str-dspn-e150917_c6_D1-m21-6-DE-v20190503/modulation.json\", \"num\": 12, \"hoc\": null, \"neuronType\": \"neuron\", \"rotationMode\": \"random\", \"volumeID\": \"Striatum\"}, \"dSPN_3\": {\"morphology\": \"/home/ubuntu/Snudda/snudda/data/cellspecs-v2/dspn/str-dspn-e150917_c9_d1-mWT-1215MSN03-v20190521/WT-1215MSN03-cor-rep-ax2.swc\", \"parameters\": \"/home/ubuntu/Snudda/snudda/data/cellspecs-v2/dspn/str-dspn-e150917_c9_d1-mWT-1215MSN03-v20190521/parameters.json\", \"mechanisms\": \"/home/ubuntu/Snudda/snudda/data/cellspecs-v2/dspn/str-dspn-e150917_c9_d1-mWT-1215MSN03-v20190521/mechanisms.json\", \"modulation\": \"/home/ubuntu/Snudda/snudda/data/cellspecs-v2/dspn/str-dspn-e150917_c9_d1-mWT-1215MSN03-v20190521/modulation.json\", \"num\": 12, \"hoc\": null, \"neuronType\": \"neuron\", \"rotationMode\": \"random\", \"volumeID\": \"Striatum\"}, \"iSPN_0\": {\"morphology\": \"/home/ubuntu/Snudda/snudda/data/cellspecs-v2/ispn/str-ispn-e151123_c1_D2-mWT-P270-09-v20190527/WT-P270-09-15ak-cor.swc\", \"parameters\": \"/home/ubuntu/Snudda/snudda/data/cellspecs-v2/ispn/str-ispn-e151123_c1_D2-mWT-P270-09-v20190527/parameters.json\", \"mechanisms\": \"/home/ubuntu/Snudda/snudda/data/cellspecs-v2/ispn/str-ispn-e151123_c1_D2-mWT-P270-09-v20190527/mechanisms.json\", \"modulation\": \"/home/ubuntu/Snudda/snudda/data/cellspecs-v2/ispn/str-ispn-e151123_c1_D2-mWT-P270-09-v20190527/modulation.json\", \"num\": 12, \"hoc\": null, \"neuronType\": \"neuron\", \"rotationMode\": \"random\", \"volumeID\": \"Striatum\"}, \"iSPN_1\": {\"morphology\": \"/home/ubuntu/Snudda/snudda/data/cellspecs-v2/ispn/str-ispn-e150908_c4_D2-m51-5-DE-v20190611/51-5-DE-cor-rep-ax.swc\", \"parameters\": \"/home/ubuntu/Snudda/snudda/data/cellspecs-v2/ispn/str-ispn-e150908_c4_D2-m51-5-DE-v20190611/parameters.json\", \"mechanisms\": \"/home/ubuntu/Snudda/snudda/data/cellspecs-v2/ispn/str-ispn-e150908_c4_D2-m51-5-DE-v20190611/mechanisms.json\", \"modulation\": \"/home/ubuntu/Snudda/snudda/data/cellspecs-v2/ispn/str-ispn-e150908_c4_D2-m51-5-DE-v20190611/modulation.json\", \"num\": 12, \"hoc\": null, \"neuronType\": \"neuron\", \"rotationMode\": \"random\", \"volumeID\": \"Striatum\"}, \"iSPN_2\": {\"morphology\": \"/home/ubuntu/Snudda/snudda/data/cellspecs-v2/ispn/str-ispn-e160118_c10_D2-m46-3-DE-v20190529/46-3-DE-cor-rep-ax.swc\", \"parameters\": \"/home/ubuntu/Snudda/snudda/data/cellspecs-v2/ispn/str-ispn-e160118_c10_D2-m46-3-DE-v20190529/parameters.json\", \"mechanisms\": \"/home/ubuntu/Snudda/snudda/data/cellspecs-v2/ispn/str-ispn-e160118_c10_D2-m46-3-DE-v20190529/mechanisms.json\", \"modulation\": \"/home/ubuntu/Snudda/snudda/data/cellspecs-v2/ispn/str-ispn-e160118_c10_D2-m46-3-DE-v20190529/modulation.json\", \"num\": 12, \"hoc\": null, \"neuronType\": \"neuron\", \"rotationMode\": \"random\", \"volumeID\": \"Striatum\"}, \"iSPN_3\": {\"morphology\": \"/home/ubuntu/Snudda/snudda/data/cellspecs-v2/ispn/str-ispn-e150917_c11_D2-mWT-MSN1-v20190603/WT-MSN1-cor-rep-ax.swc\", \"parameters\": \"/home/ubuntu/Snudda/snudda/data/cellspecs-v2/ispn/str-ispn-e150917_c11_D2-mWT-MSN1-v20190603/parameters.json\", \"mechanisms\": \"/home/ubuntu/Snudda/snudda/data/cellspecs-v2/ispn/str-ispn-e150917_c11_D2-mWT-MSN1-v20190603/mechanisms.json\", \"modulation\": \"/home/ubuntu/Snudda/snudda/data/cellspecs-v2/ispn/str-ispn-e150917_c11_D2-mWT-MSN1-v20190603/modulation.json\", \"num\": 12, \"hoc\": null, \"neuronType\": \"neuron\", \"rotationMode\": \"random\", \"volumeID\": \"Striatum\"}, \"ChIN_0\": {\"morphology\": \"/home/ubuntu/Snudda/snudda/data/cellspecs-v2/chin/str-chin-e170614_cell6-m17JUL301751_170614_no6_MD_cell_1_x63-v20190710/optim_chin_morph_renamed2019-11-08.swc\", \"parameters\": \"/home/ubuntu/Snudda/snudda/data/cellspecs-v2/chin/str-chin-e170614_cell6-m17JUL301751_170614_no6_MD_cell_1_x63-v20190710/parameters.json\", \"mechanisms\": \"/home/ubuntu/Snudda/snudda/data/cellspecs-v2/chin/str-chin-e170614_cell6-m17JUL301751_170614_no6_MD_cell_1_x63-v20190710/mechanisms.json\", \"modulation\": \"/home/ubuntu/Snudda/snudda/data/cellspecs-v2/chin/str-chin-e170614_cell6-m17JUL301751_170614_no6_MD_cell_1_x63-v20190710/modulation.json\", \"num\": 1, \"hoc\": null, \"neuronType\": \"neuron\", \"rotationMode\": \"random\", \"volumeID\": \"Striatum\", \"axonDensity\": [\"r\", \"5000*1e12/3*np.exp(-r/120e-6)\", 0.00035]}, \"LTS_0\": {\"morphology\": \"/home/ubuntu/Snudda/snudda/data/cellspecs-v2/lts/LTS_Experiment-9862_20181211/lts_morp_2019-11-07_centered_no_axon.swc\", \"parameters\": \"/home/ubuntu/Snudda/snudda/data/cellspecs-v2/lts/LTS_Experiment-9862_20181211/parameters.json\", \"mechanisms\": \"/home/ubuntu/Snudda/snudda/data/cellspecs-v2/lts/LTS_Experiment-9862_20181211/mechanisms.json\", \"modulation\": \"/home/ubuntu/Snudda/snudda/data/cellspecs-v2/lts/LTS_Experiment-9862_20181211/modulation.json\", \"num\": 1, \"hoc\": null, \"neuronType\": \"neuron\", \"rotationMode\": \"random\", \"volumeID\": \"Striatum\", \"axonDensity\": [\"xyz\", \"12*3000*1e12*( 0.25*np.exp(-(((x-200e-6)/100e-6)**2 + ((y-0)/50e-6)**2 + ((z-0)/30e-6)**2)) + 1*np.exp(-(((x-300e-6)/300e-6)**2 + ((y-0)/15e-6)**2 + ((z-0)/10e-6)**2)) + 1*np.exp(-(((x-700e-6)/100e-6)**2 + ((y-0)/15e-6)**2 + ((z-0)/15e-6)**2)) )\", [-0.0002, 0.0009, -0.0001, 0.0001, -3e-05, 3e-05]]}}}\n"
     ]
    }
   ],
   "source": [
    "with h5py.File('/home/ubuntu/BasalGanglia/NEURON-data/net_100/network-pruned-synapses.hdf5', 'r') as file:\n",
    "    \n",
    "    print(\"This file presents the following folders:\", list(file.keys()))\n",
    "    config = file.get('config')\n",
    "    meta = file.get('meta')\n",
    "    morphologies = file.get('morphologies')\n",
    "    network = file.get('network')\n",
    "    #print(\"Inside config : \", list(config.keys()))\n",
    "    print(\"\\nInside meta : \", list(meta.keys()))\n",
    "    print(\"\\n Inside morphologies : \", list(morphologies.keys()))\n",
    "    chin_0 = morphologies.get('ChIN_0')\n",
    "    print(\" Inside ChIN_0 : \", list(chin_0.keys()))\n",
    "    dspn_0 = morphologies.get('dSPN_0')\n",
    "    print(\" Inside dSPN_0 : \", list(dspn_0.keys()))\n",
    "    \n",
    "    print(\"\\n Inside network : \", list(network.keys()))\n",
    "    \n",
    "    print(\"\\n Synapse Table:\")\n",
    "\n",
    "    synapses = network.get('synapses')\n",
    "    syn_table = []\n",
    "    for i in range(0,len(synapses)):\n",
    "        syn_table.append(synapses[i])\n",
    "    df2 = pd.DataFrame(data=syn_table)\n",
    "    df2.columns = ['sourceID', 'destinID', '3', '4', '5', 'synapseType', '7', 'dentDistance', '9', '10', '11', '12', '13']\n",
    "    print(df2) \n",
    "    \n",
    "    neurons = network.get('neurons')\n",
    "    print(\"\\n Inside neurons : \", list(neurons.keys()))\n",
    "    neuronID = np.array(neurons.get('neuronID'))\n",
    "    morphology = np.array(neurons.get('morphology'))\n",
    "    \n",
    "    print(\"\\n config file has info on connectivity:\")\n",
    "    config = np.array(file.get('config'))\n",
    "    print(config)\n",
    "\n",
    "    \n",
    "    \n",
    "    \n"
   ]
  },
  {
   "cell_type": "code",
   "execution_count": null,
   "id": "79af71c2-e9df-48ac-a929-891f41cee9e9",
   "metadata": {},
   "outputs": [],
   "source": []
  }
 ],
 "metadata": {
  "kernelspec": {
   "display_name": "Python 3",
   "language": "python",
   "name": "python3"
  },
  "language_info": {
   "codemirror_mode": {
    "name": "ipython",
    "version": 3
   },
   "file_extension": ".py",
   "mimetype": "text/x-python",
   "name": "python",
   "nbconvert_exporter": "python",
   "pygments_lexer": "ipython3",
   "version": "3.8.10"
  }
 },
 "nbformat": 4,
 "nbformat_minor": 5
}
