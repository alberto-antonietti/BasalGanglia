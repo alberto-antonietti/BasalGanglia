{
 "cells": [
  {
   "cell_type": "code",
   "execution_count": 2,
   "metadata": {},
   "outputs": [
    {
     "name": "stdout",
     "output_type": "stream",
     "text": [
      "/home/ubuntu/Snudda\n"
     ]
    }
   ],
   "source": [
    "cd \"~/Snudda\""
   ]
  },
  {
   "cell_type": "markdown",
   "metadata": {},
   "source": [
    "### The network has been already built on the Striatum_100.ipynb. We are skipping the creation and going directly to the simulation part.\n",
    "\n",
    "## Simulate the network"
   ]
  },
  {
   "cell_type": "markdown",
   "metadata": {},
   "source": [
    "Set up striatal network of 100 neurons. This writes the configuration file `network-config.json` (see the last line of the output). Option `--overwrite` allows to overwrite the network's directory if it exists."
   ]
  },
  {
   "cell_type": "code",
   "execution_count": 3,
   "metadata": {
    "scrolled": true
   },
   "outputs": [
    {
     "name": "stdout",
     "output_type": "stream",
     "text": [
      "Creating config file\n",
      "Network path: networks/tinySim\n",
      "CreateConfig\n",
      "Using 1 functional channels\n",
      "Adding Striatum with 100 neurons\n",
      "Using cube for striatum\n",
      "Creating cube mesh\n",
      "File: networks/tinySim/mesh/Striatum-cube-mesh-0.00010749824478388102.obj\n",
      "Centre: [0.00354  0.004645 0.005081]\n",
      "Side: 0.00010749824478388102\n",
      "Description: Striatum cube mesh, centre = [0.00354  0.004645 0.005081], side = 0.00010749824478388102\n",
      "Adding neurons: FSN from dir /mnt/user/drive/Shared with groups/BasalGanglia-Reproducible/Snudda/snudda/data/cellspecs-v2/fs\n",
      "Adding neurons: dSPN from dir /mnt/user/drive/Shared with groups/BasalGanglia-Reproducible/Snudda/snudda/data/cellspecs-v2/dspn\n",
      "Adding neurons: iSPN from dir /mnt/user/drive/Shared with groups/BasalGanglia-Reproducible/Snudda/snudda/data/cellspecs-v2/ispn\n",
      "Adding neurons: ChIN from dir /mnt/user/drive/Shared with groups/BasalGanglia-Reproducible/Snudda/snudda/data/cellspecs-v2/chin\n",
      "Checking boundaries, to make sure P is not too high\n",
      "LTS axon density P([-0.0002],[-0.0001],[-3.e-05]) = [1.84256218e-10]\n",
      "LTS axon density P([-0.0002],[-0.0001],[3.e-05]) = [1.84256218e-10]\n",
      "LTS axon density P([-0.0002],[0.0001],[-3.e-05]) = [1.84256218e-10]\n",
      "LTS axon density P([-0.0002],[0.0001],[3.e-05]) = [1.84256218e-10]\n",
      "LTS axon density P([0.0009],[-0.0001],[-3.e-05]) = [1.72360142e-23]\n",
      "LTS axon density P([0.0009],[-0.0001],[3.e-05]) = [1.72360142e-23]\n",
      "LTS axon density P([0.0009],[0.0001],[-3.e-05]) = [1.72360142e-23]\n",
      "LTS axon density P([0.0009],[0.0001],[3.e-05]) = [1.72360142e-23]\n",
      "Adding neurons: LTS from dir /mnt/user/drive/Shared with groups/BasalGanglia-Reproducible/Snudda/snudda/data/cellspecs-v2/lts\n",
      "Adding GPe with 0 neurons\n",
      "Adding GPi with 0 neurons\n",
      "Adding SNr with 0 neurons\n",
      "Adding STN with 0 neurons\n",
      "Adding Cortex with 0 neurons\n",
      "Adding Thalamus with 0 neurons\n",
      "Writing networks/tinySim/network-config.json\n"
     ]
    }
   ],
   "source": [
    "!snudda init networks/tinySim --size 100 --overwrite"
   ]
  },
  {
   "cell_type": "markdown",
   "metadata": {},
   "source": [
    "Place the neurons based on the network config file. Positions are written to the file `network-neuron-positions.hdf5`."
   ]
  },
  {
   "cell_type": "code",
   "execution_count": null,
   "metadata": {
    "scrolled": true
   },
   "outputs": [],
   "source": [
    "!snudda place networks/tinySim"
   ]
  },
  {
   "cell_type": "markdown",
   "metadata": {},
   "source": [
    "Detect the apposition points where axons and dendrites of different neurons overlap.  \n",
    "**NOTE**: this takes about 10 minutes on a common desktop."
   ]
  },
  {
   "cell_type": "code",
   "execution_count": null,
   "metadata": {
    "scrolled": true
   },
   "outputs": [],
   "source": [
    "!snudda detect networks/tinySim"
   ]
  },
  {
   "cell_type": "markdown",
   "metadata": {},
   "source": [
    "Prune the detected appositions to get the set of synapses."
   ]
  },
  {
   "cell_type": "code",
   "execution_count": null,
   "metadata": {
    "scrolled": true
   },
   "outputs": [],
   "source": [
    "!snudda prune networks/tinySim"
   ]
  },
  {
   "cell_type": "markdown",
   "metadata": {},
   "source": [
    "Generate external input events for the network. A 1 second duration of the simulation is reserved.\n",
    "\n",
    "### The input generation command was rerun on this notebook.\n",
    "The original command created only a 1 second long input, which was ok for the 100ms and 500ms simulations. Since here we are running the simulation for 2 seconds, the input duration needed to be longer"
   ]
  },
  {
   "cell_type": "code",
   "execution_count": null,
   "metadata": {
    "scrolled": true
   },
   "outputs": [],
   "source": [
    "!snudda input networks/tinySim --input snudda/data/config/input-tinytest-v6.json --time 3.0"
   ]
  },
  {
   "cell_type": "markdown",
   "metadata": {},
   "source": [
    "### Compile MOD files\n",
    "*not necessary - requirementes are already met by following the instructions.txt*"
   ]
  },
  {
   "cell_type": "code",
   "execution_count": null,
   "metadata": {
    "scrolled": true
   },
   "outputs": [],
   "source": [
    "#!nrnivmodl snudda/data/cellspecs-v2/mechanisms"
   ]
  },
  {
   "cell_type": "markdown",
   "metadata": {},
   "source": [
    "### Run the simulation\n",
    "\n",
    "Option `--time` defines duration of the simulation, in seconds. It can't be longer than the duration of the external input reserved above. Try 100 milliseconds for a very short simulation. -> *if we are increasing simulation time, increase input time as well*\n",
    "\n",
    "**NOTE**: this takes about 15 minutes on a common desktop. -- *took 11 minutes*\n",
    "\n",
    "#### Here we run a 500 ms simulation, took about 3 hours."
   ]
  },
  {
   "cell_type": "code",
   "execution_count": null,
   "metadata": {
    "scrolled": true
   },
   "outputs": [],
   "source": [
    "!snudda simulate networks/tinySim --time 2 --input networks/tinySim/input-spikes.hdf5 --voltOut networks/tinySim/simulation/volt3.txt"
   ]
  },
  {
   "cell_type": "markdown",
   "metadata": {},
   "source": [
    "## Plot simulation results"
   ]
  },
  {
   "cell_type": "code",
   "execution_count": null,
   "metadata": {},
   "outputs": [],
   "source": [
    "#from ipywidgets import *\n",
    "import matplotlib.pyplot as plt \n",
    "#%matplotlib widget"
   ]
  },
  {
   "cell_type": "markdown",
   "metadata": {},
   "source": [
    "See the spike raster plot for all cell types."
   ]
  },
  {
   "cell_type": "code",
   "execution_count": null,
   "metadata": {},
   "outputs": [],
   "source": [
    "from snudda.plotting.Network_plot_spike_raster import NetworkPlotSpikeRaster\n",
    "\n",
    "fileName = \"networks/tinySim/simulation/network-output-spikes-666.txt\"\n",
    "networkFile = \"networks/tinySim/network-pruned-synapses.hdf5\"\n",
    "endTime = 2\n",
    "#%matplotlib widget\n",
    "npsr = NetworkPlotSpikeRaster(fileName,networkFile,skipTime=0.0,\n",
    "                                  endTime=endTime,\n",
    "                                  typeOrder=[\"FSN\",\"dSPN\",\"LTS\",\"iSPN\",\"ChIN\"])"
   ]
  },
  {
   "cell_type": "markdown",
   "metadata": {},
   "source": [
    "Check voltage traces for randomly the selected cells."
   ]
  },
  {
   "cell_type": "code",
   "execution_count": null,
   "metadata": {},
   "outputs": [],
   "source": [
    "from snudda.plotting.Network_plot_traces import NetworkPlotTraces\n",
    "\n",
    "plotOffset = 0\n",
    "skipTime = 0\n",
    "nTracesMax = 5\n",
    "\n",
    "fileName = \"networks/tinySim/simulation/volt.txt\"\n",
    "npt = NetworkPlotTraces(fileName,networkFile)\n",
    "networkFile = \"networks/tinySim/network-pruned-synapses.hdf5\"\n",
    "#%matplotlib widget    \n",
    "npt.plotTraceNeuronType(neuronType=\"dSPN\",nTraces=nTracesMax,offset=plotOffset,skipTime=skipTime)\n",
    "npt.plotTraceNeuronType(neuronType=\"iSPN\",nTraces=nTracesMax,offset=plotOffset,skipTime=skipTime)\n",
    "npt.plotTraceNeuronType(neuronType=\"FSN\",nTraces=nTracesMax,offset=plotOffset,skipTime=skipTime)\n",
    "npt.plotTraceNeuronType(neuronType=\"LTS\",nTraces=nTracesMax,offset=plotOffset,skipTime=skipTime)\n",
    "npt.plotTraceNeuronType(neuronType=\"ChIN\",nTraces=nTracesMax,offset=plotOffset,skipTime=skipTime)\n"
   ]
  },
  {
   "cell_type": "markdown",
   "metadata": {},
   "source": [
    "Simulation analysis plots are saved as PDF files in the directory `networks/tinySim/figures`."
   ]
  },
  {
   "cell_type": "code",
   "execution_count": null,
   "metadata": {},
   "outputs": [],
   "source": [
    "!ls networks/tinySim/figures/*.pdf"
   ]
  },
  {
   "cell_type": "markdown",
   "metadata": {},
   "source": [
    "## Closing remarks\n",
    "\n",
    "This example creates a very small striatal network. Size of the network and other parameters can be adjusted. For more information, please see https://github.com/Hjorthmedh/Snudda/wiki/Developer-Installation-Guide.\n",
    "\n",
    "Questions and suggestions related to *Snudda* simulations, please address to the main developer, *Johannes Hjorth* [hjorth@kth.se](mailto:hjorth@kth.se)."
   ]
  }
 ],
 "metadata": {
  "kernelspec": {
   "display_name": "Python 3",
   "language": "python",
   "name": "python3"
  },
  "language_info": {
   "codemirror_mode": {
    "name": "ipython",
    "version": 3
   },
   "file_extension": ".py",
   "mimetype": "text/x-python",
   "name": "python",
   "nbconvert_exporter": "python",
   "pygments_lexer": "ipython3",
   "version": "3.8.5"
  }
 },
 "nbformat": 4,
 "nbformat_minor": 4
}
