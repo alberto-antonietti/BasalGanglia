{
 "cells": [
  {
   "cell_type": "code",
   "execution_count": 2,
   "metadata": {},
   "outputs": [
    {
     "name": "stdout",
     "output_type": "stream",
     "text": [
      "/home/ubuntu/Snudda\n"
     ]
    }
   ],
   "source": [
    "cd \"~/Snudda\""
   ]
  },
  {
   "cell_type": "markdown",
   "metadata": {},
   "source": [
    "### The network has been already built on the Striatum_100.ipynb. We are skipping the creation and going directly to the simulation part.\n",
    "\n",
    "## Simulate the network"
   ]
  },
  {
   "cell_type": "markdown",
   "metadata": {},
   "source": [
    "Set up striatal network of 100 neurons. This writes the configuration file `network-config.json` (see the last line of the output). Option `--overwrite` allows to overwrite the network's directory if it exists.\n"
   ]
  },
  {
   "cell_type": "code",
   "execution_count": null,
   "metadata": {
    "scrolled": true
   },
   "outputs": [],
   "source": [
    "!snudda init networks/tinySim --size 100 --overwrite"
   ]
  },
  {
   "cell_type": "markdown",
   "metadata": {},
   "source": [
    "Place the neurons based on the network config file. Positions are written to the file `network-neuron-positions.hdf5`."
   ]
  },
  {
   "cell_type": "code",
   "execution_count": null,
   "metadata": {
    "scrolled": true
   },
   "outputs": [],
   "source": [
    "!snudda place networks/tinySim"
   ]
  },
  {
   "cell_type": "markdown",
   "metadata": {},
   "source": [
    "Detect the apposition points where axons and dendrites of different neurons overlap.  \n",
    "**NOTE**: this takes about 10 minutes on a common desktop."
   ]
  },
  {
   "cell_type": "code",
   "execution_count": null,
   "metadata": {
    "scrolled": true
   },
   "outputs": [],
   "source": [
    "!snudda detect networks/tinySim"
   ]
  },
  {
   "cell_type": "markdown",
   "metadata": {},
   "source": [
    "Prune the detected appositions to get the set of synapses."
   ]
  },
  {
   "cell_type": "code",
   "execution_count": null,
   "metadata": {
    "scrolled": true
   },
   "outputs": [],
   "source": [
    "!snudda prune networks/tinySim"
   ]
  },
  {
   "cell_type": "markdown",
   "metadata": {},
   "source": [
    "Generate external input events for the network. A 1 second duration of the simulation is reserved."
   ]
  },
  {
   "cell_type": "code",
   "execution_count": null,
   "metadata": {
    "scrolled": true
   },
   "outputs": [],
   "source": [
    "!snudda input networks/tinySim --input snudda/data/config/input-tinytest-v6.json --time 1.0"
   ]
  },
  {
   "cell_type": "markdown",
   "metadata": {},
   "source": [
    "### Compile MOD files\n",
    "*not necessary - requirementes are already met by following the instructions.txt*"
   ]
  },
  {
   "cell_type": "code",
   "execution_count": null,
   "metadata": {
    "scrolled": true
   },
   "outputs": [],
   "source": [
    "#!nrnivmodl snudda/data/cellspecs-v2/mechanisms"
   ]
  },
  {
   "cell_type": "markdown",
   "metadata": {},
   "source": [
    "### Run the simulation\n",
    "\n",
    "Option `--time` defines duration of the simulation, in seconds. It can't be longer than the duration of the external input reserved above. Try 100 milliseconds for a very short simulation. -> *if we are increasing simulation time, increase input time as well*\n",
    "\n",
    "**NOTE**: this takes about 15 minutes on a common desktop. -- *took 11 minutes*\n",
    "\n",
    "#### Here we run a 500 ms simulation, took about 50 minutes."
   ]
  },
  {
   "cell_type": "code",
   "execution_count": 3,
   "metadata": {
    "scrolled": true
   },
   "outputs": [
    {
     "name": "stdout",
     "output_type": "stream",
     "text": [
      "Warning: no DISPLAY environment variable.\n",
      "--No graphics will be displayed.\n",
      "Using input file networks/tinySim/input-spikes.hdf5\n",
      "args: Namespace(action='simulate', cont=False, disableConnection=None, disableGJ=False, h5legacy=False, hvsize=None, input='networks/tinySim/input-spikes.hdf5', inputFile=None, mechDir=None, mergeonly=False, nchannels=1, networkFile=None, overwrite=False, path='networks/tinySim', profile=False, recordGapJunctions=None, recordPointProcess=None, size=None, spikesOut=None, time=0.5, verbose=False, voltOut='networks/tinySim/simulation/volt_2.txt', volumeID=None)\n",
      "Using networkFile: networks/tinySim/network-pruned-synapses.hdf5\n",
      "Using inputFile: networks/tinySim/input-spikes.hdf5\n",
      "Using logFile: networks/tinySim/log/network-simulation-log.txt\n",
      "I am node 0\n",
      "Worker 0: Loading network from networks/tinySim/network-pruned-synapses.hdf5\n",
      "Loading networks/tinySim/network-pruned-synapses.hdf5\n",
      "Loading config data from HDF5\n",
      "99 neurons with 6879 synapses and 10000 gap junctions\n",
      "Load done. 0.1312060570344329\n",
      "Loading config file networks/tinySim/network-config.json\n",
      "0: Memory status: 80% free\n",
      "Distributing neurons.\n",
      "Setup neurons\n",
      "Node 0 - cell 0 dSPN_0\n",
      "Neuron dSPN_0 resting voltage = -86\n",
      "!!! Popping extra segment from neuron -- temp fix!\n",
      "Node 0 - cell 1 dSPN_0\n",
      "Neuron dSPN_0 resting voltage = -86\n",
      "!!! Popping extra segment from neuron -- temp fix!\n",
      "Node 0 - cell 2 dSPN_1\n",
      "Neuron dSPN_1 resting voltage = -86\n",
      "!!! Popping extra segment from neuron -- temp fix!\n",
      "Node 0 - cell 3 dSPN_2\n",
      "Neuron dSPN_2 resting voltage = -86\n",
      "!!! Popping extra segment from neuron -- temp fix!\n",
      "Node 0 - cell 4 iSPN_2\n",
      "Neuron iSPN_2 resting voltage = -86\n",
      "!!! Popping extra segment from neuron -- temp fix!\n",
      "Node 0 - cell 5 dSPN_3\n",
      "Neuron dSPN_3 resting voltage = -87\n",
      "!!! Popping extra segment from neuron -- temp fix!\n",
      "Node 0 - cell 6 iSPN_0\n",
      "Neuron iSPN_0 resting voltage = -86\n",
      "!!! Popping extra segment from neuron -- temp fix!\n",
      "Node 0 - cell 7 iSPN_0\n",
      "Neuron iSPN_0 resting voltage = -86\n",
      "!!! Popping extra segment from neuron -- temp fix!\n",
      "Node 0 - cell 8 dSPN_0\n",
      "Neuron dSPN_0 resting voltage = -86\n",
      "!!! Popping extra segment from neuron -- temp fix!\n",
      "Node 0 - cell 9 iSPN_2\n",
      "Neuron iSPN_2 resting voltage = -86\n",
      "!!! Popping extra segment from neuron -- temp fix!\n",
      "Node 0 - cell 10 iSPN_1\n",
      "Neuron iSPN_1 resting voltage = -83\n",
      "!!! Popping extra segment from neuron -- temp fix!\n",
      "Node 0 - cell 11 iSPN_1\n",
      "Neuron iSPN_1 resting voltage = -83\n",
      "!!! Popping extra segment from neuron -- temp fix!\n",
      "Node 0 - cell 12 dSPN_0\n",
      "Neuron dSPN_0 resting voltage = -86\n",
      "!!! Popping extra segment from neuron -- temp fix!\n",
      "Node 0 - cell 13 iSPN_1\n",
      "Neuron iSPN_1 resting voltage = -83\n",
      "!!! Popping extra segment from neuron -- temp fix!\n",
      "Node 0 - cell 14 dSPN_3\n",
      "Neuron dSPN_3 resting voltage = -87\n",
      "!!! Popping extra segment from neuron -- temp fix!\n",
      "Node 0 - cell 15 dSPN_2\n",
      "Neuron dSPN_2 resting voltage = -86\n",
      "!!! Popping extra segment from neuron -- temp fix!\n",
      "Node 0 - cell 16 iSPN_2\n",
      "Neuron iSPN_2 resting voltage = -86\n",
      "!!! Popping extra segment from neuron -- temp fix!\n",
      "Node 0 - cell 17 iSPN_2\n",
      "Neuron iSPN_2 resting voltage = -86\n",
      "!!! Popping extra segment from neuron -- temp fix!\n",
      "Node 0 - cell 18 dSPN_3\n",
      "Neuron dSPN_3 resting voltage = -87\n",
      "!!! Popping extra segment from neuron -- temp fix!\n",
      "Node 0 - cell 19 dSPN_2\n",
      "Neuron dSPN_2 resting voltage = -86\n",
      "!!! Popping extra segment from neuron -- temp fix!\n",
      "Node 0 - cell 20 dSPN_3\n",
      "Neuron dSPN_3 resting voltage = -87\n",
      "!!! Popping extra segment from neuron -- temp fix!\n",
      "Node 0 - cell 21 iSPN_2\n",
      "Neuron iSPN_2 resting voltage = -86\n",
      "!!! Popping extra segment from neuron -- temp fix!\n",
      "Node 0 - cell 22 dSPN_3\n",
      "Neuron dSPN_3 resting voltage = -87\n",
      "!!! Popping extra segment from neuron -- temp fix!\n",
      "Node 0 - cell 23 iSPN_1\n",
      "Neuron iSPN_1 resting voltage = -83\n",
      "!!! Popping extra segment from neuron -- temp fix!\n",
      "Node 0 - cell 24 dSPN_3\n",
      "Neuron dSPN_3 resting voltage = -87\n",
      "!!! Popping extra segment from neuron -- temp fix!\n",
      "Node 0 - cell 25 iSPN_1\n",
      "Neuron iSPN_1 resting voltage = -83\n",
      "!!! Popping extra segment from neuron -- temp fix!\n",
      "Node 0 - cell 26 iSPN_0\n",
      "Neuron iSPN_0 resting voltage = -86\n",
      "!!! Popping extra segment from neuron -- temp fix!\n",
      "Node 0 - cell 27 iSPN_2\n",
      "Neuron iSPN_2 resting voltage = -86\n",
      "!!! Popping extra segment from neuron -- temp fix!\n",
      "Node 0 - cell 28 dSPN_3\n",
      "Neuron dSPN_3 resting voltage = -87\n",
      "!!! Popping extra segment from neuron -- temp fix!\n",
      "Node 0 - cell 29 iSPN_2\n",
      "Neuron iSPN_2 resting voltage = -86\n",
      "!!! Popping extra segment from neuron -- temp fix!\n",
      "Node 0 - cell 30 dSPN_2\n",
      "Neuron dSPN_2 resting voltage = -86\n",
      "!!! Popping extra segment from neuron -- temp fix!\n",
      "Node 0 - cell 31 iSPN_3\n",
      "Neuron iSPN_3 resting voltage = -83\n",
      "!!! Popping extra segment from neuron -- temp fix!\n",
      "Node 0 - cell 32 iSPN_3\n",
      "Neuron iSPN_3 resting voltage = -83\n",
      "!!! Popping extra segment from neuron -- temp fix!\n",
      "Node 0 - cell 33 dSPN_1\n",
      "Neuron dSPN_1 resting voltage = -86\n",
      "!!! Popping extra segment from neuron -- temp fix!\n",
      "Node 0 - cell 34 dSPN_3\n",
      "Neuron dSPN_3 resting voltage = -87\n",
      "!!! Popping extra segment from neuron -- temp fix!\n",
      "Node 0 - cell 35 dSPN_1\n",
      "Neuron dSPN_1 resting voltage = -86\n",
      "!!! Popping extra segment from neuron -- temp fix!\n",
      "Node 0 - cell 36 dSPN_1\n",
      "Neuron dSPN_1 resting voltage = -86\n",
      "!!! Popping extra segment from neuron -- temp fix!\n",
      "Node 0 - cell 37 dSPN_1\n",
      "Neuron dSPN_1 resting voltage = -86\n",
      "!!! Popping extra segment from neuron -- temp fix!\n",
      "Node 0 - cell 38 iSPN_3\n",
      "Neuron iSPN_3 resting voltage = -83\n",
      "!!! Popping extra segment from neuron -- temp fix!\n",
      "Node 0 - cell 39 dSPN_3\n",
      "Neuron dSPN_3 resting voltage = -87\n",
      "!!! Popping extra segment from neuron -- temp fix!\n",
      "Node 0 - cell 40 iSPN_0\n",
      "Neuron iSPN_0 resting voltage = -86\n",
      "!!! Popping extra segment from neuron -- temp fix!\n",
      "Node 0 - cell 41 iSPN_3\n",
      "Neuron iSPN_3 resting voltage = -83\n",
      "!!! Popping extra segment from neuron -- temp fix!\n",
      "Node 0 - cell 42 iSPN_2\n",
      "Neuron iSPN_2 resting voltage = -86\n",
      "!!! Popping extra segment from neuron -- temp fix!\n",
      "Node 0 - cell 43 iSPN_1\n",
      "Neuron iSPN_1 resting voltage = -83\n",
      "!!! Popping extra segment from neuron -- temp fix!\n",
      "Node 0 - cell 44 iSPN_1\n",
      "Neuron iSPN_1 resting voltage = -83\n",
      "!!! Popping extra segment from neuron -- temp fix!\n",
      "Node 0 - cell 45 iSPN_1\n",
      "Neuron iSPN_1 resting voltage = -83\n",
      "!!! Popping extra segment from neuron -- temp fix!\n",
      "Node 0 - cell 46 dSPN_0\n",
      "Neuron dSPN_0 resting voltage = -86\n",
      "!!! Popping extra segment from neuron -- temp fix!\n",
      "Node 0 - cell 47 dSPN_2\n",
      "Neuron dSPN_2 resting voltage = -86\n",
      "!!! Popping extra segment from neuron -- temp fix!\n",
      "Node 0 - cell 48 iSPN_2\n",
      "Neuron iSPN_2 resting voltage = -86\n",
      "!!! Popping extra segment from neuron -- temp fix!\n",
      "Node 0 - cell 49 iSPN_2\n",
      "Neuron iSPN_2 resting voltage = -86\n",
      "!!! Popping extra segment from neuron -- temp fix!\n",
      "Node 0 - cell 50 dSPN_2\n",
      "Neuron dSPN_2 resting voltage = -86\n",
      "!!! Popping extra segment from neuron -- temp fix!\n",
      "Node 0 - cell 51 ChIN_0\n",
      "Neuron ChIN_0 resting voltage = -60\n",
      "!!! Popping extra segment from neuron -- temp fix!\n",
      "Node 0 - cell 52 iSPN_3\n",
      "Neuron iSPN_3 resting voltage = -83\n",
      "!!! Popping extra segment from neuron -- temp fix!\n",
      "Node 0 - cell 53 iSPN_3\n",
      "Neuron iSPN_3 resting voltage = -83\n",
      "!!! Popping extra segment from neuron -- temp fix!\n",
      "Node 0 - cell 54 iSPN_0\n",
      "Neuron iSPN_0 resting voltage = -86\n",
      "!!! Popping extra segment from neuron -- temp fix!\n",
      "Node 0 - cell 55 dSPN_2\n",
      "Neuron dSPN_2 resting voltage = -86\n",
      "!!! Popping extra segment from neuron -- temp fix!\n",
      "Node 0 - cell 56 dSPN_1\n",
      "Neuron dSPN_1 resting voltage = -86\n",
      "!!! Popping extra segment from neuron -- temp fix!\n",
      "Node 0 - cell 57 dSPN_1\n",
      "Neuron dSPN_1 resting voltage = -86\n",
      "!!! Popping extra segment from neuron -- temp fix!\n",
      "Node 0 - cell 58 iSPN_0\n",
      "Neuron iSPN_0 resting voltage = -86\n",
      "!!! Popping extra segment from neuron -- temp fix!\n",
      "Node 0 - cell 59 dSPN_1\n",
      "Neuron dSPN_1 resting voltage = -86\n",
      "!!! Popping extra segment from neuron -- temp fix!\n",
      "Node 0 - cell 60 iSPN_0\n",
      "Neuron iSPN_0 resting voltage = -86\n",
      "!!! Popping extra segment from neuron -- temp fix!\n",
      "Node 0 - cell 61 dSPN_3\n",
      "Neuron dSPN_3 resting voltage = -87\n",
      "!!! Popping extra segment from neuron -- temp fix!\n",
      "Node 0 - cell 62 iSPN_3\n",
      "Neuron iSPN_3 resting voltage = -83\n",
      "!!! Popping extra segment from neuron -- temp fix!\n",
      "Node 0 - cell 63 iSPN_0\n",
      "Neuron iSPN_0 resting voltage = -86\n",
      "!!! Popping extra segment from neuron -- temp fix!\n",
      "Node 0 - cell 64 dSPN_0\n",
      "Neuron dSPN_0 resting voltage = -86\n",
      "!!! Popping extra segment from neuron -- temp fix!\n",
      "Node 0 - cell 65 dSPN_3\n",
      "Neuron dSPN_3 resting voltage = -87\n",
      "!!! Popping extra segment from neuron -- temp fix!\n",
      "Node 0 - cell 66 LTS_0\n",
      "Neuron LTS_0 resting voltage = -75\n",
      "!!! Popping extra segment from neuron -- temp fix!\n",
      "Node 0 - cell 67 iSPN_0\n",
      "Neuron iSPN_0 resting voltage = -86\n",
      "!!! Popping extra segment from neuron -- temp fix!\n",
      "Node 0 - cell 68 iSPN_0\n",
      "Neuron iSPN_0 resting voltage = -86\n",
      "!!! Popping extra segment from neuron -- temp fix!\n",
      "Node 0 - cell 69 dSPN_2\n",
      "Neuron dSPN_2 resting voltage = -86\n",
      "!!! Popping extra segment from neuron -- temp fix!\n",
      "Node 0 - cell 70 dSPN_1\n",
      "Neuron dSPN_1 resting voltage = -86\n",
      "!!! Popping extra segment from neuron -- temp fix!\n",
      "Node 0 - cell 71 dSPN_2\n",
      "Neuron dSPN_2 resting voltage = -86\n",
      "!!! Popping extra segment from neuron -- temp fix!\n",
      "Node 0 - cell 72 iSPN_3\n",
      "Neuron iSPN_3 resting voltage = -83\n",
      "!!! Popping extra segment from neuron -- temp fix!\n",
      "Node 0 - cell 73 dSPN_2\n",
      "Neuron dSPN_2 resting voltage = -86\n",
      "!!! Popping extra segment from neuron -- temp fix!\n",
      "Node 0 - cell 74 iSPN_3\n",
      "Neuron iSPN_3 resting voltage = -83\n",
      "!!! Popping extra segment from neuron -- temp fix!\n",
      "Node 0 - cell 75 dSPN_2\n",
      "Neuron dSPN_2 resting voltage = -86\n",
      "!!! Popping extra segment from neuron -- temp fix!\n",
      "Node 0 - cell 76 FSN_3\n",
      "Neuron FSN_3 resting voltage = -97\n",
      "!!! Popping extra segment from neuron -- temp fix!\n",
      "Node 0 - cell 77 dSPN_0\n",
      "Neuron dSPN_0 resting voltage = -86\n",
      "!!! Popping extra segment from neuron -- temp fix!\n",
      "Node 0 - cell 78 dSPN_1\n",
      "Neuron dSPN_1 resting voltage = -86\n",
      "!!! Popping extra segment from neuron -- temp fix!\n",
      "Node 0 - cell 79 iSPN_2\n",
      "Neuron iSPN_2 resting voltage = -86\n",
      "!!! Popping extra segment from neuron -- temp fix!\n",
      "Node 0 - cell 80 dSPN_0\n",
      "Neuron dSPN_0 resting voltage = -86\n",
      "!!! Popping extra segment from neuron -- temp fix!\n",
      "Node 0 - cell 81 dSPN_1\n",
      "Neuron dSPN_1 resting voltage = -86\n",
      "!!! Popping extra segment from neuron -- temp fix!\n",
      "Node 0 - cell 82 dSPN_0\n",
      "Neuron dSPN_0 resting voltage = -86\n",
      "!!! Popping extra segment from neuron -- temp fix!\n",
      "Node 0 - cell 83 dSPN_0\n",
      "Neuron dSPN_0 resting voltage = -86\n",
      "!!! Popping extra segment from neuron -- temp fix!\n",
      "Node 0 - cell 84 iSPN_0\n",
      "Neuron iSPN_0 resting voltage = -86\n",
      "!!! Popping extra segment from neuron -- temp fix!\n",
      "Node 0 - cell 85 iSPN_3\n",
      "Neuron iSPN_3 resting voltage = -83\n",
      "!!! Popping extra segment from neuron -- temp fix!\n",
      "Node 0 - cell 86 dSPN_2\n",
      "Neuron dSPN_2 resting voltage = -86\n",
      "!!! Popping extra segment from neuron -- temp fix!\n",
      "Node 0 - cell 87 dSPN_0\n",
      "Neuron dSPN_0 resting voltage = -86\n",
      "!!! Popping extra segment from neuron -- temp fix!\n",
      "Node 0 - cell 88 dSPN_3\n",
      "Neuron dSPN_3 resting voltage = -87\n",
      "!!! Popping extra segment from neuron -- temp fix!\n",
      "Node 0 - cell 89 iSPN_1\n",
      "Neuron iSPN_1 resting voltage = -83\n",
      "!!! Popping extra segment from neuron -- temp fix!\n",
      "Node 0 - cell 90 iSPN_1\n",
      "Neuron iSPN_1 resting voltage = -83\n",
      "!!! Popping extra segment from neuron -- temp fix!\n",
      "Node 0 - cell 91 dSPN_1\n",
      "Neuron dSPN_1 resting voltage = -86\n",
      "!!! Popping extra segment from neuron -- temp fix!\n",
      "Node 0 - cell 92 iSPN_3\n",
      "Neuron iSPN_3 resting voltage = -83\n",
      "!!! Popping extra segment from neuron -- temp fix!\n",
      "Node 0 - cell 93 iSPN_0\n",
      "Neuron iSPN_0 resting voltage = -86\n",
      "!!! Popping extra segment from neuron -- temp fix!\n",
      "Node 0 - cell 94 dSPN_0\n",
      "Neuron dSPN_0 resting voltage = -86\n",
      "!!! Popping extra segment from neuron -- temp fix!\n",
      "Node 0 - cell 95 iSPN_1\n",
      "Neuron iSPN_1 resting voltage = -83\n",
      "!!! Popping extra segment from neuron -- temp fix!\n",
      "Node 0 - cell 96 iSPN_1\n",
      "Neuron iSPN_1 resting voltage = -83\n",
      "!!! Popping extra segment from neuron -- temp fix!\n",
      "Node 0 - cell 97 iSPN_2\n",
      "Neuron iSPN_2 resting voltage = -86\n",
      "!!! Popping extra segment from neuron -- temp fix!\n",
      "Node 0 - cell 98 iSPN_3\n",
      "Neuron iSPN_3 resting voltage = -83\n",
      "!!! Popping extra segment from neuron -- temp fix!\n",
      "0: Memory status: 79% free\n",
      "connectNetworkSynapses\n",
      "Adding gap junctions.\n",
      "connectNetworkGapJunctionsLOCAL\n",
      "Finding node local gap junctions...\n",
      "0: Memory status: 79% free\n",
      "Adding external (cortical, thalamic) input from networks/tinySim/input-spikes.hdf5\n",
      "0: Memory status: 79% free\n",
      "Adding somatic recordings\n",
      "0: Memory status: 79% free\n",
      "Running simulation for 500.0 ms.\n",
      "Running simulation for 0.5 s\n",
      "1% done. Elapsed: 31.9 s, estimated time left: 3160.8 s\n",
      "2% done. Elapsed: 63.1 s, estimated time left: 3089.9 s\n",
      "3% done. Elapsed: 94.6 s, estimated time left: 3059.3 s\n",
      "4% done. Elapsed: 125.9 s, estimated time left: 3021.1 s\n",
      "5% done. Elapsed: 156.6 s, estimated time left: 2974.6 s\n",
      "6% done. Elapsed: 187.0 s, estimated time left: 2929.6 s\n",
      "7% done. Elapsed: 217.4 s, estimated time left: 2888.2 s\n",
      "8% done. Elapsed: 248.5 s, estimated time left: 2857.5 s\n",
      "9% done. Elapsed: 280.3 s, estimated time left: 2834.1 s\n",
      "10% done. Elapsed: 311.3 s, estimated time left: 2802.1 s\n",
      "11% done. Elapsed: 341.3 s, estimated time left: 2761.7 s\n",
      "12% done. Elapsed: 372.3 s, estimated time left: 2730.2 s\n",
      "13% done. Elapsed: 403.0 s, estimated time left: 2696.7 s\n",
      "14% done. Elapsed: 434.2 s, estimated time left: 2667.4 s\n",
      "15% done. Elapsed: 465.2 s, estimated time left: 2636.1 s\n",
      "16% done. Elapsed: 496.4 s, estimated time left: 2606.0 s\n",
      "17% done. Elapsed: 527.9 s, estimated time left: 2577.5 s\n",
      "18% done. Elapsed: 558.9 s, estimated time left: 2545.9 s\n",
      "19% done. Elapsed: 591.0 s, estimated time left: 2519.3 s\n",
      "20% done. Elapsed: 622.2 s, estimated time left: 2488.7 s\n",
      "21% done. Elapsed: 653.3 s, estimated time left: 2457.7 s\n",
      "22% done. Elapsed: 683.6 s, estimated time left: 2423.8 s\n",
      "23% done. Elapsed: 714.3 s, estimated time left: 2391.4 s\n",
      "24% done. Elapsed: 745.6 s, estimated time left: 2361.2 s\n",
      "25% done. Elapsed: 776.6 s, estimated time left: 2329.7 s\n",
      "26% done. Elapsed: 807.5 s, estimated time left: 2298.4 s\n",
      "27% done. Elapsed: 839.0 s, estimated time left: 2268.5 s\n",
      "28% done. Elapsed: 869.8 s, estimated time left: 2236.7 s\n",
      "29% done. Elapsed: 900.8 s, estimated time left: 2205.4 s\n",
      "30% done. Elapsed: 932.4 s, estimated time left: 2175.7 s\n",
      "31% done. Elapsed: 963.1 s, estimated time left: 2143.6 s\n",
      "32% done. Elapsed: 995.4 s, estimated time left: 2115.1 s\n",
      "33% done. Elapsed: 1026.0 s, estimated time left: 2083.2 s\n",
      "34% done. Elapsed: 1057.6 s, estimated time left: 2052.9 s\n",
      "35% done. Elapsed: 1088.1 s, estimated time left: 2020.8 s\n",
      "36% done. Elapsed: 1119.5 s, estimated time left: 1990.2 s\n",
      "37% done. Elapsed: 1150.6 s, estimated time left: 1959.2 s\n",
      "38% done. Elapsed: 1181.1 s, estimated time left: 1927.0 s\n",
      "39% done. Elapsed: 1211.5 s, estimated time left: 1894.8 s\n",
      "40% done. Elapsed: 1242.8 s, estimated time left: 1864.2 s\n",
      "41% done. Elapsed: 1273.7 s, estimated time left: 1832.9 s\n",
      "42% done. Elapsed: 1304.4 s, estimated time left: 1801.4 s\n",
      "43% done. Elapsed: 1334.7 s, estimated time left: 1769.3 s\n",
      "44% done. Elapsed: 1365.9 s, estimated time left: 1738.4 s\n",
      "45% done. Elapsed: 1396.7 s, estimated time left: 1707.1 s\n",
      "46% done. Elapsed: 1427.1 s, estimated time left: 1675.3 s\n",
      "47% done. Elapsed: 1457.8 s, estimated time left: 1643.9 s\n",
      "48% done. Elapsed: 1488.0 s, estimated time left: 1612.0 s\n",
      "49% done. Elapsed: 1519.3 s, estimated time left: 1581.3 s\n",
      "50% done. Elapsed: 1549.6 s, estimated time left: 1549.6 s\n",
      "51% done. Elapsed: 1580.2 s, estimated time left: 1518.2 s\n",
      "52% done. Elapsed: 1611.5 s, estimated time left: 1487.6 s\n",
      "53% done. Elapsed: 1642.4 s, estimated time left: 1456.5 s\n",
      "54% done. Elapsed: 1672.9 s, estimated time left: 1425.1 s\n",
      "55% done. Elapsed: 1703.8 s, estimated time left: 1394.0 s\n",
      "56% done. Elapsed: 1734.6 s, estimated time left: 1362.9 s\n",
      "57% done. Elapsed: 1765.3 s, estimated time left: 1331.7 s\n",
      "58% done. Elapsed: 1795.5 s, estimated time left: 1300.2 s\n",
      "59% done. Elapsed: 1826.2 s, estimated time left: 1269.0 s\n",
      "60% done. Elapsed: 1856.9 s, estimated time left: 1237.9 s\n",
      "61% done. Elapsed: 1887.5 s, estimated time left: 1206.8 s\n",
      "62% done. Elapsed: 1918.4 s, estimated time left: 1175.8 s\n",
      "63% done. Elapsed: 1949.5 s, estimated time left: 1145.0 s\n",
      "64% done. Elapsed: 1980.6 s, estimated time left: 1114.1 s\n",
      "65% done. Elapsed: 2012.6 s, estimated time left: 1083.7 s\n",
      "66% done. Elapsed: 2043.2 s, estimated time left: 1052.5 s\n",
      "67% done. Elapsed: 2074.5 s, estimated time left: 1021.8 s\n",
      "68% done. Elapsed: 2105.6 s, estimated time left: 990.9 s\n",
      "69% done. Elapsed: 2137.4 s, estimated time left: 960.3 s\n",
      "70% done. Elapsed: 2168.4 s, estimated time left: 929.3 s\n",
      "71% done. Elapsed: 2199.7 s, estimated time left: 898.5 s\n",
      "72% done. Elapsed: 2230.4 s, estimated time left: 867.4 s\n",
      "73% done. Elapsed: 2260.9 s, estimated time left: 836.2 s\n",
      "74% done. Elapsed: 2291.5 s, estimated time left: 805.1 s\n",
      "75% done. Elapsed: 2323.2 s, estimated time left: 774.4 s\n",
      "76% done. Elapsed: 2354.1 s, estimated time left: 743.4 s\n",
      "77% done. Elapsed: 2384.0 s, estimated time left: 712.1 s\n",
      "78% done. Elapsed: 2415.3 s, estimated time left: 681.2 s\n",
      "79% done. Elapsed: 2446.8 s, estimated time left: 650.4 s\n",
      "80% done. Elapsed: 2477.7 s, estimated time left: 619.4 s\n",
      "81% done. Elapsed: 2508.3 s, estimated time left: 588.4 s\n",
      "82% done. Elapsed: 2540.3 s, estimated time left: 557.6 s\n",
      "83% done. Elapsed: 2571.1 s, estimated time left: 526.6 s\n",
      "84% done. Elapsed: 2602.1 s, estimated time left: 495.6 s\n",
      "85% done. Elapsed: 2632.9 s, estimated time left: 464.6 s\n",
      "86% done. Elapsed: 2663.9 s, estimated time left: 433.7 s\n",
      "87% done. Elapsed: 2694.3 s, estimated time left: 402.6 s\n",
      "88% done. Elapsed: 2724.5 s, estimated time left: 371.5 s\n",
      "89% done. Elapsed: 2755.6 s, estimated time left: 340.6 s\n",
      "90% done. Elapsed: 2786.1 s, estimated time left: 309.6 s\n",
      "91% done. Elapsed: 2817.2 s, estimated time left: 278.6 s\n",
      "92% done. Elapsed: 2847.2 s, estimated time left: 247.6 s\n",
      "93% done. Elapsed: 2878.2 s, estimated time left: 216.6 s\n",
      "94% done. Elapsed: 2909.1 s, estimated time left: 185.7 s\n",
      "95% done. Elapsed: 2939.4 s, estimated time left: 154.7 s\n",
      "96% done. Elapsed: 2969.5 s, estimated time left: 123.7 s\n",
      "97% done. Elapsed: 3002.2 s, estimated time left: 92.9 s\n",
      "98% done. Elapsed: 3033.0 s, estimated time left: 61.9 s\n",
      "99% done. Elapsed: 3063.1 s, estimated time left: 30.9 s\n",
      "Simulation done.\n",
      "Simulation run time: 3093.32256710995 s\n",
      "Simulation done, saving output\n",
      "Writing spike times to networks/tinySim/simulation/network-output-spikes-666.txt\n",
      "Program run time: 3223.903047947213\n"
     ]
    }
   ],
   "source": [
    "!snudda simulate networks/tinySim --time 0.5 --input networks/tinySim/input-spikes.hdf5 --voltOut networks/tinySim/simulation/volt_2.txt"
   ]
  },
  {
   "cell_type": "markdown",
   "metadata": {},
   "source": [
    "## Plot simulation results"
   ]
  },
  {
   "cell_type": "code",
   "execution_count": 4,
   "metadata": {},
   "outputs": [
    {
     "name": "stderr",
     "output_type": "stream",
     "text": [
      "Matplotlib created a temporary config/cache directory at /tmp/matplotlib-6r5lk8wc because the default path (/home/.cache/matplotlib) is not a writable directory; it is highly recommended to set the MPLCONFIGDIR environment variable to a writable directory, in particular to speed up the import of Matplotlib and to better support multiprocessing.\n"
     ]
    }
   ],
   "source": [
    "#from ipywidgets import *\n",
    "import matplotlib.pyplot as plt \n",
    "#%matplotlib widget"
   ]
  },
  {
   "cell_type": "markdown",
   "metadata": {},
   "source": [
    "See the spike raster plot for all cell types."
   ]
  },
  {
   "cell_type": "code",
   "execution_count": 5,
   "metadata": {},
   "outputs": [
    {
     "name": "stdout",
     "output_type": "stream",
     "text": [
      "Loading networks/tinySim/network-pruned-synapses.hdf5\n",
      "Loading config data from HDF5\n",
      "99 neurons with 6879 synapses and 10000 gap junctions\n",
      "Load done. 0.09532491490244865\n",
      "Sort the traces\n",
      "Sort the traces\n"
     ]
    },
    {
     "data": {
      "image/png": "[encoded data removed]",
      "text/plain": [
       "<Figure size 432x288 with 2 Axes>"
      ]
     },
     "metadata": {
      "needs_background": "light"
     },
     "output_type": "display_data"
    },
    {
     "data": {
      "text/plain": [
       "<Figure size 432x288 with 0 Axes>"
      ]
     },
     "metadata": {},
     "output_type": "display_data"
    },
    {
     "name": "stdout",
     "output_type": "stream",
     "text": [
      "Saving networks/tinySim/figs/network-output-spikes-666-colour.png\n"
     ]
    },
    {
     "data": {
      "text/plain": [
       "<Figure size 432x288 with 0 Axes>"
      ]
     },
     "metadata": {},
     "output_type": "display_data"
    }
   ],
   "source": [
    "from snudda.plotting.Network_plot_spike_raster import NetworkPlotSpikeRaster\n",
    "\n",
    "fileName = \"networks/tinySim/simulation/network-output-spikes-666.txt\"\n",
    "networkFile = \"networks/tinySim/network-pruned-synapses.hdf5\"\n",
    "endTime = 0.1\n",
    "npsr = NetworkPlotSpikeRaster(fileName,networkFile,skipTime=0.0,\n",
    "                                  endTime=endTime,\n",
    "                                  typeOrder=[\"FSN\",\"dSPN\",\"LTS\",\"iSPN\",\"ChIN\"])"
   ]
  },
  {
   "cell_type": "markdown",
   "metadata": {},
   "source": [
    "Check voltage traces for randomly the selected cells."
   ]
  },
  {
   "cell_type": "code",
   "execution_count": 10,
   "metadata": {},
   "outputs": [
    {
     "name": "stdout",
     "output_type": "stream",
     "text": [
      "Loading networks/tinySim/network-pruned-synapses.hdf5\n",
      "Loading config data from HDF5\n",
      "99 neurons with 6879 synapses and 10000 gap junctions\n",
      "Load done. 0.05845671333372593\n",
      "!!! Excluding first 0s from the plot\n",
      "Plotting traces: [4, 6, 7, 9, 10]\n",
      "Plotted 5 traces (total 99)\n"
     ]
    },
    {
     "data": {
      "application/vnd.jupyter.widget-view+json": {
       "model_id": "453f742a36754f90b585efe98d272142",
       "version_major": 2,
       "version_minor": 0
      },
      "text/plain": [
       "Canvas(toolbar=Toolbar(toolitems=[('Home', 'Reset original view', 'home', 'home'), ('Back', 'Back to previous …"
      ]
     },
     "metadata": {},
     "output_type": "display_data"
    },
    {
     "ename": "AttributeError",
     "evalue": "type object 'FigureCanvasBase' has no attribute 'start_event_loop_default'",
     "output_type": "error",
     "traceback": [
      "\u001b[0;31m---------------------------------------------------------------------------\u001b[0m",
      "\u001b[0;31mAttributeError\u001b[0m                            Traceback (most recent call last)",
      "\u001b[0;32m<ipython-input-10-e8e7a0d8adf2>\u001b[0m in \u001b[0;36m<module>\u001b[0;34m\u001b[0m\n\u001b[1;32m     10\u001b[0m \u001b[0mget_ipython\u001b[0m\u001b[0;34m(\u001b[0m\u001b[0;34m)\u001b[0m\u001b[0;34m.\u001b[0m\u001b[0mrun_line_magic\u001b[0m\u001b[0;34m(\u001b[0m\u001b[0;34m'matplotlib'\u001b[0m\u001b[0;34m,\u001b[0m \u001b[0;34m'widget    '\u001b[0m\u001b[0;34m)\u001b[0m\u001b[0;34m\u001b[0m\u001b[0;34m\u001b[0m\u001b[0m\n\u001b[1;32m     11\u001b[0m \u001b[0;31m#npt.plotTraceNeuronType(neuronType=\"dSPN\",nTraces=nTracesMax,offset=plotOffset,skipTime=skipTime)\u001b[0m\u001b[0;34m\u001b[0m\u001b[0;34m\u001b[0m\u001b[0;34m\u001b[0m\u001b[0m\n\u001b[0;32m---> 12\u001b[0;31m \u001b[0mnpt\u001b[0m\u001b[0;34m.\u001b[0m\u001b[0mplotTraceNeuronType\u001b[0m\u001b[0;34m(\u001b[0m\u001b[0mneuronType\u001b[0m\u001b[0;34m=\u001b[0m\u001b[0;34m\"iSPN\"\u001b[0m\u001b[0;34m,\u001b[0m\u001b[0mnTraces\u001b[0m\u001b[0;34m=\u001b[0m\u001b[0mnTracesMax\u001b[0m\u001b[0;34m,\u001b[0m\u001b[0moffset\u001b[0m\u001b[0;34m=\u001b[0m\u001b[0mplotOffset\u001b[0m\u001b[0;34m,\u001b[0m\u001b[0mskipTime\u001b[0m\u001b[0;34m=\u001b[0m\u001b[0mskipTime\u001b[0m\u001b[0;34m)\u001b[0m\u001b[0;34m\u001b[0m\u001b[0;34m\u001b[0m\u001b[0m\n\u001b[0m\u001b[1;32m     13\u001b[0m \u001b[0;31m#npt.plotTraceNeuronType(neuronType=\"FSN\",nTraces=nTracesMax,offset=plotOffset,skipTime=skipTime)\u001b[0m\u001b[0;34m\u001b[0m\u001b[0;34m\u001b[0m\u001b[0;34m\u001b[0m\u001b[0m\n\u001b[1;32m     14\u001b[0m \u001b[0;31m#npt.plotTraceNeuronType(neuronType=\"LTS\",nTraces=nTracesMax,offset=plotOffset,skipTime=skipTime)\u001b[0m\u001b[0;34m\u001b[0m\u001b[0;34m\u001b[0m\u001b[0;34m\u001b[0m\u001b[0m\n",
      "\u001b[0;32m/mnt/user/drive/Shared with groups/BasalGanglia-Reproducible/Snudda/snudda/plotting/Network_plot_traces.py\u001b[0m in \u001b[0;36mplotTraceNeuronType\u001b[0;34m(self, neuronType, nTraces, offset, skipTime)\u001b[0m\n\u001b[1;32m    207\u001b[0m \u001b[0;34m\u001b[0m\u001b[0m\n\u001b[1;32m    208\u001b[0m     self.plotTraces(offset=offset,traceID=traceID[:nTraces],skipTime=skipTime,\n\u001b[0;32m--> 209\u001b[0;31m                     title=self.neuronName(neuronType))\n\u001b[0m\u001b[1;32m    210\u001b[0m \u001b[0;34m\u001b[0m\u001b[0m\n\u001b[1;32m    211\u001b[0m     \u001b[0mtime\u001b[0m\u001b[0;34m.\u001b[0m\u001b[0msleep\u001b[0m\u001b[0;34m(\u001b[0m\u001b[0;36m1\u001b[0m\u001b[0;34m)\u001b[0m\u001b[0;34m\u001b[0m\u001b[0;34m\u001b[0m\u001b[0m\n",
      "\u001b[0;32m/mnt/user/drive/Shared with groups/BasalGanglia-Reproducible/Snudda/snudda/plotting/Network_plot_traces.py\u001b[0m in \u001b[0;36mplotTraces\u001b[0;34m(self, traceID, offset, colours, skipTime, title)\u001b[0m\n\u001b[1;32m    166\u001b[0m     \u001b[0mplt\u001b[0m\u001b[0;34m.\u001b[0m\u001b[0mshow\u001b[0m\u001b[0;34m(\u001b[0m\u001b[0;34m)\u001b[0m\u001b[0;34m\u001b[0m\u001b[0;34m\u001b[0m\u001b[0m\n\u001b[1;32m    167\u001b[0m     \u001b[0mplt\u001b[0m\u001b[0;34m.\u001b[0m\u001b[0mdraw\u001b[0m\u001b[0;34m(\u001b[0m\u001b[0;34m)\u001b[0m\u001b[0;34m\u001b[0m\u001b[0;34m\u001b[0m\u001b[0m\n\u001b[0;32m--> 168\u001b[0;31m     \u001b[0mplt\u001b[0m\u001b[0;34m.\u001b[0m\u001b[0mpause\u001b[0m\u001b[0;34m(\u001b[0m\u001b[0;36m0.001\u001b[0m\u001b[0;34m)\u001b[0m\u001b[0;34m\u001b[0m\u001b[0;34m\u001b[0m\u001b[0m\n\u001b[0m\u001b[1;32m    169\u001b[0m \u001b[0;34m\u001b[0m\u001b[0m\n\u001b[1;32m    170\u001b[0m     \u001b[0;31m#plt.savefig('figures/Network-spikes-' + str(self.ID) + \"-colour.pdf\")\u001b[0m\u001b[0;34m\u001b[0m\u001b[0;34m\u001b[0m\u001b[0;34m\u001b[0m\u001b[0m\n",
      "\u001b[0;32m~/for_snudda/lib/python3.6/site-packages/matplotlib/pyplot.py\u001b[0m in \u001b[0;36mpause\u001b[0;34m(interval)\u001b[0m\n\u001b[1;32m    436\u001b[0m             \u001b[0mcanvas\u001b[0m\u001b[0;34m.\u001b[0m\u001b[0mdraw_idle\u001b[0m\u001b[0;34m(\u001b[0m\u001b[0;34m)\u001b[0m\u001b[0;34m\u001b[0m\u001b[0;34m\u001b[0m\u001b[0m\n\u001b[1;32m    437\u001b[0m         \u001b[0mshow\u001b[0m\u001b[0;34m(\u001b[0m\u001b[0mblock\u001b[0m\u001b[0;34m=\u001b[0m\u001b[0;32mFalse\u001b[0m\u001b[0;34m)\u001b[0m\u001b[0;34m\u001b[0m\u001b[0;34m\u001b[0m\u001b[0m\n\u001b[0;32m--> 438\u001b[0;31m         \u001b[0mcanvas\u001b[0m\u001b[0;34m.\u001b[0m\u001b[0mstart_event_loop\u001b[0m\u001b[0;34m(\u001b[0m\u001b[0minterval\u001b[0m\u001b[0;34m)\u001b[0m\u001b[0;34m\u001b[0m\u001b[0;34m\u001b[0m\u001b[0m\n\u001b[0m\u001b[1;32m    439\u001b[0m     \u001b[0;32melse\u001b[0m\u001b[0;34m:\u001b[0m\u001b[0;34m\u001b[0m\u001b[0;34m\u001b[0m\u001b[0m\n\u001b[1;32m    440\u001b[0m         \u001b[0mtime\u001b[0m\u001b[0;34m.\u001b[0m\u001b[0msleep\u001b[0m\u001b[0;34m(\u001b[0m\u001b[0minterval\u001b[0m\u001b[0;34m)\u001b[0m\u001b[0;34m\u001b[0m\u001b[0;34m\u001b[0m\u001b[0m\n",
      "\u001b[0;32m~/for_snudda/lib/python3.6/site-packages/ipympl/backend_nbagg.py\u001b[0m in \u001b[0;36mstart_event_loop\u001b[0;34m(self, timeout)\u001b[0m\n\u001b[1;32m    243\u001b[0m \u001b[0;34m\u001b[0m\u001b[0m\n\u001b[1;32m    244\u001b[0m     \u001b[0;32mdef\u001b[0m \u001b[0mstart_event_loop\u001b[0m\u001b[0;34m(\u001b[0m\u001b[0mself\u001b[0m\u001b[0;34m,\u001b[0m \u001b[0mtimeout\u001b[0m\u001b[0;34m)\u001b[0m\u001b[0;34m:\u001b[0m\u001b[0;34m\u001b[0m\u001b[0;34m\u001b[0m\u001b[0m\n\u001b[0;32m--> 245\u001b[0;31m         \u001b[0mFigureCanvasBase\u001b[0m\u001b[0;34m.\u001b[0m\u001b[0mstart_event_loop_default\u001b[0m\u001b[0;34m(\u001b[0m\u001b[0mself\u001b[0m\u001b[0;34m,\u001b[0m \u001b[0mtimeout\u001b[0m\u001b[0;34m)\u001b[0m\u001b[0;34m\u001b[0m\u001b[0;34m\u001b[0m\u001b[0m\n\u001b[0m\u001b[1;32m    246\u001b[0m \u001b[0;34m\u001b[0m\u001b[0m\n\u001b[1;32m    247\u001b[0m     \u001b[0;32mdef\u001b[0m \u001b[0mstop_event_loop\u001b[0m\u001b[0;34m(\u001b[0m\u001b[0mself\u001b[0m\u001b[0;34m)\u001b[0m\u001b[0;34m:\u001b[0m\u001b[0;34m\u001b[0m\u001b[0;34m\u001b[0m\u001b[0m\n",
      "\u001b[0;31mAttributeError\u001b[0m: type object 'FigureCanvasBase' has no attribute 'start_event_loop_default'"
     ]
    }
   ],
   "source": [
    "from snudda.plotting.Network_plot_traces import NetworkPlotTraces\n",
    "\n",
    "plotOffset = 0\n",
    "skipTime = 0\n",
    "nTracesMax = 5\n",
    "\n",
    "fileName = \"networks/tinySim/simulation/volt_2.txt\"\n",
    "npt = NetworkPlotTraces(fileName,networkFile)\n",
    "networkFile = \"networks/tinySim/network-pruned-synapses.hdf5\"\n",
    "%matplotlib widget    \n",
    "#npt.plotTraceNeuronType(neuronType=\"dSPN\",nTraces=nTracesMax,offset=plotOffset,skipTime=skipTime)\n",
    "npt.plotTraceNeuronType(neuronType=\"iSPN\",nTraces=nTracesMax,offset=plotOffset,skipTime=skipTime)\n",
    "#npt.plotTraceNeuronType(neuronType=\"FSN\",nTraces=nTracesMax,offset=plotOffset,skipTime=skipTime)\n",
    "#npt.plotTraceNeuronType(neuronType=\"LTS\",nTraces=nTracesMax,offset=plotOffset,skipTime=skipTime)\n",
    "#npt.plotTraceNeuronType(neuronType=\"ChIN\",nTraces=nTracesMax,offset=plotOffset,skipTime=skipTime)\n"
   ]
  },
  {
   "cell_type": "markdown",
   "metadata": {},
   "source": [
    "Simulation analysis plots are saved as PDF files in the directory `networks/tinySim/figures`."
   ]
  },
  {
   "cell_type": "code",
   "execution_count": 14,
   "metadata": {},
   "outputs": [
    {
     "name": "stdout",
     "output_type": "stream",
     "text": [
      "networks/tinySim/figures/Network-distance-dependent-connection-probability-ChIN-to-dSPN-synapses-2D-dist.pdf\n",
      "networks/tinySim/figures/Network-distance-dependent-connection-probability-ChIN-to-FSN-synapses-2D-dist.pdf\n",
      "networks/tinySim/figures/Network-distance-dependent-connection-probability-ChIN-to-iSPN-synapses-2D-dist.pdf\n",
      "networks/tinySim/figures/Network-distance-dependent-connection-probability-ChIN-to-LTS-synapses-2D-dist.pdf\n",
      "networks/tinySim/figures/Network-distance-dependent-connection-probability-dSPN-to-ChIN-synapses-2D-dist.pdf\n",
      "networks/tinySim/figures/Network-distance-dependent-connection-probability-dSPN-to-dSPN-synapses-2D-dist.pdf\n",
      "networks/tinySim/figures/Network-distance-dependent-connection-probability-dSPN-to-iSPN-synapses-2D-dist.pdf\n",
      "networks/tinySim/figures/Network-distance-dependent-connection-probability-FSN-to-dSPN-synapses-2D-dist.pdf\n",
      "networks/tinySim/figures/Network-distance-dependent-connection-probability-FSN-to-FSN-gapjunctions-2D-dist.pdf\n",
      "networks/tinySim/figures/Network-distance-dependent-connection-probability-FSN-to-FSN-synapses-2D-dist.pdf\n",
      "networks/tinySim/figures/Network-distance-dependent-connection-probability-FSN-to-iSPN-synapses-2D-dist.pdf\n",
      "networks/tinySim/figures/Network-distance-dependent-connection-probability-FSN-to-LTS-synapses-2D-dist.pdf\n",
      "networks/tinySim/figures/Network-distance-dependent-connection-probability-iSPN-to-ChIN-synapses-2D-dist.pdf\n",
      "networks/tinySim/figures/Network-distance-dependent-connection-probability-iSPN-to-dSPN-synapses-2D-dist.pdf\n",
      "networks/tinySim/figures/Network-distance-dependent-connection-probability-iSPN-to-iSPN-synapses-2D-dist.pdf\n",
      "networks/tinySim/figures/Network-distance-dependent-connection-probability-LTS-to-ChIN-synapses-2D-dist.pdf\n",
      "networks/tinySim/figures/Network-distance-dependent-connection-probability-LTS-to-dSPN-synapses-2D-dist.pdf\n",
      "networks/tinySim/figures/Network-distance-dependent-connection-probability-LTS-to-iSPN-synapses-2D-dist.pdf\n"
     ]
    }
   ],
   "source": [
    "!ls networks/tinySim/figures/*.pdf"
   ]
  },
  {
   "cell_type": "markdown",
   "metadata": {},
   "source": [
    "## Closing remarks\n",
    "\n",
    "This example creates a very small striatal network. Size of the network and other parameters can be adjusted. For more information, please see https://github.com/Hjorthmedh/Snudda/wiki/Developer-Installation-Guide.\n",
    "\n",
    "Questions and suggestions related to *Snudda* simulations, please address to the main developer, *Johannes Hjorth* [hjorth@kth.se](mailto:hjorth@kth.se)."
   ]
  }
 ],
 "metadata": {
  "kernelspec": {
   "display_name": "Python 3",
   "language": "python",
   "name": "python3"
  },
  "language_info": {
   "codemirror_mode": {
    "name": "ipython",
    "version": 3
   },
   "file_extension": ".py",
   "mimetype": "text/x-python",
   "name": "python",
   "nbconvert_exporter": "python",
   "pygments_lexer": "ipython3",
   "version": "3.8.5"
  }
 },
 "nbformat": 4,
 "nbformat_minor": 4
}
