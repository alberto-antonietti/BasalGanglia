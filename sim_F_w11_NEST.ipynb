{
 "cells": [
  {
   "cell_type": "markdown",
   "id": "0f53cdd6-1d0b-4d4a-9b57-479ddd839bdb",
   "metadata": {},
   "source": [
    "# NEST SIMULATION \n",
    "##### 1. IMPORTING RELEVANT DATA FROM SNUDDA GENERATED NEURON FILES:\\\n",
    "    a) Neuron Matrix: to keep the info of neuron types \\\n",
    "    b) Synaptic Matrix: Where each row has the info of [preID, posID] of one synapse \\\n",
    "    for now every synapse will have the same properties, no matter the types of neurons\\\n",
    "    (later we can add more info on this matrix that will help set the type of synapses used for each)\\\n",
    "    c*) (optional/not really relevant but already available) Positions: matrix with coordinates for each neuron position\\\n",
    "    d) Info about the input given to the neurons\n",
    "##### 2) CREATING THE NEST NETWORK \\\n",
    "    a) Create the neurons (the correct # of neurons, in their posiiton*)\\\n",
    "    b) Connect the neurons (for loop with Synaptic Matrix as info)\\\n",
    "    c) Connect the measuring devices to the neurons in order to observe spiking and voltage \\\n",
    "    d) Create the spike generators to feed the input \n",
    "##### 3) RUN THE SIM\n",
    "    "
   ]
  },
  {
   "cell_type": "markdown",
   "id": "48e31ff2-5b96-4d7f-9043-5648f4f7466c",
   "metadata": {},
   "source": [
    "### 0. LIBRARIES"
   ]
  },
  {
   "cell_type": "code",
   "execution_count": 1,
   "id": "d8777fd1-29da-4ca2-a674-2e6fd5b5d355",
   "metadata": {},
   "outputs": [
    {
     "name": "stdout",
     "output_type": "stream",
     "text": [
      "\n",
      "              -- N E S T --\n",
      "  Copyright (C) 2004 The NEST Initiative\n",
      "\n",
      " Version: nest-3.1\n",
      " Built: Sep 28 2021 11:43:45\n",
      "\n",
      " This program is provided AS IS and comes with\n",
      " NO WARRANTY. See the file LICENSE for details.\n",
      "\n",
      " Problems or suggestions?\n",
      "   Visit https://www.nest-simulator.org\n",
      "\n",
      " Type 'nest.help()' to find out more about NEST.\n",
      "\n"
     ]
    }
   ],
   "source": [
    "import nest\n",
    "import matplotlib.pyplot as plt\n",
    "\n",
    "from getData import *\n",
    "from plot import *"
   ]
  },
  {
   "cell_type": "code",
   "execution_count": 22,
   "id": "53053210-6d11-4bf5-9f15-76d3ee029c8e",
   "metadata": {
    "tags": []
   },
   "outputs": [],
   "source": [
    "chin_color='xkcd:orange'\n",
    "ispn_color='xkcd:blue purple'\n",
    "lts_color='xkcd:bright purple'\n",
    "dspn_color='xkcd:sky blue'\n",
    "fs_color='xkcd:dark blue'\n",
    "import matplotlib.ticker as ticker\n",
    "\n",
    "\n",
    "def ComputeFiringRatesNEST(senders, times, neuron_IDs):\n",
    "\n",
    "    dspn_spks = []\n",
    "    ispn_spks = []\n",
    "    lts_spks = []\n",
    "    chin_spks = []\n",
    "    fs_spks = []\n",
    "    \n",
    "    dspn_ID, ispn_ID, lts_ID, fs_ID, chin_ID = getNeuronSubMatrixes(neuron_IDs)\n",
    "\n",
    "\n",
    "    for i in range(0, len(senders)):\n",
    "        if senders[i] in dspn_ID:\n",
    "            dspn_spks.append(times[i])\n",
    "        elif senders[i] in ispn_ID:\n",
    "            ispn_spks.append(times[i])\n",
    "        elif senders[i] in chin_ID:\n",
    "            chin_spks.append(times[i])\n",
    "        elif senders[i] in lts_ID:\n",
    "            lts_spks.append(times[i])\n",
    "        elif senders[i] in fs_ID:\n",
    "            fs_spks.append(times[i])\n",
    "\n",
    "    dspn_spikes_dt = []\n",
    "    ispn_spikes_dt = []\n",
    "    chin_spikes_dt = []\n",
    "    lts_spikes_dt = []\n",
    "    fs_spikes_dt = []\n",
    "\n",
    "    for d_time in range (0, 1981, 20):\n",
    "\n",
    "        start = d_time\n",
    "        stop = d_time + 20\n",
    "        spikes_dt_aux = [0,0,0,0,0]\n",
    "\n",
    "        for elem in dspn_spks:\n",
    "            if (start < elem <= stop):\n",
    "                spikes_dt_aux[0] +=1\n",
    "        for elem in ispn_spks:\n",
    "            if (start < elem <= stop):\n",
    "                spikes_dt_aux[1] +=1\n",
    "        for elem in chin_spks:\n",
    "            if (start < elem <= stop):\n",
    "                spikes_dt_aux[2] +=1\n",
    "        for elem in lts_spks:\n",
    "            if (start < elem <= stop):\n",
    "                spikes_dt_aux[3] +=1\n",
    "        for elem in fs_spks:\n",
    "            if (start < elem <= stop):\n",
    "                spikes_dt_aux[4] +=1\n",
    "\n",
    "        dspn_spikes_dt.append(spikes_dt_aux[0])\n",
    "        ispn_spikes_dt.append(spikes_dt_aux[1])\n",
    "        chin_spikes_dt.append(spikes_dt_aux[2])\n",
    "        lts_spikes_dt.append(spikes_dt_aux[3])\n",
    "        fs_spikes_dt.append(spikes_dt_aux[4])\n",
    "        \n",
    "    N_dspn = len(dspn_ID)\n",
    "    N_ispn = len(ispn_ID)\n",
    "    N_chin = len(chin_ID)\n",
    "    N_lts= len(lts_ID)\n",
    "    N_fs = len(fs_ID)\n",
    "\n",
    "    dspn_fr = []\n",
    "    ispn_fr = []\n",
    "    chin_fr = []\n",
    "    lts_fr = []\n",
    "    fs_fr = []\n",
    "\n",
    "    for elem in dspn_spikes_dt:\n",
    "        dspn_fr.append(elem*50/(N_dspn))\n",
    "    for elem in ispn_spikes_dt:\n",
    "        ispn_fr.append(elem*50/(N_ispn))\n",
    "    for elem in chin_spikes_dt:\n",
    "        chin_fr.append(elem*50/(N_chin))\n",
    "    for elem in lts_spikes_dt:\n",
    "        lts_fr.append(elem*50/(N_lts))\n",
    "    for elem in fs_spikes_dt:\n",
    "        fs_fr.append(elem*50/(N_fs))\n",
    "\n",
    "    time = []\n",
    "    for d_time in range (0, 1981, 20):\n",
    "        time.append(d_time)\n",
    "\n",
    "    return(time, dspn_fr, ispn_fr, chin_fr, lts_fr, fs_fr)\n",
    "\n",
    "def plotFRNEST(senders, times, neuron_IDs):\n",
    "    \n",
    "    time, dspn_fr, ispn_fr, chin_fr, lts_fr, fs_fr = ComputeFiringRatesNEST(senders, times, neuron_IDs)\n",
    "    \n",
    "    fig = plt.figure()\n",
    "    ax = fig.add_axes([0,0,1,1])\n",
    "    ax.axes.xaxis.set_visible(False)\n",
    "    plt.ylim(0, 105)\n",
    "    \n",
    "    #ax.yaxis.set_major_locator(ticker.MultipleLocator(2))\n",
    "    plt.step(time, lts_fr, color = lts_color, linewidth=0.5)\n",
    "    plt.step(time, chin_fr, color = chin_color, linewidth=0.5)\n",
    "    plt.step(time, fs_fr, color = fs_color, linewidth=0.5)\n",
    "    plt.step(time, dspn_fr, color = dspn_color, linewidth=1)\n",
    "    plt.step(time, ispn_fr, color = ispn_color, linewidth=1)\n",
    "    \n",
    "    ax.set_xlabel('Time [s]')\n",
    "    ax.set_ylabel(' Firing Rate [Hz]')\n",
    "\n",
    "    plt.show()\n",
    "    \n",
    "    #------------------------------------------------------------#\n",
    "    fig1 = plt.figure()\n",
    "    ax1 = fig1.add_axes([0,0,1,1])\n",
    "    ax1.axes.xaxis.set_visible(False)\n",
    "    plt.ylim(0, 105)\n",
    "    \n",
    "    #ax.yaxis.set_major_locator(ticker.MultipleLocator(2))\n",
    "   \n",
    "    plt.step(time, lts_fr, color = lts_color, linewidth=0.5)\n",
    "    plt.step(time, chin_fr, color = chin_color, linewidth=0.5)\n",
    "    plt.step(time, fs_fr, color = fs_color, linewidth=0.5)\n",
    "    \n",
    "    ax1.set_xlabel('Time [s]')\n",
    "    ax1.set_ylabel(' Firing Rate [Hz]')\n",
    "    \n",
    "    plt.show()\n",
    "    \n",
    "    #------------------------------------------------------------#    \n",
    "    fig2 = plt.figure()\n",
    "    ax2 = fig2.add_axes([0,0,1,1])\n",
    "    ax2.axes.xaxis.set_visible(False)\n",
    "    plt.ylim(0, 35)\n",
    "    #ax.yaxis.set_major_locator(ticker.MultipleLocator(1))    \n",
    "    plt.step(time, dspn_fr, color = dspn_color, linewidth=1)\n",
    "    plt.step(time, ispn_fr, color = ispn_color, linewidth=1)\n",
    "    ax2.set_xlabel('Time [s]')\n",
    "    ax2.set_ylabel(' Firing Rate [Hz]')\n",
    "    \n",
    "    plt.show()\n",
    "    \n",
    "    return\n",
    "\n",
    "def RasterNEST(evs,ts, neuron_IDs):\n",
    "    spikes = {}\n",
    "    for i in range(0, len(evs)) :\n",
    "\n",
    "        nID = evs[i]\n",
    "        spike_time = ts[i]\n",
    "        if(nID not in spikes.keys()):\n",
    "            spikes[nID] = []            \n",
    "        spikes[nID].append(spike_time)\n",
    "\n",
    "    for i in range(0, 100):\n",
    "        if(i not in spikes.keys()):\n",
    "            spikes[i] = []\n",
    "\n",
    "    n_ids = np.array(list(spikes.keys()), dtype=int)\n",
    "    n_ids.sort() #organize the neurons by id\n",
    "\n",
    "    dspn_ID, ispn_ID, lts_ID, fs_ID, chin_ID = getNeuronSubMatrixes(neuron_IDs)\n",
    "\n",
    "    orderedIDs = getOrderedIDs(dspn_ID, ispn_ID, lts_ID, fs_ID, chin_ID)\n",
    "\n",
    "\n",
    "    fig_handle = plt.figure()\n",
    "    fig, ax = plt.subplots(1,1)\n",
    "    ax = fig_handle.add_subplot(111)\n",
    "    ax.xaxis.set_major_locator(ticker.MultipleLocator(500))\n",
    "    ax.set_xlabel('$t$ (ms)')\n",
    "    ax.axes.yaxis.set_visible(False)\n",
    "\n",
    "\n",
    "    plotSpikes(spikes, fs_ID, orderedIDs, fs_color, 'fs', ax)\n",
    "    plotSpikes(spikes, dspn_ID, orderedIDs,dspn_color, 'dspn', ax)\n",
    "    plotSpikes(spikes, lts_ID, orderedIDs, lts_color, 'lts', ax)\n",
    "    plotSpikes(spikes, ispn_ID, orderedIDs,ispn_color , 'ispn', ax)\n",
    "    plotSpikes(spikes, chin_ID, orderedIDs, chin_color, 'chin', ax)\n",
    "\n",
    "    box = ax.get_position()\n",
    "    ax.set_position([box.x0, box.y0, box.width * 0.9, box.height])\n",
    "    # Put a legend to the right of the current axis\n",
    "\n",
    "    ax.legend(loc='center left', bbox_to_anchor=(1, 0.5))\n",
    "    plt.show()\n",
    "    \n",
    "    return()\n",
    "\n",
    "def plotSpikes(events, id_array, raster_order, color, label, ax):\n",
    "    \n",
    "    label_done = False\n",
    "    \n",
    "    for neuron_id in id_array:\n",
    "        \n",
    "        spikes = events[neuron_id] #array of the spike times of neuron i\n",
    "        \n",
    "        index = raster_order.index(neuron_id)\n",
    "        if not label_done:\n",
    "            ax.plot(spikes, np.full_like(spikes, index), ms = 3, marker=\".\", label=label, color=color, linestyle=\"None\")\n",
    "\n",
    "            #this full_like function generates an array that has the same size as events[i], with the value index\n",
    "            #on every position (so we #have the same number of x and ys for plotting)\n",
    "            label_done = True\n",
    "        else:\n",
    "            ax.plot(spikes, np.full_like(spikes, index), ms = 3, marker=\".\", color=color, linestyle=\"None\")\n",
    "    return()"
   ]
  },
  {
   "cell_type": "markdown",
   "id": "3a743f8f-4080-4b00-9da1-70920638efc2",
   "metadata": {},
   "source": [
    "### 1. IMPORTING DATA"
   ]
  },
  {
   "cell_type": "code",
   "execution_count": 3,
   "id": "00adf908-bae4-4d20-9e01-2d2cf9e084c9",
   "metadata": {
    "tags": []
   },
   "outputs": [],
   "source": [
    "positions_list = getNeuronPositions('net_100')\n",
    "\n",
    "synaptic_matrix = getSynapses('net_100')\n",
    "\n",
    "input_matrix = getInput('net_100', 100)"
   ]
  },
  {
   "cell_type": "markdown",
   "id": "9be59dd0-649e-4e30-bddf-16ec2af79840",
   "metadata": {},
   "source": [
    "### 2. CREATING THE NEST NETWORK"
   ]
  },
  {
   "cell_type": "markdown",
   "id": "03bcf937-bde9-4492-be67-9d85e83c9264",
   "metadata": {},
   "source": [
    "Here we create a position list, with the coordinates of each neuron of the network.\n",
    "(This first step is not necessary, since the spatial distribution of the network does not influence the NEST simulation.)"
   ]
  },
  {
   "cell_type": "code",
   "execution_count": 4,
   "id": "ccc8d85d-a09d-428d-aeb5-23ae3ffe47af",
   "metadata": {},
   "outputs": [],
   "source": [
    "pos = nest.spatial.free(positions_list) # using NEURON positions"
   ]
  },
  {
   "cell_type": "markdown",
   "id": "f6826545-72e8-4fab-bdde-0e3e7ea1e125",
   "metadata": {},
   "source": [
    "Now we create all the neurons at once, with same characteristics. They are all conductance based integrate and fire model, with the default parameters of nest.\\\n",
    "(to accomodate differente models, this will have to be upgraded, so that the creation parameters can change according to type. once this is done changes in the connection protocol will be needed, bc they wont all be in the same population) [idea: if possible to apply changes with \"set\" command instead of in the moment of creation, to make it easier]"
   ]
  },
  {
   "cell_type": "code",
   "execution_count": 5,
   "id": "37c9839c-ed19-4d95-a684-c2b8f1586aed",
   "metadata": {},
   "outputs": [],
   "source": [
    "s_nodes = nest.Create(\"iaf_cond_alpha\", 99, positions=pos) "
   ]
  },
  {
   "cell_type": "markdown",
   "id": "e7b48a59-0f9f-4b03-8b33-7e15fd17c0d0",
   "metadata": {},
   "source": [
    "With the info of the synaptic matrix, we create the pre-synaptic as post-synaptic neuron ID lists, and transform them into numpy arrays"
   ]
  },
  {
   "cell_type": "code",
   "execution_count": 6,
   "id": "ef58bd26-53ef-4f21-bc1d-7ed53b42f5e0",
   "metadata": {
    "tags": []
   },
   "outputs": [],
   "source": [
    "pre_list = []\n",
    "pos_list = []\n",
    "\n",
    "for i in range(0,len(synaptic_matrix)):\n",
    "    pre_list.append(s_nodes[synaptic_matrix[i][0]])\n",
    "    pos_list.append(s_nodes[synaptic_matrix[i][1]])\n",
    "    \n",
    "pre_array = np.transpose(np.array(pre_list)).flatten()\n",
    "pos_array = np.transpose(np.array(pos_list)).flatten()"
   ]
  },
  {
   "cell_type": "markdown",
   "id": "e23d760f-f727-4f94-a92a-9cc9b6dcbe8b",
   "metadata": {},
   "source": [
    "With the arrays ready, we can connect the synapses all in one command.\n",
    "(again here, if we wish to have different parameters and arguments for each synapse, a more complex solution is necessary.)"
   ]
  },
  {
   "cell_type": "code",
   "execution_count": 7,
   "id": "4cb6eb04-9ed5-456e-928f-dcfaf8ccc6f5",
   "metadata": {},
   "outputs": [],
   "source": [
    "syn_wgt = np.full(len(pre_array), -2.0)\n",
    "nest.Connect(pre_array,pos_array,conn_spec= \"one_to_one\", syn_spec= {\"weight\": syn_wgt})"
   ]
  },
  {
   "cell_type": "markdown",
   "id": "cbd324b5-094c-4d61-8c93-563be405a750",
   "metadata": {},
   "source": [
    "Now onto the creation of the Spike Generators."
   ]
  },
  {
   "cell_type": "code",
   "execution_count": 8,
   "id": "c3b0f3c9-1a3e-4d82-8e7f-bae4b4644e0c",
   "metadata": {
    "tags": []
   },
   "outputs": [],
   "source": [
    "inputs = nest.Create(\"spike_generator\", 99)"
   ]
  },
  {
   "cell_type": "code",
   "execution_count": 9,
   "id": "345ef1b2-e9b6-4efe-a5b9-aa47a85913aa",
   "metadata": {},
   "outputs": [],
   "source": [
    "for g, generator in enumerate(inputs):\n",
    "\n",
    "    nest.SetStatus(generator, {\"spike_times\": np.array(input_matrix[g])})"
   ]
  },
  {
   "cell_type": "code",
   "execution_count": 10,
   "id": "f7ee0287-98e2-47f7-a780-7a464f815734",
   "metadata": {},
   "outputs": [],
   "source": [
    "spikerecorder = nest.Create(\"spike_recorder\")"
   ]
  },
  {
   "cell_type": "code",
   "execution_count": 11,
   "id": "ffd81c76-2b9b-439f-8bb2-f633bfa3776e",
   "metadata": {},
   "outputs": [],
   "source": [
    "input_syn_wgt = np.full(len(inputs), 11.0)\n",
    "nest.Connect(inputs,s_nodes, conn_spec= \"one_to_one\", syn_spec={\"weight\": input_syn_wgt})"
   ]
  },
  {
   "cell_type": "code",
   "execution_count": 12,
   "id": "e9f918fa-a3c4-48b6-8b0b-f0cca1aad966",
   "metadata": {},
   "outputs": [],
   "source": [
    "nest.Connect(s_nodes,spikerecorder, conn_spec= \"all_to_all\")"
   ]
  },
  {
   "cell_type": "markdown",
   "id": "a2c1e446-18d3-4571-82f8-de8a142a9eee",
   "metadata": {},
   "source": [
    "### RUNNING THE SIMULATION\n",
    "Here we are using a total run itme of 2000 ms (and the default step of simulation of 0.1 ms)"
   ]
  },
  {
   "cell_type": "code",
   "execution_count": 13,
   "id": "bd730fa7-1fab-415f-afd2-29806e7a2554",
   "metadata": {},
   "outputs": [
    {
     "name": "stdout",
     "output_type": "stream",
     "text": [
      "\n",
      "Nov 21 02:49:29 NodeManager::prepare_nodes [Info]: \n",
      "    Preparing 199 nodes for simulation.\n",
      "\n",
      "Nov 21 02:49:29 SimulationManager::start_updating_ [Info]: \n",
      "    Number of local nodes: 199\n",
      "    Simulation time (ms): 2000\n",
      "    Number of OpenMP threads: 1\n",
      "    Number of MPI processes: 1\n",
      "\n",
      "Nov 21 02:49:29 SimulationManager::run [Info]: \n",
      "    Simulation finished.\n"
     ]
    }
   ],
   "source": [
    "nest.Simulate(2000.0)"
   ]
  },
  {
   "cell_type": "markdown",
   "id": "fcff3255-eca8-4f26-9360-4d29cefa45f6",
   "metadata": {},
   "source": [
    "### ANALYSING THE RESULTS"
   ]
  },
  {
   "cell_type": "code",
   "execution_count": 14,
   "id": "13595846-b40e-4745-bc34-381c3cf93bd4",
   "metadata": {},
   "outputs": [],
   "source": [
    "dSD = spikerecorder.get(\"events\")\n",
    "evs = dSD[\"senders\"]\n",
    "ts = dSD[\"times\"]\n",
    "\n",
    "neuron_IDs = getNeuronMatrix('net_100')\n"
   ]
  },
  {
   "cell_type": "code",
   "execution_count": 23,
   "id": "fc221f07-e364-4258-bd03-60ded8f84501",
   "metadata": {},
   "outputs": [
    {
     "data": {
      "image/png": "[encoded data removed]",
      "text/plain": [
       "<Figure size 432x288 with 1 Axes>"
      ]
     },
     "metadata": {
      "needs_background": "light"
     },
     "output_type": "display_data"
    },
    {
     "data": {
      "image/png": "[encoded data removed]",
      "text/plain": [
       "<Figure size 432x288 with 1 Axes>"
      ]
     },
     "metadata": {
      "needs_background": "light"
     },
     "output_type": "display_data"
    },
    {
     "data": {
      "image/png": "[encoded data removed]",
      "text/plain": [
       "<Figure size 432x288 with 1 Axes>"
      ]
     },
     "metadata": {
      "needs_background": "light"
     },
     "output_type": "display_data"
    },
    {
     "data": {
      "image/png": "[encoded data removed]",
      "text/plain": [
       "<Figure size 432x288 with 1 Axes>"
      ]
     },
     "metadata": {
      "needs_background": "light"
     },
     "output_type": "display_data"
    },
    {
     "data": {
      "image/png": "[encoded data removed]",
      "text/plain": [
       "<Figure size 432x288 with 1 Axes>"
      ]
     },
     "metadata": {
      "needs_background": "light"
     },
     "output_type": "display_data"
    }
   ],
   "source": [
    "\n",
    "RasterNEST(evs, ts , neuron_IDs)\n",
    "\n",
    "plotFRNEST(evs, ts, neuron_IDs)"
   ]
  },
  {
   "cell_type": "code",
   "execution_count": null,
   "id": "c6501776-bde6-4444-bac3-936790b17732",
   "metadata": {},
   "outputs": [],
   "source": []
  }
 ],
 "metadata": {
  "kernelspec": {
   "display_name": "Python 3 (ipykernel)",
   "language": "python",
   "name": "python3"
  },
  "language_info": {
   "codemirror_mode": {
    "name": "ipython",
    "version": 3
   },
   "file_extension": ".py",
   "mimetype": "text/x-python",
   "name": "python",
   "nbconvert_exporter": "python",
   "pygments_lexer": "ipython3",
   "version": "3.8.10"
  }
 },
 "nbformat": 4,
 "nbformat_minor": 5
}
