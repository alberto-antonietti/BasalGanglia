{
 "cells": [
  {
   "cell_type": "code",
   "execution_count": 66,
   "id": "preliminary-narrow",
   "metadata": {},
   "outputs": [],
   "source": [
    "import numpy as np\n",
    "import h5py\n",
    "import pandas as pd\n",
    "import matplotlib\n",
    "import matplotlib.pyplot as plt\n",
    "plt.scatter(self.time-skipTime,self.spikeID,color='black',s=1)"
   ]
  },
  {
   "cell_type": "code",
   "execution_count": 53,
   "id": "printable-norwegian",
   "metadata": {},
   "outputs": [
    {
     "name": "stdout",
     "output_type": "stream",
     "text": [
      "Items on root : [('meta', <HDF5 group \"/meta\" (2 members)>), ('network', <HDF5 group \"/network\" (1 members)>)]\n",
      "Items on meta : [('config', <HDF5 dataset \"config\": shape (), type \"|O\">), ('configFile', <HDF5 dataset \"configFile\": shape (), type \"|O\">)]\n",
      "Items on network : [('neurons', <HDF5 group \"/network/neurons\" (19 members)>)]\n",
      "Items on neurons : [('axonDensity', <HDF5 dataset \"axonDensity\": shape (99,), type \"|S245\">), ('axonDensityBoundsXYZ', <HDF5 dataset \"axonDensityBoundsXYZ\": shape (99, 6), type \"<f8\">), ('axonDensityRadius', <HDF5 dataset \"axonDensityRadius\": shape (99,), type \"<f8\">), ('axonDensityType', <HDF5 dataset \"axonDensityType\": shape (99,), type \"|S3\">), ('channelID', <HDF5 dataset \"channelID\": shape (99,), type \"<i8\">), ('channelMethod', <HDF5 dataset \"channelMethod\": shape (), type \"|O\">), ('hoc', <HDF5 dataset \"hoc\": shape (99,), type \"|S10\">), ('maxAxonRadius', <HDF5 dataset \"maxAxonRadius\": shape (99,), type \"<f8\">), ('maxDendRadius', <HDF5 dataset \"maxDendRadius\": shape (99,), type \"<f8\">), ('modulationID', <HDF5 dataset \"modulationID\": shape (99,), type \"<i8\">), ('morphology', <HDF5 dataset \"morphology\": shape (99,), type \"|S207\">), ('nChannels', <HDF5 dataset \"nChannels\": shape (), type \"<i8\">), ('name', <HDF5 dataset \"name\": shape (99,), type \"|S6\">), ('neuronID', <HDF5 dataset \"neuronID\": shape (99,), type \"<i8\">), ('parameterID', <HDF5 dataset \"parameterID\": shape (99,), type \"<i8\">), ('position', <HDF5 dataset \"position\": shape (99, 3), type \"<f8\">), ('rotation', <HDF5 dataset \"rotation\": shape (99, 9), type \"<f8\">), ('virtualNeuron', <HDF5 dataset \"virtualNeuron\": shape (99,), type \"|b1\">), ('volumeID', <HDF5 dataset \"volumeID\": shape (99,), type \"|S8\">)]\n"
     ]
    }
   ],
   "source": [
    "with h5py.File('Snudda/networks/tinySim/network-neuron-positions.hdf5', 'r') as hdf5:\n",
    "    base_items = list(hdf5.items())\n",
    "    print(\"Items on root :\", base_items)\n",
    "    meta = hdf5.get('meta')\n",
    "    meta_items = list(meta.items())\n",
    "    print(\"Items on meta :\", meta_items)\n",
    "    network = hdf5.get('network')\n",
    "    network_items = list(network.items())\n",
    "    print(\"Items on network :\", network_items)\n",
    "    neurons = network.get('neurons')\n",
    "    neurons_items = list(neurons.items())\n",
    "    print(\"Items on neurons :\", neurons_items)\n",
    "    neuronID = np.array(neurons.get('neuronID'))\n",
    "    neuron_type = np.array(neurons.get('morphology'))"
   ]
  },
  {
   "cell_type": "code",
   "execution_count": 77,
   "id": "excessive-facility",
   "metadata": {},
   "outputs": [
    {
     "name": "stdout",
     "output_type": "stream",
     "text": [
      "|S207\n",
      "b'/mnt/user/drive/Shared with groups/BasalGanglia-Reproducible/Snudda/snudda/data/cellspecs-v2/dspn/str-dspn-e150602_c1_D1-mWT-0728MSN01-v20190508/WT-0728MSN01-cor-rep-ax.swc'\n",
      "<class 'str'>\n",
      "['dspn', 'dspn', 'dspn', 'dspn', 'ispn', 'dspn', 'ispn', 'ispn', 'dspn', 'ispn', 'ispn', 'ispn', 'dspn', 'ispn', 'dspn', 'dspn', 'ispn', 'ispn', 'dspn', 'dspn', 'dspn', 'ispn', 'dspn', 'ispn', 'dspn', 'ispn', 'ispn', 'ispn', 'dspn', 'ispn', 'dspn', 'ispn', 'ispn', 'dspn', 'dspn', 'dspn', 'dspn', 'dspn', 'ispn', 'dspn', 'ispn', 'ispn', 'ispn', 'ispn', 'ispn', 'ispn', 'dspn', 'dspn', 'ispn', 'ispn', 'dspn', 'chin', 'ispn', 'ispn', 'ispn', 'dspn', 'dspn', 'dspn', 'ispn', 'dspn', 'ispn', 'dspn', 'ispn', 'ispn', 'dspn', 'dspn', 'lts', 'ispn', 'ispn', 'dspn', 'dspn', 'dspn', 'ispn', 'dspn', 'ispn', 'dspn', 'fs', 'dspn', 'dspn', 'ispn', 'dspn', 'dspn', 'dspn', 'dspn', 'ispn', 'ispn', 'dspn', 'dspn', 'dspn', 'ispn', 'ispn', 'dspn', 'ispn', 'ispn', 'dspn', 'ispn', 'ispn', 'ispn', 'ispn']\n",
      "<class 'str'>\n"
     ]
    }
   ],
   "source": [
    "neuron_type2 = []\n",
    "\n",
    "for i in range (0, neuron_type.size) :\n",
    "    neuron_type2.append(str(neuron_type[i]))\n",
    "    \n",
    "print(type(neuron_type2[0]))\n",
    "\n",
    "for i in range (0, len(neuron_type2)):\n",
    "    if \"dspn\" in neuron_type2[i]:\n",
    "        neuron_type2[i] = \"dspn\"\n",
    "    elif ('ispn' in neuron_type2[i]) :\n",
    "        neuron_type2[i] = \"ispn\"\n",
    "    elif 'lts' in neuron_type2[i] :\n",
    "        neuron_type2[i] = \"lts\"\n",
    "    elif 'fs' in neuron_type2[i] :\n",
    "        neuron_type2[i] = \"fs\"\n",
    "    elif 'chin' in neuron_type2[i] :\n",
    "        neuron_type2[i] = \"chin\"\n",
    "print(neuron_type2)\n",
    "\n"
   ]
  },
  {
   "cell_type": "code",
   "execution_count": 79,
   "id": "plastic-organ",
   "metadata": {},
   "outputs": [
    {
     "name": "stdout",
     "output_type": "stream",
     "text": [
      "    neuronID neuron_type\n",
      "0          0        dspn\n",
      "1          1        dspn\n",
      "2          2        dspn\n",
      "3          3        dspn\n",
      "4          4        ispn\n",
      "..       ...         ...\n",
      "94        94        dspn\n",
      "95        95        ispn\n",
      "96        96        ispn\n",
      "97        97        ispn\n",
      "98        98        ispn\n",
      "\n",
      "[99 rows x 2 columns]\n"
     ]
    },
    {
     "data": {
      "text/plain": [
       "<AxesSubplot:ylabel='neuron_type'>"
      ]
     },
     "execution_count": 79,
     "metadata": {},
     "output_type": "execute_result"
    },
    {
     "data": {
      "image/png": "[encoded data removed]",
      "text/plain": [
       "<Figure size 432x288 with 1 Axes>"
      ]
     },
     "metadata": {},
     "output_type": "display_data"
    }
   ],
   "source": [
    "\n",
    "\n",
    "d = {'neuronID': neuronID, 'neuron_type': neuron_type2}\n",
    "df = pd.DataFrame(data=d)\n",
    "print(df)\n",
    "df['neuron_type'].value_counts().plot(kind='pie')\n"
   ]
  },
  {
   "cell_type": "code",
   "execution_count": 67,
   "id": "super-antarctica",
   "metadata": {},
   "outputs": [
    {
     "name": "stdout",
     "output_type": "stream",
     "text": [
      "      sourceID  destinID    3    4    5  synapseType   7  dentDistance    9  \\\n",
      "0            2         0  113  147  145           26  14           157   45   \n",
      "1            2         0  114  166  155           26  14           236  109   \n",
      "2            2         0  129  132  155           26  14           196   78   \n",
      "3            4         0  114  145  131           26  17           201   28   \n",
      "4            4         0  117  161  153           26  17           165   89   \n",
      "...        ...       ...  ...  ...  ...          ...  ..           ...  ...   \n",
      "6874        82        98  146  113  164           26  15           211  170   \n",
      "6875        95        98  136  117  175           26  18           210  145   \n",
      "6876        95        98  144  116  166           26  18           214  197   \n",
      "6877        95        98  145  113  164           26  18           171  172   \n",
      "6878        95        98  162  136  156           26  18           151   80   \n",
      "\n",
      "      10   11   12      13  \n",
      "0     56   32  365  258226  \n",
      "1     50  522  239  214419  \n",
      "2     29  610  136  988025  \n",
      "3      9   89  250   97737  \n",
      "4     49  471   44  276685  \n",
      "...   ..  ...  ...     ...  \n",
      "6874  31  860  290  950989  \n",
      "6875  12  463  169  869030  \n",
      "6876  30  956  362  822703  \n",
      "6877  31  879  436  466222  \n",
      "6878  25  383  111  553666  \n",
      "\n",
      "[6879 rows x 13 columns]\n"
     ]
    }
   ],
   "source": [
    "with h5py.File('Snudda/networks/tinySim/network-pruned-synapses.hdf5', 'r') as file:\n",
    "    network = file.get('network')\n",
    "    synapses = network.get('synapses')\n",
    "    neurons = network.get('neurons')\n",
    "    neuronID = np.array(neurons.get('neuronID'))\n",
    "    morphology = np.array(neurons.get('morphology'))\n",
    "    \n",
    "    syn_table = []\n",
    "    for i in range(0,len(synapses)):\n",
    "        syn_table.append(synapses[i])\n",
    "\n",
    "    df2 = pd.DataFrame(data=syn_table)\n",
    "    df2.columns = ['sourceID', 'destinID', '3', '4', '5', 'synapseType', '7', 'dentDistance', '9', '10', '11', '12', '13']\n",
    "    print(df2)    "
   ]
  },
  {
   "cell_type": "code",
   "execution_count": 68,
   "id": "appointed-edition",
   "metadata": {},
   "outputs": [],
   "source": [
    "neuron_type = []\n",
    "\n",
    "for i in range (0, morphology.size) :\n",
    "    neuron_type.append(str(morphology[i]))\n",
    "\n",
    "#maybe this loop can be erased, if it is going to make the process lengthy (finding and replacing every neuron).\n",
    "#we can leave the neuron_type as is, with the long doc path, and just change the name at the end, for printing\n",
    "for i in range (0, len(neuron_type)):\n",
    "    if \"dspn\" in neuron_type[i]:\n",
    "        neuron_type[i] = \"DSPN\"\n",
    "    elif ('ispn' in neuron_type[i]) :\n",
    "        neuron_type[i] = \"ISPN\"\n",
    "    elif 'lts' in neuron_type[i] :\n",
    "        neuron_type[i] = \"LTS\"\n",
    "    elif 'fs' in neuron_type[i] :\n",
    "        neuron_type[i] = \"FS\"\n",
    "    elif 'chin' in neuron_type[i] :\n",
    "        neuron_type[i] = \"ChIN\"\n",
    "            \n",
    "structure_df = {'neuronID': neuronID, 'neuron_type': neuron_type}\n",
    "df = pd.DataFrame(data=structure_df)\n",
    "\n",
    "\n"
   ]
  },
  {
   "cell_type": "code",
   "execution_count": 69,
   "id": "aggregate-tension",
   "metadata": {},
   "outputs": [
    {
     "name": "stdout",
     "output_type": "stream",
     "text": [
      "0        2\n",
      "1        2\n",
      "2        2\n",
      "3        4\n",
      "4        4\n",
      "        ..\n",
      "6874    82\n",
      "6875    95\n",
      "6876    95\n",
      "6877    95\n",
      "6878    95\n",
      "Name: sourceID, Length: 6879, dtype: int64\n"
     ]
    }
   ],
   "source": [
    "#dsp_to_dsp = []\n",
    "#print(df2['sourceID'])\n",
    "#for row in df2:\n",
    "#    if(row['sourceID'])"
   ]
  },
  {
   "cell_type": "code",
   "execution_count": 27,
   "id": "fatty-coaching",
   "metadata": {},
   "outputs": [
    {
     "name": "stdout",
     "output_type": "stream",
     "text": [
      "<bound method HDFStore.info of <class 'pandas.io.pytables.HDFStore'>\n",
      "File path: Snudda/networks/tinySim/network-pruned-synapses.hdf5\n",
      ">\n",
      "<class 'pandas.io.pytables.HDFStore'>\n"
     ]
    },
    {
     "data": {
      "text/plain": [
       "<bound method HDFStore.info of <class 'pandas.io.pytables.HDFStore'>\n",
       "File path: Snudda/networks/tinySim/network-pruned-synapses.hdf5\n",
       ">"
      ]
     },
     "execution_count": 27,
     "metadata": {},
     "output_type": "execute_result"
    }
   ],
   "source": [
    "#net = df.get('network')\n",
    "#.get('synapses')\n",
    "print(df.info)\n",
    "print(type(df))\n",
    "df.info"
   ]
  },
  {
   "cell_type": "code",
   "execution_count": 19,
   "id": "sufficient-summer",
   "metadata": {},
   "outputs": [
    {
     "data": {
      "text/plain": [
       "pandas.io.pytables.HDFStore"
      ]
     },
     "execution_count": 19,
     "metadata": {},
     "output_type": "execute_result"
    }
   ],
   "source": [
    "type(df)"
   ]
  },
  {
   "cell_type": "code",
   "execution_count": 39,
   "id": "entitled-crash",
   "metadata": {},
   "outputs": [
    {
     "name": "stdout",
     "output_type": "stream",
     "text": [
      "[  0.     -86.     -87.85   -88.0498 -88.1834 -88.295  -88.3937 -88.483\n",
      " -88.5645 -88.6392 -88.7078 -88.7246 -88.6419 -88.5493 -88.4677 -88.4029\n",
      " -88.3556 -88.3244 -88.3074 -88.2621 -88.1278 -87.9956 -87.8847 -87.799\n",
      " -87.7379 -87.6962 -87.6357 -87.5528 -87.4702 -87.3833 -87.2779 -87.1706\n",
      " -87.0755 -86.9892 -86.854  -86.7109 -86.5836 -86.4808 -86.4052 -86.3561\n",
      " -86.3314 -86.3284 -86.2419 -86.105  -85.9951 -85.9188 -85.8747 -85.8593\n",
      " -85.8685 -85.8937 -85.8505 -85.7543 -85.613  -85.4765 -85.363  -85.2796\n",
      " -85.2278 -85.2052 -85.186  -85.1497 -85.0243 -84.7819 -84.4427 -84.1216\n",
      " -83.8381 -83.5541 -83.3042 -83.1048 -82.9596 -82.8663 -82.8201 -82.8152\n",
      " -82.8455 -82.9055 -82.9901 -83.0789 -83.1336 -83.1757 -83.2233 -83.2847\n",
      " -83.345  -83.3612 -83.3685 -83.3854 -83.4125 -83.4211 -83.4199 -83.4262\n",
      " -83.449  -83.4913 -83.5531 -83.6326 -83.7275 -83.8355 -83.9534 -84.0517\n",
      " -84.1143 -84.0907 -84.0179 -83.9508 -83.9074 -83.8917 -83.903  -83.9385\n",
      " -83.9954 -84.0702 -84.16   -84.262  -84.3738 -84.4933 -84.6185 -84.748\n",
      " -84.8804 -85.0146 -85.1495 -85.2844 -85.4185 -85.5513 -85.6822 -85.8109\n",
      " -85.9369 -86.0601 -86.1801 -86.2969 -86.4102 -86.5199 -86.5993 -86.59\n",
      " -86.5026 -86.3856 -86.2721 -86.1775 -86.1068 -86.0603 -86.0318 -85.9057\n",
      " -85.7201 -85.5338 -85.3677 -85.2306 -85.1249 -85.05   -85.0036 -84.9828\n",
      " -84.9842 -85.0047 -85.0415 -85.0919 -85.1536 -85.2245 -85.3029 -85.3873\n",
      " -85.4763 -85.5688 -85.6639 -85.7606 -85.8584 -85.9565 -86.0544 -86.1516\n",
      " -86.2479 -86.3428 -86.436  -86.5274 -86.6166 -86.7037 -86.7884 -86.8706\n",
      " -86.9503 -87.0275 -87.102  -87.1739 -87.232  -87.2153 -87.0858 -86.8724\n",
      " -86.589  -86.294  -86.022  -85.7865 -85.5785 -85.3676 -85.1673 -84.9939\n",
      " -84.854  -84.7483 -84.675  -84.6308 -84.6122 -84.6157 -84.6381 -84.6766\n",
      " -84.7285 -84.7916 -84.864  -84.9439 -85.0296 -85.0742 -85.0426 -84.8491\n",
      " -84.6078 -84.3793]\n"
     ]
    }
   ],
   "source": [
    "with open(\"Snudda/networks/tinySim/simulation/volt.txt\", 'r') as volt_txt:\n",
    "    volt = volt_txt.readlines()\n",
    "\n",
    "time = np.array(volt[0].split(\",\"),float)\n",
    "volt = volt[1:]\n",
    "volt_2 =[]\n",
    "for i in range(0,len(volt)):\n",
    "    volt_2.append(np.array(volt[i].split(\",\"),float))\n",
    "print(volt_2[0])"
   ]
  },
  {
   "cell_type": "code",
   "execution_count": 17,
   "id": "increased-sunday",
   "metadata": {},
   "outputs": [
    {
     "name": "stdout",
     "output_type": "stream",
     "text": [
      "-\n"
     ]
    }
   ],
   "source": [
    "x =volt[0][0]\n",
    "print(x)"
   ]
  },
  {
   "cell_type": "code",
   "execution_count": 36,
   "id": "unexpected-microphone",
   "metadata": {},
   "outputs": [
    {
     "data": {
      "image/png": "[encoded data removed]",
      "text/plain": [
       "<Figure size 432x288 with 1 Axes>"
      ]
     },
     "metadata": {
      "needs_background": "light"
     },
     "output_type": "display_data"
    }
   ],
   "source": [
    "# Data for plotting\n",
    "fig, ax = plt.subplots()\n",
    "ax.plot(time[1:], volt_2[0][1:])\n",
    "\n",
    "ax.set(xlabel='time (ms)', ylabel='voltage (mV)',\n",
    "       title='About as simple as it gets, folks')\n",
    "ax.grid()\n",
    "\n",
    "fig.savefig(\"test.png\")\n",
    "plt.show()"
   ]
  },
  {
   "cell_type": "code",
   "execution_count": 1,
   "id": "deadly-enclosure",
   "metadata": {},
   "outputs": [
    {
     "name": "stderr",
     "output_type": "stream",
     "text": [
      "Matplotlib created a temporary config/cache directory at /tmp/matplotlib-gz4gr5w6 because the default path (/home/.cache/matplotlib) is not a writable directory; it is highly recommended to set the MPLCONFIGDIR environment variable to a writable directory, in particular to speed up the import of Matplotlib and to better support multiprocessing.\n"
     ]
    },
    {
     "ename": "OSError",
     "evalue": "02-Data Analysis/data/lgn/plain/neuron_06_stimulus_07.csv not found.",
     "output_type": "error",
     "traceback": [
      "\u001b[0;31m---------------------------------------------------------------------------\u001b[0m",
      "\u001b[0;31mOSError\u001b[0m                                   Traceback (most recent call last)",
      "\u001b[0;32m<ipython-input-1-c808afe8fb5f>\u001b[0m in \u001b[0;36m<module>\u001b[0;34m\u001b[0m\n\u001b[1;32m     15\u001b[0m \u001b[0;31m# Create rows of random data with 50 data points simulating rows of spike trains\u001b[0m\u001b[0;34m\u001b[0m\u001b[0;34m\u001b[0m\u001b[0;34m\u001b[0m\u001b[0m\n\u001b[1;32m     16\u001b[0m \u001b[0;34m\u001b[0m\u001b[0m\n\u001b[0;32m---> 17\u001b[0;31m \u001b[0mdata\u001b[0m \u001b[0;34m=\u001b[0m \u001b[0mgenfromtxt\u001b[0m\u001b[0;34m(\u001b[0m\u001b[0;34m'02-Data Analysis/data/lgn/plain/neuron_06_stimulus_07.csv'\u001b[0m\u001b[0;34m,\u001b[0m \u001b[0mdelimiter\u001b[0m\u001b[0;34m=\u001b[0m\u001b[0;34m','\u001b[0m\u001b[0;34m)\u001b[0m\u001b[0;34m\u001b[0m\u001b[0;34m\u001b[0m\u001b[0m\n\u001b[0m\u001b[1;32m     18\u001b[0m \u001b[0mz\u001b[0m\u001b[0;34m=\u001b[0m\u001b[0;36m0\u001b[0m\u001b[0;34m\u001b[0m\u001b[0;34m\u001b[0m\u001b[0m\n\u001b[1;32m     19\u001b[0m \u001b[0mi\u001b[0m\u001b[0;34m=\u001b[0m\u001b[0;36m0\u001b[0m\u001b[0;34m\u001b[0m\u001b[0;34m\u001b[0m\u001b[0m\n",
      "\u001b[0;32m~/for_snudda/lib/python3.6/site-packages/numpy/lib/npyio.py\u001b[0m in \u001b[0;36mgenfromtxt\u001b[0;34m(fname, dtype, comments, delimiter, skip_header, skip_footer, converters, missing_values, filling_values, usecols, names, excludelist, deletechars, replace_space, autostrip, case_sensitive, defaultfmt, unpack, usemask, loose, invalid_raise, max_rows, encoding)\u001b[0m\n\u001b[1;32m   1747\u001b[0m             \u001b[0mfname\u001b[0m \u001b[0;34m=\u001b[0m \u001b[0mos_fspath\u001b[0m\u001b[0;34m(\u001b[0m\u001b[0mfname\u001b[0m\u001b[0;34m)\u001b[0m\u001b[0;34m\u001b[0m\u001b[0;34m\u001b[0m\u001b[0m\n\u001b[1;32m   1748\u001b[0m         \u001b[0;32mif\u001b[0m \u001b[0misinstance\u001b[0m\u001b[0;34m(\u001b[0m\u001b[0mfname\u001b[0m\u001b[0;34m,\u001b[0m \u001b[0mstr\u001b[0m\u001b[0;34m)\u001b[0m\u001b[0;34m:\u001b[0m\u001b[0;34m\u001b[0m\u001b[0;34m\u001b[0m\u001b[0m\n\u001b[0;32m-> 1749\u001b[0;31m             \u001b[0mfid\u001b[0m \u001b[0;34m=\u001b[0m \u001b[0mnp\u001b[0m\u001b[0;34m.\u001b[0m\u001b[0mlib\u001b[0m\u001b[0;34m.\u001b[0m\u001b[0m_datasource\u001b[0m\u001b[0;34m.\u001b[0m\u001b[0mopen\u001b[0m\u001b[0;34m(\u001b[0m\u001b[0mfname\u001b[0m\u001b[0;34m,\u001b[0m \u001b[0;34m'rt'\u001b[0m\u001b[0;34m,\u001b[0m \u001b[0mencoding\u001b[0m\u001b[0;34m=\u001b[0m\u001b[0mencoding\u001b[0m\u001b[0;34m)\u001b[0m\u001b[0;34m\u001b[0m\u001b[0;34m\u001b[0m\u001b[0m\n\u001b[0m\u001b[1;32m   1750\u001b[0m             \u001b[0mfid_ctx\u001b[0m \u001b[0;34m=\u001b[0m \u001b[0mcontextlib\u001b[0m\u001b[0;34m.\u001b[0m\u001b[0mclosing\u001b[0m\u001b[0;34m(\u001b[0m\u001b[0mfid\u001b[0m\u001b[0;34m)\u001b[0m\u001b[0;34m\u001b[0m\u001b[0;34m\u001b[0m\u001b[0m\n\u001b[1;32m   1751\u001b[0m         \u001b[0;32melse\u001b[0m\u001b[0;34m:\u001b[0m\u001b[0;34m\u001b[0m\u001b[0;34m\u001b[0m\u001b[0m\n",
      "\u001b[0;32m~/for_snudda/lib/python3.6/site-packages/numpy/lib/_datasource.py\u001b[0m in \u001b[0;36mopen\u001b[0;34m(path, mode, destpath, encoding, newline)\u001b[0m\n\u001b[1;32m    193\u001b[0m \u001b[0;34m\u001b[0m\u001b[0m\n\u001b[1;32m    194\u001b[0m     \u001b[0mds\u001b[0m \u001b[0;34m=\u001b[0m \u001b[0mDataSource\u001b[0m\u001b[0;34m(\u001b[0m\u001b[0mdestpath\u001b[0m\u001b[0;34m)\u001b[0m\u001b[0;34m\u001b[0m\u001b[0;34m\u001b[0m\u001b[0m\n\u001b[0;32m--> 195\u001b[0;31m     \u001b[0;32mreturn\u001b[0m \u001b[0mds\u001b[0m\u001b[0;34m.\u001b[0m\u001b[0mopen\u001b[0m\u001b[0;34m(\u001b[0m\u001b[0mpath\u001b[0m\u001b[0;34m,\u001b[0m \u001b[0mmode\u001b[0m\u001b[0;34m,\u001b[0m \u001b[0mencoding\u001b[0m\u001b[0;34m=\u001b[0m\u001b[0mencoding\u001b[0m\u001b[0;34m,\u001b[0m \u001b[0mnewline\u001b[0m\u001b[0;34m=\u001b[0m\u001b[0mnewline\u001b[0m\u001b[0;34m)\u001b[0m\u001b[0;34m\u001b[0m\u001b[0;34m\u001b[0m\u001b[0m\n\u001b[0m\u001b[1;32m    196\u001b[0m \u001b[0;34m\u001b[0m\u001b[0m\n\u001b[1;32m    197\u001b[0m \u001b[0;34m\u001b[0m\u001b[0m\n",
      "\u001b[0;32m~/for_snudda/lib/python3.6/site-packages/numpy/lib/_datasource.py\u001b[0m in \u001b[0;36mopen\u001b[0;34m(self, path, mode, encoding, newline)\u001b[0m\n\u001b[1;32m    533\u001b[0m                                       encoding=encoding, newline=newline)\n\u001b[1;32m    534\u001b[0m         \u001b[0;32melse\u001b[0m\u001b[0;34m:\u001b[0m\u001b[0;34m\u001b[0m\u001b[0;34m\u001b[0m\u001b[0m\n\u001b[0;32m--> 535\u001b[0;31m             \u001b[0;32mraise\u001b[0m \u001b[0mIOError\u001b[0m\u001b[0;34m(\u001b[0m\u001b[0;34m\"%s not found.\"\u001b[0m \u001b[0;34m%\u001b[0m \u001b[0mpath\u001b[0m\u001b[0;34m)\u001b[0m\u001b[0;34m\u001b[0m\u001b[0;34m\u001b[0m\u001b[0m\n\u001b[0m\u001b[1;32m    536\u001b[0m \u001b[0;34m\u001b[0m\u001b[0m\n\u001b[1;32m    537\u001b[0m \u001b[0;34m\u001b[0m\u001b[0m\n",
      "\u001b[0;31mOSError\u001b[0m: 02-Data Analysis/data/lgn/plain/neuron_06_stimulus_07.csv not found."
     ]
    }
   ],
   "source": [
    "import matplotlib.pyplot as plt\n",
    "\n",
    "import numpy as np\n",
    "\n",
    "from numpy import genfromtxt\n",
    "#genfromtxt('my_file.csv', delimiter=',')\n",
    " \n",
    "\n",
    "# Set the random seed for data generation\n",
    "\n",
    "np.random.seed(2)\n",
    "\n",
    " \n",
    "\n",
    "# Create rows of random data with 50 data points simulating rows of spike trains\n",
    "\n",
    "data = genfromtxt('02-Data Analysis/data/lgn/plain/neuron_06_stimulus_07.csv', delimiter=',')\n",
    "z=0\n",
    "i=0\n",
    "j=0\n",
    "for i in range(10):\n",
    "    for j in range(4500):\n",
    "        if(data[i,j] == 1):\n",
    "            x1 = [i,i+0.5]\n",
    "            x2 = [j,j]\n",
    "            plt.plot(x2,x1,color = 'black')\n",
    "        else:\n",
    "            z= z+1\n",
    "# # Provide the title for the spike raster plot\n",
    "plt.title('raster plot Neuron-5-Stimulus-7')\n",
    "# # Give x axis label for the spike raster plot\n",
    "fig = plt.gcf()\n",
    "fig.set_size_inches(18.5, 10.5)\n",
    "fig.savefig('test1png.png', dpi=100)\n",
    "# # Give y axis label for the spike raster plot\n",
    "plt.ylabel('trial')\n",
    "# # Display the spike raster plot\n",
    "plt.show()\n"
   ]
  },
  {
   "cell_type": "code",
   "execution_count": 12,
   "id": "excited-capacity",
   "metadata": {},
   "outputs": [
    {
     "data": {
      "image/png": "[encoded data removed]",
      "text/plain": [
       "<Figure size 432x288 with 1 Axes>"
      ]
     },
     "metadata": {
      "needs_background": "light"
     },
     "output_type": "display_data"
    }
   ],
   "source": [
    "xspikes = [[0.2,0.5],[0.2,0.5],[0.2,0.5]]\n",
    "yspikes = [[1,2],[1,2],[0,0]]\n",
    "\n",
    "plt.plot(xspikes, yspikes)\n",
    "plt.show()"
   ]
  },
  {
   "cell_type": "code",
   "execution_count": null,
   "id": "proved-healing",
   "metadata": {},
   "outputs": [],
   "source": []
  }
 ],
 "metadata": {
  "kernelspec": {
   "display_name": "for_snudda",
   "language": "python",
   "name": "for_snudda"
  },
  "language_info": {
   "codemirror_mode": {
    "name": "ipython",
    "version": 3
   },
   "file_extension": ".py",
   "mimetype": "text/x-python",
   "name": "python",
   "nbconvert_exporter": "python",
   "pygments_lexer": "ipython3",
   "version": "3.6.9"
  }
 },
 "nbformat": 4,
 "nbformat_minor": 5
}
