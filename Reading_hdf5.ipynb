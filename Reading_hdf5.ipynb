{
 "cells": [
  {
   "cell_type": "code",
   "execution_count": 52,
   "id": "applied-release",
   "metadata": {},
   "outputs": [],
   "source": [
    "import numpy as np\n",
    "import h5py"
   ]
  },
  {
   "cell_type": "code",
   "execution_count": 53,
   "id": "ultimate-colombia",
   "metadata": {},
   "outputs": [
    {
     "name": "stdout",
     "output_type": "stream",
     "text": [
      "Items on root : [('meta', <HDF5 group \"/meta\" (2 members)>), ('network', <HDF5 group \"/network\" (1 members)>)]\n",
      "Items on meta : [('config', <HDF5 dataset \"config\": shape (), type \"|O\">), ('configFile', <HDF5 dataset \"configFile\": shape (), type \"|O\">)]\n",
      "Items on network : [('neurons', <HDF5 group \"/network/neurons\" (19 members)>)]\n",
      "Items on neurons : [('axonDensity', <HDF5 dataset \"axonDensity\": shape (99,), type \"|S245\">), ('axonDensityBoundsXYZ', <HDF5 dataset \"axonDensityBoundsXYZ\": shape (99, 6), type \"<f8\">), ('axonDensityRadius', <HDF5 dataset \"axonDensityRadius\": shape (99,), type \"<f8\">), ('axonDensityType', <HDF5 dataset \"axonDensityType\": shape (99,), type \"|S3\">), ('channelID', <HDF5 dataset \"channelID\": shape (99,), type \"<i8\">), ('channelMethod', <HDF5 dataset \"channelMethod\": shape (), type \"|O\">), ('hoc', <HDF5 dataset \"hoc\": shape (99,), type \"|S10\">), ('maxAxonRadius', <HDF5 dataset \"maxAxonRadius\": shape (99,), type \"<f8\">), ('maxDendRadius', <HDF5 dataset \"maxDendRadius\": shape (99,), type \"<f8\">), ('modulationID', <HDF5 dataset \"modulationID\": shape (99,), type \"<i8\">), ('morphology', <HDF5 dataset \"morphology\": shape (99,), type \"|S207\">), ('nChannels', <HDF5 dataset \"nChannels\": shape (), type \"<i8\">), ('name', <HDF5 dataset \"name\": shape (99,), type \"|S6\">), ('neuronID', <HDF5 dataset \"neuronID\": shape (99,), type \"<i8\">), ('parameterID', <HDF5 dataset \"parameterID\": shape (99,), type \"<i8\">), ('position', <HDF5 dataset \"position\": shape (99, 3), type \"<f8\">), ('rotation', <HDF5 dataset \"rotation\": shape (99, 9), type \"<f8\">), ('virtualNeuron', <HDF5 dataset \"virtualNeuron\": shape (99,), type \"|b1\">), ('volumeID', <HDF5 dataset \"volumeID\": shape (99,), type \"|S8\">)]\n"
     ]
    }
   ],
   "source": [
    "with h5py.File('Snudda/networks/tinySim/network-neuron-positions.hdf5', 'r') as hdf5:\n",
    "    base_items = list(hdf5.items())\n",
    "    print(\"Items on root :\", base_items)\n",
    "    meta = hdf5.get('meta')\n",
    "    meta_items = list(meta.items())\n",
    "    print(\"Items on meta :\", meta_items)\n",
    "    network = hdf5.get('network')\n",
    "    network_items = list(network.items())\n",
    "    print(\"Items on network :\", network_items)\n",
    "    neurons = network.get('neurons')\n",
    "    neurons_items = list(neurons.items())\n",
    "    print(\"Items on neurons :\", neurons_items)\n",
    "    neuronID = np.array(neurons.get('neuronID'))\n",
    "    neuron_type = np.array(neurons.get('morphology'))"
   ]
  },
  {
   "cell_type": "code",
   "execution_count": 77,
   "id": "controversial-appreciation",
   "metadata": {},
   "outputs": [
    {
     "name": "stdout",
     "output_type": "stream",
     "text": [
      "|S207\n",
      "b'/mnt/user/drive/Shared with groups/BasalGanglia-Reproducible/Snudda/snudda/data/cellspecs-v2/dspn/str-dspn-e150602_c1_D1-mWT-0728MSN01-v20190508/WT-0728MSN01-cor-rep-ax.swc'\n",
      "<class 'str'>\n",
      "['dspn', 'dspn', 'dspn', 'dspn', 'ispn', 'dspn', 'ispn', 'ispn', 'dspn', 'ispn', 'ispn', 'ispn', 'dspn', 'ispn', 'dspn', 'dspn', 'ispn', 'ispn', 'dspn', 'dspn', 'dspn', 'ispn', 'dspn', 'ispn', 'dspn', 'ispn', 'ispn', 'ispn', 'dspn', 'ispn', 'dspn', 'ispn', 'ispn', 'dspn', 'dspn', 'dspn', 'dspn', 'dspn', 'ispn', 'dspn', 'ispn', 'ispn', 'ispn', 'ispn', 'ispn', 'ispn', 'dspn', 'dspn', 'ispn', 'ispn', 'dspn', 'chin', 'ispn', 'ispn', 'ispn', 'dspn', 'dspn', 'dspn', 'ispn', 'dspn', 'ispn', 'dspn', 'ispn', 'ispn', 'dspn', 'dspn', 'lts', 'ispn', 'ispn', 'dspn', 'dspn', 'dspn', 'ispn', 'dspn', 'ispn', 'dspn', 'fs', 'dspn', 'dspn', 'ispn', 'dspn', 'dspn', 'dspn', 'dspn', 'ispn', 'ispn', 'dspn', 'dspn', 'dspn', 'ispn', 'ispn', 'dspn', 'ispn', 'ispn', 'dspn', 'ispn', 'ispn', 'ispn', 'ispn']\n",
      "<class 'str'>\n"
     ]
    }
   ],
   "source": [
    "neuron_type2 = []\n",
    "\n",
    "for i in range (0, neuron_type.size) :\n",
    "    neuron_type2.append(str(neuron_type[i]))\n",
    "    \n",
    "print(type(neuron_type2[0]))\n",
    "\n",
    "for i in range (0, len(neuron_type2)):\n",
    "    if \"dspn\" in neuron_type2[i]:\n",
    "        neuron_type2[i] = \"dspn\"\n",
    "    elif ('ispn' in neuron_type2[i]) :\n",
    "        neuron_type2[i] = \"ispn\"\n",
    "    elif 'lts' in neuron_type2[i] :\n",
    "        neuron_type2[i] = \"lts\"\n",
    "    elif 'fs' in neuron_type2[i] :\n",
    "        neuron_type2[i] = \"fs\"\n",
    "    elif 'chin' in neuron_type2[i] :\n",
    "        neuron_type2[i] = \"chin\"\n",
    "print(neuron_type2)\n",
    "\n"
   ]
  },
  {
   "cell_type": "code",
   "execution_count": 79,
   "id": "everyday-baghdad",
   "metadata": {},
   "outputs": [
    {
     "name": "stdout",
     "output_type": "stream",
     "text": [
      "    neuronID neuron_type\n",
      "0          0        dspn\n",
      "1          1        dspn\n",
      "2          2        dspn\n",
      "3          3        dspn\n",
      "4          4        ispn\n",
      "..       ...         ...\n",
      "94        94        dspn\n",
      "95        95        ispn\n",
      "96        96        ispn\n",
      "97        97        ispn\n",
      "98        98        ispn\n",
      "\n",
      "[99 rows x 2 columns]\n"
     ]
    },
    {
     "data": {
      "text/plain": [
       "<AxesSubplot:ylabel='neuron_type'>"
      ]
     },
     "execution_count": 79,
     "metadata": {},
     "output_type": "execute_result"
    },
    {
     "data": {
      "image/png": "[encoded data removed]",
      "text/plain": [
       "<Figure size 432x288 with 1 Axes>"
      ]
     },
     "metadata": {},
     "output_type": "display_data"
    }
   ],
   "source": [
    "import pandas as pd\n",
    "import matplotlib\n",
    "\n",
    "d = {'neuronID': neuronID, 'neuron_type': neuron_type2}\n",
    "df = pd.DataFrame(data=d)\n",
    "print(df)\n",
    "df['neuron_type'].value_counts().plot(kind='pie')\n"
   ]
  },
  {
   "cell_type": "code",
   "execution_count": 108,
   "id": "organized-university",
   "metadata": {},
   "outputs": [
    {
     "name": "stdout",
     "output_type": "stream",
     "text": [
      "Items on root : [('config', <HDF5 dataset \"config\": shape (), type \"|O\">), ('meta', <HDF5 group \"/meta\" (11 members)>), ('morphologies', <HDF5 group \"/morphologies\" (11 members)>), ('network', <HDF5 group \"/network\" (5 members)>)]\n",
      "Items on network : [('gapJunctions', <HDF5 dataset \"gapJunctions\": shape (10000, 11), type \"<i4\">), ('nGapJunctions', <HDF5 dataset \"nGapJunctions\": shape (1,), type \"<u8\">), ('nSynapses', <HDF5 dataset \"nSynapses\": shape (1,), type \"<u8\">), ('neurons', <HDF5 group \"/network/neurons\" (19 members)>), ('synapses', <HDF5 dataset \"synapses\": shape (6879, 13), type \"<i4\">)]\n",
      "<HDF5 dataset \"synapses\": shape (6879, 13), type \"<i4\">\n"
     ]
    }
   ],
   "source": [
    "with h5py.File('Snudda/networks/tinySim/network-pruned-synapses.hdf5', 'r') as file:\n",
    "    base_items = list(file.items())\n",
    "    print(\"Items on root :\", base_items)\n",
    "  #  meta = hdf5.get('meta')\n",
    "  #  meta_items = list(meta.items())\n",
    "  #  print(\"Items on meta :\", meta_items)\n",
    "    network = file.get('network')\n",
    "    network_items = list(network.items())\n",
    "    print(\"Items on network :\", network_items)\n",
    "#    synapses = network.get('synapses')\n",
    "    synapses_1 = (network.get('synapses'))\n",
    "    print(synapses_1)\n",
    "\n",
    "    #neuronID = np.array(neurons.get('neuronID'))\n",
    "    #neuron_type = np.array(neurons.get('morphology')\n",
    "#   synapses = pd.read_hdf('Snudda/networks/tinySim/network-pruned-synapses.hdf5')"
   ]
  },
  {
   "cell_type": "code",
   "execution_count": 101,
   "id": "adverse-institution",
   "metadata": {},
   "outputs": [],
   "source": [
    "df = pd.HDFStore('Snudda/networks/tinySim/network-pruned-synapses.hdf5',mode='r')\n"
   ]
  },
  {
   "cell_type": "code",
   "execution_count": 86,
   "id": "synthetic-adams",
   "metadata": {},
   "outputs": [
    {
     "name": "stdout",
     "output_type": "stream",
     "text": [
      "      0   1    2    3    4   5   6    7    8   9    10   11      12\n",
      "0      2   0  113  147  145  26  14  157   45  56   32  365  258226\n",
      "1      2   0  114  166  155  26  14  236  109  50  522  239  214419\n",
      "2      2   0  129  132  155  26  14  196   78  29  610  136  988025\n",
      "3      4   0  114  145  131  26  17  201   28   9   89  250   97737\n",
      "4      4   0  117  161  153  26  17  165   89  49  471   44  276685\n",
      "...   ..  ..  ...  ...  ...  ..  ..  ...  ...  ..  ...  ...     ...\n",
      "6874  82  98  146  113  164  26  15  211  170  31  860  290  950989\n",
      "6875  95  98  136  117  175  26  18  210  145  12  463  169  869030\n",
      "6876  95  98  144  116  166  26  18  214  197  30  956  362  822703\n",
      "6877  95  98  145  113  164  26  18  171  172  31  879  436  466222\n",
      "6878  95  98  162  136  156  26  18  151   80  25  383  111  553666\n",
      "\n",
      "[6879 rows x 13 columns]\n"
     ]
    }
   ],
   "source": [
    "print(df)"
   ]
  },
  {
   "cell_type": "code",
   "execution_count": 107,
   "id": "surgical-lobby",
   "metadata": {},
   "outputs": [
    {
     "data": {
      "text/plain": [
       "pandas.io.pytables.HDFStore"
      ]
     },
     "execution_count": 107,
     "metadata": {},
     "output_type": "execute_result"
    }
   ],
   "source": [
    "type(df)"
   ]
  },
  {
   "cell_type": "code",
   "execution_count": null,
   "id": "italian-territory",
   "metadata": {},
   "outputs": [],
   "source": []
  }
 ],
 "metadata": {
  "kernelspec": {
   "display_name": "for_snudda",
   "language": "python",
   "name": "for_snudda"
  },
  "language_info": {
   "codemirror_mode": {
    "name": "ipython",
    "version": 3
   },
   "file_extension": ".py",
   "mimetype": "text/x-python",
   "name": "python",
   "nbconvert_exporter": "python",
   "pygments_lexer": "ipython3",
   "version": "3.6.9"
  }
 },
 "nbformat": 4,
 "nbformat_minor": 5
}
