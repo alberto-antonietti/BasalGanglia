{
 "cells": [
  {
   "cell_type": "code",
   "execution_count": 3,
   "id": "wanted-kingdom",
   "metadata": {},
   "outputs": [],
   "source": [
    "import numpy as np\n",
    "import h5py\n",
    "import pandas as pd\n",
    "import matplotlib\n",
    "import matplotlib.pyplot as plt\n"
   ]
  },
  {
   "cell_type": "code",
   "execution_count": 33,
   "id": "adopted-hands",
   "metadata": {},
   "outputs": [],
   "source": [
    "def plotNeuronalDistribution(path):\n",
    "    '''\n",
    "    Given the path to a network folder 'Snudda/networks/XXXXX'\n",
    "    Plots 2 pie charts representing the neuron type distribution\n",
    "    \n",
    "    '''\n",
    "    \n",
    "    file_path = path + '/network-neuron-positions.hdf5'\n",
    "    \n",
    "    with h5py.File(file_path, 'r') as file:\n",
    "        neurons = (file.get('network')).get('neurons')\n",
    "        neuronID = np.array(neurons.get('neuronID'))\n",
    "        morphology = np.array(neurons.get('morphology'))\n",
    "    \n",
    "\n",
    "    neuron_type = []\n",
    "\n",
    "    for i in range (0, morphology.size) :\n",
    "        neuron_type.append(str(morphology[i]))\n",
    "\n",
    "#maybe this loop can be erased, if it is going to make the process lengthy (finding and replacing every neuron).\n",
    "#we can leave the neuron_type as is, with the long doc path, and just change the name at the end, for printing\n",
    "    for i in range (0, len(neuron_type)):\n",
    "        if \"dspn\" in neuron_type[i]:\n",
    "            neuron_type[i] = \"DSPN\"\n",
    "        elif ('ispn' in neuron_type[i]) :\n",
    "            neuron_type[i] = \"ISPN\"\n",
    "        elif 'lts' in neuron_type[i] :\n",
    "            neuron_type[i] = \"LTS\"\n",
    "        elif 'fs' in neuron_type[i] :\n",
    "            neuron_type[i] = \"FS\"\n",
    "        elif 'chin' in neuron_type[i] :\n",
    "            neuron_type[i] = \"ChIN\"\n",
    "            \n",
    "    structure_df = {'neuronID': neuronID, 'neuron_type': neuron_type}\n",
    "    df = pd.DataFrame(data=structure_df)\n",
    "    cond = (df['neuron_type'] == 'LTS') | (df['neuron_type'] == 'FS') | (df['neuron_type'] == 'ChIN')\n",
    "    \n",
    "    #df.mask(cond,'Interneurons')['neuron_type'].value_counts().plot(kind='pie').plot(kind='pie')\n",
    "       \n",
    "    #i tried to make this plot in one line only but didnt figure out how\n",
    "    df_interneurons = df[cond]\n",
    "    #df_interneurons['neuron_type'].value_counts().plot(kind='pie')\n",
    "    \n",
    "\n",
    "    fig = plt.figure()\n",
    "\n",
    "    ax = fig.add_subplot(1,2,1) # 2,1,1 means: 2:two rows, 1: one column, 1: first plot\n",
    "    graph_1 = df.mask(cond,'Interneurons')['neuron_type'].value_counts().plot(kind='pie').plot(kind='pie')\n",
    "\n",
    "    ax2 = fig.add_subplot(1,2,2) # 2,1,2 means: 2:two rows, 1: one column, 1: second plot\n",
    "    graph_2 = df_interneurons['neuron_type'].value_counts().plot(kind='pie')\n",
    "    return()"
   ]
  },
  {
   "cell_type": "code",
   "execution_count": 34,
   "id": "dangerous-brand",
   "metadata": {},
   "outputs": [
    {
     "data": {
      "text/plain": [
       "()"
      ]
     },
     "execution_count": 34,
     "metadata": {},
     "output_type": "execute_result"
    },
    {
     "data": {
      "image/png": "[encoded data removed]",
      "text/plain": [
       "<Figure size 432x288 with 2 Axes>"
      ]
     },
     "metadata": {},
     "output_type": "display_data"
    }
   ],
   "source": [
    "plotNeuronalDistribution('Snudda/networks/tinySim')"
   ]
  },
  {
   "cell_type": "code",
   "execution_count": null,
   "id": "arranged-alignment",
   "metadata": {},
   "outputs": [],
   "source": [
    "def plotTraces(path):\n",
    "    '''\n",
    "    Given the path to a network folder 'Snudda/networks/XXXXX'\n",
    "    Plots the traces of randomly selected neurons of each type\n",
    "    \n",
    "    '''\n",
    "    \n",
    "    file_path = path + '/simulation/volt.txt'\n",
    "    \n",
    "    with open(file_path, 'r') as file:\n",
    "        volt = file.readlines()\n",
    "\n",
    "    time = np.array(volt[0].split(\",\"),float)\n",
    "    volt = volt[1:]\n",
    "    volt_2 =[]\n",
    "    for i in range(0,len(volt)):\n",
    "        volt_2.append(np.array(volt[i].split(\",\"),float))\n",
    "    print(volt_2[0])\n",
    "\n",
    "    fig = plt.figure()\n",
    "\n",
    "    ax = fig.add_subplot(1,2,1) # 2,1,1 means: 2:two rows, 1: one column, 1: first plot\n",
    "    graph_1 = df.mask(cond,'Interneurons')['neuron_type'].value_counts().plot(kind='pie').plot(kind='pie')\n",
    "\n",
    "    ax2 = fig.add_subplot(1,2,2) # 2,1,2 means: 2:two rows, 1: one column, 1: second plot\n",
    "    graph_2 = df_interneurons['neuron_type'].value_counts().plot(kind='pie')\n",
    "    return()"
   ]
  },
  {
   "cell_type": "code",
   "execution_count": null,
   "id": "norwegian-purse",
   "metadata": {},
   "outputs": [],
   "source": [
    "def plotRaster(path):\n",
    "    '''\n",
    "    Given the path to a network folder 'Snudda/networks/XXXXX'\n",
    "    Plots the traces of randomly selected neurons of each type\n",
    "    \n",
    "    '''\n",
    "    \n",
    "    file = path + '/simulation/network-output-spikes-666.txt'\n",
    "    \n",
    "    with open(\"Snudda/networks/tinySim/simulation/volt.txt\", 'r') as volt_txt:\n",
    "        volt = volt_txt.readlines()\n",
    "\n",
    "    time = np.array(volt[0].split(\",\"),float)\n",
    "    volt = volt[1:]\n",
    "    volt_2 =[]\n",
    "    for i in range(0,len(volt)):\n",
    "        volt_2.append(np.array(volt[i].split(\",\"),float))\n",
    "    print(volt_2[0])\n",
    "\n",
    "    fig = plt.figure()\n",
    "\n",
    "    ax = fig.add_subplot(1,2,1) # 2,1,1 means: 2:two rows, 1: one column, 1: first plot\n",
    "    graph_1 = df.mask(cond,'Interneurons')['neuron_type'].value_counts().plot(kind='pie').plot(kind='pie')\n",
    "\n",
    "    ax2 = fig.add_subplot(1,2,2) # 2,1,2 means: 2:two rows, 1: one column, 1: second plot\n",
    "    graph_2 = df_interneurons['neuron_type'].value_counts().plot(kind='pie')\n",
    "    return()"
   ]
  }
 ],
 "metadata": {
  "kernelspec": {
   "display_name": "Python 3",
   "language": "python",
   "name": "python3"
  },
  "language_info": {
   "codemirror_mode": {
    "name": "ipython",
    "version": 3
   },
   "file_extension": ".py",
   "mimetype": "text/x-python",
   "name": "python",
   "nbconvert_exporter": "python",
   "pygments_lexer": "ipython3",
   "version": "3.6.9"
  }
 },
 "nbformat": 4,
 "nbformat_minor": 5
}
