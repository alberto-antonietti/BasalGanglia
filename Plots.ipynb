{
 "cells": [
  {
   "cell_type": "code",
   "execution_count": 1,
   "id": "floppy-speaker",
   "metadata": {},
   "outputs": [],
   "source": [
    "import numpy as np\n",
    "import h5py\n",
    "import pandas as pd\n",
    "import matplotlib"
   ]
  },
  {
   "cell_type": "code",
   "execution_count": 4,
   "id": "loving-touch",
   "metadata": {},
   "outputs": [],
   "source": [
    "with h5py.File('Snudda/networks/tinySim/network-neuron-positions.hdf5', 'r') as hdf5:\n",
    "    meta = hdf5.get('meta')\n",
    "    network = hdf5.get('network')\n",
    "    neurons = network.get('neurons')\n",
    "    neuronID = np.array(neurons.get('neuronID'))\n",
    "    morphology = np.array(neurons.get('morphology'))\n",
    "    \n",
    "\n",
    "    neuron_type = []\n",
    "\n",
    "for i in range (0, morphology.size) :\n",
    "    neuron_type.append(str(morphology[i]))\n",
    "    \n",
    "for i in range (0, len(neuron_type)):\n",
    "    if \"dspn\" in neuron_type[i]:\n",
    "        neuron_type[i] = \"DSPN\"\n",
    "    elif ('ispn' in neuron_type[i]) :\n",
    "        neuron_type[i] = \"ISPN\"\n",
    "    elif 'lts' in neuron_type[i] :\n",
    "        neuron_type[i] = \"LTS\"\n",
    "    elif 'fs' in neuron_type[i] :\n",
    "        neuron_type[i] = \"FS\"\n",
    "    elif 'chin' in neuron_type[i] :\n",
    "        neuron_type[i] = \"ChIN\""
   ]
  },
  {
   "cell_type": "code",
   "execution_count": 7,
   "id": "legislative-facing",
   "metadata": {},
   "outputs": [
    {
     "name": "stdout",
     "output_type": "stream",
     "text": [
      "    neuronID neuron_type\n",
      "0          0        DSPN\n",
      "1          1        DSPN\n",
      "2          2        DSPN\n",
      "3          3        DSPN\n",
      "4          4        ISPN\n",
      "..       ...         ...\n",
      "94        94        DSPN\n",
      "95        95        ISPN\n",
      "96        96        ISPN\n",
      "97        97        ISPN\n",
      "98        98        ISPN\n",
      "\n",
      "[99 rows x 2 columns]\n"
     ]
    },
    {
     "data": {
      "text/plain": [
       "<AxesSubplot:ylabel='neuron_type'>"
      ]
     },
     "execution_count": 7,
     "metadata": {},
     "output_type": "execute_result"
    },
    {
     "data": {
      "image/png": "[encoded data removed]",
      "text/plain": [
       "<Figure size 432x288 with 1 Axes>"
      ]
     },
     "metadata": {},
     "output_type": "display_data"
    }
   ],
   "source": [
    "structure_df = {'neuronID': neuronID, 'neuron_type': neuron_type}\n",
    "df = pd.DataFrame(data=structure_df)\n",
    "print(df)\n",
    "df['neuron_type'].value_counts().plot(kind='pie')\n"
   ]
  },
  {
   "cell_type": "code",
   "execution_count": null,
   "id": "musical-satisfaction",
   "metadata": {},
   "outputs": [],
   "source": []
  },
  {
   "cell_type": "code",
   "execution_count": null,
   "id": "textile-conditions",
   "metadata": {},
   "outputs": [],
   "source": []
  }
 ],
 "metadata": {
  "kernelspec": {
   "display_name": "for_snudda",
   "language": "python",
   "name": "for_snudda"
  },
  "language_info": {
   "codemirror_mode": {
    "name": "ipython",
    "version": 3
   },
   "file_extension": ".py",
   "mimetype": "text/x-python",
   "name": "python",
   "nbconvert_exporter": "python",
   "pygments_lexer": "ipython3",
   "version": "3.6.9"
  }
 },
 "nbformat": 4,
 "nbformat_minor": 5
}
