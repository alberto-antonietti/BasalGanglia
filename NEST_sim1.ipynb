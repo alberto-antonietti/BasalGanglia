{
 "cells": [
  {
   "cell_type": "markdown",
   "id": "0f53cdd6-1d0b-4d4a-9b57-479ddd839bdb",
   "metadata": {},
   "source": [
    "STEP BY STEP OF NEST SIMULATION\n",
    "1) IMPORTING RELEVANT DATA FROM SNUDDA GENERATED NEURON FILES:\\\n",
    "    a. Neuron Matrix: to keep the info of neuron types \\\n",
    "    b. Synaptic Matrix: Where each row has the info of [preID, posID] of one synapse \\\n",
    "    for now every synapse will have the same properties, no matter the types of neurons\n",
    "    c*. (optional/not really relevant) Positions: matrix with coordinates for each neuron position\\\n",
    "    {d.Info about the input given to the neurons }\n",
    "2) CREATING THE NEST NETWORK \\\n",
    "    a. Create the neurons (the correct # of neurons, in their posiiton*)\\\n",
    "    b. Connect the neurons (for loop with Synaptic Matrix as info)\\\n",
    "    {... Connect the measuring devices to the neurons in order to observe spiking and voltage. Feed the input, run the sim}\n",
    "    "
   ]
  },
  {
   "cell_type": "code",
   "execution_count": null,
   "id": "d8777fd1-29da-4ca2-a674-2e6fd5b5d355",
   "metadata": {},
   "outputs": [],
   "source": [
    "import nest\n",
    "from getData import *\n",
    "from plot import *"
   ]
  },
  {
   "cell_type": "code",
   "execution_count": null,
   "id": "00adf908-bae4-4d20-9e01-2d2cf9e084c9",
   "metadata": {},
   "outputs": [],
   "source": [
    "positions_list = getNeuronPositions('/home/ubuntu/BasalGanglia/NEURON-data/net_100/network-neuron-positions.hdf5')\n"
   ]
  },
  {
   "cell_type": "code",
   "execution_count": null,
   "id": "ccc8d85d-a09d-428d-aeb5-23ae3ffe47af",
   "metadata": {},
   "outputs": [],
   "source": [
    "pos = nest.spatial.free(positions_list) # using NEURON positions\n",
    "s_nodes = nest.Create(\"iaf_cond_alpha\", 99, positions=pos)\n"
   ]
  },
  {
   "cell_type": "code",
   "execution_count": null,
   "id": "d5b32fa5-c60e-493b-ac06-8d986e640933",
   "metadata": {},
   "outputs": [],
   "source": [
    "#def getSynapses(path):\n",
    "    \n",
    "with h5py.File('/home/ubuntu/BasalGanglia/NEURON-data/net_100/network-pruned-synapses.hdf5', 'r') as file:\n",
    "    synapses = file.get('network').get('synapses')\n",
    "\n",
    "    synaptic_matrix = []\n",
    "    for i in range(0,len(synapses)):\n",
    "        synaptic_matrix.append([synapses[i][0], synapses[i][1]]) #Pre_ID | Pos_ID\n",
    "\n",
    "#    return(synaptic_matrix)  \n",
    "\n",
    "for i in range(0,len(synaptic_matrix)):\n",
    "    nest.Connect(synaptic_matrix[i][0],synaptic_matrix[i][1])\n",
    "    \n"
   ]
  },
  {
   "cell_type": "code",
   "execution_count": null,
   "id": "43bb3e11-5db0-456e-8cda-435fda109fd5",
   "metadata": {},
   "outputs": [],
   "source": [
    "nest.GetStatus(s_nodes)"
   ]
  },
  {
   "cell_type": "code",
   "execution_count": null,
   "id": "ef58bd26-53ef-4f21-bc1d-7ed53b42f5e0",
   "metadata": {},
   "outputs": [],
   "source": [
    "pre_list = []\n",
    "pos_list = []\n",
    "\n",
    "for i in range(0,len(synaptic_matrix)):\n",
    "    pre_list.append(synaptic_matrix[i][0])\n",
    "    pos_list.append(synaptic_matrix[i][1])\n"
   ]
  },
  {
   "cell_type": "code",
   "execution_count": null,
   "id": "04d0f50b-f81e-46ab-8254-4e374ae47313",
   "metadata": {},
   "outputs": [],
   "source": [
    "nest.Connect(pre_list,pos_list,conn_spec= \"one_to_one\")"
   ]
  },
  {
   "cell_type": "code",
   "execution_count": null,
   "id": "3a4b5c48-a99f-4531-9b9b-0a0d6259093a",
   "metadata": {},
   "outputs": [],
   "source": [
    "import matplotlib.pyplot as plt\n",
    "\n",
    "fig1 = PlotLayer(layer1, nodesize=50)\n",
    "\n",
    "plt.savefig('layer.png', bbox_inches='tight')"
   ]
  },
  {
   "cell_type": "code",
   "execution_count": null,
   "id": "f80c0511-2a97-4fee-a8a1-38a1e793d59e",
   "metadata": {},
   "outputs": [],
   "source": [
    "nest.help('iaf_cond_alpha')"
   ]
  },
  {
   "cell_type": "code",
   "execution_count": null,
   "id": "a57c4380-c642-42a7-ac17-7b0efe4ca204",
   "metadata": {},
   "outputs": [],
   "source": [
    "help(nest.Connect)"
   ]
  },
  {
   "cell_type": "code",
   "execution_count": null,
   "id": "a5b187b8-d442-4697-ac8e-2cba6fb1b528",
   "metadata": {},
   "outputs": [],
   "source": [
    "neuron1 = nest.Create('iaf_cond_alpha')\n",
    "nest.GetStatus(neuron1)"
   ]
  },
  {
   "cell_type": "code",
   "execution_count": null,
   "id": "d412269b-e2f0-4739-bc5d-436d108b5782",
   "metadata": {},
   "outputs": [],
   "source": []
  }
 ],
 "metadata": {
  "kernelspec": {
   "display_name": "Python 3",
   "language": "python",
   "name": "python3"
  },
  "language_info": {
   "codemirror_mode": {
    "name": "ipython",
    "version": 3
   },
   "file_extension": ".py",
   "mimetype": "text/x-python",
   "name": "python",
   "nbconvert_exporter": "python",
   "pygments_lexer": "ipython3",
   "version": "3.8.10"
  }
 },
 "nbformat": 4,
 "nbformat_minor": 5
}
