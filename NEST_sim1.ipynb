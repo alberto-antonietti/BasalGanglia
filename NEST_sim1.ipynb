{
 "cells": [
  {
   "cell_type": "markdown",
   "id": "0f53cdd6-1d0b-4d4a-9b57-479ddd839bdb",
   "metadata": {},
   "source": [
    "STEP BY STEP OF NEST SIMULATION\n",
    "1) IMPORTING RELEVANT DATA FROM SNUDDA GENERATED NEURON FILES:\\\n",
    "    a. Neuron Matrix: to keep the info of neuron types \\\n",
    "    b. Synaptic Matrix: Where each row has the info of [preID, posID] of one synapse \\\n",
    "    for now every synapse will have the same properties, no matter the types of neurons\\\n",
    "    (later we can add more info on this matrix that will help set the type of synapses used for each)\\\n",
    "    c*. (optional/not really relevant but already available) Positions: matrix with coordinates for each neuron position\\\n",
    "    d.Info about the input given to the neurons\n",
    "2) CREATING THE NEST NETWORK \\\n",
    "    a. Create the neurons (the correct # of neurons, in their posiiton*)\\\n",
    "    b. Connect the neurons (for loop with Synaptic Matrix as info)\\\n",
    "    c. Connect the measuring devices to the neurons in order to observe spiking and voltage \\\n",
    "    d. Feed the input\\\n",
    "3) RUN THE SIM\n",
    "    "
   ]
  },
  {
   "cell_type": "code",
   "execution_count": 1,
   "id": "d8777fd1-29da-4ca2-a674-2e6fd5b5d355",
   "metadata": {},
   "outputs": [],
   "source": [
    "import nest\n",
    "from getData import *\n",
    "from plot import *"
   ]
  },
  {
   "cell_type": "code",
   "execution_count": 2,
   "id": "00adf908-bae4-4d20-9e01-2d2cf9e084c9",
   "metadata": {},
   "outputs": [],
   "source": [
    "positions_list = getNeuronPositions('/home/ubuntu/BasalGanglia/NEURON-data/net_100/network-neuron-positions.hdf5')"
   ]
  },
  {
   "cell_type": "code",
   "execution_count": 3,
   "id": "ccc8d85d-a09d-428d-aeb5-23ae3ffe47af",
   "metadata": {},
   "outputs": [],
   "source": [
    "pos = nest.spatial.free(positions_list) # using NEURON positions\n",
    "\n",
    "s_nodes = nest.Create(\"iaf_cond_alpha\", 99, positions=pos) #create all the neurons at once, with same characteristics\n",
    "#needs to be upgraded to a function, that will change neuron specifications according to type \n",
    "#(once this is done changes in the connection protocol will be needed (bc they wont all be in one pop))\n"
   ]
  },
  {
   "cell_type": "code",
   "execution_count": 4,
   "id": "d5b32fa5-c60e-493b-ac06-8d986e640933",
   "metadata": {
    "tags": []
   },
   "outputs": [],
   "source": [
    "############################## THIS FUNCTION WILL BE HELD ON THE .PY FILE   #################################\n",
    "#def getSynapses(path):\n",
    "    \n",
    "with h5py.File('/home/ubuntu/BasalGanglia/NEURON-data/net_100/network-pruned-synapses.hdf5', 'r') as file:\n",
    "    synapses = file.get('network').get('synapses')\n",
    "\n",
    "    synaptic_matrix = []\n",
    "    for i in range(0,len(synapses)):\n",
    "        synaptic_matrix.append([synapses[i][0], synapses[i][1]]) #Pre_ID | Pos_ID\n",
    "\n",
    "#    return(synaptic_matrix)  \n",
    "#####################################\n",
    "\n",
    "for i in range(0,len(synaptic_matrix)):\n",
    "    nest.Connect(s_nodes[synaptic_matrix[i][0]],s_nodes[synaptic_matrix[i][1]])\n",
    "    \n"
   ]
  },
  {
   "cell_type": "code",
   "execution_count": null,
   "id": "80d7659d-13e1-4939-8b00-ec56ebf47b2c",
   "metadata": {},
   "outputs": [],
   "source": []
  },
  {
   "cell_type": "code",
   "execution_count": 30,
   "id": "9b94db0f-f708-4f23-8799-9ad38f307c83",
   "metadata": {
    "tags": []
   },
   "outputs": [
    {
     "name": "stdout",
     "output_type": "stream",
     "text": [
      "[   4.63   18.48   20.5    22.8    34.65   39.47   40.93   40.95   41.4\n",
      "   41.67   44.94   47.04   54.22   58.53   59.62   62.45   62.48   64.74\n",
      "   68.37   71.36   72.78   75.61   76.36   85.65   86.45   87.15   91.89\n",
      "   95.8    99.13  108.33  113.2   120.01  122.36  126.76  133.41  144.05\n",
      "  144.58  144.64  150.28  156.99  160.25  162.88  163.81  166.93  172.35\n",
      "  181.67  183.38  184.14  186.67  203.41  205.07  206.89  209.01  209.15\n",
      "  209.36  213.41  215.99  219.69  233.72  241.27  244.07  244.6   247.71\n",
      "  249.13  252.49  256.13  257.52  262.37  269.02  271.41  278.79  288.16\n",
      "  299.16  310.51  311.59  314.32  318.42  325.8   327.77  330.86  339.15\n",
      "  339.25  341.04  350.79  352.07  356.27  359.86  361.39  365.3   370.28\n",
      "  370.8   371.76  372.59  380.36  388.15  390.33  391.12  392.65  392.98\n",
      "  395.24  397.77  412.74  413.06  417.86  428.49  430.73  446.6   450.96\n",
      "  458.02  458.76  459.59  463.11  466.01  466.53  470.54  471.84  472.88\n",
      "  475.18  476.85  478.07  482.11  482.52  487.91  493.12  494.84  495.21\n",
      "  498.86  501.91  502.36  502.92  504.88  507.07  507.72  508.65  508.96\n",
      "  509.39  510.4   515.84  516.48  530.81  533.02  533.39  533.54  537.29\n",
      "  538.58  544.35  546.36  546.78  548.05  556.37  556.9   559.25  563.92\n",
      "  564.56  565.92  566.53  572.58  576.1   587.43  596.23  597.11  597.55\n",
      "  600.75  609.16  611.09  618.72  626.27  626.69  627.05  641.33  655.22\n",
      "  656.09  659.88  663.47  666.13  667.8   672.46  676.86  677.07  677.97\n",
      "  687.2   693.87  702.54  705.61  705.7   707.85  711.74  711.79  715.7\n",
      "  719.92  724.54  729.29  731.13  731.86  734.8   741.05  749.47  749.47\n",
      "  751.42  754.52  754.64  765.18  774.56  784.83  793.29  794.91  794.96\n",
      "  798.03  798.65  802.2   819.38  820.71  822.96  829.67  836.87  846.81\n",
      "  847.74  849.03  849.15  854.69  871.2   873.25  879.05  880.15  880.97\n",
      "  883.5   885.3   886.66  891.81  892.14  893.53  901.96  902.22  908.79\n",
      "  909.36  910.69  915.45  918.52  926.29  928.38  935.11  936.01  938.93\n",
      "  943.72  944.83  955.48  963.62  973.04  973.8   974.28  975.63  979.19\n",
      "  980.22  982.09  983.41  984.29  987.2   994.55  996.95  998.48 1002.59\n",
      " 1002.96 1003.88 1006.64 1008.52 1010.11 1010.64 1019.29 1020.88 1025.5\n",
      " 1027.   1027.34 1032.87 1034.69 1040.39 1041.29 1041.52 1042.99 1043.29\n",
      " 1043.82 1044.78 1044.91 1048.04 1058.29 1058.38 1060.41 1060.51 1060.86\n",
      " 1064.65 1065.54 1067.41 1068.22 1069.01 1072.54 1074.44 1077.14 1077.49\n",
      " 1080.83 1084.2  1084.51 1088.97 1089.63 1090.8  1091.57 1096.4  1100.15\n",
      " 1100.81 1101.17 1102.22 1102.26 1102.85 1108.44 1109.79 1109.9  1110.51\n",
      " 1110.77 1115.27 1116.78 1122.05 1123.55 1127.2  1127.83 1128.21 1128.56\n",
      " 1130.05 1130.37 1130.37 1132.1  1132.87 1134.11 1134.8  1135.2  1137.9\n",
      " 1137.97 1142.39 1145.01 1146.01 1146.3  1149.26 1151.59 1159.79 1160.\n",
      " 1161.12 1163.59 1163.62 1164.07 1169.35 1173.48 1174.67 1176.78 1180.98\n",
      " 1181.79 1183.67 1186.18 1186.28 1189.34 1190.1  1190.68 1190.83 1191.06\n",
      " 1192.35 1197.14 1198.76 1204.05 1204.19 1204.21 1208.87 1213.27 1216.42\n",
      " 1216.5  1219.61 1221.59 1224.7  1226.8  1231.35 1231.37 1232.27 1232.58\n",
      " 1236.94 1239.08 1244.34 1247.6  1250.14 1250.84 1252.63 1253.62 1255.51\n",
      " 1256.75 1257.43 1257.86 1257.93 1258.7  1266.22 1269.5  1269.57 1270.18\n",
      " 1271.81 1273.07 1273.49 1282.1  1284.14 1284.83 1285.04 1287.58 1288.48\n",
      " 1289.79 1294.18 1294.28 1297.55 1297.64 1298.68 1301.9  1301.92 1303.47\n",
      " 1304.01 1308.38 1309.62 1310.93 1316.43 1317.34 1317.89 1318.72 1319.19\n",
      " 1321.61 1323.47 1324.79 1325.59 1327.14 1327.82 1328.6  1329.8  1335.2\n",
      " 1336.36 1336.77 1342.27 1345.09 1347.16 1349.37 1350.34 1356.   1356.81\n",
      " 1359.1  1365.34 1365.45 1365.68 1367.02 1367.24 1368.22 1372.01 1372.82\n",
      " 1378.57 1380.21 1382.76 1384.29 1384.47 1386.21 1388.48 1389.95 1391.01\n",
      " 1392.5  1396.76 1398.9  1402.7  1406.16 1408.81 1411.05 1413.56 1414.71\n",
      " 1416.33 1417.09 1420.5  1422.55 1422.59 1423.7  1423.76 1424.43 1426.81\n",
      " 1431.78 1432.43 1433.08 1439.55 1439.65 1439.68 1440.73 1442.33 1443.94\n",
      " 1447.16 1448.39 1451.39 1451.49 1453.83 1455.28 1458.19 1464.28 1465.83\n",
      " 1467.1  1468.61 1470.22 1481.75 1483.22 1483.72 1487.98 1493.67 1496.41\n",
      " 1498.58 1499.08 1501.24 1505.74 1507.92 1510.   1514.96 1517.73 1517.98\n",
      " 1521.8  1522.94 1526.37 1531.43 1531.6  1536.3  1543.72 1544.11 1545.71\n",
      " 1553.8  1554.76 1555.68 1555.97 1556.35 1561.34 1561.74 1562.37 1562.96\n",
      " 1571.14 1572.47 1572.5  1572.91 1574.12 1575.88 1578.49 1580.34 1585.3\n",
      " 1590.78 1592.26 1594.53 1597.67 1603.03 1603.89 1609.79 1619.25 1624.07\n",
      " 1630.24 1630.48 1633.65 1639.48 1641.85 1643.09 1643.35 1643.44 1657.38\n",
      " 1661.36 1666.9  1670.7  1685.76 1688.47 1688.85 1688.99 1691.35 1697.75\n",
      " 1697.78 1698.6  1708.87 1711.82 1712.85 1714.11 1715.94 1716.3  1720.04\n",
      " 1721.1  1725.16 1725.68 1728.43 1730.91 1731.28 1734.74 1737.85 1743.97\n",
      " 1744.12 1744.13 1753.69 1758.74 1762.48 1764.62 1765.33 1765.4  1772.6\n",
      " 1773.3  1773.79 1775.56 1776.68 1782.5  1789.51 1789.85 1790.46 1791.57\n",
      " 1795.39 1796.02 1796.1  1796.42 1806.6  1812.58 1819.61 1819.83 1822.03\n",
      " 1826.89 1829.9  1832.92 1850.24 1854.28 1855.96 1859.94 1864.95 1870.6\n",
      " 1871.3  1873.35 1884.29 1888.69 1890.78 1893.05 1895.14 1897.05 1897.57\n",
      " 1897.85 1900.18 1902.66 1908.53 1910.9  1915.34 1917.33 1918.34 1918.46\n",
      " 1920.12 1923.21 1932.12 1932.38 1937.9  1943.03 1943.41 1943.95 1950.62\n",
      " 1960.85 1967.46 1968.52 1976.99 1978.67]\n"
     ]
    }
   ],
   "source": [
    "import numpy as np\n",
    "import h5py\n",
    "\n",
    "with h5py.File('/home/ubuntu/BasalGanglia/NEURON-data/net_100/input-spikes.hdf5', 'r') as file:\n",
    "    \n",
    "    size = 3\n",
    "    inputs = file.get('input')\n",
    "    final_input = []\n",
    "    \n",
    "    for i in range(0, size):\n",
    "        a = str(i)\n",
    "        aux_input = []\n",
    "        \n",
    "        cortical_base = np.array(inputs.get(a).get(\"CorticalBase\").get('spikes'))\n",
    "        cortical_signal = np.array(inputs.get(a).get(\"CorticalSignal\").get('spikes'))\n",
    "        thalamic = np.array(inputs.get(a).get(\"Thalamic\").get('spikes'))\n",
    "        \n",
    "        for line in cortical_base:\n",
    "            for spike_time in line:\n",
    "                if (spike_time!=-1):\n",
    "                    aux_input.append(spike_time*1000)\n",
    "\n",
    "        for line in cortical_signal:\n",
    "            for spike_time in line:\n",
    "                if (spike_time!=-1):\n",
    "                    aux_input.append(spike_time*1000)\n",
    "                    \n",
    "        for line in thalamic:\n",
    "            for spike_time in line:\n",
    "                if (spike_time!=-1):\n",
    "                    aux_input.append(spike_time*1000)\n",
    "        \n",
    "        aux_input.sort()\n",
    "        final_input.append(np.around(aux_input, decimals = 2))\n",
    "print(final_input[0])"
   ]
  },
  {
   "cell_type": "code",
   "execution_count": 25,
   "id": "c3b0f3c9-1a3e-4d82-8e7f-bae4b4644e0c",
   "metadata": {},
   "outputs": [
    {
     "name": "stderr",
     "output_type": "stream",
     "text": [
      "/home/ubuntu/nest-build/lib/python3.8/site-packages/nest/lib/hl_api_nodes.py:134: UserWarning:SetStatus() call failed, but nodes have already been created! The node IDs of the new nodes are: NodeCollection(metadata=None, model=spike_generator, size=1, first=100).\n"
     ]
    },
    {
     "ename": "NESTErrors.BadProperty",
     "evalue": "BadProperty in SLI function SetStatus_id: Setting status of a 'spike_generator' with node ID 100: spike_generator: Time point 4.62627 is not representable in current resolution.",
     "output_type": "error",
     "traceback": [
      "\u001b[0;31m---------------------------------------------------------------------------\u001b[0m",
      "\u001b[0;31mNESTErrors.BadProperty\u001b[0m                    Traceback (most recent call last)",
      "\u001b[0;32m<ipython-input-25-09c86141924f>\u001b[0m in \u001b[0;36m<module>\u001b[0;34m\u001b[0m\n\u001b[0;32m----> 1\u001b[0;31m \u001b[0minput_0\u001b[0m \u001b[0;34m=\u001b[0m \u001b[0mnest\u001b[0m\u001b[0;34m.\u001b[0m\u001b[0mCreate\u001b[0m\u001b[0;34m(\u001b[0m\u001b[0;34m\"spike_generator\"\u001b[0m\u001b[0;34m,\u001b[0m \u001b[0mparams\u001b[0m\u001b[0;34m=\u001b[0m\u001b[0;34m{\u001b[0m\u001b[0;34m\"spike_times\"\u001b[0m\u001b[0;34m:\u001b[0m \u001b[0mfinal_input\u001b[0m\u001b[0;34m[\u001b[0m\u001b[0;36m0\u001b[0m\u001b[0;34m]\u001b[0m\u001b[0;34m}\u001b[0m\u001b[0;34m)\u001b[0m\u001b[0;34m\u001b[0m\u001b[0;34m\u001b[0m\u001b[0m\n\u001b[0m",
      "\u001b[0;32m~/nest-build/lib/python3.8/site-packages/nest/ll_api.py\u001b[0m in \u001b[0;36mstack_checker_func\u001b[0;34m(*args, **kwargs)\u001b[0m\n\u001b[1;32m    226\u001b[0m     \u001b[0;32mdef\u001b[0m \u001b[0mstack_checker_func\u001b[0m\u001b[0;34m(\u001b[0m\u001b[0;34m*\u001b[0m\u001b[0margs\u001b[0m\u001b[0;34m,\u001b[0m \u001b[0;34m**\u001b[0m\u001b[0mkwargs\u001b[0m\u001b[0;34m)\u001b[0m\u001b[0;34m:\u001b[0m\u001b[0;34m\u001b[0m\u001b[0;34m\u001b[0m\u001b[0m\n\u001b[1;32m    227\u001b[0m         \u001b[0;32mif\u001b[0m \u001b[0;32mnot\u001b[0m \u001b[0mget_debug\u001b[0m\u001b[0;34m(\u001b[0m\u001b[0;34m)\u001b[0m\u001b[0;34m:\u001b[0m\u001b[0;34m\u001b[0m\u001b[0;34m\u001b[0m\u001b[0m\n\u001b[0;32m--> 228\u001b[0;31m             \u001b[0;32mreturn\u001b[0m \u001b[0mf\u001b[0m\u001b[0;34m(\u001b[0m\u001b[0;34m*\u001b[0m\u001b[0margs\u001b[0m\u001b[0;34m,\u001b[0m \u001b[0;34m**\u001b[0m\u001b[0mkwargs\u001b[0m\u001b[0;34m)\u001b[0m\u001b[0;34m\u001b[0m\u001b[0;34m\u001b[0m\u001b[0m\n\u001b[0m\u001b[1;32m    229\u001b[0m         \u001b[0;32melse\u001b[0m\u001b[0;34m:\u001b[0m\u001b[0;34m\u001b[0m\u001b[0;34m\u001b[0m\u001b[0m\n\u001b[1;32m    230\u001b[0m             \u001b[0msr\u001b[0m\u001b[0;34m(\u001b[0m\u001b[0;34m'count'\u001b[0m\u001b[0;34m)\u001b[0m\u001b[0;34m\u001b[0m\u001b[0;34m\u001b[0m\u001b[0m\n",
      "\u001b[0;32m~/nest-build/lib/python3.8/site-packages/nest/lib/hl_api_nodes.py\u001b[0m in \u001b[0;36mCreate\u001b[0;34m(model, n, params, positions)\u001b[0m\n\u001b[1;32m    130\u001b[0m     \u001b[0;32mif\u001b[0m \u001b[0mparams\u001b[0m \u001b[0;32mis\u001b[0m \u001b[0;32mnot\u001b[0m \u001b[0;32mNone\u001b[0m \u001b[0;32mand\u001b[0m \u001b[0miterable_or_parameter_in_params\u001b[0m\u001b[0;34m:\u001b[0m\u001b[0;34m\u001b[0m\u001b[0;34m\u001b[0m\u001b[0m\n\u001b[1;32m    131\u001b[0m         \u001b[0;32mtry\u001b[0m\u001b[0;34m:\u001b[0m\u001b[0;34m\u001b[0m\u001b[0;34m\u001b[0m\u001b[0m\n\u001b[0;32m--> 132\u001b[0;31m             \u001b[0mSetStatus\u001b[0m\u001b[0;34m(\u001b[0m\u001b[0mnode_ids\u001b[0m\u001b[0;34m,\u001b[0m \u001b[0mparams\u001b[0m\u001b[0;34m)\u001b[0m\u001b[0;34m\u001b[0m\u001b[0;34m\u001b[0m\u001b[0m\n\u001b[0m\u001b[1;32m    133\u001b[0m         \u001b[0;32mexcept\u001b[0m \u001b[0mException\u001b[0m\u001b[0;34m:\u001b[0m\u001b[0;34m\u001b[0m\u001b[0;34m\u001b[0m\u001b[0m\n\u001b[1;32m    134\u001b[0m             warnings.warn(\n",
      "\u001b[0;32m~/nest-build/lib/python3.8/site-packages/nest/ll_api.py\u001b[0m in \u001b[0;36mstack_checker_func\u001b[0;34m(*args, **kwargs)\u001b[0m\n\u001b[1;32m    226\u001b[0m     \u001b[0;32mdef\u001b[0m \u001b[0mstack_checker_func\u001b[0m\u001b[0;34m(\u001b[0m\u001b[0;34m*\u001b[0m\u001b[0margs\u001b[0m\u001b[0;34m,\u001b[0m \u001b[0;34m**\u001b[0m\u001b[0mkwargs\u001b[0m\u001b[0;34m)\u001b[0m\u001b[0;34m:\u001b[0m\u001b[0;34m\u001b[0m\u001b[0;34m\u001b[0m\u001b[0m\n\u001b[1;32m    227\u001b[0m         \u001b[0;32mif\u001b[0m \u001b[0;32mnot\u001b[0m \u001b[0mget_debug\u001b[0m\u001b[0;34m(\u001b[0m\u001b[0;34m)\u001b[0m\u001b[0;34m:\u001b[0m\u001b[0;34m\u001b[0m\u001b[0;34m\u001b[0m\u001b[0m\n\u001b[0;32m--> 228\u001b[0;31m             \u001b[0;32mreturn\u001b[0m \u001b[0mf\u001b[0m\u001b[0;34m(\u001b[0m\u001b[0;34m*\u001b[0m\u001b[0margs\u001b[0m\u001b[0;34m,\u001b[0m \u001b[0;34m**\u001b[0m\u001b[0mkwargs\u001b[0m\u001b[0;34m)\u001b[0m\u001b[0;34m\u001b[0m\u001b[0;34m\u001b[0m\u001b[0m\n\u001b[0m\u001b[1;32m    229\u001b[0m         \u001b[0;32melse\u001b[0m\u001b[0;34m:\u001b[0m\u001b[0;34m\u001b[0m\u001b[0;34m\u001b[0m\u001b[0m\n\u001b[1;32m    230\u001b[0m             \u001b[0msr\u001b[0m\u001b[0;34m(\u001b[0m\u001b[0;34m'count'\u001b[0m\u001b[0;34m)\u001b[0m\u001b[0;34m\u001b[0m\u001b[0;34m\u001b[0m\u001b[0m\n",
      "\u001b[0;32m~/nest-build/lib/python3.8/site-packages/nest/lib/hl_api_info.py\u001b[0m in \u001b[0;36mSetStatus\u001b[0;34m(nodes, params, val)\u001b[0m\n\u001b[1;32m    300\u001b[0m         \u001b[0msr\u001b[0m\u001b[0;34m(\u001b[0m\u001b[0;34m'Transpose { arrayload pop SetStatus } forall'\u001b[0m\u001b[0;34m)\u001b[0m\u001b[0;34m\u001b[0m\u001b[0;34m\u001b[0m\u001b[0m\n\u001b[1;32m    301\u001b[0m     \u001b[0;32melse\u001b[0m\u001b[0;34m:\u001b[0m\u001b[0;34m\u001b[0m\u001b[0;34m\u001b[0m\u001b[0m\n\u001b[0;32m--> 302\u001b[0;31m         \u001b[0msli_func\u001b[0m\u001b[0;34m(\u001b[0m\u001b[0;34m'SetStatus'\u001b[0m\u001b[0;34m,\u001b[0m \u001b[0mnodes\u001b[0m\u001b[0;34m,\u001b[0m \u001b[0mparams\u001b[0m\u001b[0;34m)\u001b[0m\u001b[0;34m\u001b[0m\u001b[0;34m\u001b[0m\u001b[0m\n\u001b[0m\u001b[1;32m    303\u001b[0m \u001b[0;34m\u001b[0m\u001b[0m\n\u001b[1;32m    304\u001b[0m \u001b[0;34m\u001b[0m\u001b[0m\n",
      "\u001b[0;32m~/nest-build/lib/python3.8/site-packages/nest/ll_api.py\u001b[0m in \u001b[0;36msli_func\u001b[0;34m(s, *args, **kwargs)\u001b[0m\n\u001b[1;32m    162\u001b[0m     \u001b[0msli_push\u001b[0m\u001b[0;34m(\u001b[0m\u001b[0margs\u001b[0m\u001b[0;34m)\u001b[0m       \u001b[0;31m# push array of arguments on SLI stack\u001b[0m\u001b[0;34m\u001b[0m\u001b[0;34m\u001b[0m\u001b[0m\n\u001b[1;32m    163\u001b[0m     \u001b[0msli_push\u001b[0m\u001b[0;34m(\u001b[0m\u001b[0ms\u001b[0m\u001b[0;34m)\u001b[0m          \u001b[0;31m# push command string\u001b[0m\u001b[0;34m\u001b[0m\u001b[0;34m\u001b[0m\u001b[0m\n\u001b[0;32m--> 164\u001b[0;31m     \u001b[0msli_run\u001b[0m\u001b[0;34m(\u001b[0m\u001b[0mslifun\u001b[0m\u001b[0;34m)\u001b[0m      \u001b[0;31m# SLI support code to execute s on args\u001b[0m\u001b[0;34m\u001b[0m\u001b[0;34m\u001b[0m\u001b[0m\n\u001b[0m\u001b[1;32m    165\u001b[0m     \u001b[0mr\u001b[0m \u001b[0;34m=\u001b[0m \u001b[0msli_pop\u001b[0m\u001b[0;34m(\u001b[0m\u001b[0;34m)\u001b[0m        \u001b[0;31m# return value is an array\u001b[0m\u001b[0;34m\u001b[0m\u001b[0;34m\u001b[0m\u001b[0m\n\u001b[1;32m    166\u001b[0m \u001b[0;34m\u001b[0m\u001b[0m\n",
      "\u001b[0;32m~/nest-build/lib/python3.8/site-packages/nest/ll_api.py\u001b[0m in \u001b[0;36mcatching_sli_run\u001b[0;34m(cmd)\u001b[0m\n\u001b[1;32m    112\u001b[0m \u001b[0;34m\u001b[0m\u001b[0m\n\u001b[1;32m    113\u001b[0m         \u001b[0mexceptionCls\u001b[0m \u001b[0;34m=\u001b[0m \u001b[0mgetattr\u001b[0m\u001b[0;34m(\u001b[0m\u001b[0mkernel\u001b[0m\u001b[0;34m.\u001b[0m\u001b[0mNESTErrors\u001b[0m\u001b[0;34m,\u001b[0m \u001b[0merrorname\u001b[0m\u001b[0;34m)\u001b[0m\u001b[0;34m\u001b[0m\u001b[0;34m\u001b[0m\u001b[0m\n\u001b[0;32m--> 114\u001b[0;31m         \u001b[0;32mraise\u001b[0m \u001b[0mexceptionCls\u001b[0m\u001b[0;34m(\u001b[0m\u001b[0mcommandname\u001b[0m\u001b[0;34m,\u001b[0m \u001b[0mmessage\u001b[0m\u001b[0;34m)\u001b[0m\u001b[0;34m\u001b[0m\u001b[0;34m\u001b[0m\u001b[0m\n\u001b[0m\u001b[1;32m    115\u001b[0m \u001b[0;34m\u001b[0m\u001b[0m\n\u001b[1;32m    116\u001b[0m \u001b[0;34m\u001b[0m\u001b[0m\n",
      "\u001b[0;31mNESTErrors.BadProperty\u001b[0m: BadProperty in SLI function SetStatus_id: Setting status of a 'spike_generator' with node ID 100: spike_generator: Time point 4.62627 is not representable in current resolution."
     ]
    }
   ],
   "source": [
    "input_0 = nest.Create(\"spike_generator\", params={\"spike_times\": final_input[0]})"
   ]
  },
  {
   "cell_type": "code",
   "execution_count": 24,
   "id": "37879b60-e231-420e-b897-5b1265d401d7",
   "metadata": {},
   "outputs": [
    {
     "name": "stdout",
     "output_type": "stream",
     "text": [
      "697\n"
     ]
    }
   ],
   "source": []
  },
  {
   "cell_type": "code",
   "execution_count": 17,
   "id": "ef58bd26-53ef-4f21-bc1d-7ed53b42f5e0",
   "metadata": {
    "collapsed": true,
    "jupyter": {
     "outputs_hidden": true
    },
    "tags": []
   },
   "outputs": [
    {
     "ename": "ValueError",
     "evalue": "Sources and targets must be 1-dimensional arrays",
     "output_type": "error",
     "traceback": [
      "\u001b[0;31m---------------------------------------------------------------------------\u001b[0m",
      "\u001b[0;31mValueError\u001b[0m                                Traceback (most recent call last)",
      "\u001b[0;32m<ipython-input-17-2d2fcf1a7337>\u001b[0m in \u001b[0;36m<module>\u001b[0;34m\u001b[0m\n\u001b[1;32m      9\u001b[0m \u001b[0;34m\u001b[0m\u001b[0m\n\u001b[1;32m     10\u001b[0m \u001b[0;34m\u001b[0m\u001b[0m\n\u001b[0;32m---> 11\u001b[0;31m \u001b[0mnest\u001b[0m\u001b[0;34m.\u001b[0m\u001b[0mConnect\u001b[0m\u001b[0;34m(\u001b[0m\u001b[0mpre_list\u001b[0m\u001b[0;34m,\u001b[0m\u001b[0mpos_list\u001b[0m\u001b[0;34m,\u001b[0m\u001b[0mconn_spec\u001b[0m\u001b[0;34m=\u001b[0m \u001b[0;34m\"one_to_one\"\u001b[0m\u001b[0;34m)\u001b[0m\u001b[0;34m\u001b[0m\u001b[0;34m\u001b[0m\u001b[0m\n\u001b[0m",
      "\u001b[0;32m~/nest-build/lib/python3.8/site-packages/nest/ll_api.py\u001b[0m in \u001b[0;36mstack_checker_func\u001b[0;34m(*args, **kwargs)\u001b[0m\n\u001b[1;32m    226\u001b[0m     \u001b[0;32mdef\u001b[0m \u001b[0mstack_checker_func\u001b[0m\u001b[0;34m(\u001b[0m\u001b[0;34m*\u001b[0m\u001b[0margs\u001b[0m\u001b[0;34m,\u001b[0m \u001b[0;34m**\u001b[0m\u001b[0mkwargs\u001b[0m\u001b[0;34m)\u001b[0m\u001b[0;34m:\u001b[0m\u001b[0;34m\u001b[0m\u001b[0;34m\u001b[0m\u001b[0m\n\u001b[1;32m    227\u001b[0m         \u001b[0;32mif\u001b[0m \u001b[0;32mnot\u001b[0m \u001b[0mget_debug\u001b[0m\u001b[0;34m(\u001b[0m\u001b[0;34m)\u001b[0m\u001b[0;34m:\u001b[0m\u001b[0;34m\u001b[0m\u001b[0;34m\u001b[0m\u001b[0m\n\u001b[0;32m--> 228\u001b[0;31m             \u001b[0;32mreturn\u001b[0m \u001b[0mf\u001b[0m\u001b[0;34m(\u001b[0m\u001b[0;34m*\u001b[0m\u001b[0margs\u001b[0m\u001b[0;34m,\u001b[0m \u001b[0;34m**\u001b[0m\u001b[0mkwargs\u001b[0m\u001b[0;34m)\u001b[0m\u001b[0;34m\u001b[0m\u001b[0;34m\u001b[0m\u001b[0m\n\u001b[0m\u001b[1;32m    229\u001b[0m         \u001b[0;32melse\u001b[0m\u001b[0;34m:\u001b[0m\u001b[0;34m\u001b[0m\u001b[0;34m\u001b[0m\u001b[0m\n\u001b[1;32m    230\u001b[0m             \u001b[0msr\u001b[0m\u001b[0;34m(\u001b[0m\u001b[0;34m'count'\u001b[0m\u001b[0;34m)\u001b[0m\u001b[0;34m\u001b[0m\u001b[0;34m\u001b[0m\u001b[0m\n",
      "\u001b[0;32m~/nest-build/lib/python3.8/site-packages/nest/lib/hl_api_connections.py\u001b[0m in \u001b[0;36mConnect\u001b[0;34m(pre, post, conn_spec, syn_spec, return_synapsecollection)\u001b[0m\n\u001b[1;32m    204\u001b[0m     \u001b[0;34m:\u001b[0m\u001b[0mref\u001b[0m\u001b[0;34m:\u001b[0m\u001b[0;31m`\u001b[0m\u001b[0mconnection_management\u001b[0m\u001b[0;31m`\u001b[0m\u001b[0;34m\u001b[0m\u001b[0;34m\u001b[0m\u001b[0m\n\u001b[1;32m    205\u001b[0m     \"\"\"\n\u001b[0;32m--> 206\u001b[0;31m     \u001b[0muse_connect_arrays\u001b[0m\u001b[0;34m,\u001b[0m \u001b[0mpre\u001b[0m\u001b[0;34m,\u001b[0m \u001b[0mpost\u001b[0m \u001b[0;34m=\u001b[0m \u001b[0m_process_input_nodes\u001b[0m\u001b[0;34m(\u001b[0m\u001b[0mpre\u001b[0m\u001b[0;34m,\u001b[0m \u001b[0mpost\u001b[0m\u001b[0;34m,\u001b[0m \u001b[0mconn_spec\u001b[0m\u001b[0;34m)\u001b[0m\u001b[0;34m\u001b[0m\u001b[0;34m\u001b[0m\u001b[0m\n\u001b[0m\u001b[1;32m    207\u001b[0m \u001b[0;34m\u001b[0m\u001b[0m\n\u001b[1;32m    208\u001b[0m     \u001b[0;31m# Converting conn_spec to dict, without putting it on the SLI stack.\u001b[0m\u001b[0;34m\u001b[0m\u001b[0;34m\u001b[0m\u001b[0;34m\u001b[0m\u001b[0m\n",
      "\u001b[0;32m~/nest-build/lib/python3.8/site-packages/nest/lib/hl_api_connection_helpers.py\u001b[0m in \u001b[0;36m_process_input_nodes\u001b[0;34m(pre, post, conn_spec)\u001b[0m\n\u001b[1;32m    295\u001b[0m         \u001b[0;31m# check dimension\u001b[0m\u001b[0;34m\u001b[0m\u001b[0;34m\u001b[0m\u001b[0;34m\u001b[0m\u001b[0m\n\u001b[1;32m    296\u001b[0m         \u001b[0;32mif\u001b[0m \u001b[0;32mnot\u001b[0m \u001b[0;34m(\u001b[0m\u001b[0mpre\u001b[0m\u001b[0;34m.\u001b[0m\u001b[0mndim\u001b[0m \u001b[0;34m==\u001b[0m \u001b[0;36m1\u001b[0m \u001b[0;32mand\u001b[0m \u001b[0mpost\u001b[0m\u001b[0;34m.\u001b[0m\u001b[0mndim\u001b[0m \u001b[0;34m==\u001b[0m \u001b[0;36m1\u001b[0m\u001b[0;34m)\u001b[0m\u001b[0;34m:\u001b[0m\u001b[0;34m\u001b[0m\u001b[0;34m\u001b[0m\u001b[0m\n\u001b[0;32m--> 297\u001b[0;31m             \u001b[0;32mraise\u001b[0m \u001b[0mValueError\u001b[0m\u001b[0;34m(\u001b[0m\u001b[0;34m\"Sources and targets must be 1-dimensional arrays\"\u001b[0m\u001b[0;34m)\u001b[0m\u001b[0;34m\u001b[0m\u001b[0;34m\u001b[0m\u001b[0m\n\u001b[0m\u001b[1;32m    298\u001b[0m \u001b[0;34m\u001b[0m\u001b[0m\n\u001b[1;32m    299\u001b[0m         \u001b[0muse_connect_arrays\u001b[0m \u001b[0;34m=\u001b[0m \u001b[0;32mTrue\u001b[0m\u001b[0;34m\u001b[0m\u001b[0;34m\u001b[0m\u001b[0m\n",
      "\u001b[0;31mValueError\u001b[0m: Sources and targets must be 1-dimensional arrays"
     ]
    }
   ],
   "source": [
    "# THIS WAS A SECOND IDEA ON HOW TO CONNECT THE NETWORK BUT -> to loop the array creation but not the nest connect command \n",
    "# so it doesnt get too heavy. so far it is not working.\n",
    "\n",
    "pre_list = []\n",
    "pos_list = []\n",
    "\n",
    "for i in range(0,len(synaptic_matrix)):\n",
    "    pre_list.append(s_nodes['global_id' == synaptic_matrix[i][0]])\n",
    "    pos_list.append(s_nodes['global_id' == synaptic_matrix[i][1]])\n",
    "\n",
    "    \n",
    "\n",
    "nest.Connect(pre_list,pos_list,conn_spec= \"one_to_one\")\n"
   ]
  },
  {
   "cell_type": "code",
   "execution_count": 14,
   "id": "cfd19f8f-31d5-4371-ba39-be40a52e6019",
   "metadata": {
    "collapsed": true,
    "jupyter": {
     "outputs_hidden": true,
     "source_hidden": true
    },
    "tags": []
   },
   "outputs": [
    {
     "data": {
      "image/png": "[encoded data removed]",
      "text/plain": [
       "<Figure size 864x720 with 2 Axes>"
      ]
     },
     "metadata": {
      "needs_background": "light"
     },
     "output_type": "display_data"
    }
   ],
   "source": [
    "##### HOW TO ENSURE THAT THE INFORMATION WAS PROPERLY INSERTED? THAT IS, THAT THE CONNECTIONS ARE EQUAL TO THE NEST ONES######\n",
    "# NO NEED TO PROVE THIS. BUT THIS CONN MATRIX, IF I MANAGE TO ORDER NEURONS BY THEIR TYPE, CAN PROVIDE INSIGHTS NONETHELESS\n",
    "conns = nest.GetConnections(s_nodes, s_nodes)  # This returns a SynapseCollection\n",
    "# We can get desired information of the SynapseCollection with simple get() call.\n",
    "g = conns.get(['source', 'target', 'weight'])\n",
    "srcs = g['source']\n",
    "tgts = g['target']\n",
    "weights = g['weight']\n",
    "\n",
    "# Plot the matrix consisting of the weights between the sources and targets\n",
    "plt.figure(figsize=(12, 10))\n",
    "plotMatrix(srcs, tgts, weights, 'Uniform weight', 121)"
   ]
  },
  {
   "cell_type": "code",
   "execution_count": 19,
   "id": "a57c4380-c642-42a7-ac17-7b0efe4ca204",
   "metadata": {},
   "outputs": [
    {
     "name": "stdout",
     "output_type": "stream",
     "text": [
      "Help on function Models in module nest.lib.hl_api_models:\n",
      "\n",
      "Models(mtype='all', sel=None)\n",
      "    Return a tuple of model names, sorted by name.\n",
      "    \n",
      "    All available models are neurons, devices and synapses.\n",
      "    \n",
      "    Parameters\n",
      "    ----------\n",
      "    mtype : str, optional\n",
      "        Use ``'mtype='nodes'`` to only see neuron and device models,\n",
      "        or ``'type='synapses'`` to only see synapse models.\n",
      "    sel : str, optional\n",
      "        String used to filter the result list and only return models\n",
      "        containing it.\n",
      "    \n",
      "    Returns\n",
      "    -------\n",
      "    tuple\n",
      "        Available model names\n",
      "    \n",
      "    Raises\n",
      "    ------\n",
      "    ValueError\n",
      "        Description\n",
      "    \n",
      "    Notes\n",
      "    -----\n",
      "    - Synapse model names ending with ``'_hpc'`` provide minimal memory\n",
      "      requirements by using thread-local target neuron IDs and fixing\n",
      "      the ``'rport'`` to 0.\n",
      "    - Synapse model names ending with ``'_lbl'`` allow to assign an individual\n",
      "      integer label (``'synapse_label'``) to created synapses at the cost\n",
      "      of increased memory requirements.\n",
      "\n"
     ]
    }
   ],
   "source": [
    "help(nest.Models)"
   ]
  },
  {
   "cell_type": "code",
   "execution_count": null,
   "id": "d412269b-e2f0-4739-bc5d-436d108b5782",
   "metadata": {},
   "outputs": [],
   "source": []
  }
 ],
 "metadata": {
  "kernelspec": {
   "display_name": "Python 3",
   "language": "python",
   "name": "python3"
  },
  "language_info": {
   "codemirror_mode": {
    "name": "ipython",
    "version": 3
   },
   "file_extension": ".py",
   "mimetype": "text/x-python",
   "name": "python",
   "nbconvert_exporter": "python",
   "pygments_lexer": "ipython3",
   "version": "3.8.10"
  }
 },
 "nbformat": 4,
 "nbformat_minor": 5
}
