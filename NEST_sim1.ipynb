{
 "cells": [
  {
   "cell_type": "markdown",
   "id": "0f53cdd6-1d0b-4d4a-9b57-479ddd839bdb",
   "metadata": {},
   "source": [
    "STEP BY STEP OF NEST SIMULATION\n",
    "1) IMPORTING RELEVANT DATA FROM SNUDDA GENERATED NEURON FILES:\\\n",
    "    a. Neuron Matrix: to keep the info of neuron types \\\n",
    "    b. Synaptic Matrix: Where each row has the info of [preID, posID] of one synapse \\\n",
    "    for now every synapse will have the same properties, no matter the types of neurons\\\n",
    "    (later we can add more info on this matrix that will help set the type of synapses used for each)\\\n",
    "    c*. (optional/not really relevant but already available) Positions: matrix with coordinates for each neuron position\\\n",
    "    d.Info about the input given to the neurons\n",
    "2) CREATING THE NEST NETWORK \\\n",
    "    a. Create the neurons (the correct # of neurons, in their posiiton*)\\\n",
    "    b. Connect the neurons (for loop with Synaptic Matrix as info)\\\n",
    "    c. Connect the measuring devices to the neurons in order to observe spiking and voltage \\\n",
    "    d. Feed the input\\\n",
    "3) RUN THE SIM\n",
    "    "
   ]
  },
  {
   "cell_type": "code",
   "execution_count": 1,
   "id": "d8777fd1-29da-4ca2-a674-2e6fd5b5d355",
   "metadata": {},
   "outputs": [],
   "source": [
    "import nest\n",
    "from getData import *\n",
    "from plot import *"
   ]
  },
  {
   "cell_type": "code",
   "execution_count": 2,
   "id": "00adf908-bae4-4d20-9e01-2d2cf9e084c9",
   "metadata": {},
   "outputs": [],
   "source": [
    "positions_list = getNeuronPositions('/home/ubuntu/BasalGanglia/NEURON-data/net_100/network-neuron-positions.hdf5')"
   ]
  },
  {
   "cell_type": "code",
   "execution_count": 3,
   "id": "ccc8d85d-a09d-428d-aeb5-23ae3ffe47af",
   "metadata": {},
   "outputs": [],
   "source": [
    "pos = nest.spatial.free(positions_list) # using NEURON positions\n",
    "\n",
    "s_nodes = nest.Create(\"iaf_cond_alpha\", 99, positions=pos) #create all the neurons at once, with same characteristics\n",
    "#needs to be upgraded to a function, that will change neuron specifications according to type \n",
    "#(once this is done changes in the connection protocol will be needed (bc they wont all be in one pop))\n"
   ]
  },
  {
   "cell_type": "code",
   "execution_count": 4,
   "id": "d5b32fa5-c60e-493b-ac06-8d986e640933",
   "metadata": {},
   "outputs": [],
   "source": [
    "############################## THIS FUNCTION WILL BE HELD ON THE .PY FILE   #################################\n",
    "#def getSynapses(path):\n",
    "    \n",
    "with h5py.File('/home/ubuntu/BasalGanglia/NEURON-data/net_100/network-pruned-synapses.hdf5', 'r') as file:\n",
    "    synapses = file.get('network').get('synapses')\n",
    "\n",
    "    synaptic_matrix = []\n",
    "    for i in range(0,len(synapses)):\n",
    "        synaptic_matrix.append([synapses[i][0], synapses[i][1]]) #Pre_ID | Pos_ID\n",
    "\n",
    "#    return(synaptic_matrix)  \n",
    "#####################################\n",
    "\n",
    "for i in range(0,len(synaptic_matrix)):\n",
    "    nest.Connect(s_nodes[synaptic_matrix[i][0]],s_nodes[synaptic_matrix[i][1]])\n",
    "    \n"
   ]
  },
  {
   "cell_type": "code",
   "execution_count": null,
   "id": "c3b0f3c9-1a3e-4d82-8e7f-bae4b4644e0c",
   "metadata": {},
   "outputs": [],
   "source": []
  },
  {
   "cell_type": "code",
   "execution_count": 17,
   "id": "ef58bd26-53ef-4f21-bc1d-7ed53b42f5e0",
   "metadata": {},
   "outputs": [
    {
     "ename": "ValueError",
     "evalue": "Sources and targets must be 1-dimensional arrays",
     "output_type": "error",
     "traceback": [
      "\u001b[0;31m---------------------------------------------------------------------------\u001b[0m",
      "\u001b[0;31mValueError\u001b[0m                                Traceback (most recent call last)",
      "\u001b[0;32m<ipython-input-17-2d2fcf1a7337>\u001b[0m in \u001b[0;36m<module>\u001b[0;34m\u001b[0m\n\u001b[1;32m      9\u001b[0m \u001b[0;34m\u001b[0m\u001b[0m\n\u001b[1;32m     10\u001b[0m \u001b[0;34m\u001b[0m\u001b[0m\n\u001b[0;32m---> 11\u001b[0;31m \u001b[0mnest\u001b[0m\u001b[0;34m.\u001b[0m\u001b[0mConnect\u001b[0m\u001b[0;34m(\u001b[0m\u001b[0mpre_list\u001b[0m\u001b[0;34m,\u001b[0m\u001b[0mpos_list\u001b[0m\u001b[0;34m,\u001b[0m\u001b[0mconn_spec\u001b[0m\u001b[0;34m=\u001b[0m \u001b[0;34m\"one_to_one\"\u001b[0m\u001b[0;34m)\u001b[0m\u001b[0;34m\u001b[0m\u001b[0;34m\u001b[0m\u001b[0m\n\u001b[0m",
      "\u001b[0;32m~/nest-build/lib/python3.8/site-packages/nest/ll_api.py\u001b[0m in \u001b[0;36mstack_checker_func\u001b[0;34m(*args, **kwargs)\u001b[0m\n\u001b[1;32m    226\u001b[0m     \u001b[0;32mdef\u001b[0m \u001b[0mstack_checker_func\u001b[0m\u001b[0;34m(\u001b[0m\u001b[0;34m*\u001b[0m\u001b[0margs\u001b[0m\u001b[0;34m,\u001b[0m \u001b[0;34m**\u001b[0m\u001b[0mkwargs\u001b[0m\u001b[0;34m)\u001b[0m\u001b[0;34m:\u001b[0m\u001b[0;34m\u001b[0m\u001b[0;34m\u001b[0m\u001b[0m\n\u001b[1;32m    227\u001b[0m         \u001b[0;32mif\u001b[0m \u001b[0;32mnot\u001b[0m \u001b[0mget_debug\u001b[0m\u001b[0;34m(\u001b[0m\u001b[0;34m)\u001b[0m\u001b[0;34m:\u001b[0m\u001b[0;34m\u001b[0m\u001b[0;34m\u001b[0m\u001b[0m\n\u001b[0;32m--> 228\u001b[0;31m             \u001b[0;32mreturn\u001b[0m \u001b[0mf\u001b[0m\u001b[0;34m(\u001b[0m\u001b[0;34m*\u001b[0m\u001b[0margs\u001b[0m\u001b[0;34m,\u001b[0m \u001b[0;34m**\u001b[0m\u001b[0mkwargs\u001b[0m\u001b[0;34m)\u001b[0m\u001b[0;34m\u001b[0m\u001b[0;34m\u001b[0m\u001b[0m\n\u001b[0m\u001b[1;32m    229\u001b[0m         \u001b[0;32melse\u001b[0m\u001b[0;34m:\u001b[0m\u001b[0;34m\u001b[0m\u001b[0;34m\u001b[0m\u001b[0m\n\u001b[1;32m    230\u001b[0m             \u001b[0msr\u001b[0m\u001b[0;34m(\u001b[0m\u001b[0;34m'count'\u001b[0m\u001b[0;34m)\u001b[0m\u001b[0;34m\u001b[0m\u001b[0;34m\u001b[0m\u001b[0m\n",
      "\u001b[0;32m~/nest-build/lib/python3.8/site-packages/nest/lib/hl_api_connections.py\u001b[0m in \u001b[0;36mConnect\u001b[0;34m(pre, post, conn_spec, syn_spec, return_synapsecollection)\u001b[0m\n\u001b[1;32m    204\u001b[0m     \u001b[0;34m:\u001b[0m\u001b[0mref\u001b[0m\u001b[0;34m:\u001b[0m\u001b[0;31m`\u001b[0m\u001b[0mconnection_management\u001b[0m\u001b[0;31m`\u001b[0m\u001b[0;34m\u001b[0m\u001b[0;34m\u001b[0m\u001b[0m\n\u001b[1;32m    205\u001b[0m     \"\"\"\n\u001b[0;32m--> 206\u001b[0;31m     \u001b[0muse_connect_arrays\u001b[0m\u001b[0;34m,\u001b[0m \u001b[0mpre\u001b[0m\u001b[0;34m,\u001b[0m \u001b[0mpost\u001b[0m \u001b[0;34m=\u001b[0m \u001b[0m_process_input_nodes\u001b[0m\u001b[0;34m(\u001b[0m\u001b[0mpre\u001b[0m\u001b[0;34m,\u001b[0m \u001b[0mpost\u001b[0m\u001b[0;34m,\u001b[0m \u001b[0mconn_spec\u001b[0m\u001b[0;34m)\u001b[0m\u001b[0;34m\u001b[0m\u001b[0;34m\u001b[0m\u001b[0m\n\u001b[0m\u001b[1;32m    207\u001b[0m \u001b[0;34m\u001b[0m\u001b[0m\n\u001b[1;32m    208\u001b[0m     \u001b[0;31m# Converting conn_spec to dict, without putting it on the SLI stack.\u001b[0m\u001b[0;34m\u001b[0m\u001b[0;34m\u001b[0m\u001b[0;34m\u001b[0m\u001b[0m\n",
      "\u001b[0;32m~/nest-build/lib/python3.8/site-packages/nest/lib/hl_api_connection_helpers.py\u001b[0m in \u001b[0;36m_process_input_nodes\u001b[0;34m(pre, post, conn_spec)\u001b[0m\n\u001b[1;32m    295\u001b[0m         \u001b[0;31m# check dimension\u001b[0m\u001b[0;34m\u001b[0m\u001b[0;34m\u001b[0m\u001b[0;34m\u001b[0m\u001b[0m\n\u001b[1;32m    296\u001b[0m         \u001b[0;32mif\u001b[0m \u001b[0;32mnot\u001b[0m \u001b[0;34m(\u001b[0m\u001b[0mpre\u001b[0m\u001b[0;34m.\u001b[0m\u001b[0mndim\u001b[0m \u001b[0;34m==\u001b[0m \u001b[0;36m1\u001b[0m \u001b[0;32mand\u001b[0m \u001b[0mpost\u001b[0m\u001b[0;34m.\u001b[0m\u001b[0mndim\u001b[0m \u001b[0;34m==\u001b[0m \u001b[0;36m1\u001b[0m\u001b[0;34m)\u001b[0m\u001b[0;34m:\u001b[0m\u001b[0;34m\u001b[0m\u001b[0;34m\u001b[0m\u001b[0m\n\u001b[0;32m--> 297\u001b[0;31m             \u001b[0;32mraise\u001b[0m \u001b[0mValueError\u001b[0m\u001b[0;34m(\u001b[0m\u001b[0;34m\"Sources and targets must be 1-dimensional arrays\"\u001b[0m\u001b[0;34m)\u001b[0m\u001b[0;34m\u001b[0m\u001b[0;34m\u001b[0m\u001b[0m\n\u001b[0m\u001b[1;32m    298\u001b[0m \u001b[0;34m\u001b[0m\u001b[0m\n\u001b[1;32m    299\u001b[0m         \u001b[0muse_connect_arrays\u001b[0m \u001b[0;34m=\u001b[0m \u001b[0;32mTrue\u001b[0m\u001b[0;34m\u001b[0m\u001b[0;34m\u001b[0m\u001b[0m\n",
      "\u001b[0;31mValueError\u001b[0m: Sources and targets must be 1-dimensional arrays"
     ]
    }
   ],
   "source": [
    "# THIS WAS A SECOND IDEA ON HOW TO CONNECT THE NETWORK BUT -> to loop the array creation but not the nest connect command \n",
    "# so it doesnt get too heavy. so far it is not working.\n",
    "\n",
    "pre_list = []\n",
    "pos_list = []\n",
    "\n",
    "for i in range(0,len(synaptic_matrix)):\n",
    "    pre_list.append(s_nodes['global_id' == synaptic_matrix[i][0]])\n",
    "    pos_list.append(s_nodes['global_id' == synaptic_matrix[i][1]])\n",
    "\n",
    "    \n",
    "\n",
    "nest.Connect(pre_list,pos_list,conn_spec= \"one_to_one\")\n"
   ]
  },
  {
   "cell_type": "code",
   "execution_count": 14,
   "id": "cfd19f8f-31d5-4371-ba39-be40a52e6019",
   "metadata": {},
   "outputs": [
    {
     "data": {
      "image/png": "[encoded data removed]",
      "text/plain": [
       "<Figure size 864x720 with 2 Axes>"
      ]
     },
     "metadata": {
      "needs_background": "light"
     },
     "output_type": "display_data"
    }
   ],
   "source": [
    "##### HOW TO ENSURE THAT THE INFORMATION WAS PROPERLY INSERTED? THAT IS, THAT THE CONNECTIONS ARE EQUAL TO THE NEST ONES######\n",
    "# NO NEED TO PROVE THIS. BUT THIS CONN MATRIX, IF I MANAGE TO ORDER NEURONS BY THEIR TYPE, CAN PROVIDE INSIGHTS NONETHELESS\n",
    "conns = nest.GetConnections(s_nodes, s_nodes)  # This returns a SynapseCollection\n",
    "# We can get desired information of the SynapseCollection with simple get() call.\n",
    "g = conns.get(['source', 'target', 'weight'])\n",
    "srcs = g['source']\n",
    "tgts = g['target']\n",
    "weights = g['weight']\n",
    "\n",
    "# Plot the matrix consisting of the weights between the sources and targets\n",
    "plt.figure(figsize=(12, 10))\n",
    "plotMatrix(srcs, tgts, weights, 'Uniform weight', 121)"
   ]
  },
  {
   "cell_type": "code",
   "execution_count": 8,
   "id": "a57c4380-c642-42a7-ac17-7b0efe4ca204",
   "metadata": {},
   "outputs": [
    {
     "name": "stdout",
     "output_type": "stream",
     "text": [
      "Help on function Connect in module nest.lib.hl_api_connections:\n",
      "\n",
      "Connect(pre, post, conn_spec=None, syn_spec=None, return_synapsecollection=False)\n",
      "    Connect `pre` nodes to `post` nodes.\n",
      "    \n",
      "    Nodes in `pre` and `post` are connected using the specified connectivity\n",
      "    (`all-to-all` by default) and synapse type (:cpp:class:`static_synapse <nest::static_synapse>` by default).\n",
      "    Details depend on the connectivity rule.\n",
      "    \n",
      "    Parameters\n",
      "    ----------\n",
      "    pre : NodeCollection (or array-like object)\n",
      "        Presynaptic nodes, as object representing the IDs of the nodes\n",
      "    post : NodeCollection (or array-like object)\n",
      "        Postsynaptic nodes, as object representing the IDs of the nodes\n",
      "    conn_spec : str or dict, optional\n",
      "        Specifies connectivity rule, see below\n",
      "    syn_spec : str or dict, optional\n",
      "        Specifies synapse model, see below\n",
      "    return_synapsecollection: bool\n",
      "        Specifies whether or not we should return a :py:class:`.SynapseCollection` of pre and post connections\n",
      "    \n",
      "    Raises\n",
      "    ------\n",
      "    kernel.NESTError\n",
      "    \n",
      "    Notes\n",
      "    -----\n",
      "    It is possible to connect NumPy arrays of node IDs one-to-one by passing the arrays as `pre` and `post`,\n",
      "    specifying `'one_to_one'` for `conn_spec`.\n",
      "    In that case, the arrays may contain non-unique IDs.\n",
      "    You may also specify weight, delay, and receptor type for each connection as NumPy arrays in the `syn_spec`\n",
      "    dictionary.\n",
      "    This feature is currently not available when MPI is used; trying to connect arrays with more than one\n",
      "    MPI process will raise an error.\n",
      "    \n",
      "    If pre and post have spatial positions, a `mask` can be specified as a dictionary. The mask define which\n",
      "    nodes are considered as potential targets for each source node. Connections with spatial nodes can also\n",
      "    use `nest.spatial_distributions` as parameters, for instance for the probability `p`.\n",
      "    \n",
      "    **Connectivity specification (conn_spec)**\n",
      "    \n",
      "    Available rules and associated parameters::\n",
      "    \n",
      "     - 'all_to_all' (default)\n",
      "     - 'one_to_one'\n",
      "     - 'fixed_indegree', 'indegree'\n",
      "     - 'fixed_outdegree', 'outdegree'\n",
      "     - 'fixed_total_number', 'N'\n",
      "     - 'pairwise_bernoulli', 'p'\n",
      "     - 'symmetric_pairwise_bernoulli', 'p'\n",
      "    \n",
      "    See :ref:`conn_rules` for more details, including example usage.\n",
      "    \n",
      "    **Synapse specification (syn_spec)**\n",
      "    \n",
      "    The synapse model and its properties can be given either as a string\n",
      "    identifying a specific synapse model (default: :cpp:class:`static_synapse <nest::static_synapse>`) or\n",
      "    as a dictionary specifying the synapse model and its parameters.\n",
      "    \n",
      "    Available keys in the synapse specification dictionary are::\n",
      "    \n",
      "     - 'synapse_model'\n",
      "     - 'weight'\n",
      "     - 'delay'\n",
      "     - 'receptor_type'\n",
      "     - any parameters specific to the selected synapse model.\n",
      "    \n",
      "    See :ref:`synapse_spec` for details, including example usage.\n",
      "    \n",
      "    All parameters are optional and if not specified, the default values\n",
      "    of the synapse model will be used. The key 'synapse_model' identifies the\n",
      "    synapse model, this can be one of NEST's built-in synapse models\n",
      "    or a user-defined model created via :py:func:`.CopyModel`.\n",
      "    \n",
      "    If `synapse_model` is not specified the default model :cpp:class:`static_synapse <nest::static_synapse>`\n",
      "    will be used.\n",
      "    \n",
      "    Distributed parameters can be defined through NEST's different parametertypes. NEST has various\n",
      "    random parameters, spatial parameters and distributions (only accesseable for nodes with spatial positions),\n",
      "    logical expressions and mathematical expressions, which can be used to define node and connection parameters.\n",
      "    \n",
      "    To see all available parameters, see documentation defined in distributions, logic, math,\n",
      "    random and spatial modules.\n",
      "    \n",
      "    See Also\n",
      "    ---------\n",
      "    :ref:`connection_management`\n",
      "\n"
     ]
    }
   ],
   "source": [
    "help(nest.Connect)"
   ]
  },
  {
   "cell_type": "code",
   "execution_count": null,
   "id": "d412269b-e2f0-4739-bc5d-436d108b5782",
   "metadata": {},
   "outputs": [],
   "source": []
  }
 ],
 "metadata": {
  "kernelspec": {
   "display_name": "Python 3",
   "language": "python",
   "name": "python3"
  },
  "language_info": {
   "codemirror_mode": {
    "name": "ipython",
    "version": 3
   },
   "file_extension": ".py",
   "mimetype": "text/x-python",
   "name": "python",
   "nbconvert_exporter": "python",
   "pygments_lexer": "ipython3",
   "version": "3.8.10"
  }
 },
 "nbformat": 4,
 "nbformat_minor": 5
}
