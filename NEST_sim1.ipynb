{
 "cells": [
  {
   "cell_type": "markdown",
   "id": "0f53cdd6-1d0b-4d4a-9b57-479ddd839bdb",
   "metadata": {},
   "source": [
    "# NEST SIMULATION \n",
    "##### 1. IMPORTING RELEVANT DATA FROM SNUDDA GENERATED NEURON FILES:\\\n",
    "    a) Neuron Matrix: to keep the info of neuron types \\\n",
    "    b) Synaptic Matrix: Where each row has the info of [preID, posID] of one synapse \\\n",
    "    for now every synapse will have the same properties, no matter the types of neurons\\\n",
    "    (later we can add more info on this matrix that will help set the type of synapses used for each)\\\n",
    "    c*) (optional/not really relevant but already available) Positions: matrix with coordinates for each neuron position\\\n",
    "    d) Info about the input given to the neurons\n",
    "##### 2) CREATING THE NEST NETWORK \\\n",
    "    a) Create the neurons (the correct # of neurons, in their posiiton*)\\\n",
    "    b) Connect the neurons (for loop with Synaptic Matrix as info)\\\n",
    "    c) Connect the measuring devices to the neurons in order to observe spiking and voltage \\\n",
    "    d) Create the spike generators to feed the input \n",
    "##### 3) RUN THE SIM\n",
    "    "
   ]
  },
  {
   "cell_type": "markdown",
   "id": "48e31ff2-5b96-4d7f-9043-5648f4f7466c",
   "metadata": {},
   "source": [
    "### 0. LIBRARIES"
   ]
  },
  {
   "cell_type": "code",
   "execution_count": 1,
   "id": "d8777fd1-29da-4ca2-a674-2e6fd5b5d355",
   "metadata": {},
   "outputs": [],
   "source": [
    "import nest\n",
    "import matplotlib.pyplot as plt\n",
    "\n",
    "from getData import *\n",
    "from plot import *"
   ]
  },
  {
   "cell_type": "markdown",
   "id": "3a743f8f-4080-4b00-9da1-70920638efc2",
   "metadata": {},
   "source": [
    "### 1. IMPORTING DATA"
   ]
  },
  {
   "cell_type": "code",
   "execution_count": 2,
   "id": "00adf908-bae4-4d20-9e01-2d2cf9e084c9",
   "metadata": {
    "tags": []
   },
   "outputs": [],
   "source": [
    "positions_list = getNeuronPositions('net_100')\n",
    "\n",
    "synaptic_matrix = getSynapses('net_100')\n",
    "\n",
    "input_matrix = getInput('net_100', 100)"
   ]
  },
  {
   "cell_type": "markdown",
   "id": "9be59dd0-649e-4e30-bddf-16ec2af79840",
   "metadata": {},
   "source": [
    "### 2. CREATING THE NEST NETWORK"
   ]
  },
  {
   "cell_type": "markdown",
   "id": "03bcf937-bde9-4492-be67-9d85e83c9264",
   "metadata": {},
   "source": [
    "Here we create a position list, with the coordinates of each neuron of the network.\n",
    "(This first step is not necessary, since the spatial distribution of the network does not influence the NEST simulation.)"
   ]
  },
  {
   "cell_type": "code",
   "execution_count": 3,
   "id": "ccc8d85d-a09d-428d-aeb5-23ae3ffe47af",
   "metadata": {},
   "outputs": [],
   "source": [
    "pos = nest.spatial.free(positions_list) # using NEURON positions"
   ]
  },
  {
   "cell_type": "markdown",
   "id": "f6826545-72e8-4fab-bdde-0e3e7ea1e125",
   "metadata": {},
   "source": [
    "Now we create all the neurons at once, with same characteristics. They are all conductance based integrate and fire model, with the default parameters of nest.\\\n",
    "(to accomodate differente models, this will have to be upgraded, so that the creation parameters can change according to type. once this is done changes in the connection protocol will be needed, bc they wont all be in the same population) [idea: if possible to apply changes with \"set\" command instead of in the moment of creation, to make it easier]"
   ]
  },
  {
   "cell_type": "code",
   "execution_count": 4,
   "id": "37c9839c-ed19-4d95-a684-c2b8f1586aed",
   "metadata": {},
   "outputs": [],
   "source": [
    "s_nodes = nest.Create(\"iaf_cond_alpha\", 99, positions=pos) "
   ]
  },
  {
   "cell_type": "markdown",
   "id": "e7b48a59-0f9f-4b03-8b33-7e15fd17c0d0",
   "metadata": {},
   "source": [
    "With the info of the synaptic matrix, we create the pre-synaptic as post-synaptic neuron ID lists, and transform them into numpy arrays"
   ]
  },
  {
   "cell_type": "code",
   "execution_count": 5,
   "id": "ef58bd26-53ef-4f21-bc1d-7ed53b42f5e0",
   "metadata": {
    "tags": []
   },
   "outputs": [],
   "source": [
    "pre_list = []\n",
    "pos_list = []\n",
    "\n",
    "for i in range(0,len(synaptic_matrix)):\n",
    "    pre_list.append(s_nodes[synaptic_matrix[i][0]])\n",
    "    pos_list.append(s_nodes[synaptic_matrix[i][1]])\n",
    "    \n",
    "pre_array = np.transpose(np.array(pre_list)).flatten()\n",
    "pos_array = np.transpose(np.array(pos_list)).flatten()"
   ]
  },
  {
   "cell_type": "markdown",
   "id": "e23d760f-f727-4f94-a92a-9cc9b6dcbe8b",
   "metadata": {},
   "source": [
    "With the arrays ready, we can connect the synapses all in one command.\n",
    "(again here, if we wish to have different parameters and arguments for each synapse, a more complex solution is necessary.)"
   ]
  },
  {
   "cell_type": "code",
   "execution_count": 6,
   "id": "4cb6eb04-9ed5-456e-928f-dcfaf8ccc6f5",
   "metadata": {},
   "outputs": [],
   "source": [
    "nest.Connect(pre_array,pos_array,conn_spec= \"one_to_one\")"
   ]
  },
  {
   "cell_type": "markdown",
   "id": "cbd324b5-094c-4d61-8c93-563be405a750",
   "metadata": {},
   "source": [
    "Now onto the creation of the Spike Generators."
   ]
  },
  {
   "cell_type": "code",
   "execution_count": 7,
   "id": "c3b0f3c9-1a3e-4d82-8e7f-bae4b4644e0c",
   "metadata": {
    "tags": []
   },
   "outputs": [],
   "source": [
    "inputs = nest.Create(\"spike_generator\", 99)"
   ]
  },
  {
   "cell_type": "code",
   "execution_count": 8,
   "id": "345ef1b2-e9b6-4efe-a5b9-aa47a85913aa",
   "metadata": {},
   "outputs": [],
   "source": [
    "for g, generator in enumerate(inputs):\n",
    "\n",
    "    nest.SetStatus(generator, {\"spike_times\": input_matrix[g]})"
   ]
  },
  {
   "cell_type": "code",
   "execution_count": 9,
   "id": "f7ee0287-98e2-47f7-a780-7a464f815734",
   "metadata": {},
   "outputs": [],
   "source": [
    "spikerecorder = nest.Create(\"spike_recorder\")"
   ]
  },
  {
   "cell_type": "code",
   "execution_count": 10,
   "id": "ffd81c76-2b9b-439f-8bb2-f633bfa3776e",
   "metadata": {},
   "outputs": [],
   "source": [
    "nest.Connect(inputs,s_nodes, conn_spec= \"one_to_one\")"
   ]
  },
  {
   "cell_type": "code",
   "execution_count": 11,
   "id": "e9f918fa-a3c4-48b6-8b0b-f0cca1aad966",
   "metadata": {},
   "outputs": [],
   "source": [
    "nest.Connect(s_nodes,spikerecorder, conn_spec= \"all_to_all\")"
   ]
  },
  {
   "cell_type": "code",
   "execution_count": 12,
   "id": "0ca7ffdd-55a2-4ccb-a5ef-547632d25819",
   "metadata": {},
   "outputs": [],
   "source": [
    "multimeter = nest.Create(\"multimeter\")\n",
    "multimeter.set(record_from=[\"V_m\"])\n",
    "nest.Connect(multimeter,s_nodes[0])"
   ]
  },
  {
   "cell_type": "markdown",
   "id": "a2c1e446-18d3-4571-82f8-de8a142a9eee",
   "metadata": {},
   "source": [
    "### RUNNING THE SIMULATION\n",
    "Here we are using a total run itme of 2000 ms (and the default step of simulation of 0.1 ms)"
   ]
  },
  {
   "cell_type": "code",
   "execution_count": 13,
   "id": "bd730fa7-1fab-415f-afd2-29806e7a2554",
   "metadata": {},
   "outputs": [],
   "source": [
    "nest.Simulate(2000.0)"
   ]
  },
  {
   "cell_type": "markdown",
   "id": "fcff3255-eca8-4f26-9360-4d29cefa45f6",
   "metadata": {},
   "source": [
    "### ANALYSING THE RESULTS"
   ]
  },
  {
   "cell_type": "code",
   "execution_count": 14,
   "id": "d1065081-332b-490d-afb9-27ceedf076e4",
   "metadata": {},
   "outputs": [
    {
     "data": {
      "image/png": "[encoded data removed]",
      "text/plain": [
       "<Figure size 432x288 with 1 Axes>"
      ]
     },
     "metadata": {
      "needs_background": "light"
     },
     "output_type": "display_data"
    }
   ],
   "source": [
    "dmm = multimeter.get()\n",
    "Vms = dmm[\"events\"][\"V_m\"]\n",
    "ts = dmm[\"events\"][\"times\"]\n",
    "\n",
    "plt.figure(1)\n",
    "plt.plot(ts, Vms)\n",
    "plt.show()"
   ]
  },
  {
   "cell_type": "code",
   "execution_count": 16,
   "id": "13595846-b40e-4745-bc34-381c3cf93bd4",
   "metadata": {},
   "outputs": [
    {
     "data": {
      "image/png": "[encoded data removed]",
      "text/plain": [
       "<Figure size 432x288 with 1 Axes>"
      ]
     },
     "metadata": {
      "needs_background": "light"
     },
     "output_type": "display_data"
    }
   ],
   "source": [
    "dSD = spikerecorder.get(\"events\")\n",
    "evs = dSD[\"senders\"]\n",
    "ts = dSD[\"times\"]\n",
    "plt.figure(2)\n",
    "plt.plot(ts, evs, \".\")\n",
    "plt.show()"
   ]
  },
  {
   "cell_type": "code",
   "execution_count": 17,
   "id": "6909c274-33c9-42d0-b88c-fcf1d25a0cde",
   "metadata": {},
   "outputs": [
    {
     "name": "stdout",
     "output_type": "stream",
     "text": [
      "Senders of events(IDs) : []\n",
      "Spike times:  []\n"
     ]
    }
   ],
   "source": [
    "print(\"Senders of events(IDs) :\", evs)\n",
    "print(\"Spike times: \", ts)"
   ]
  },
  {
   "cell_type": "markdown",
   "id": "72b2673c-67b2-4e65-b934-5315674524ac",
   "metadata": {},
   "source": [
    "### OTHERS"
   ]
  },
  {
   "cell_type": "code",
   "execution_count": 14,
   "id": "cfd19f8f-31d5-4371-ba39-be40a52e6019",
   "metadata": {
    "collapsed": true,
    "jupyter": {
     "outputs_hidden": true
    },
    "tags": []
   },
   "outputs": [
    {
     "data": {
      "image/png": "[encoded data removed]",
      "text/plain": [
       "<Figure size 864x720 with 2 Axes>"
      ]
     },
     "metadata": {
      "needs_background": "light"
     },
     "output_type": "display_data"
    }
   ],
   "source": [
    "##### HOW TO ENSURE THAT THE INFORMATION WAS PROPERLY INSERTED? THAT IS, THAT THE CONNECTIONS ARE EQUAL TO THE NEST ONES######\n",
    "# NO NEED TO PROVE THIS. BUT THIS CONN MATRIX, IF I MANAGE TO ORDER NEURONS BY THEIR TYPE, CAN PROVIDE INSIGHTS NONETHELESS\n",
    "conns = nest.GetConnections(s_nodes, s_nodes)  # This returns a SynapseCollection\n",
    "# We can get desired information of the SynapseCollection with simple get() call.\n",
    "g = conns.get(['source', 'target', 'weight'])\n",
    "srcs = g['source']\n",
    "tgts = g['target']\n",
    "weights = g['weight']\n",
    "\n",
    "# Plot the matrix consisting of the weights between the sources and targets\n",
    "plt.figure(figsize=(12, 10))\n",
    "plotMatrix(srcs, tgts, weights, 'Uniform weight', 121)"
   ]
  },
  {
   "cell_type": "code",
   "execution_count": 44,
   "id": "a57c4380-c642-42a7-ac17-7b0efe4ca204",
   "metadata": {
    "collapsed": true,
    "jupyter": {
     "outputs_hidden": true
    },
    "tags": []
   },
   "outputs": [
    {
     "name": "stdout",
     "output_type": "stream",
     "text": [
      "Help on function Models in module nest.lib.hl_api_models:\n",
      "\n",
      "Models(mtype='all', sel=None)\n",
      "    Return a tuple of model names, sorted by name.\n",
      "    \n",
      "    All available models are neurons, devices and synapses.\n",
      "    \n",
      "    Parameters\n",
      "    ----------\n",
      "    mtype : str, optional\n",
      "        Use ``'mtype='nodes'`` to only see neuron and device models,\n",
      "        or ``'type='synapses'`` to only see synapse models.\n",
      "    sel : str, optional\n",
      "        String used to filter the result list and only return models\n",
      "        containing it.\n",
      "    \n",
      "    Returns\n",
      "    -------\n",
      "    tuple\n",
      "        Available model names\n",
      "    \n",
      "    Raises\n",
      "    ------\n",
      "    ValueError\n",
      "        Description\n",
      "    \n",
      "    Notes\n",
      "    -----\n",
      "    - Synapse model names ending with ``'_hpc'`` provide minimal memory\n",
      "      requirements by using thread-local target neuron IDs and fixing\n",
      "      the ``'rport'`` to 0.\n",
      "    - Synapse model names ending with ``'_lbl'`` allow to assign an individual\n",
      "      integer label (``'synapse_label'``) to created synapses at the cost\n",
      "      of increased memory requirements.\n",
      "\n"
     ]
    }
   ],
   "source": [
    "help(nest.Models)"
   ]
  }
 ],
 "metadata": {
  "kernelspec": {
   "display_name": "Python 3",
   "language": "python",
   "name": "python3"
  },
  "language_info": {
   "codemirror_mode": {
    "name": "ipython",
    "version": 3
   },
   "file_extension": ".py",
   "mimetype": "text/x-python",
   "name": "python",
   "nbconvert_exporter": "python",
   "pygments_lexer": "ipython3",
   "version": "3.8.10"
  }
 },
 "nbformat": 4,
 "nbformat_minor": 5
}
