{
 "cells": [
  {
   "cell_type": "code",
   "execution_count": 18,
   "id": "boolean-score",
   "metadata": {},
   "outputs": [],
   "source": [
    "import numpy as np\n",
    "import h5py\n",
    "import pandas as pd\n",
    "import matplotlib\n",
    "import matplotlib.pyplot as plt"
   ]
  },
  {
   "cell_type": "code",
   "execution_count": 19,
   "id": "extra-saver",
   "metadata": {},
   "outputs": [],
   "source": [
    "def plotNeuronalDistribution(path):\n",
    "    '''\n",
    "    Given the path to a network folder 'Snudda/networks/XXXXX'\n",
    "    Plots 2 pie charts representing the neuron type distribution\n",
    "    \n",
    "    '''\n",
    "    \n",
    "    file_path = path + '/network-neuron-positions.hdf5'\n",
    "    \n",
    "    with h5py.File(file_path, 'r') as file:\n",
    "        neurons = (file.get('network')).get('neurons')\n",
    "        neuronID = np.array(neurons.get('neuronID'))\n",
    "        morphology = np.array(neurons.get('morphology'))\n",
    "    \n",
    "\n",
    "    neuron_type = []\n",
    "\n",
    "    for i in range (0, morphology.size) :\n",
    "        neuron_type.append(str(morphology[i]))\n",
    "\n",
    "#maybe this loop can be erased, if it is going to make the process lengthy (finding and replacing every neuron).\n",
    "#we can leave the neuron_type as is, with the long doc path, and just change the name at the end, for printing\n",
    "    for i in range (0, len(neuron_type)):\n",
    "        if \"dspn\" in neuron_type[i]:\n",
    "            neuron_type[i] = \"DSPN\"\n",
    "        elif ('ispn' in neuron_type[i]) :\n",
    "            neuron_type[i] = \"ISPN\"\n",
    "        elif 'lts' in neuron_type[i] :\n",
    "            neuron_type[i] = \"LTS\"\n",
    "        elif 'fs' in neuron_type[i] :\n",
    "            neuron_type[i] = \"FS\"\n",
    "        elif 'chin' in neuron_type[i] :\n",
    "            neuron_type[i] = \"ChIN\"        \n",
    "    structure_df = {'neuronID': neuronID, 'neuron_type': neuron_type}\n",
    "    df = pd.DataFrame(data=structure_df)\n",
    "    cond = (df['neuron_type'] == 'LTS') | (df['neuron_type'] == 'FS') | (df['neuron_type'] == 'ChIN')\n",
    "  \n",
    "    #df.mask(cond,'Interneurons')['neuron_type'].value_counts().plot(kind='pie').plot(kind='pie')\n",
    "       \n",
    "    #i tried to make this plot in one line only but didnt figure out how\n",
    "    df_interneurons = df[cond]\n",
    "    #df_interneurons['neuron_type'].value_counts().plot(kind='pie')\n",
    "    \n",
    "    %matplotlib widget\n",
    "    fig = plt.figure()\n",
    "\n",
    "    ax = fig.add_subplot(1,4,1) # 2,1,1 means: 2:two rows, 1: one column, 1: first plot\n",
    "    graph_1 = df.mask(cond,'Interneurons')['neuron_type'].value_counts().plot(kind='pie',autopct='%1.1f%%', radius=2)\n",
    "\n",
    "    ax2 = fig.add_subplot(1,4,4) # 2,1,2 means: 2:two rows, 1: one column, 1: second plot\n",
    "    graph_2 = df_interneurons['neuron_type'].value_counts().plot(kind='pie',autopct='%1.1f%%', radius = 2)\n",
    "    return()"
   ]
  },
  {
   "cell_type": "code",
   "execution_count": 20,
   "id": "incomplete-garbage",
   "metadata": {},
   "outputs": [],
   "source": [
    "def plotTraces(path):\n",
    "    '''\n",
    "    Given the path to a network folder 'Snudda/networks/XXXXX'\n",
    "    Plots the traces of randomly selected neurons of each type\n",
    "    '''\n",
    "    file_path1 = path + '/network-neuron-positions.hdf5'\n",
    "    \n",
    "    with h5py.File(file_path1, 'r') as file:\n",
    "        neurons = (file.get('network')).get('neurons')\n",
    "        neuronID = np.array(neurons.get('neuronID'))\n",
    "        morphology = np.array(neurons.get('morphology'))\n",
    "    \n",
    "\n",
    "    neuron_type = []\n",
    "\n",
    "    for i in range (0, morphology.size) :\n",
    "        neuron_type.append(str(morphology[i]))\n",
    "\n",
    "#maybe this loop can be erased, if it is going to make the process lengthy (finding and replacing every neuron).\n",
    "#we can leave the neuron_type as is, with the long doc path, and just change the name at the end, for printing\n",
    "    for i in range (0, len(neuron_type)):\n",
    "        if \"dspn\" in neuron_type[i]:\n",
    "            neuron_type[i] = \"DSPN\"\n",
    "        elif ('ispn' in neuron_type[i]) :\n",
    "            neuron_type[i] = \"ISPN\"\n",
    "        elif 'lts' in neuron_type[i] :\n",
    "            neuron_type[i] = \"LTS\"\n",
    "        elif 'fs' in neuron_type[i] :\n",
    "            neuron_type[i] = \"FS\"\n",
    "        elif 'chin' in neuron_type[i] :\n",
    "            neuron_type[i] = \"ChIN\"            \n",
    "    structure_df = {'neuronID': neuronID, 'neuron_type': neuron_type}\n",
    "    df = pd.DataFrame(data=structure_df)\n",
    "    #cond = (df['neuron_type'] == 'LTS') | (df['neuron_type'] == 'FS') | (df['neuron_type'] == 'ChIN')\n",
    "    #df_interneurons = df[cond]\n",
    "\n",
    "    \n",
    "    file_path = path + '/simulation/volt.txt'\n",
    "    \n",
    "    with open(file_path, 'r') as file:\n",
    "        volt = file.readlines()\n",
    "\n",
    "    time = np.array(volt[0].split(\",\"),float)\n",
    "    volt = volt[1:]\n",
    "    volt_2 =[]\n",
    "    for i in range(0,len(volt)):\n",
    "        volt_2.append(np.array(volt[i].split(\",\"),float))\n",
    "    print(volt_2[0])\n",
    "\n",
    "    fig = plt.figure()\n",
    "\n",
    "    ax = fig.add_subplot(1,2,1) # 2,1,1 means: 2:two rows, 1: one column, 1: first plot\n",
    "    graph_1 = df.mask(cond,'Interneurons')['neuron_type'].value_counts().plot(kind='pie').plot(kind='pie')\n",
    "\n",
    "    ax2 = fig.add_subplot(1,2,2) # 2,1,2 means: 2:two rows, 1: one column, 1: second plot\n",
    "    graph_2 = df_interneurons['neuron_type'].value_counts().plot(kind='pie')\n",
    "    return()"
   ]
  },
  {
   "cell_type": "raw",
   "id": "assisted-stand",
   "metadata": {},
   "source": [
    "def plotRaster(path):\n",
    "    '''\n",
    "    Given the path to a network folder 'Snudda/networks/XXXXX'\n",
    "    Plots the raster of the neuronal activity during the simulation\n",
    "    \n",
    "    '''\n",
    "    \n",
    "    file = path + '/simulation/network-output-spikes-666.txt'\n",
    "    \n",
    "    with open(\"Snudda/networks/tinySim/simulation/volt.txt\", 'r') as volt_txt:\n",
    "        volt = volt_txt.readlines()\n",
    "\n",
    "    time = np.array(volt[0].split(\",\"),float)\n",
    "    volt = volt[1:]\n",
    "    volt_2 =[]\n",
    "    for i in range(0,len(volt)):\n",
    "        volt_2.append(np.array(volt[i].split(\",\"),float))\n",
    "    print(volt_2[0])\n",
    "\n",
    "    fig = plt.figure()\n",
    "\n",
    "    ax = fig.add_subplot(1,2,1) # 2,1,1 means: 2:two rows, 1: one column, 1: first plot\n",
    "    graph_1 = df.mask(cond,'Interneurons')['neuron_type'].value_counts().plot(kind='pie').plot(kind='pie')\n",
    "\n",
    "    ax2 = fig.add_subplot(1,2,2) # 2,1,2 means: 2:two rows, 1: one column, 1: second plot\n",
    "    graph_2 = df_interneurons['neuron_type'].value_counts().plot(kind='pie')\n",
    "    return()"
   ]
  },
  {
   "cell_type": "code",
   "execution_count": 27,
   "id": "unavailable-password",
   "metadata": {},
   "outputs": [
    {
     "data": {
      "application/vnd.jupyter.widget-view+json": {
       "model_id": "9e624c4d889d4109ac857d4443e02c76",
       "version_major": 2,
       "version_minor": 0
      },
      "text/plain": [
       "Canvas(toolbar=Toolbar(toolitems=[('Home', 'Reset original view', 'home', 'home'), ('Back', 'Back to previous …"
      ]
     },
     "metadata": {},
     "output_type": "display_data"
    },
    {
     "data": {
      "application/vnd.jupyter.widget-view+json": {
       "model_id": "257ecd38523b4df59ccaa9390790ef84",
       "version_major": 2,
       "version_minor": 0
      },
      "text/plain": [
       "Canvas(toolbar=Toolbar(toolitems=[('Home', 'Reset original view', 'home', 'home'), ('Back', 'Back to previous …"
      ]
     },
     "metadata": {},
     "output_type": "display_data"
    },
    {
     "data": {
      "application/vnd.jupyter.widget-view+json": {
       "model_id": "25bc4a6f3e42464cb7671c8e4091aa3e",
       "version_major": 2,
       "version_minor": 0
      },
      "text/plain": [
       "Canvas(toolbar=Toolbar(toolitems=[('Home', 'Reset original view', 'home', 'home'), ('Back', 'Back to previous …"
      ]
     },
     "metadata": {},
     "output_type": "display_data"
    },
    {
     "data": {
      "text/plain": [
       "()"
      ]
     },
     "execution_count": 27,
     "metadata": {},
     "output_type": "execute_result"
    }
   ],
   "source": [
    "plotNeuronalDistribution('Snudda/networks/tinySim')\n",
    "plotNeuronalDistribution('Snudda/networks/net_1000')\n",
    "plotNeuronalDistribution('Snudda/networks/net_10000')\n"
   ]
  },
  {
   "cell_type": "code",
   "execution_count": 24,
   "id": "abroad-response",
   "metadata": {},
   "outputs": [
    {
     "data": {
      "application/vnd.jupyter.widget-view+json": {
       "model_id": "5b9ef5fdcb324a42988ca7b6cc664f17",
       "version_major": 2,
       "version_minor": 0
      },
      "text/plain": [
       "Canvas(toolbar=Toolbar(toolitems=[('Home', 'Reset original view', 'home', 'home'), ('Back', 'Back to previous …"
      ]
     },
     "metadata": {},
     "output_type": "display_data"
    },
    {
     "data": {
      "text/plain": [
       "()"
      ]
     },
     "execution_count": 24,
     "metadata": {},
     "output_type": "execute_result"
    }
   ],
   "source": [
    "plotNeuronalDistribution('Snudda/networks/net_1000')\n"
   ]
  },
  {
   "cell_type": "code",
   "execution_count": 26,
   "id": "introductory-resistance",
   "metadata": {},
   "outputs": [
    {
     "data": {
      "application/vnd.jupyter.widget-view+json": {
       "model_id": "8e7fabc234454d8cbfd5b23117730fab",
       "version_major": 2,
       "version_minor": 0
      },
      "text/plain": [
       "Canvas(toolbar=Toolbar(toolitems=[('Home', 'Reset original view', 'home', 'home'), ('Back', 'Back to previous …"
      ]
     },
     "metadata": {},
     "output_type": "display_data"
    },
    {
     "data": {
      "text/plain": [
       "()"
      ]
     },
     "execution_count": 26,
     "metadata": {},
     "output_type": "execute_result"
    }
   ],
   "source": [
    "plotNeuronalDistribution('Snudda/networks/net_10000')\n"
   ]
  },
  {
   "cell_type": "code",
   "execution_count": 15,
   "id": "preliminary-feedback",
   "metadata": {},
   "outputs": [
    {
     "name": "stdout",
     "output_type": "stream",
     "text": [
      "[  0.     -86.     -87.85   -88.0498 -88.1834 -88.295  -88.3937 -88.483\n",
      " -88.5645 -88.6392 -88.7078 -88.7246 -88.6419 -88.5493 -88.4677 -88.4029\n",
      " -88.3556 -88.3244 -88.3074 -88.2621 -88.1278 -87.9956 -87.8847 -87.799\n",
      " -87.7379 -87.6962 -87.6357 -87.5528 -87.4702 -87.3833 -87.2779 -87.1706\n",
      " -87.0755 -86.9892 -86.854  -86.7109 -86.5836 -86.4808 -86.4052 -86.3561\n",
      " -86.3314 -86.3284 -86.2419 -86.105  -85.9951 -85.9188 -85.8747 -85.8593\n",
      " -85.8685 -85.8937 -85.8505 -85.7543 -85.613  -85.4765 -85.363  -85.2796\n",
      " -85.2278 -85.2052 -85.186  -85.1497 -85.0243 -84.7819 -84.4427 -84.1216\n",
      " -83.8381 -83.5541 -83.3042 -83.1048 -82.9596 -82.8663 -82.8201 -82.8152\n",
      " -82.8455 -82.9055 -82.9901 -83.0789 -83.1336 -83.1757 -83.2233 -83.2847\n",
      " -83.345  -83.3612 -83.3685 -83.3854 -83.4125 -83.4211 -83.4199 -83.4262\n",
      " -83.449  -83.4913 -83.5531 -83.6326 -83.7275 -83.8355 -83.9534 -84.0517\n",
      " -84.1143 -84.0907 -84.0179 -83.9508 -83.9074 -83.8917 -83.903  -83.9385\n",
      " -83.9954 -84.0702 -84.16   -84.262  -84.3738 -84.4933 -84.6185 -84.748\n",
      " -84.8804 -85.0146 -85.1495 -85.2844 -85.4185 -85.5513 -85.6822 -85.8109\n",
      " -85.9369 -86.0601 -86.1801 -86.2969 -86.4102 -86.5199 -86.5993 -86.59\n",
      " -86.5026 -86.3856 -86.2721 -86.1775 -86.1068 -86.0603 -86.0318 -85.9057\n",
      " -85.7201 -85.5338 -85.3677 -85.2306 -85.1249 -85.05   -85.0036 -84.9828\n",
      " -84.9842 -85.0047 -85.0415 -85.0919 -85.1536 -85.2245 -85.3029 -85.3873\n",
      " -85.4763 -85.5688 -85.6639 -85.7606 -85.8584 -85.9565 -86.0544 -86.1516\n",
      " -86.2479 -86.3428 -86.436  -86.5274 -86.6166 -86.7037 -86.7884 -86.8706\n",
      " -86.9503 -87.0275 -87.102  -87.1739 -87.232  -87.2153 -87.0858 -86.8724\n",
      " -86.589  -86.294  -86.022  -85.7865 -85.5785 -85.3676 -85.1673 -84.9939\n",
      " -84.854  -84.7483 -84.675  -84.6308 -84.6122 -84.6157 -84.6381 -84.6766\n",
      " -84.7285 -84.7916 -84.864  -84.9439 -85.0296 -85.0742 -85.0426 -84.8491\n",
      " -84.6078 -84.3793]\n"
     ]
    },
    {
     "data": {
      "application/vnd.jupyter.widget-view+json": {
       "model_id": "47422ddbbe294ea4a77d650af3902a20",
       "version_major": 2,
       "version_minor": 0
      },
      "text/plain": [
       "Canvas(toolbar=Toolbar(toolitems=[('Home', 'Reset original view', 'home', 'home'), ('Back', 'Back to previous …"
      ]
     },
     "metadata": {},
     "output_type": "display_data"
    },
    {
     "data": {
      "text/plain": [
       "()"
      ]
     },
     "execution_count": 15,
     "metadata": {},
     "output_type": "execute_result"
    }
   ],
   "source": [
    "plotTraces('Snudda/networks/tinySim')"
   ]
  },
  {
   "cell_type": "code",
   "execution_count": null,
   "id": "concerned-beijing",
   "metadata": {},
   "outputs": [],
   "source": []
  }
 ],
 "metadata": {
  "kernelspec": {
   "display_name": "Python 3",
   "language": "python",
   "name": "python3"
  },
  "language_info": {
   "codemirror_mode": {
    "name": "ipython",
    "version": 3
   },
   "file_extension": ".py",
   "mimetype": "text/x-python",
   "name": "python",
   "nbconvert_exporter": "python",
   "pygments_lexer": "ipython3",
   "version": "3.8.5"
  }
 },
 "nbformat": 4,
 "nbformat_minor": 5
}
