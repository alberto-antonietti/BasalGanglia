{
 "cells": [
  {
   "cell_type": "code",
   "execution_count": 4,
   "id": "e99e0174-9281-44b7-95d1-22f6472b04d6",
   "metadata": {},
   "outputs": [],
   "source": [
    "from ipywidgets import *\n",
    "import matplotlib.pyplot as plt "
   ]
  },
  {
   "cell_type": "code",
   "execution_count": 5,
   "id": "boolean-score",
   "metadata": {},
   "outputs": [],
   "source": [
    "import numpy as np\n",
    "import h5py\n",
    "import pandas as pd"
   ]
  },
  {
   "cell_type": "code",
   "execution_count": 6,
   "id": "extra-saver",
   "metadata": {},
   "outputs": [],
   "source": [
    "def plotNeuronalDistribution(path):\n",
    "    '''\n",
    "    Given the path to a network folder 'Snudda/networks/XXXXX'\n",
    "    Plots 2 pie charts representing the neuron type distribution\n",
    "    \n",
    "    '''\n",
    "    \n",
    "    file_path = path + '/network-neuron-positions.hdf5'\n",
    "    \n",
    "    with h5py.File(file_path, 'r') as file:\n",
    "        neurons = (file.get('network')).get('neurons')\n",
    "        neuronID = np.array(neurons.get('neuronID'))\n",
    "        morphology = np.array(neurons.get('morphology'))\n",
    "    \n",
    "\n",
    "    neuron_type = []\n",
    "\n",
    "    for i in range (0, morphology.size) :\n",
    "        neuron_type.append(str(morphology[i]))\n",
    "\n",
    "#maybe this loop can be erased, if it is going to make the process lengthy (finding and replacing every neuron).\n",
    "#we can leave the neuron_type as is, with the long doc path, and just change the name at the end, for printing\n",
    "    for i in range (0, len(neuron_type)):\n",
    "        if \"dspn\" in neuron_type[i]:\n",
    "            neuron_type[i] = \"DSPN\"\n",
    "        elif ('ispn' in neuron_type[i]) :\n",
    "            neuron_type[i] = \"ISPN\"\n",
    "        elif 'lts' in neuron_type[i] :\n",
    "            neuron_type[i] = \"LTS\"\n",
    "        elif 'fs' in neuron_type[i] :\n",
    "            neuron_type[i] = \"FS\"\n",
    "        elif 'chin' in neuron_type[i] :\n",
    "            neuron_type[i] = \"ChIN\"        \n",
    "    structure_df = {'neuronID': neuronID, 'neuron_type': neuron_type}\n",
    "    df = pd.DataFrame(data=structure_df)\n",
    "    cond = (df['neuron_type'] == 'LTS') | (df['neuron_type'] == 'FS') | (df['neuron_type'] == 'ChIN')\n",
    "  \n",
    "    #df.mask(cond,'Interneurons')['neuron_type'].value_counts().plot(kind='pie').plot(kind='pie')\n",
    "       \n",
    "    #i tried to make this plot in one line only but didnt figure out how\n",
    "    df_interneurons = df[cond]\n",
    "    #df_interneurons['neuron_type'].value_counts().plot(kind='pie')\n",
    "    \n",
    "    %matplotlib widget\n",
    "    fig = plt.figure()\n",
    "\n",
    "    ax = fig.add_subplot(1,4,1) # 2,1,1 means: 2:two rows, 1: one column, 1: first plot\n",
    "    graph_1 = df.mask(cond,'Interneurons')['neuron_type'].value_counts().plot(kind='pie',autopct='%1.1f%%', radius=2)\n",
    "\n",
    "    ax2 = fig.add_subplot(1,4,4) # 2,1,2 means: 2:two rows, 1: one column, 1: second plot\n",
    "    graph_2 = df_interneurons['neuron_type'].value_counts().plot(kind='pie',autopct='%1.1f%%', radius = 2)\n",
    "    return()"
   ]
  },
  {
   "cell_type": "code",
   "execution_count": null,
   "id": "incomplete-garbage",
   "metadata": {},
   "outputs": [],
   "source": [
    "def plotTraces(path):\n",
    "    '''\n",
    "    Given the path to a network folder 'Snudda/networks/XXXXX'\n",
    "    Plots the traces of randomly selected neurons of each type\n",
    "    '''\n",
    "    file_path1 = path + '/network-neuron-positions.hdf5'\n",
    "    \n",
    "    with h5py.File(file_path1, 'r') as file:\n",
    "        neurons = (file.get('network')).get('neurons')\n",
    "        neuronID = np.array(neurons.get('neuronID'))\n",
    "        morphology = np.array(neurons.get('morphology'))\n",
    "    \n",
    "\n",
    "    neuron_type = []\n",
    "\n",
    "    for i in range (0, morphology.size) :\n",
    "        neuron_type.append(str(morphology[i]))\n",
    "\n",
    "#maybe this loop can be erased, if it is going to make the process lengthy (finding and replacing every neuron).\n",
    "#we can leave the neuron_type as is, with the long doc path, and just change the name at the end, for printing\n",
    "    for i in range (0, len(neuron_type)):\n",
    "        if \"dspn\" in neuron_type[i]:\n",
    "            neuron_type[i] = \"DSPN\"\n",
    "        elif ('ispn' in neuron_type[i]) :\n",
    "            neuron_type[i] = \"ISPN\"\n",
    "        elif 'lts' in neuron_type[i] :\n",
    "            neuron_type[i] = \"LTS\"\n",
    "        elif 'fs' in neuron_type[i] :\n",
    "            neuron_type[i] = \"FS\"\n",
    "        elif 'chin' in neuron_type[i] :\n",
    "            neuron_type[i] = \"ChIN\"            \n",
    "    structure_df = {'neuronID': neuronID, 'neuron_type': neuron_type}\n",
    "    df = pd.DataFrame(data=structure_df)\n",
    "    #cond = (df['neuron_type'] == 'LTS') | (df['neuron_type'] == 'FS') | (df['neuron_type'] == 'ChIN')\n",
    "    #df_interneurons = df[cond]\n",
    "\n",
    "    \n",
    "    file_path = path + '/simulation/volt.txt'\n",
    "    \n",
    "    with open(file_path, 'r') as file:\n",
    "        volt = file.readlines()\n",
    "\n",
    "    time = np.array(volt[0].split(\",\"),float)\n",
    "    volt = volt[1:]\n",
    "    volt_2 =[]\n",
    "    for i in range(0,len(volt)):\n",
    "        volt_2.append(np.array(volt[i].split(\",\"),float))\n",
    "    print(volt_2[0])\n",
    "\n",
    "    fig = plt.figure()\n",
    "\n",
    "    ax = fig.add_subplot(1,2,1) # 2,1,1 means: 2:two rows, 1: one column, 1: first plot\n",
    "    graph_1 = df.mask(cond,'Interneurons')['neuron_type'].value_counts().plot(kind='pie').plot(kind='pie')\n",
    "\n",
    "    ax2 = fig.add_subplot(1,2,2) # 2,1,2 means: 2:two rows, 1: one column, 1: second plot\n",
    "    graph_2 = df_interneurons['neuron_type'].value_counts().plot(kind='pie')\n",
    "    return()"
   ]
  },
  {
   "cell_type": "raw",
   "id": "assisted-stand",
   "metadata": {},
   "source": [
    "def plotRaster(path):\n",
    "    '''\n",
    "    Given the path to a network folder 'Snudda/networks/XXXXX'\n",
    "    Plots the raster of the neuronal activity during the simulation\n",
    "    \n",
    "    '''\n",
    "    \n",
    "    file = path + '/simulation/network-output-spikes-666.txt'\n",
    "    \n",
    "    with open(\"Snudda/networks/tinySim/simulation/volt.txt\", 'r') as volt_txt:\n",
    "        volt = volt_txt.readlines()\n",
    "\n",
    "    time = np.array(volt[0].split(\",\"),float)\n",
    "    volt = volt[1:]\n",
    "    volt_2 =[]\n",
    "    for i in range(0,len(volt)):\n",
    "        volt_2.append(np.array(volt[i].split(\",\"),float))\n",
    "    print(volt_2[0])\n",
    "\n",
    "    fig = plt.figure()\n",
    "\n",
    "    ax = fig.add_subplot(1,2,1) # 2,1,1 means: 2:two rows, 1: one column, 1: first plot\n",
    "    graph_1 = df.mask(cond,'Interneurons')['neuron_type'].value_counts().plot(kind='pie').plot(kind='pie')\n",
    "\n",
    "    ax2 = fig.add_subplot(1,2,2) # 2,1,2 means: 2:two rows, 1: one column, 1: second plot\n",
    "    graph_2 = df_interneurons['neuron_type'].value_counts().plot(kind='pie')\n",
    "    return()"
   ]
  },
  {
   "cell_type": "code",
   "execution_count": null,
   "id": "unavailable-password",
   "metadata": {},
   "outputs": [],
   "source": [
    "plotNeuronalDistribution('Snudda/networks/tinySim')\n",
    "#plotNeuronalDistribution('Snudda/networks/net_1000')\n",
    "#plotNeuronalDistribution('Snudda/networks/net_10000')\n"
   ]
  },
  {
   "cell_type": "code",
   "execution_count": 7,
   "id": "abroad-response",
   "metadata": {},
   "outputs": [
    {
     "data": {
      "application/vnd.jupyter.widget-view+json": {
       "model_id": "334110da10bf4ec88cc6a4b10ffa622f",
       "version_major": 2,
       "version_minor": 0
      },
      "text/plain": [
       "Canvas(toolbar=Toolbar(toolitems=[('Home', 'Reset original view', 'home', 'home'), ('Back', 'Back to previous …"
      ]
     },
     "metadata": {},
     "output_type": "display_data"
    },
    {
     "name": "stderr",
     "output_type": "stream",
     "text": [
      "/home/ubuntu/.local/lib/python3.8/site-packages/pandas/plotting/_matplotlib/tools.py:395: MatplotlibDeprecationWarning: \n",
      "The is_last_row function was deprecated in Matplotlib 3.4 and will be removed two minor releases later. Use ax.get_subplotspec().is_last_row() instead.\n",
      "  if ax.is_last_row():\n"
     ]
    },
    {
     "data": {
      "text/plain": [
       "()"
      ]
     },
     "execution_count": 7,
     "metadata": {},
     "output_type": "execute_result"
    },
    {
     "ename": "AttributeError",
     "evalue": "__delete__",
     "output_type": "error",
     "traceback": [
      "\u001b[0;31m---------------------------------------------------------------------------\u001b[0m",
      "\u001b[0;31mAttributeError\u001b[0m                            Traceback (most recent call last)",
      "\u001b[0;32m~/.local/lib/python3.8/site-packages/IPython/core/formatters.py\u001b[0m in \u001b[0;36m__call__\u001b[0;34m(self, obj)\u001b[0m\n\u001b[1;32m    339\u001b[0m                 \u001b[0;32mpass\u001b[0m\u001b[0;34m\u001b[0m\u001b[0;34m\u001b[0m\u001b[0m\n\u001b[1;32m    340\u001b[0m             \u001b[0;32melse\u001b[0m\u001b[0;34m:\u001b[0m\u001b[0;34m\u001b[0m\u001b[0;34m\u001b[0m\u001b[0m\n\u001b[0;32m--> 341\u001b[0;31m                 \u001b[0;32mreturn\u001b[0m \u001b[0mprinter\u001b[0m\u001b[0;34m(\u001b[0m\u001b[0mobj\u001b[0m\u001b[0;34m)\u001b[0m\u001b[0;34m\u001b[0m\u001b[0;34m\u001b[0m\u001b[0m\n\u001b[0m\u001b[1;32m    342\u001b[0m             \u001b[0;31m# Finally look for special method names\u001b[0m\u001b[0;34m\u001b[0m\u001b[0;34m\u001b[0m\u001b[0;34m\u001b[0m\u001b[0m\n\u001b[1;32m    343\u001b[0m             \u001b[0mmethod\u001b[0m \u001b[0;34m=\u001b[0m \u001b[0mget_real_method\u001b[0m\u001b[0;34m(\u001b[0m\u001b[0mobj\u001b[0m\u001b[0;34m,\u001b[0m \u001b[0mself\u001b[0m\u001b[0;34m.\u001b[0m\u001b[0mprint_method\u001b[0m\u001b[0;34m)\u001b[0m\u001b[0;34m\u001b[0m\u001b[0;34m\u001b[0m\u001b[0m\n",
      "\u001b[0;32m~/.local/lib/python3.8/site-packages/IPython/core/pylabtools.py\u001b[0m in \u001b[0;36m<lambda>\u001b[0;34m(fig)\u001b[0m\n\u001b[1;32m    248\u001b[0m \u001b[0;34m\u001b[0m\u001b[0m\n\u001b[1;32m    249\u001b[0m     \u001b[0;32mif\u001b[0m \u001b[0;34m'png'\u001b[0m \u001b[0;32min\u001b[0m \u001b[0mformats\u001b[0m\u001b[0;34m:\u001b[0m\u001b[0;34m\u001b[0m\u001b[0;34m\u001b[0m\u001b[0m\n\u001b[0;32m--> 250\u001b[0;31m         \u001b[0mpng_formatter\u001b[0m\u001b[0;34m.\u001b[0m\u001b[0mfor_type\u001b[0m\u001b[0;34m(\u001b[0m\u001b[0mFigure\u001b[0m\u001b[0;34m,\u001b[0m \u001b[0;32mlambda\u001b[0m \u001b[0mfig\u001b[0m\u001b[0;34m:\u001b[0m \u001b[0mprint_figure\u001b[0m\u001b[0;34m(\u001b[0m\u001b[0mfig\u001b[0m\u001b[0;34m,\u001b[0m \u001b[0;34m'png'\u001b[0m\u001b[0;34m,\u001b[0m \u001b[0;34m**\u001b[0m\u001b[0mkwargs\u001b[0m\u001b[0;34m)\u001b[0m\u001b[0;34m)\u001b[0m\u001b[0;34m\u001b[0m\u001b[0;34m\u001b[0m\u001b[0m\n\u001b[0m\u001b[1;32m    251\u001b[0m     \u001b[0;32mif\u001b[0m \u001b[0;34m'retina'\u001b[0m \u001b[0;32min\u001b[0m \u001b[0mformats\u001b[0m \u001b[0;32mor\u001b[0m \u001b[0;34m'png2x'\u001b[0m \u001b[0;32min\u001b[0m \u001b[0mformats\u001b[0m\u001b[0;34m:\u001b[0m\u001b[0;34m\u001b[0m\u001b[0;34m\u001b[0m\u001b[0m\n\u001b[1;32m    252\u001b[0m         \u001b[0mpng_formatter\u001b[0m\u001b[0;34m.\u001b[0m\u001b[0mfor_type\u001b[0m\u001b[0;34m(\u001b[0m\u001b[0mFigure\u001b[0m\u001b[0;34m,\u001b[0m \u001b[0;32mlambda\u001b[0m \u001b[0mfig\u001b[0m\u001b[0;34m:\u001b[0m \u001b[0mretina_figure\u001b[0m\u001b[0;34m(\u001b[0m\u001b[0mfig\u001b[0m\u001b[0;34m,\u001b[0m \u001b[0;34m**\u001b[0m\u001b[0mkwargs\u001b[0m\u001b[0;34m)\u001b[0m\u001b[0;34m)\u001b[0m\u001b[0;34m\u001b[0m\u001b[0;34m\u001b[0m\u001b[0m\n",
      "\u001b[0;32m~/.local/lib/python3.8/site-packages/IPython/core/pylabtools.py\u001b[0m in \u001b[0;36mprint_figure\u001b[0;34m(fig, fmt, bbox_inches, **kwargs)\u001b[0m\n\u001b[1;32m    132\u001b[0m         \u001b[0mFigureCanvasBase\u001b[0m\u001b[0;34m(\u001b[0m\u001b[0mfig\u001b[0m\u001b[0;34m)\u001b[0m\u001b[0;34m\u001b[0m\u001b[0;34m\u001b[0m\u001b[0m\n\u001b[1;32m    133\u001b[0m \u001b[0;34m\u001b[0m\u001b[0m\n\u001b[0;32m--> 134\u001b[0;31m     \u001b[0mfig\u001b[0m\u001b[0;34m.\u001b[0m\u001b[0mcanvas\u001b[0m\u001b[0;34m.\u001b[0m\u001b[0mprint_figure\u001b[0m\u001b[0;34m(\u001b[0m\u001b[0mbytes_io\u001b[0m\u001b[0;34m,\u001b[0m \u001b[0;34m**\u001b[0m\u001b[0mkw\u001b[0m\u001b[0;34m)\u001b[0m\u001b[0;34m\u001b[0m\u001b[0;34m\u001b[0m\u001b[0m\n\u001b[0m\u001b[1;32m    135\u001b[0m     \u001b[0mdata\u001b[0m \u001b[0;34m=\u001b[0m \u001b[0mbytes_io\u001b[0m\u001b[0;34m.\u001b[0m\u001b[0mgetvalue\u001b[0m\u001b[0;34m(\u001b[0m\u001b[0;34m)\u001b[0m\u001b[0;34m\u001b[0m\u001b[0;34m\u001b[0m\u001b[0m\n\u001b[1;32m    136\u001b[0m     \u001b[0;32mif\u001b[0m \u001b[0mfmt\u001b[0m \u001b[0;34m==\u001b[0m \u001b[0;34m'svg'\u001b[0m\u001b[0;34m:\u001b[0m\u001b[0;34m\u001b[0m\u001b[0;34m\u001b[0m\u001b[0m\n",
      "\u001b[0;32m~/.local/lib/python3.8/site-packages/matplotlib/backend_bases.py\u001b[0m in \u001b[0;36mprint_figure\u001b[0;34m(self, filename, dpi, facecolor, edgecolor, orientation, format, bbox_inches, pad_inches, bbox_extra_artists, backend, **kwargs)\u001b[0m\n\u001b[1;32m   2269\u001b[0m             \u001b[0;31m# reset to cached state\u001b[0m\u001b[0;34m\u001b[0m\u001b[0;34m\u001b[0m\u001b[0;34m\u001b[0m\u001b[0m\n\u001b[1;32m   2270\u001b[0m             \u001b[0mself\u001b[0m\u001b[0;34m.\u001b[0m\u001b[0mfigure\u001b[0m\u001b[0;34m.\u001b[0m\u001b[0mset_constrained_layout\u001b[0m\u001b[0;34m(\u001b[0m\u001b[0mcl_state\u001b[0m\u001b[0;34m)\u001b[0m\u001b[0;34m\u001b[0m\u001b[0;34m\u001b[0m\u001b[0m\n\u001b[0;32m-> 2271\u001b[0;31m             \u001b[0;32mreturn\u001b[0m \u001b[0mresult\u001b[0m\u001b[0;34m\u001b[0m\u001b[0;34m\u001b[0m\u001b[0m\n\u001b[0m\u001b[1;32m   2272\u001b[0m \u001b[0;34m\u001b[0m\u001b[0m\n\u001b[1;32m   2273\u001b[0m     \u001b[0;34m@\u001b[0m\u001b[0mclassmethod\u001b[0m\u001b[0;34m\u001b[0m\u001b[0;34m\u001b[0m\u001b[0m\n",
      "\u001b[0;32m/usr/lib/python3.8/contextlib.py\u001b[0m in \u001b[0;36m__exit__\u001b[0;34m(self, type, value, traceback)\u001b[0m\n\u001b[1;32m    118\u001b[0m         \u001b[0;32mif\u001b[0m \u001b[0mtype\u001b[0m \u001b[0;32mis\u001b[0m \u001b[0;32mNone\u001b[0m\u001b[0;34m:\u001b[0m\u001b[0;34m\u001b[0m\u001b[0;34m\u001b[0m\u001b[0m\n\u001b[1;32m    119\u001b[0m             \u001b[0;32mtry\u001b[0m\u001b[0;34m:\u001b[0m\u001b[0;34m\u001b[0m\u001b[0;34m\u001b[0m\u001b[0m\n\u001b[0;32m--> 120\u001b[0;31m                 \u001b[0mnext\u001b[0m\u001b[0;34m(\u001b[0m\u001b[0mself\u001b[0m\u001b[0;34m.\u001b[0m\u001b[0mgen\u001b[0m\u001b[0;34m)\u001b[0m\u001b[0;34m\u001b[0m\u001b[0;34m\u001b[0m\u001b[0m\n\u001b[0m\u001b[1;32m    121\u001b[0m             \u001b[0;32mexcept\u001b[0m \u001b[0mStopIteration\u001b[0m\u001b[0;34m:\u001b[0m\u001b[0;34m\u001b[0m\u001b[0;34m\u001b[0m\u001b[0m\n\u001b[1;32m    122\u001b[0m                 \u001b[0;32mreturn\u001b[0m \u001b[0;32mFalse\u001b[0m\u001b[0;34m\u001b[0m\u001b[0;34m\u001b[0m\u001b[0m\n",
      "\u001b[0;32m~/.local/lib/python3.8/site-packages/matplotlib/cbook/__init__.py\u001b[0m in \u001b[0;36m_setattr_cm\u001b[0;34m(obj, **kwargs)\u001b[0m\n\u001b[1;32m   2131\u001b[0m         \u001b[0;32mfor\u001b[0m \u001b[0mattr\u001b[0m\u001b[0;34m,\u001b[0m \u001b[0morig\u001b[0m \u001b[0;32min\u001b[0m \u001b[0morigs\u001b[0m\u001b[0;34m.\u001b[0m\u001b[0mitems\u001b[0m\u001b[0;34m(\u001b[0m\u001b[0;34m)\u001b[0m\u001b[0;34m:\u001b[0m\u001b[0;34m\u001b[0m\u001b[0;34m\u001b[0m\u001b[0m\n\u001b[1;32m   2132\u001b[0m             \u001b[0;32mif\u001b[0m \u001b[0morig\u001b[0m \u001b[0;32mis\u001b[0m \u001b[0msentinel\u001b[0m\u001b[0;34m:\u001b[0m\u001b[0;34m\u001b[0m\u001b[0;34m\u001b[0m\u001b[0m\n\u001b[0;32m-> 2133\u001b[0;31m                 \u001b[0mdelattr\u001b[0m\u001b[0;34m(\u001b[0m\u001b[0mobj\u001b[0m\u001b[0;34m,\u001b[0m \u001b[0mattr\u001b[0m\u001b[0;34m)\u001b[0m\u001b[0;34m\u001b[0m\u001b[0;34m\u001b[0m\u001b[0m\n\u001b[0m\u001b[1;32m   2134\u001b[0m             \u001b[0;32melse\u001b[0m\u001b[0;34m:\u001b[0m\u001b[0;34m\u001b[0m\u001b[0;34m\u001b[0m\u001b[0m\n\u001b[1;32m   2135\u001b[0m                 \u001b[0msetattr\u001b[0m\u001b[0;34m(\u001b[0m\u001b[0mobj\u001b[0m\u001b[0;34m,\u001b[0m \u001b[0mattr\u001b[0m\u001b[0;34m,\u001b[0m \u001b[0morig\u001b[0m\u001b[0;34m)\u001b[0m\u001b[0;34m\u001b[0m\u001b[0;34m\u001b[0m\u001b[0m\n",
      "\u001b[0;31mAttributeError\u001b[0m: __delete__"
     ]
    },
    {
     "data": {
      "text/plain": [
       "<Figure size 640x480 with 2 Axes>"
      ]
     },
     "metadata": {},
     "output_type": "display_data"
    }
   ],
   "source": [
    "plotNeuronalDistribution('Snudda/networks/net_1000')\n"
   ]
  },
  {
   "cell_type": "code",
   "execution_count": null,
   "id": "introductory-resistance",
   "metadata": {},
   "outputs": [],
   "source": [
    "plotNeuronalDistribution('Snudda/networks/net_10000')\n"
   ]
  },
  {
   "cell_type": "code",
   "execution_count": null,
   "id": "preliminary-feedback",
   "metadata": {},
   "outputs": [],
   "source": [
    "plotTraces('Snudda/networks/tinySim')"
   ]
  },
  {
   "cell_type": "code",
   "execution_count": null,
   "id": "concerned-beijing",
   "metadata": {},
   "outputs": [],
   "source": []
  }
 ],
 "metadata": {
  "kernelspec": {
   "display_name": "Python 3",
   "language": "python",
   "name": "python3"
  },
  "language_info": {
   "codemirror_mode": {
    "name": "ipython",
    "version": 3
   },
   "file_extension": ".py",
   "mimetype": "text/x-python",
   "name": "python",
   "nbconvert_exporter": "python",
   "pygments_lexer": "ipython3",
   "version": "3.8.5"
  }
 },
 "nbformat": 4,
 "nbformat_minor": 5
}
