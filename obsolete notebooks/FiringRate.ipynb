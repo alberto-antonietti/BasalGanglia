{
 "cells": [
  {
   "cell_type": "markdown",
   "id": "47620af0-373c-48ba-b3c4-9acc33f711dc",
   "metadata": {},
   "source": [
    "# Firing Rate "
   ]
  },
  {
   "cell_type": "code",
   "execution_count": 1,
   "id": "9cfe7044-670e-4859-9465-b989783958b9",
   "metadata": {},
   "outputs": [],
   "source": [
    "from getData import *"
   ]
  },
  {
   "cell_type": "code",
   "execution_count": 2,
   "id": "ee0aa03b-1a1c-4490-b6bd-0becfcab77bc",
   "metadata": {},
   "outputs": [],
   "source": [
    "chin_color='xkcd:dark blue'\n",
    "ispn_color='xkcd:sky blue'\n",
    "lts_color='xkcd:violet'\n",
    "dspn_color='xkcd:pink'\n",
    "fs_color='xkcd:hot pink'\n",
    "\n",
    "neuron_IDs = getNeuronMatrix('net_100')\n",
    "\n",
    "net = 'net_100'\n",
    "\n",
    "\n",
    "file_path = '/home/ubuntu/BasalGanglia/NEURON-data/' + net + '/spikes.txt'\n",
    "\n",
    "dspn_spks = []\n",
    "ispn_spks = []\n",
    "lts_spks = []\n",
    "chin_spks = []\n",
    "fs_spks = []\n",
    "\n",
    "with open(file_path, 'r') as file:\n",
    "    lines = file.readlines()\n",
    "\n",
    "spikes = {}\n",
    "\n",
    "for line in lines :\n",
    "\n",
    "    split_line = np.array(line.split(\"\\t\"),float)\n",
    "    nID = int(split_line[1])\n",
    "    spike_time = split_line[0]\n",
    "    \n",
    "    if neuron_IDs[nID][1] == 'dspn':\n",
    "        dspn_spks.append(spike_time)\n",
    "        \n",
    "    elif neuron_IDs[nID][1] == 'ispn':\n",
    "        ispn_spks.append(spike_time)\n",
    "        \n",
    "    elif neuron_IDs[nID][1] == 'fs':\n",
    "        fs_spks.append(spike_time)\n",
    "        \n",
    "    elif neuron_IDs[nID][1] == 'chin':\n",
    "        chin_spks.append(spike_time)\n",
    "        \n",
    "    elif neuron_IDs[nID][1] == 'lts':\n",
    "        lts_spks.append(spike_time)\n",
    "\n",
    "dspn_spikes_dt = []\n",
    "ispn_spikes_dt = []\n",
    "chin_spikes_dt = []\n",
    "lts_spikes_dt = []\n",
    "fs_spikes_dt = []\n",
    "    \n",
    "for d_time in range (0, 1991, 10):\n",
    "    \n",
    "    start = d_time\n",
    "    stop = d_time + 10\n",
    "    spikes_dt_aux = [0,0,0,0,0]\n",
    "\n",
    "    for elem in dspn_spks:\n",
    "        if (start < elem <= stop):\n",
    "            spikes_dt_aux[0] +=1\n",
    "    for elem in ispn_spks:\n",
    "        if (start < elem <= stop):\n",
    "            spikes_dt_aux[1] +=1\n",
    "    for elem in chin_spks:\n",
    "        if (start < elem <= stop):\n",
    "            spikes_dt_aux[2] +=1\n",
    "    for elem in lts_spks:\n",
    "        if (start < elem <= stop):\n",
    "            spikes_dt_aux[3] +=1\n",
    "    for elem in fs_spks:\n",
    "        if (start < elem <= stop):\n",
    "            spikes_dt_aux[4] +=1\n",
    "            \n",
    "    dspn_spikes_dt.append(spikes_dt_aux[0])\n",
    "    ispn_spikes_dt.append(spikes_dt_aux[1])\n",
    "    chin_spikes_dt.append(spikes_dt_aux[2])\n",
    "    lts_spikes_dt.append(spikes_dt_aux[3])\n",
    "    fs_spikes_dt.append(spikes_dt_aux[4])\n",
    "\n",
    "dspn, ispn, lts, fs, chin = getNeuronSubMatrixes(neuron_IDs)\n",
    "N_dspn = len(dspn)\n",
    "N_ispn = len(ispn)\n",
    "N_chin = len(chin)\n",
    "N_lts= len(lts)\n",
    "N_fs = len(fs)\n",
    "\n",
    "dspn_fr = []\n",
    "ispn_fr = []\n",
    "chin_fr = []\n",
    "lts_fr = []\n",
    "fs_fr = []\n",
    "\n",
    "for elem in dspn_spikes_dt:\n",
    "    dspn_fr.append(elem*100/(N_dspn))\n",
    "for elem in ispn_spikes_dt:\n",
    "    ispn_fr.append(elem*100/(N_ispn))\n",
    "for elem in chin_spikes_dt:\n",
    "    chin_fr.append(elem*100/(N_chin))\n",
    "for elem in lts_spikes_dt:\n",
    "    lts_fr.append(elem*100/(N_lts))\n",
    "for elem in fs_spikes_dt:\n",
    "    fs_fr.append(elem*100/(N_fs))\n",
    "\n",
    "time = []\n",
    "for d_time in range (0, 1991, 10):\n",
    "    time.append(d_time)\n",
    "    \n",
    "import matplotlib\n",
    "from ipywidgets import *\n",
    "import matplotlib.pyplot as plt"
   ]
  },
  {
   "cell_type": "code",
   "execution_count": 28,
   "id": "d682974c-75e4-4c40-a9a5-9c6d18119321",
   "metadata": {},
   "outputs": [
    {
     "data": {
      "image/png": "[encoded data removed]",
      "text/plain": [
       "<Figure size 432x288 with 1 Axes>"
      ]
     },
     "metadata": {
      "needs_background": "light"
     },
     "output_type": "display_data"
    }
   ],
   "source": [
    "fig = plt.figure()\n",
    "ax = fig.add_axes([0,0,1,1])\n",
    "ax.set_title(\"Firing Rates of the Interneurons\")\n",
    "ax.set_xlabel('Time [ms]')\n",
    "ax.set_ylabel(' Firing Rate [?]')\n",
    "plt.step(time, lts_fr, color = lts_color, linewidth=0.5)\n",
    "plt.step(time, chin_fr, color = chin_color, linewidth=0.5)\n",
    "plt.step(time, fs_fr, color = fs_color, linewidth=0.5)\n",
    "\n",
    "\n",
    "plt.show()"
   ]
  },
  {
   "cell_type": "code",
   "execution_count": 30,
   "id": "8211e68f-5f3f-4513-8882-4d16f5554582",
   "metadata": {},
   "outputs": [
    {
     "data": {
      "image/png": "[encoded data removed]",
      "text/plain": [
       "<Figure size 432x288 with 1 Axes>"
      ]
     },
     "metadata": {
      "needs_background": "light"
     },
     "output_type": "display_data"
    }
   ],
   "source": [
    "fig = plt.figure()\n",
    "ax = fig.add_axes([0,0,1,1])\n",
    "plt.step(time, dspn_fr, color = dspn_color, linewidth=0.5)\n",
    "plt.step(time, ispn_fr, color = ispn_color, linewidth=0.5)\n",
    "ax.set_title(\"Firing Rates of dSPN and iSPN\")\n",
    "ax.set_xlabel('Time [ms]')\n",
    "ax.set_ylabel(' Firing Rate [?]')\n",
    "\n",
    "plt.show()"
   ]
  }
 ],
 "metadata": {
  "kernelspec": {
   "display_name": "Python 3 (ipykernel)",
   "language": "python",
   "name": "python3"
  },
  "language_info": {
   "codemirror_mode": {
    "name": "ipython",
    "version": 3
   },
   "file_extension": ".py",
   "mimetype": "text/x-python",
   "name": "python",
   "nbconvert_exporter": "python",
   "pygments_lexer": "ipython3",
   "version": "3.8.10"
  }
 },
 "nbformat": 4,
 "nbformat_minor": 5
}
