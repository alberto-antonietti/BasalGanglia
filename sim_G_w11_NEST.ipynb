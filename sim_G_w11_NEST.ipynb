{
 "cells": [
  {
   "cell_type": "markdown",
   "id": "0f53cdd6-1d0b-4d4a-9b57-479ddd839bdb",
   "metadata": {},
   "source": [
    "# NEST SIMULATION     "
   ]
  },
  {
   "cell_type": "markdown",
   "id": "48e31ff2-5b96-4d7f-9043-5648f4f7466c",
   "metadata": {},
   "source": [
    "## 0. LIBRARIES\n",
    "\n",
    "### 0.1 Regular Libraries"
   ]
  },
  {
   "cell_type": "code",
   "execution_count": 1,
   "id": "d8777fd1-29da-4ca2-a674-2e6fd5b5d355",
   "metadata": {},
   "outputs": [
    {
     "name": "stdout",
     "output_type": "stream",
     "text": [
      "\n",
      "              -- N E S T --\n",
      "  Copyright (C) 2004 The NEST Initiative\n",
      "\n",
      " Version: nest-3.1\n",
      " Built: Sep 28 2021 11:43:45\n",
      "\n",
      " This program is provided AS IS and comes with\n",
      " NO WARRANTY. See the file LICENSE for details.\n",
      "\n",
      " Problems or suggestions?\n",
      "   Visit https://www.nest-simulator.org\n",
      "\n",
      " Type 'nest.help()' to find out more about NEST.\n",
      "\n"
     ]
    }
   ],
   "source": [
    "import nest\n",
    "import matplotlib.pyplot as plt"
   ]
  },
  {
   "cell_type": "markdown",
   "id": "ece1607a-a667-4b8a-b998-9a98a74fa80f",
   "metadata": {},
   "source": [
    "### 0.2 Functions created by me"
   ]
  },
  {
   "cell_type": "code",
   "execution_count": 2,
   "id": "5170d06c-f4d3-485c-aaf3-fb6f609c1f8c",
   "metadata": {},
   "outputs": [],
   "source": [
    "from getData import *\n",
    "from plot import *"
   ]
  },
  {
   "cell_type": "markdown",
   "id": "3a743f8f-4080-4b00-9da1-70920638efc2",
   "metadata": {},
   "source": [
    "### 1. IMPORTING DATA"
   ]
  },
  {
   "cell_type": "code",
   "execution_count": 3,
   "id": "00adf908-bae4-4d20-9e01-2d2cf9e084c9",
   "metadata": {
    "tags": []
   },
   "outputs": [],
   "source": [
    "positions_list = getNeuronPositions('net_100')\n",
    "\n",
    "synaptic_matrix = getSynapses('net_100')\n",
    "\n",
    "input_matrix = getInput('net_100', 100)\n",
    "\n",
    "neuron_IDs = getNeuronMatrix('net_100')"
   ]
  },
  {
   "cell_type": "markdown",
   "id": "9be59dd0-649e-4e30-bddf-16ec2af79840",
   "metadata": {},
   "source": [
    "## 2. CREATING THE NEST NETWORK\n",
    "\n",
    "### 2.1 Creating the Neurons"
   ]
  },
  {
   "cell_type": "markdown",
   "id": "03bcf937-bde9-4492-be67-9d85e83c9264",
   "metadata": {},
   "source": [
    "Here we create a position list, with the coordinates of each neuron of the network.\n",
    "(This first step is not necessary, since the spatial distribution of the network does not influence the NEST simulation.)"
   ]
  },
  {
   "cell_type": "code",
   "execution_count": 4,
   "id": "ccc8d85d-a09d-428d-aeb5-23ae3ffe47af",
   "metadata": {},
   "outputs": [],
   "source": [
    "pos = nest.spatial.free(positions_list) # using NEURON positions"
   ]
  },
  {
   "cell_type": "markdown",
   "id": "f6826545-72e8-4fab-bdde-0e3e7ea1e125",
   "metadata": {},
   "source": [
    "**All the neurons have the same characteristics. They are all alpha conductance based integrate and fire model, with the default parameters of nest.**"
   ]
  },
  {
   "cell_type": "code",
   "execution_count": 5,
   "id": "37c9839c-ed19-4d95-a684-c2b8f1586aed",
   "metadata": {},
   "outputs": [],
   "source": [
    "s_nodes = nest.Create(\"iaf_cond_alpha\", 99, positions=pos) "
   ]
  },
  {
   "cell_type": "markdown",
   "id": "e7b48a59-0f9f-4b03-8b33-7e15fd17c0d0",
   "metadata": {},
   "source": [
    "### 2.2 Connecting the Network\n",
    "\n",
    "In this version of the simulation **each connected pair has 1 synapses, and all synapses have a weight of -1 x cond x N\\***\n",
    "With the info of the synaptic matrix, we create the pre-synaptic as post-synaptic neuron ID lists, and transform them into numpy arrays\n",
    "\n",
    "\\* N = the # corresponding to their connection on neuron\n",
    "\n",
    "cond = a value drawn from the conductance distribution used on neuron. (each type of source neuron has a different distribution)"
   ]
  },
  {
   "cell_type": "code",
   "execution_count": 6,
   "id": "ef58bd26-53ef-4f21-bc1d-7ed53b42f5e0",
   "metadata": {
    "tags": []
   },
   "outputs": [],
   "source": [
    "pre_list = []\n",
    "pos_list = []\n",
    "\n",
    "for i in range(0,len(synaptic_matrix)):\n",
    "    pre_list.append(s_nodes[synaptic_matrix[i][0]])\n",
    "    pos_list.append(s_nodes[synaptic_matrix[i][1]])\n",
    "    \n",
    "pre_array = np.transpose(np.array(pre_list)).flatten()\n",
    "pos_array = np.transpose(np.array(pos_list)).flatten()"
   ]
  },
  {
   "cell_type": "markdown",
   "id": "e23d760f-f727-4f94-a92a-9cc9b6dcbe8b",
   "metadata": {},
   "source": [
    "With the arrays ready, we can connect the synapses all in one command.\n",
    "(again here, if we wish to have different parameters and arguments for each synapse, a more complex solution is necessary.)"
   ]
  },
  {
   "cell_type": "code",
   "execution_count": 7,
   "id": "2d42145b-af8d-46c9-ab88-29e638974a88",
   "metadata": {},
   "outputs": [
    {
     "name": "stdout",
     "output_type": "stream",
     "text": [
      "[[ 1  6  5]\n",
      " [ 1 22 24]\n",
      " [ 1 31  7]\n",
      " ...\n",
      " [99 86  2]\n",
      " [99 89  4]\n",
      " [99 92  3]]\n"
     ]
    }
   ],
   "source": [
    "syn_matrix = old_getWeightedSynapses(pre_array,pos_array)"
   ]
  },
  {
   "cell_type": "code",
   "execution_count": 8,
   "id": "d9c8bbe9-217a-44fd-91ce-b34e1e580c3b",
   "metadata": {
    "tags": []
   },
   "outputs": [],
   "source": [
    "syn_wgt = [] \n",
    "conductances = []\n",
    "for i in range(0,len(syn_matrix)):\n",
    "    \n",
    "    neuron_type = neuron_IDs[syn_matrix[i][0]-1][1]\n",
    "        \n",
    "    if (neuron_type == 'dspn' or neuron_type == 'ispn' ):\n",
    "        #\"conductance\": [2.4e-10, 1e-10]\n",
    "        cond = np.random.normal(2.4e-10,  1e-10, 1)\n",
    "        \n",
    "        if(cond<2.4e-11): #capping at 10% of mean\n",
    "            cond = 2.4e-11\n",
    "    elif (neuron_type == 'lts'):\n",
    "        # conductance mean = 3e-09, std deviation =  0\n",
    "        cond = 3e-09\n",
    "        \n",
    "    elif (neuron_type == 'fs'):\n",
    "        #\"conductance\": [1.1e-09, 1.5e-09],\n",
    "        cond = np.random.normal(1.1e-09, 1.5e-09, 1)\n",
    "        \n",
    "        if(cond<1.1e-10): #capping at 10% of mean\n",
    "            cond = 1.1e-10\n",
    "    \n",
    "    conductances.append(cond)    "
   ]
  },
  {
   "cell_type": "code",
   "execution_count": 9,
   "id": "67a949a0-e973-4cc6-a1c4-bc31a4418799",
   "metadata": {
    "tags": []
   },
   "outputs": [],
   "source": [
    "weights = []\n",
    "for i in range(0, len(conductances)):\n",
    "    weights.append(-1*conductances[i]*syn_matrix[i][2])\n",
    "weights = np.row_stack(weights).flatten()"
   ]
  },
  {
   "cell_type": "code",
   "execution_count": 10,
   "id": "3a1d4a8c-8303-4938-bc5f-5103ae708edf",
   "metadata": {},
   "outputs": [],
   "source": [
    "sources = syn_matrix[:,0]\n",
    "targets = syn_matrix[:,1]"
   ]
  },
  {
   "cell_type": "code",
   "execution_count": 11,
   "id": "4cb6eb04-9ed5-456e-928f-dcfaf8ccc6f5",
   "metadata": {},
   "outputs": [],
   "source": [
    "nest.Connect(sources,targets,conn_spec= \"one_to_one\", syn_spec= {\"weight\": weights})"
   ]
  },
  {
   "cell_type": "markdown",
   "id": "cbd324b5-094c-4d61-8c93-563be405a750",
   "metadata": {},
   "source": [
    "### 2.3 Creating the Input\n",
    "\n",
    "Now onto the creation of the Spike Generators. **The synapses between the input neurons and the ones on the network all have a weight of 10**"
   ]
  },
  {
   "cell_type": "code",
   "execution_count": 12,
   "id": "c3b0f3c9-1a3e-4d82-8e7f-bae4b4644e0c",
   "metadata": {
    "tags": []
   },
   "outputs": [],
   "source": [
    "inputs = nest.Create(\"spike_generator\", 99)"
   ]
  },
  {
   "cell_type": "code",
   "execution_count": 13,
   "id": "345ef1b2-e9b6-4efe-a5b9-aa47a85913aa",
   "metadata": {},
   "outputs": [],
   "source": [
    "for g, generator in enumerate(inputs):\n",
    "    nest.SetStatus(generator, {\"spike_times\": input_matrix[g]})"
   ]
  },
  {
   "cell_type": "code",
   "execution_count": 14,
   "id": "ffd81c76-2b9b-439f-8bb2-f633bfa3776e",
   "metadata": {},
   "outputs": [],
   "source": [
    "input_syn_wgt = np.full(len(inputs), 11.0)\n",
    "nest.Connect(inputs,s_nodes, conn_spec= \"one_to_one\", syn_spec={\"weight\": input_syn_wgt})"
   ]
  },
  {
   "cell_type": "markdown",
   "id": "e5ba8606-f28f-4840-87f0-232abb2ef9f4",
   "metadata": {},
   "source": [
    "### 2.4 Creating the Recording Devices"
   ]
  },
  {
   "cell_type": "code",
   "execution_count": 15,
   "id": "f7ee0287-98e2-47f7-a780-7a464f815734",
   "metadata": {},
   "outputs": [],
   "source": [
    "spikerecorder = nest.Create(\"spike_recorder\")"
   ]
  },
  {
   "cell_type": "code",
   "execution_count": 16,
   "id": "e9f918fa-a3c4-48b6-8b0b-f0cca1aad966",
   "metadata": {},
   "outputs": [],
   "source": [
    "nest.Connect(s_nodes,spikerecorder, conn_spec= \"all_to_all\")"
   ]
  },
  {
   "cell_type": "markdown",
   "id": "a2c1e446-18d3-4571-82f8-de8a142a9eee",
   "metadata": {},
   "source": [
    "## 3. RUNNING THE SIMULATION\n",
    "Here we are using a total run itme of 2000 ms (and the default step of simulation of 0.1 ms)"
   ]
  },
  {
   "cell_type": "code",
   "execution_count": 17,
   "id": "bd730fa7-1fab-415f-afd2-29806e7a2554",
   "metadata": {},
   "outputs": [
    {
     "name": "stdout",
     "output_type": "stream",
     "text": [
      "\n",
      "Nov 20 22:25:39 NodeManager::prepare_nodes [Info]: \n",
      "    Preparing 199 nodes for simulation.\n",
      "\n",
      "Nov 20 22:25:39 SimulationManager::start_updating_ [Info]: \n",
      "    Number of local nodes: 199\n",
      "    Simulation time (ms): 2000\n",
      "    Number of OpenMP threads: 1\n",
      "    Number of MPI processes: 1\n",
      "\n",
      "Nov 20 22:25:40 SimulationManager::run [Info]: \n",
      "    Simulation finished.\n"
     ]
    }
   ],
   "source": [
    "nest.Simulate(2000.0)"
   ]
  },
  {
   "cell_type": "markdown",
   "id": "fcff3255-eca8-4f26-9360-4d29cefa45f6",
   "metadata": {},
   "source": [
    "## 4. ANALYSING THE RESULTS"
   ]
  },
  {
   "cell_type": "code",
   "execution_count": 18,
   "id": "13595846-b40e-4745-bc34-381c3cf93bd4",
   "metadata": {},
   "outputs": [],
   "source": [
    "dSD = spikerecorder.get(\"events\")\n",
    "evs = dSD[\"senders\"]\n",
    "ts = dSD[\"times\"]"
   ]
  },
  {
   "cell_type": "code",
   "execution_count": 30,
   "id": "9f1653d1-e7ec-446d-b447-7ff7912dc8d3",
   "metadata": {
    "tags": []
   },
   "outputs": [],
   "source": [
    "chin_color='xkcd:orange'\n",
    "ispn_color='xkcd:blue purple'\n",
    "lts_color='xkcd:bright purple'\n",
    "dspn_color='xkcd:sky blue'\n",
    "fs_color='xkcd:dark blue'\n",
    "import matplotlib.ticker as ticker\n",
    "\n",
    "\n",
    "def ComputeFiringRatesNEST(senders, times, neuron_IDs):\n",
    "\n",
    "    dspn_spks = []\n",
    "    ispn_spks = []\n",
    "    lts_spks = []\n",
    "    chin_spks = []\n",
    "    fs_spks = []\n",
    "    \n",
    "    dspn_ID, ispn_ID, lts_ID, fs_ID, chin_ID = getNeuronSubMatrixes(neuron_IDs)\n",
    "\n",
    "\n",
    "    for i in range(0, len(senders)):\n",
    "        if senders[i] in dspn_ID:\n",
    "            dspn_spks.append(times[i])\n",
    "        elif senders[i] in ispn_ID:\n",
    "            ispn_spks.append(times[i])\n",
    "        elif senders[i] in chin_ID:\n",
    "            chin_spks.append(times[i])\n",
    "        elif senders[i] in lts_ID:\n",
    "            lts_spks.append(times[i])\n",
    "        elif senders[i] in fs_ID:\n",
    "            fs_spks.append(times[i])\n",
    "\n",
    "    dspn_spikes_dt = []\n",
    "    ispn_spikes_dt = []\n",
    "    chin_spikes_dt = []\n",
    "    lts_spikes_dt = []\n",
    "    fs_spikes_dt = []\n",
    "\n",
    "    for d_time in range (0, 1981, 20):\n",
    "\n",
    "        start = d_time\n",
    "        stop = d_time + 20\n",
    "        spikes_dt_aux = [0,0,0,0,0]\n",
    "\n",
    "        for elem in dspn_spks:\n",
    "            if (start < elem <= stop):\n",
    "                spikes_dt_aux[0] +=1\n",
    "        for elem in ispn_spks:\n",
    "            if (start < elem <= stop):\n",
    "                spikes_dt_aux[1] +=1\n",
    "        for elem in chin_spks:\n",
    "            if (start < elem <= stop):\n",
    "                spikes_dt_aux[2] +=1\n",
    "        for elem in lts_spks:\n",
    "            if (start < elem <= stop):\n",
    "                spikes_dt_aux[3] +=1\n",
    "        for elem in fs_spks:\n",
    "            if (start < elem <= stop):\n",
    "                spikes_dt_aux[4] +=1\n",
    "\n",
    "        dspn_spikes_dt.append(spikes_dt_aux[0])\n",
    "        ispn_spikes_dt.append(spikes_dt_aux[1])\n",
    "        chin_spikes_dt.append(spikes_dt_aux[2])\n",
    "        lts_spikes_dt.append(spikes_dt_aux[3])\n",
    "        fs_spikes_dt.append(spikes_dt_aux[4])\n",
    "        \n",
    "    N_dspn = len(dspn_ID)\n",
    "    N_ispn = len(ispn_ID)\n",
    "    N_chin = len(chin_ID)\n",
    "    N_lts= len(lts_ID)\n",
    "    N_fs = len(fs_ID)\n",
    "\n",
    "    dspn_fr = []\n",
    "    ispn_fr = []\n",
    "    chin_fr = []\n",
    "    lts_fr = []\n",
    "    fs_fr = []\n",
    "\n",
    "    for elem in dspn_spikes_dt:\n",
    "        dspn_fr.append(elem*50/(N_dspn))\n",
    "    for elem in ispn_spikes_dt:\n",
    "        ispn_fr.append(elem*50/(N_ispn))\n",
    "    for elem in chin_spikes_dt:\n",
    "        chin_fr.append(elem*50/(N_chin))\n",
    "    for elem in lts_spikes_dt:\n",
    "        lts_fr.append(elem*50/(N_lts))\n",
    "    for elem in fs_spikes_dt:\n",
    "        fs_fr.append(elem*50/(N_fs))\n",
    "\n",
    "    time = []\n",
    "    for d_time in range (0, 1981, 20):\n",
    "        time.append(d_time)\n",
    "\n",
    "    return(time, dspn_fr, ispn_fr, chin_fr, lts_fr, fs_fr)\n",
    "\n",
    "def plotFRNEST(senders, times, neuron_IDs):\n",
    "    \n",
    "    time, dspn_fr, ispn_fr, chin_fr, lts_fr, fs_fr = ComputeFiringRatesNEST(senders, times, neuron_IDs)\n",
    "    \n",
    "    fig = plt.figure()\n",
    "    ax = fig.add_axes([0,0,1,1])\n",
    "    ax.axes.xaxis.set_visible(False)\n",
    "    plt.ylim(0, 20)\n",
    "    \n",
    "    ax.yaxis.set_major_locator(ticker.MultipleLocator(2))\n",
    "    plt.step(time, lts_fr, color = lts_color, linewidth=0.5)\n",
    "    plt.step(time, chin_fr, color = chin_color, linewidth=0.5)\n",
    "    plt.step(time, fs_fr, color = fs_color, linewidth=0.5)\n",
    "    plt.step(time, dspn_fr, color = dspn_color, linewidth=1)\n",
    "    plt.step(time, ispn_fr, color = ispn_color, linewidth=1)\n",
    "    \n",
    "    ax.set_xlabel('Time [s]')\n",
    "    ax.set_ylabel(' Firing Rate [Hz]')\n",
    "\n",
    "    plt.show()\n",
    "    \n",
    "    #------------------------------------------------------------#\n",
    "    fig1 = plt.figure()\n",
    "    ax1 = fig1.add_axes([0,0,1,1])\n",
    "    ax1.axes.xaxis.set_visible(False)\n",
    "    plt.ylim(0, 20)\n",
    "    \n",
    "    ax.yaxis.set_major_locator(ticker.MultipleLocator(2))\n",
    "   \n",
    "    plt.step(time, lts_fr, color = lts_color, linewidth=0.5)\n",
    "    plt.step(time, chin_fr, color = chin_color, linewidth=0.5)\n",
    "    plt.step(time, fs_fr, color = fs_color, linewidth=0.5)\n",
    "    \n",
    "    ax1.set_xlabel('Time [s]')\n",
    "    ax1.set_ylabel(' Firing Rate [Hz]')\n",
    "    \n",
    "    plt.show()\n",
    "    \n",
    "    #------------------------------------------------------------#    \n",
    "    fig2 = plt.figure()\n",
    "    ax2 = fig2.add_axes([0,0,1,1])\n",
    "    ax2.axes.xaxis.set_visible(False)\n",
    "    plt.ylim(0, 15)\n",
    "    ax.yaxis.set_major_locator(ticker.MultipleLocator(1))    \n",
    "    plt.step(time, dspn_fr, color = dspn_color, linewidth=1)\n",
    "    plt.step(time, ispn_fr, color = ispn_color, linewidth=1)\n",
    "    ax2.set_xlabel('Time [s]')\n",
    "    ax2.set_ylabel(' Firing Rate [Hz]')\n",
    "    \n",
    "    plt.show()\n",
    "    \n",
    "    return\n",
    "\n",
    "def RasterNEST(evs,ts, neuron_IDs):\n",
    "    spikes = {}\n",
    "    for i in range(0, len(evs)) :\n",
    "\n",
    "        nID = evs[i]\n",
    "        spike_time = ts[i]\n",
    "        if(nID not in spikes.keys()):\n",
    "            spikes[nID] = []            \n",
    "        spikes[nID].append(spike_time)\n",
    "\n",
    "    for i in range(0, 10000):\n",
    "        if(i not in spikes.keys()):\n",
    "            spikes[i] = []\n",
    "\n",
    "    n_ids = np.array(list(spikes.keys()), dtype=int)\n",
    "    n_ids.sort() #organize the neurons by id\n",
    "\n",
    "    dspn_ID, ispn_ID, lts_ID, fs_ID, chin_ID = getNeuronSubMatrixes(neuron_IDs)\n",
    "\n",
    "    orderedIDs = getOrderedIDs(dspn_ID, ispn_ID, lts_ID, fs_ID, chin_ID)\n",
    "\n",
    "\n",
    "    fig_handle = plt.figure()\n",
    "    fig, ax = plt.subplots(1,1)\n",
    "    ax = fig_handle.add_subplot(111)\n",
    "    ax.xaxis.set_major_locator(ticker.MultipleLocator(500))\n",
    "    ax.set_xlabel('$t$ (ms)')\n",
    "    ax.axes.yaxis.set_visible(False)\n",
    "\n",
    "\n",
    "    plotSpikes(spikes, fs_ID, orderedIDs, fs_color, 'fs', ax)\n",
    "    plotSpikes(spikes, dspn_ID, orderedIDs,dspn_color, 'dspn', ax)\n",
    "    plotSpikes(spikes, lts_ID, orderedIDs, lts_color, 'lts', ax)\n",
    "    plotSpikes(spikes, ispn_ID, orderedIDs,ispn_color , 'ispn', ax)\n",
    "    plotSpikes(spikes, chin_ID, orderedIDs, chin_color, 'chin', ax)\n",
    "\n",
    "    box = ax.get_position()\n",
    "    ax.set_position([box.x0, box.y0, box.width * 0.9, box.height])\n",
    "    # Put a legend to the right of the current axis\n",
    "\n",
    "    ax.legend(loc='center left', bbox_to_anchor=(1, 0.5))\n",
    "    plt.show()\n",
    "    \n",
    "    return()\n",
    "\n",
    "def plotSpikes(events, id_array, raster_order, color, label, ax):\n",
    "    \n",
    "    label_done = False\n",
    "    \n",
    "    for neuron_id in id_array:\n",
    "        \n",
    "        spikes = events[neuron_id] #array of the spike times of neuron i\n",
    "        \n",
    "        index = raster_order.index(neuron_id)\n",
    "        if not label_done:\n",
    "            ax.plot(spikes, np.full_like(spikes, index), ms = 3, marker=\".\", label=label, color=color, linestyle=\"None\")\n",
    "\n",
    "            #this full_like function generates an array that has the same size as events[i], with the value index\n",
    "            #on every position (so we #have the same number of x and ys for plotting)\n",
    "            label_done = True\n",
    "        else:\n",
    "            ax.plot(spikes, np.full_like(spikes, index), ms = 3, marker=\".\", color=color, linestyle=\"None\")\n",
    "    return()"
   ]
  },
  {
   "cell_type": "code",
   "execution_count": 31,
   "id": "7e4b1ec2-0549-4aaa-9dbf-c7e61424a142",
   "metadata": {},
   "outputs": [
    {
     "data": {
      "image/png": "[encoded data removed]",
      "text/plain": [
       "<Figure size 432x288 with 1 Axes>"
      ]
     },
     "metadata": {
      "needs_background": "light"
     },
     "output_type": "display_data"
    },
    {
     "data": {
      "image/png": "[encoded data removed]",
      "text/plain": [
       "<Figure size 432x288 with 1 Axes>"
      ]
     },
     "metadata": {
      "needs_background": "light"
     },
     "output_type": "display_data"
    },
    {
     "data": {
      "text/plain": [
       "()"
      ]
     },
     "execution_count": 31,
     "metadata": {},
     "output_type": "execute_result"
    }
   ],
   "source": [
    "RasterNEST(evs, ts , neuron_IDs)"
   ]
  },
  {
   "cell_type": "code",
   "execution_count": 25,
   "id": "4baa840c-c945-4094-96fb-f3464ce43a73",
   "metadata": {},
   "outputs": [
    {
     "data": {
      "image/png": "[encoded data removed]",
      "text/plain": [
       "<Figure size 432x288 with 1 Axes>"
      ]
     },
     "metadata": {
      "needs_background": "light"
     },
     "output_type": "display_data"
    },
    {
     "data": {
      "image/png": "[encoded data removed]",
      "text/plain": [
       "<Figure size 432x288 with 1 Axes>"
      ]
     },
     "metadata": {
      "needs_background": "light"
     },
     "output_type": "display_data"
    },
    {
     "data": {
      "text/plain": [
       "()"
      ]
     },
     "execution_count": 25,
     "metadata": {},
     "output_type": "execute_result"
    }
   ],
   "source": [
    "RasterNEST(evs, ts , neuron_IDs)"
   ]
  },
  {
   "cell_type": "code",
   "execution_count": 32,
   "id": "b7585c60-60d5-4196-9c28-711bea454e4f",
   "metadata": {},
   "outputs": [
    {
     "data": {
      "image/png": "[encoded data removed]",
      "text/plain": [
       "<Figure size 432x288 with 1 Axes>"
      ]
     },
     "metadata": {
      "needs_background": "light"
     },
     "output_type": "display_data"
    },
    {
     "data": {
      "image/png": "[encoded data removed]",
      "text/plain": [
       "<Figure size 432x288 with 1 Axes>"
      ]
     },
     "metadata": {
      "needs_background": "light"
     },
     "output_type": "display_data"
    },
    {
     "data": {
      "image/png": "[encoded data removed]",
      "text/plain": [
       "<Figure size 432x288 with 1 Axes>"
      ]
     },
     "metadata": {
      "needs_background": "light"
     },
     "output_type": "display_data"
    }
   ],
   "source": [
    "plotFRNEST(evs, ts, neuron_IDs)"
   ]
  },
  {
   "cell_type": "markdown",
   "id": "72b2673c-67b2-4e65-b934-5315674524ac",
   "metadata": {},
   "source": [
    "### Functions"
   ]
  },
  {
   "cell_type": "code",
   "execution_count": null,
   "id": "1bec16d4-d719-4131-a409-1e75b04ae71b",
   "metadata": {},
   "outputs": [],
   "source": []
  }
 ],
 "metadata": {
  "kernelspec": {
   "display_name": "Python 3 (ipykernel)",
   "language": "python",
   "name": "python3"
  },
  "language_info": {
   "codemirror_mode": {
    "name": "ipython",
    "version": 3
   },
   "file_extension": ".py",
   "mimetype": "text/x-python",
   "name": "python",
   "nbconvert_exporter": "python",
   "pygments_lexer": "ipython3",
   "version": "3.8.10"
  }
 },
 "nbformat": 4,
 "nbformat_minor": 5
}
