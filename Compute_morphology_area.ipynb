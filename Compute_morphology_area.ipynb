{
 "cells": [
  {
   "cell_type": "code",
   "execution_count": 1,
   "id": "ea5902df-64e8-4dce-b404-ba52da628510",
   "metadata": {},
   "outputs": [],
   "source": [
    "import neurom as nm\n",
    "from neurom import features\n",
    "import numpy as np"
   ]
  },
  {
   "cell_type": "code",
   "execution_count": 2,
   "id": "19b638f4-a73e-49b6-a091-9fe00cee0f90",
   "metadata": {},
   "outputs": [
    {
     "name": "stdout",
     "output_type": "stream",
     "text": [
      "../Snudda/snudda/data/cellspecs-v2/ispn/str-ispn-e151123_c1_D2-mWT-P270-09-v20190527/WT-P270-09-15ak-cor.swc\n",
      "../Snudda/snudda/data/cellspecs-v2/ispn/str-ispn-e150908_c4_D2-m51-5-DE-v20190611/51-5-DE-cor-rep-ax.swc\n",
      "../Snudda/snudda/data/cellspecs-v2/ispn/str-ispn-e150917_c11_D2-mWT-MSN1-v20190603/WT-MSN1-cor-rep-ax.swc\n",
      "../Snudda/snudda/data/cellspecs-v2/ispn/str-ispn-e160118_c10_D2-m46-3-DE-v20190529/46-3-DE-cor-rep-ax.swc\n",
      "../Snudda/snudda/data/cellspecs-v2/fs/str-fs-e160628_FS2-mMTC180800A-IDB-v20190226/MTC180800A-IDB-cor-rep.swc\n",
      "../Snudda/snudda/data/cellspecs-v2/fs/str-fs-e161205_FS1-mMTC180800A-IDB-v20190312/MTC180800A-IDB-cor-rep.swc\n",
      "../Snudda/snudda/data/cellspecs-v2/fs/str-fs-e180418_FS5-mMTC251001A-IDB-v20190301/MTC251001A-IDB-cor-rep.swc\n",
      "../Snudda/snudda/data/cellspecs-v2/fs/str-fs-e161024_FS16-mDR-rat-Mar-13-08-1-536-R-v20190225/DR-rat-Mar-13-08-1-536-R-cor-rep.swc\n",
      "../Snudda/snudda/data/cellspecs-v2/lts/LTS_Experiment-9862_20181211/lts_morp_2019-11-07_centered_no_axon.swc\n",
      "../Snudda/snudda/data/cellspecs-v2/lts/LTS_Experiment-9862_20181211/morphologies/lts_morp_2019-11-07_centered_noAxon.swc\n",
      "../Snudda/snudda/data/cellspecs-v2/dspn/str-dspn-e150917_c6_D1-m21-6-DE-v20190503/21-6-DE-cor-rep-ax.swc\n",
      "../Snudda/snudda/data/cellspecs-v2/dspn/str-dspn-e150917_c10_D1-mWT-P270-20-v20190521/WT-P270-20-15ak-cor.swc\n",
      "../Snudda/snudda/data/cellspecs-v2/dspn/str-dspn-e150917_c9_d1-mWT-1215MSN03-v20190521/WT-1215MSN03-cor-rep-ax2.swc\n",
      "../Snudda/snudda/data/cellspecs-v2/dspn/str-dspn-e150602_c1_D1-mWT-0728MSN01-v20190508/WT-0728MSN01-cor-rep-ax.swc\n",
      "../Snudda/snudda/data/cellspecs-v2/chin/str-chin-e170614_cell6-m17JUL301751_170614_no6_MD_cell_1_x63-v20190710/optim_chin_morph_renamed2019-11-08.swc\n"
     ]
    }
   ],
   "source": [
    "morphologies = []\n",
    "import os\n",
    "for root, dirs, files in os.walk(\"../Snudda/snudda/data/cellspecs-v2/\"):\n",
    "    if '.ipynb_checkpoints' in dirs:\n",
    "        dirs.remove('.ipynb_checkpoints')\n",
    "    for file in files:\n",
    "        if file.endswith(\".swc\"):\n",
    "            print(os.path.join(root, file))\n",
    "            morphologies.append(os.path.join(root, file))"
   ]
  },
  {
   "cell_type": "code",
   "execution_count": 9,
   "id": "8ec64222-1b17-48f0-b143-f7fef59bcf80",
   "metadata": {},
   "outputs": [
    {
     "name": "stdout",
     "output_type": "stream",
     "text": [
      "WT-P270-09-15ak-cor.swc\n",
      "Soma surface (um^2): 702.1443880556353\n",
      "Basal Dendrite surface (um^2): 10982.93086378209\n",
      "Basal Dendrite surface (cm^2): 0.0001098293\n",
      "\n",
      "51-5-DE-cor-rep-ax.swc\n",
      "Soma surface (um^2): 571.5293441362311\n",
      "Basal Dendrite surface (um^2): 8267.747039859967\n",
      "Basal Dendrite surface (cm^2): 0.0000826775\n",
      "\n",
      "WT-MSN1-cor-rep-ax.swc\n",
      "Soma surface (um^2): 396.59763075529787\n",
      "Basal Dendrite surface (um^2): 11822.917820407494\n",
      "Basal Dendrite surface (cm^2): 0.0001182292\n",
      "\n",
      "46-3-DE-cor-rep-ax.swc\n",
      "Soma surface (um^2): 534.9489250672093\n",
      "Basal Dendrite surface (um^2): 6441.754731470163\n",
      "Basal Dendrite surface (cm^2): 0.0000644175\n",
      "\n",
      "MTC180800A-IDB-cor-rep.swc\n",
      "Soma surface (um^2): 875.1392560821251\n",
      "Basal Dendrite surface (um^2): 5004.414716598878\n",
      "Basal Dendrite surface (cm^2): 0.0000500441\n",
      "\n",
      "MTC180800A-IDB-cor-rep.swc\n",
      "Soma surface (um^2): 875.1392560821251\n",
      "Basal Dendrite surface (um^2): 5004.414716598878\n",
      "Basal Dendrite surface (cm^2): 0.0000500441\n",
      "\n",
      "MTC251001A-IDB-cor-rep.swc\n",
      "Soma surface (um^2): 713.5563033534853\n",
      "Basal Dendrite surface (um^2): 12527.102030515254\n",
      "Basal Dendrite surface (cm^2): 0.0001252710\n",
      "\n",
      "DR-rat-Mar-13-08-1-536-R-cor-rep.swc\n",
      "Soma surface (um^2): 411.91379376853934\n",
      "Basal Dendrite surface (um^2): 15632.048290651\n",
      "Basal Dendrite surface (cm^2): 0.0001563205\n",
      "\n",
      "lts_morp_2019-11-07_centered_no_axon.swc\n",
      "Soma surface (um^2): 614.0310276515044\n",
      "Basal Dendrite surface (um^2): 8598.78546496766\n",
      "Basal Dendrite surface (cm^2): 0.0000859879\n",
      "\n",
      "lts_morp_2019-11-07_centered_noAxon.swc\n",
      "Soma surface (um^2): 614.0310276515044\n",
      "Basal Dendrite surface (um^2): 8598.78546496766\n",
      "Basal Dendrite surface (cm^2): 0.0000859879\n",
      "\n",
      "21-6-DE-cor-rep-ax.swc\n",
      "Soma surface (um^2): 734.4390154429079\n",
      "Basal Dendrite surface (um^2): 10395.061659412575\n",
      "Basal Dendrite surface (cm^2): 0.0001039506\n",
      "\n",
      "WT-P270-20-15ak-cor.swc\n",
      "Soma surface (um^2): 510.6346415060038\n",
      "Basal Dendrite surface (um^2): 12184.262286450565\n",
      "Basal Dendrite surface (cm^2): 0.0001218426\n",
      "\n",
      "WT-1215MSN03-cor-rep-ax2.swc\n",
      "Soma surface (um^2): 362.28068992102146\n",
      "Basal Dendrite surface (um^2): 14413.154442848627\n",
      "Basal Dendrite surface (cm^2): 0.0001441315\n",
      "\n",
      "WT-0728MSN01-cor-rep-ax.swc\n",
      "Soma surface (um^2): 529.296749580613\n",
      "Basal Dendrite surface (um^2): 11873.21864064585\n",
      "Basal Dendrite surface (cm^2): 0.0001187322\n",
      "\n",
      "optim_chin_morph_renamed2019-11-08.swc\n",
      "Soma surface (um^2): 1020.592184381486\n",
      "Basal Dendrite surface (um^2): 19457.051572883065\n",
      "Basal Dendrite surface (cm^2): 0.0001945705\n",
      "\n"
     ]
    }
   ],
   "source": [
    "for morph in morphologies:\n",
    "    m = nm.load_morphology(morph)\n",
    "    print(morph.split(\"/\")[-1])\n",
    "    print(f\"Soma surface (um^2): {features.get('soma_surface_area', m)}\")\n",
    "    print(f\"Basal Dendrite surface (um^2): {np.sum(features.morphology.total_area_per_neurite(m, nm.BASAL_DENDRITE))}\")\n",
    "    print(f\"Basal Dendrite surface (cm^2): {np.sum(features.morphology.total_area_per_neurite(m, nm.BASAL_DENDRITE))/10**8:.10f}\")\n",
    "    print()"
   ]
  },
  {
   "cell_type": "code",
   "execution_count": 11,
   "id": "0aa2a934-c60d-42ff-a411-8aa362ec7b11",
   "metadata": {},
   "outputs": [
    {
     "name": "stdout",
     "output_type": "stream",
     "text": [
      "WT-P270-09-15ak-cor.swc\n",
      "0.0001098293\n",
      "\n",
      "51-5-DE-cor-rep-ax.swc\n",
      "0.0000826775\n",
      "\n",
      "WT-MSN1-cor-rep-ax.swc\n",
      "0.0001182292\n",
      "\n",
      "46-3-DE-cor-rep-ax.swc\n",
      "0.0000644175\n",
      "\n",
      "MTC180800A-IDB-cor-rep.swc\n",
      "0.0000500441\n",
      "\n",
      "MTC180800A-IDB-cor-rep.swc\n",
      "0.0000500441\n",
      "\n",
      "MTC251001A-IDB-cor-rep.swc\n",
      "0.0001252710\n",
      "\n",
      "DR-rat-Mar-13-08-1-536-R-cor-rep.swc\n",
      "0.0001563205\n",
      "\n",
      "lts_morp_2019-11-07_centered_no_axon.swc\n",
      "0.0000859879\n",
      "\n",
      "lts_morp_2019-11-07_centered_noAxon.swc\n",
      "0.0000859879\n",
      "\n",
      "21-6-DE-cor-rep-ax.swc\n",
      "0.0001039506\n",
      "\n",
      "WT-P270-20-15ak-cor.swc\n",
      "0.0001218426\n",
      "\n",
      "WT-1215MSN03-cor-rep-ax2.swc\n",
      "0.0001441315\n",
      "\n",
      "WT-0728MSN01-cor-rep-ax.swc\n",
      "0.0001187322\n",
      "\n",
      "optim_chin_morph_renamed2019-11-08.swc\n",
      "0.0001945705\n",
      "\n"
     ]
    }
   ],
   "source": [
    "for morph in morphologies:\n",
    "    m = nm.load_morphology(morph)\n",
    "    print(morph.split(\"/\")[-1])\n",
    "    print(f\"{np.sum(features.morphology.total_area_per_neurite(m, nm.BASAL_DENDRITE))/10**8:.10f}\")\n",
    "    print()"
   ]
  },
  {
   "cell_type": "code",
   "execution_count": null,
   "id": "07315fac-2332-43b1-b66c-58f1969a8260",
   "metadata": {},
   "outputs": [],
   "source": []
  }
 ],
 "metadata": {
  "kernelspec": {
   "display_name": "Python 3 (ipykernel)",
   "language": "python",
   "name": "python3"
  },
  "language_info": {
   "codemirror_mode": {
    "name": "ipython",
    "version": 3
   },
   "file_extension": ".py",
   "mimetype": "text/x-python",
   "name": "python",
   "nbconvert_exporter": "python",
   "pygments_lexer": "ipython3",
   "version": "3.8.10"
  }
 },
 "nbformat": 4,
 "nbformat_minor": 5
}
