{
 "cells": [
  {
   "cell_type": "markdown",
   "id": "0f53cdd6-1d0b-4d4a-9b57-479ddd839bdb",
   "metadata": {
    "tags": []
   },
   "source": [
    "# NEST SIMULATION     "
   ]
  },
  {
   "cell_type": "markdown",
   "id": "48e31ff2-5b96-4d7f-9043-5648f4f7466c",
   "metadata": {},
   "source": [
    "## 0. LIBRARIES\n",
    "\n",
    "### 0.1 Regular Libraries"
   ]
  },
  {
   "cell_type": "code",
   "execution_count": 1,
   "id": "d8777fd1-29da-4ca2-a674-2e6fd5b5d355",
   "metadata": {},
   "outputs": [
    {
     "name": "stdout",
     "output_type": "stream",
     "text": [
      "\n",
      "              -- N E S T --\n",
      "  Copyright (C) 2004 The NEST Initiative\n",
      "\n",
      " Version: nest-3.1\n",
      " Built: Sep 28 2021 11:43:45\n",
      "\n",
      " This program is provided AS IS and comes with\n",
      " NO WARRANTY. See the file LICENSE for details.\n",
      "\n",
      " Problems or suggestions?\n",
      "   Visit https://www.nest-simulator.org\n",
      "\n",
      " Type 'nest.help()' to find out more about NEST.\n",
      "\n"
     ]
    }
   ],
   "source": [
    "import nest\n",
    "import matplotlib.pyplot as plt\n",
    "import csv\n",
    "from random import randrange"
   ]
  },
  {
   "cell_type": "markdown",
   "id": "256c0b18-6676-49c0-8c62-fbc7f5df05e5",
   "metadata": {},
   "source": [
    "### 0.2 Functions created by me"
   ]
  },
  {
   "cell_type": "code",
   "execution_count": 2,
   "id": "ccae2741-8862-4627-ac9a-854c26119bb4",
   "metadata": {},
   "outputs": [],
   "source": [
    "from getData import *\n",
    "from plot import *"
   ]
  },
  {
   "cell_type": "markdown",
   "id": "3a743f8f-4080-4b00-9da1-70920638efc2",
   "metadata": {},
   "source": [
    "## 1. IMPORTING DATA\n",
    "\n",
    "### 1.1 Info about the Network"
   ]
  },
  {
   "cell_type": "code",
   "execution_count": 3,
   "id": "00adf908-bae4-4d20-9e01-2d2cf9e084c9",
   "metadata": {
    "tags": []
   },
   "outputs": [],
   "source": [
    "positions_list = getNeuronPositions('net_10000')\n",
    "\n",
    "synaptic_matrix = getSynapses('net_10000')\n",
    "\n",
    "input_matrix = getInput('net_10000', 10000)\n",
    "\n",
    "neuron_IDs = getNeuronMatrix('net_10000')"
   ]
  },
  {
   "cell_type": "markdown",
   "id": "8d9d53c3-ceef-4b7a-ba64-c844ad86e14d",
   "metadata": {},
   "source": [
    "### 1.2 Parameters\n",
    "\n",
    "Model parameters computed from data extracted from .json and .swc files"
   ]
  },
  {
   "cell_type": "code",
   "execution_count": 4,
   "id": "e1417c51-a251-4780-a466-d763f370e9df",
   "metadata": {},
   "outputs": [],
   "source": [
    "file = open(\"/home/ubuntu/BasalGanglia/NEST-params/dspn_params.csv\")\n",
    "csvreader = csv.reader(file)\n",
    "dspn_params = []\n",
    "for row in csvreader:\n",
    "    res = [float(value) for value in row[0].split(';')]    \n",
    "    dspn_params.append(res)\n",
    "file.close()\n",
    "\n",
    "file = open(\"/home/ubuntu/BasalGanglia/NEST-params/ispn_params.csv\")\n",
    "csvreader = csv.reader(file)\n",
    "ispn_params = []\n",
    "for row in csvreader:\n",
    "    res = [float(value) for value in row[0].split(';')]\n",
    "    ispn_params.append(res)\n",
    "file.close()\n",
    "\n",
    "file = open(\"/home/ubuntu/BasalGanglia/NEST-params/fs_params.csv\")\n",
    "csvreader = csv.reader(file)\n",
    "fs_params = []\n",
    "for row in csvreader:\n",
    "    res = [float(value) for value in row[0].split(';')]\n",
    "    fs_params.append(res)\n",
    "file.close()\n",
    "\n",
    "chin_params = [[11.65139394,-50,194.5705]]\n",
    "\n",
    "lts_params = [[1.259667491,-46.06675265,85.9879]]"
   ]
  },
  {
   "cell_type": "markdown",
   "id": "9be59dd0-649e-4e30-bddf-16ec2af79840",
   "metadata": {},
   "source": [
    "### 2. CREATING THE NEST NETWORK\n",
    "\n",
    "### 2.1 Creating the Neurons"
   ]
  },
  {
   "cell_type": "markdown",
   "id": "03bcf937-bde9-4492-be67-9d85e83c9264",
   "metadata": {},
   "source": [
    "Here we create a position list, with the coordinates of each neuron of the network.\n",
    "(This first step is not necessary, since the spatial distribution of the network does not influence the NEST simulation.)"
   ]
  },
  {
   "cell_type": "code",
   "execution_count": 5,
   "id": "ccc8d85d-a09d-428d-aeb5-23ae3ffe47af",
   "metadata": {},
   "outputs": [],
   "source": [
    "pos = nest.spatial.free(positions_list) # using NEURON positions"
   ]
  },
  {
   "cell_type": "markdown",
   "id": "f6826545-72e8-4fab-bdde-0e3e7ea1e125",
   "metadata": {},
   "source": [
    "Now we create all the neurons at once, with same characteristics. They are all conductance based integrate and fire model, with the default parameters of nest.\\"
   ]
  },
  {
   "cell_type": "code",
   "execution_count": 6,
   "id": "37c9839c-ed19-4d95-a684-c2b8f1586aed",
   "metadata": {},
   "outputs": [],
   "source": [
    "s_nodes = nest.Create(\"iaf_cond_alpha\", 99, positions=pos) "
   ]
  },
  {
   "cell_type": "code",
   "execution_count": 7,
   "id": "d6ca8790-2756-4acd-91b9-99a8a7debd4b",
   "metadata": {},
   "outputs": [],
   "source": [
    "#creating the parameter arrays for g_L, e_L and c_M\n",
    "gL = []\n",
    "eL = []\n",
    "Cm = []\n",
    "\n",
    "for i in range (0, len(neuron_IDs)):\n",
    "    \n",
    "    #retrieves neuron type\n",
    "    neuron_type = neuron_IDs[i][1]\n",
    "        \n",
    "    if (neuron_type == 'dspn'):\n",
    "        \n",
    "        #randomly selects one of the sets of parameters for dspn\n",
    "        index = randrange(len(dspn_params))\n",
    "        \n",
    "        gL.append(dspn_params[index][0])\n",
    "        eL.append(dspn_params[index][1])\n",
    "        Cm.append(dspn_params[index][2])\n",
    "                \n",
    "    elif (neuron_type == 'ispn'):\n",
    "        \n",
    "        #randomly selects one of the sets of parameters for dspn\n",
    "        index = randrange(len(ispn_params))\n",
    "        \n",
    "        gL.append(ispn_params[index][0])\n",
    "        eL.append(ispn_params[index][1])\n",
    "        Cm.append(ispn_params[index][2])\n",
    "                \n",
    "        \n",
    "    elif (neuron_type == 'fs'):\n",
    "        \n",
    "        #randomly selects one of the sets of parameters for dspn\n",
    "        index = randrange(len(fs_params))\n",
    "        \n",
    "        gL.append(fs_params[index][0])\n",
    "        eL.append(fs_params[index][1])\n",
    "        Cm.append(fs_params[index][2])\n",
    "            \n",
    "    elif (neuron_type == 'lts'):\n",
    "        #randomly selects one of the sets of parameters for dspn\n",
    "        index = randrange(len(lts_params))\n",
    "        \n",
    "        gL.append(lts_params[index][0])\n",
    "        eL.append(lts_params[index][1])\n",
    "        Cm.append(lts_params[index][2])\n",
    "\n",
    "    elif (neuron_type == 'chin'):\n",
    "        #randomly selects one of the sets of parameters for dspn\n",
    "        index = randrange(len(chin_params))\n",
    "        \n",
    "        gL.append(chin_params[index][0])\n",
    "        eL.append(chin_params[index][1])\n",
    "        Cm.append(chin_params[index][2])        \n"
   ]
  },
  {
   "cell_type": "code",
   "execution_count": 8,
   "id": "97568afc-dadb-4559-98ce-a5f95abaf99c",
   "metadata": {},
   "outputs": [],
   "source": [
    "s_nodes.set({'g_L': gL, 'E_L': eL, 'C_m': Cm})"
   ]
  },
  {
   "cell_type": "markdown",
   "id": "e7b48a59-0f9f-4b03-8b33-7e15fd17c0d0",
   "metadata": {},
   "source": [
    "With the info of the synaptic matrix, we create the pre-synaptic as post-synaptic neuron ID lists, and transform them into numpy arrays"
   ]
  },
  {
   "cell_type": "code",
   "execution_count": 9,
   "id": "ef58bd26-53ef-4f21-bc1d-7ed53b42f5e0",
   "metadata": {
    "tags": []
   },
   "outputs": [
    {
     "data": {
      "text/plain": [
       "'pre_list = []\\npos_list = []\\n\\nfor i in range(0,len(synaptic_matrix)):\\n    pre_list.append(s_nodes[synaptic_matrix[i][0]])\\n    pos_list.append(s_nodes[synaptic_matrix[i][1]])\\n    \\npre_array = np.transpose(np.array(pre_list)).flatten()\\npos_array = np.transpose(np.array(pos_list)).flatten()'"
      ]
     },
     "execution_count": 9,
     "metadata": {},
     "output_type": "execute_result"
    }
   ],
   "source": [
    "'''pre_list = []\n",
    "pos_list = []\n",
    "\n",
    "for i in range(0,len(synaptic_matrix)):\n",
    "    pre_list.append(s_nodes[synaptic_matrix[i][0]])\n",
    "    pos_list.append(s_nodes[synaptic_matrix[i][1]])\n",
    "    \n",
    "pre_array = np.transpose(np.array(pre_list)).flatten()\n",
    "pos_array = np.transpose(np.array(pos_list)).flatten()'''"
   ]
  },
  {
   "cell_type": "markdown",
   "id": "e23d760f-f727-4f94-a92a-9cc9b6dcbe8b",
   "metadata": {},
   "source": [
    "With the arrays ready, we can connect the synapses all in one command.\n",
    "(again here, if we wish to have different parameters and arguments for each synapse, a more complex solution is necessary.)"
   ]
  },
  {
   "cell_type": "code",
   "execution_count": 10,
   "id": "2627dfe1-a0ab-4d13-ae67-f758658fd6fd",
   "metadata": {},
   "outputs": [],
   "source": [
    "#syn_matrix = old_getWeightedSynapses(pre_array,pos_array)"
   ]
  },
  {
   "cell_type": "code",
   "execution_count": 11,
   "id": "4afe78a9-676d-4995-91c1-eadba65b9fee",
   "metadata": {},
   "outputs": [],
   "source": [
    "syn_matrix = np.loadtxt('/home/ubuntu/BasalGanglia/NEURON-data/net_10000/syn_matrix_10k.csv', delimiter=',')"
   ]
  },
  {
   "cell_type": "code",
   "execution_count": 13,
   "id": "c745e6d0-bbb3-4acd-a575-dd4d46064643",
   "metadata": {},
   "outputs": [],
   "source": [
    "syn_matrix = syn_matrix.astype(int)"
   ]
  },
  {
   "cell_type": "code",
   "execution_count": 14,
   "id": "d9c8bbe9-217a-44fd-91ce-b34e1e580c3b",
   "metadata": {
    "tags": []
   },
   "outputs": [],
   "source": [
    "syn_wgt = [] \n",
    "conductances = []\n",
    "for i in range(0,len(syn_matrix)):\n",
    "    \n",
    "    neuron_type = neuron_IDs[syn_matrix[i][0]-1][1]\n",
    "        \n",
    "    if (neuron_type == 'dspn' or neuron_type == 'ispn' ):\n",
    "        #\"conductance\": [2.4e-10, 1e-10]\n",
    "        cond = np.random.normal(2.4e-10,  1e-10, 1)\n",
    "        \n",
    "        if(cond<2.4e-11): #capping at 10% of mean\n",
    "            cond = 2.4e-11\n",
    "    elif (neuron_type == 'lts'):\n",
    "        # conductance mean = 3e-09, std deviation =  0\n",
    "        cond = 3e-09\n",
    "        \n",
    "    elif (neuron_type == 'fs'):\n",
    "        #\"conductance\": [1.1e-09, 1.5e-09],\n",
    "        cond = np.random.normal(1.1e-09, 1.5e-09, 1)\n",
    "        \n",
    "        if(cond<1.1e-10): #capping at 10% of mean\n",
    "            cond = 1.1e-10\n",
    "    \n",
    "    conductances.append(cond)   "
   ]
  },
  {
   "cell_type": "code",
   "execution_count": 15,
   "id": "67a949a0-e973-4cc6-a1c4-bc31a4418799",
   "metadata": {
    "tags": []
   },
   "outputs": [],
   "source": [
    "weights = []\n",
    "for i in range(0, len(conductances)):\n",
    "    weights.append(-1*conductances[i]*syn_matrix[i][2])\n",
    "weights = np.row_stack(weights).flatten()"
   ]
  },
  {
   "cell_type": "code",
   "execution_count": 16,
   "id": "e44989d1-ed3c-4fbc-a35d-048dbeec3008",
   "metadata": {},
   "outputs": [],
   "source": [
    "sources = syn_matrix[:,0]\n",
    "targets = syn_matrix[:,1]"
   ]
  },
  {
   "cell_type": "code",
   "execution_count": 17,
   "id": "4cb6eb04-9ed5-456e-928f-dcfaf8ccc6f5",
   "metadata": {},
   "outputs": [],
   "source": [
    "nest.Connect(sources,targets,conn_spec= \"one_to_one\", syn_spec= {\"weight\": weights})"
   ]
  },
  {
   "cell_type": "markdown",
   "id": "cbd324b5-094c-4d61-8c93-563be405a750",
   "metadata": {},
   "source": [
    "Now onto the creation of the Spike Generators."
   ]
  },
  {
   "cell_type": "code",
   "execution_count": 18,
   "id": "c3b0f3c9-1a3e-4d82-8e7f-bae4b4644e0c",
   "metadata": {
    "tags": []
   },
   "outputs": [],
   "source": [
    "inputs = nest.Create(\"spike_generator\", 99)"
   ]
  },
  {
   "cell_type": "code",
   "execution_count": 19,
   "id": "345ef1b2-e9b6-4efe-a5b9-aa47a85913aa",
   "metadata": {},
   "outputs": [],
   "source": [
    "for g, generator in enumerate(inputs):\n",
    "\n",
    "    nest.SetStatus(generator, {\"spike_times\": input_matrix[g]})"
   ]
  },
  {
   "cell_type": "code",
   "execution_count": 20,
   "id": "8e07e2a8-34c8-4a79-8649-6429ec31bee0",
   "metadata": {
    "tags": []
   },
   "outputs": [],
   "source": [
    "inputs_right = nest.Create(\"spike_generator\", 9999)"
   ]
  },
  {
   "cell_type": "code",
   "execution_count": 21,
   "id": "23f784a7-0b34-48ad-8454-1ee74d29ac9f",
   "metadata": {},
   "outputs": [],
   "source": [
    "for g, generator in enumerate(inputs_right):\n",
    "\n",
    "    nest.SetStatus(generator, {\"spike_times\": input_matrix[g]})"
   ]
  },
  {
   "cell_type": "code",
   "execution_count": 27,
   "id": "b5b4d1e7-d764-403b-801d-5a04132d70e4",
   "metadata": {},
   "outputs": [],
   "source": [
    "inputs_last = nest.Create(\"spike_generator\", 10000)"
   ]
  },
  {
   "cell_type": "code",
   "execution_count": 34,
   "id": "91a566e3-292d-4f8b-b8e3-18655441b1b1",
   "metadata": {},
   "outputs": [],
   "source": [
    "input_matrix[9999] = [0.1]"
   ]
  },
  {
   "cell_type": "code",
   "execution_count": 35,
   "id": "a6234a26-3b86-4945-9119-1759766b9c49",
   "metadata": {},
   "outputs": [],
   "source": [
    "for g, generator in enumerate(inputs_last):\n",
    "\n",
    "    nest.SetStatus(generator, {\"spike_times\": input_matrix[g]})"
   ]
  },
  {
   "cell_type": "code",
   "execution_count": 36,
   "id": "ffd81c76-2b9b-439f-8bb2-f633bfa3776e",
   "metadata": {},
   "outputs": [],
   "source": [
    "input_syn_wgt = np.full(len(inputs_last), 10.0)\n",
    "nest.Connect(inputs_last,s_nodes, conn_spec= \"one_to_one\", syn_spec={\"weight\": input_syn_wgt})"
   ]
  },
  {
   "cell_type": "code",
   "execution_count": 37,
   "id": "f7ee0287-98e2-47f7-a780-7a464f815734",
   "metadata": {},
   "outputs": [],
   "source": [
    "spikerecorder = nest.Create(\"spike_recorder\")"
   ]
  },
  {
   "cell_type": "code",
   "execution_count": 38,
   "id": "e9f918fa-a3c4-48b6-8b0b-f0cca1aad966",
   "metadata": {},
   "outputs": [],
   "source": [
    "nest.Connect(s_nodes,spikerecorder, conn_spec= \"all_to_all\")"
   ]
  },
  {
   "cell_type": "code",
   "execution_count": null,
   "id": "0ca7ffdd-55a2-4ccb-a5ef-547632d25819",
   "metadata": {},
   "outputs": [],
   "source": [
    "multimeter = nest.Create(\"multimeter\")\n",
    "multimeter.set(record_from=[\"V_m\"])\n",
    "nest.Connect(multimeter,s_nodes, \"all_to_all\")"
   ]
  },
  {
   "cell_type": "code",
   "execution_count": null,
   "id": "2d7043cf-d817-4538-bac6-54a09cfa9866",
   "metadata": {},
   "outputs": [],
   "source": [
    "mult1 = nest.Create(\"multimeter\", 5)\n",
    "mult1.set(record_from=[\"V_m\"])\n",
    "chosen_nodes = [1,11,21,31,41]\n",
    "nest.Connect(mult1,chosen_nodes, \"one_to_one\")"
   ]
  },
  {
   "cell_type": "markdown",
   "id": "a2c1e446-18d3-4571-82f8-de8a142a9eee",
   "metadata": {},
   "source": [
    "### RUNNING THE SIMULATION\n",
    "Here we are using a total run itme of 2000 ms (and the default step of simulation of 0.1 ms)"
   ]
  },
  {
   "cell_type": "code",
   "execution_count": 39,
   "id": "bd730fa7-1fab-415f-afd2-29806e7a2554",
   "metadata": {},
   "outputs": [
    {
     "name": "stdout",
     "output_type": "stream",
     "text": [
      "\n",
      "Nov 19 16:12:50 NodeManager::prepare_nodes [Info]: \n",
      "    Preparing 30099 nodes for simulation.\n",
      "\n",
      "Nov 19 16:12:51 SimulationManager::start_updating_ [Info]: \n",
      "    Number of local nodes: 30099\n",
      "    Simulation time (ms): 2000\n",
      "    Number of OpenMP threads: 1\n",
      "    Number of MPI processes: 1\n",
      "\n",
      "Nov 19 16:14:35 SimulationManager::run [Info]: \n",
      "    Simulation finished.\n"
     ]
    }
   ],
   "source": [
    "nest.Simulate(2000.0)"
   ]
  },
  {
   "cell_type": "markdown",
   "id": "fcff3255-eca8-4f26-9360-4d29cefa45f6",
   "metadata": {},
   "source": [
    "### ANALYSING THE RESULTS"
   ]
  },
  {
   "cell_type": "code",
   "execution_count": null,
   "id": "d1065081-332b-490d-afb9-27ceedf076e4",
   "metadata": {},
   "outputs": [],
   "source": [
    "dmm = multimeter.get()\n",
    "Vms = dmm[\"events\"][\"V_m\"]\n",
    "ts = dmm[\"events\"][\"times\"]\n",
    "ids = dmm[\"events\"][\"senders\"]\n",
    "\n",
    "plt.figure(1)\n",
    "plt.plot(ts, Vms)\n",
    "plt.show()"
   ]
  },
  {
   "cell_type": "code",
   "execution_count": null,
   "id": "d3db08fd-8723-48bb-97ca-e08423af4cb9",
   "metadata": {},
   "outputs": [],
   "source": [
    "for i in range(0,5):\n",
    "    dmm1 = mult1[i].get()\n",
    "    Vms1 = dmm1[\"events\"][\"V_m\"]\n",
    "    ts1 = dmm1[\"events\"][\"times\"]\n",
    "    ids1 = dmm1[\"events\"][\"senders\"]\n",
    "\n",
    "    plt.figure(1)\n",
    "    plt.plot(ts1, Vms1)\n",
    "    plt.show()"
   ]
  },
  {
   "cell_type": "code",
   "execution_count": 40,
   "id": "13595846-b40e-4745-bc34-381c3cf93bd4",
   "metadata": {},
   "outputs": [],
   "source": [
    "dSD = spikerecorder.get(\"events\")\n",
    "evs = dSD[\"senders\"]\n",
    "ts = dSD[\"times\"]"
   ]
  },
  {
   "cell_type": "code",
   "execution_count": 42,
   "id": "6909c274-33c9-42d0-b88c-fcf1d25a0cde",
   "metadata": {},
   "outputs": [
    {
     "data": {
      "image/png": "[encoded data removed]",
      "text/plain": [
       "<Figure size 432x288 with 1 Axes>"
      ]
     },
     "metadata": {
      "needs_background": "light"
     },
     "output_type": "display_data"
    },
    {
     "data": {
      "image/png": "[encoded data removed]",
      "text/plain": [
       "<Figure size 432x288 with 1 Axes>"
      ]
     },
     "metadata": {
      "needs_background": "light"
     },
     "output_type": "display_data"
    },
    {
     "data": {
      "image/png": "[encoded data removed]",
      "text/plain": [
       "<Figure size 432x288 with 1 Axes>"
      ]
     },
     "metadata": {
      "needs_background": "light"
     },
     "output_type": "display_data"
    },
    {
     "data": {
      "image/png": "[encoded data removed]",
      "text/plain": [
       "<Figure size 432x288 with 1 Axes>"
      ]
     },
     "metadata": {
      "needs_background": "light"
     },
     "output_type": "display_data"
    }
   ],
   "source": [
    "RasterNEST(evs, ts , neuron_IDs)\n",
    "\n",
    "plotFRNEST(evs, ts, neuron_IDs)"
   ]
  },
  {
   "cell_type": "markdown",
   "id": "72b2673c-67b2-4e65-b934-5315674524ac",
   "metadata": {},
   "source": [
    "### OTHERS"
   ]
  },
  {
   "cell_type": "code",
   "execution_count": 41,
   "id": "5df130bf-ef12-4d2f-b894-25ac91c96625",
   "metadata": {
    "tags": []
   },
   "outputs": [],
   "source": [
    "chin_color='xkcd:orange'\n",
    "ispn_color='xkcd:blue purple'\n",
    "lts_color='xkcd:bright purple'\n",
    "dspn_color='xkcd:sky blue'\n",
    "fs_color='xkcd:dark blue'\n",
    "\n",
    "\n",
    "def ComputeFiringRatesNEST(senders, times, neuron_IDs):\n",
    "\n",
    "    dspn_spks = []\n",
    "    ispn_spks = []\n",
    "    lts_spks = []\n",
    "    chin_spks = []\n",
    "    fs_spks = []\n",
    "    \n",
    "    dspn_ID, ispn_ID, lts_ID, fs_ID, chin_ID = getNeuronSubMatrixes(neuron_IDs)\n",
    "\n",
    "\n",
    "    for i in range(0, len(senders)):\n",
    "        if senders[i] in dspn_ID:\n",
    "            dspn_spks.append(times[i])\n",
    "        elif senders[i] in ispn_ID:\n",
    "            ispn_spks.append(times[i])\n",
    "        elif senders[i] in chin_ID:\n",
    "            chin_spks.append(times[i])\n",
    "        elif senders[i] in lts_ID:\n",
    "            lts_spks.append(times[i])\n",
    "        elif senders[i] in fs_ID:\n",
    "            fs_spks.append(times[i])\n",
    "\n",
    "    dspn_spikes_dt = []\n",
    "    ispn_spikes_dt = []\n",
    "    chin_spikes_dt = []\n",
    "    lts_spikes_dt = []\n",
    "    fs_spikes_dt = []\n",
    "\n",
    "    for d_time in range (0, 1981, 20):\n",
    "\n",
    "        start = d_time\n",
    "        stop = d_time + 20\n",
    "        spikes_dt_aux = [0,0,0,0,0]\n",
    "\n",
    "        for elem in dspn_spks:\n",
    "            if (start < elem <= stop):\n",
    "                spikes_dt_aux[0] +=1\n",
    "        for elem in ispn_spks:\n",
    "            if (start < elem <= stop):\n",
    "                spikes_dt_aux[1] +=1\n",
    "        for elem in chin_spks:\n",
    "            if (start < elem <= stop):\n",
    "                spikes_dt_aux[2] +=1\n",
    "        for elem in lts_spks:\n",
    "            if (start < elem <= stop):\n",
    "                spikes_dt_aux[3] +=1\n",
    "        for elem in fs_spks:\n",
    "            if (start < elem <= stop):\n",
    "                spikes_dt_aux[4] +=1\n",
    "\n",
    "        dspn_spikes_dt.append(spikes_dt_aux[0])\n",
    "        ispn_spikes_dt.append(spikes_dt_aux[1])\n",
    "        chin_spikes_dt.append(spikes_dt_aux[2])\n",
    "        lts_spikes_dt.append(spikes_dt_aux[3])\n",
    "        fs_spikes_dt.append(spikes_dt_aux[4])\n",
    "        \n",
    "    N_dspn = len(dspn_ID)\n",
    "    N_ispn = len(ispn_ID)\n",
    "    N_chin = len(chin_ID)\n",
    "    N_lts= len(lts_ID)\n",
    "    N_fs = len(fs_ID)\n",
    "\n",
    "    dspn_fr = []\n",
    "    ispn_fr = []\n",
    "    chin_fr = []\n",
    "    lts_fr = []\n",
    "    fs_fr = []\n",
    "\n",
    "    for elem in dspn_spikes_dt:\n",
    "        dspn_fr.append(elem*50/(N_dspn))\n",
    "    for elem in ispn_spikes_dt:\n",
    "        ispn_fr.append(elem*50/(N_ispn))\n",
    "    for elem in chin_spikes_dt:\n",
    "        chin_fr.append(elem*50/(N_chin))\n",
    "    for elem in lts_spikes_dt:\n",
    "        lts_fr.append(elem*50/(N_lts))\n",
    "    for elem in fs_spikes_dt:\n",
    "        fs_fr.append(elem*50/(N_fs))\n",
    "\n",
    "    time = []\n",
    "    for d_time in range (0, 1981, 20):\n",
    "        time.append(d_time)\n",
    "\n",
    "    return(time, dspn_fr, ispn_fr, chin_fr, lts_fr, fs_fr)\n",
    "\n",
    "def plotFRNEST(senders, times, neuron_IDs):\n",
    "    \n",
    "    time, dspn_fr, ispn_fr, chin_fr, lts_fr, fs_fr = ComputeFiringRatesNEST(senders, times, neuron_IDs)\n",
    "    \n",
    "    fig = plt.figure()\n",
    "    ax = fig.add_axes([0,0,1,1])\n",
    "    \n",
    "    plt.step(time, lts_fr, color = lts_color, linewidth=0.5)\n",
    "    plt.step(time, chin_fr, color = chin_color, linewidth=0.5)\n",
    "    plt.step(time, fs_fr, color = fs_color, linewidth=0.5)\n",
    "    plt.step(time, dspn_fr, color = dspn_color, linewidth=1)\n",
    "    plt.step(time, ispn_fr, color = ispn_color, linewidth=1)\n",
    "    \n",
    "    ax.set_title(\"Firing Rates\")\n",
    "    ax.set_xlabel('Time [s]')\n",
    "    ax.set_ylabel(' Firing Rate [Hz]')\n",
    "\n",
    "    plt.show()\n",
    "    \n",
    "    #------------------------------------------------------------#\n",
    "    fig1 = plt.figure()\n",
    "    ax1 = fig1.add_axes([0,0,1,1])\n",
    "\n",
    "    plt.step(time, lts_fr, color = lts_color, linewidth=0.5)\n",
    "    plt.step(time, chin_fr, color = chin_color, linewidth=0.5)\n",
    "    plt.step(time, fs_fr, color = fs_color, linewidth=0.5)\n",
    "    \n",
    "    ax1.set_title(\"Firing Rates of the Interneurons\")\n",
    "    ax1.set_xlabel('Time [s]')\n",
    "    ax1.set_ylabel(' Firing Rate [Hz]')\n",
    "    \n",
    "    plt.show()\n",
    "    \n",
    "    #------------------------------------------------------------#    \n",
    "    fig2 = plt.figure()\n",
    "    ax2 = fig2.add_axes([0,0,1,1])\n",
    "    plt.step(time, dspn_fr, color = dspn_color, linewidth=1)\n",
    "    plt.step(time, ispn_fr, color = ispn_color, linewidth=1)\n",
    "    ax2.set_title(\"Firing Rates of dSPN and iSPN\")\n",
    "    ax2.set_xlabel('Time [s]')\n",
    "    ax2.set_ylabel(' Firing Rate [Hz]')\n",
    "    \n",
    "    plt.show()\n",
    "    \n",
    "    return\n",
    "\n",
    "def RasterNEST(evs,ts, neuron_IDs):\n",
    "    spikes = {}\n",
    "    for i in range(0, len(evs)) :\n",
    "\n",
    "        nID = evs[i]\n",
    "        spike_time = ts[i]\n",
    "        if(nID not in spikes.keys()):\n",
    "            spikes[nID] = []            \n",
    "        spikes[nID].append(spike_time)\n",
    "\n",
    "    for i in range(0, 10000):\n",
    "        if(i not in spikes.keys()):\n",
    "            spikes[i] = []\n",
    "\n",
    "    n_ids = np.array(list(spikes.keys()), dtype=int)\n",
    "    n_ids.sort() #organize the neurons by id\n",
    "\n",
    "    dspn_ID, ispn_ID, lts_ID, fs_ID, chin_ID = getNeuronSubMatrixes(neuron_IDs)\n",
    "\n",
    "    orderedIDs = getOrderedIDs(dspn_ID, ispn_ID, lts_ID, fs_ID, chin_ID)\n",
    "\n",
    "\n",
    "    fig_handle = plt.figure()\n",
    "    ax = fig_handle.add_subplot(111)\n",
    "    ax.set_xlabel('$t$ (ms)')\n",
    "    ax.axes.yaxis.set_visible(False)\n",
    "\n",
    "\n",
    "    plotSpikes(spikes, fs_ID, orderedIDs, fs_color, 'fs', ax)\n",
    "    plotSpikes(spikes, dspn_ID, orderedIDs,dspn_color, 'dspn', ax)\n",
    "    plotSpikes(spikes, lts_ID, orderedIDs, lts_color, 'lts', ax)\n",
    "    plotSpikes(spikes, ispn_ID, orderedIDs,ispn_color , 'ispn', ax)\n",
    "    plotSpikes(spikes, chin_ID, orderedIDs, chin_color, 'chin', ax)\n",
    "\n",
    "    box = ax.get_position()\n",
    "    ax.set_position([box.x0, box.y0, box.width * 0.9, box.height])\n",
    "    # Put a legend to the right of the current axis\n",
    "\n",
    "    ax.legend(loc='center left', bbox_to_anchor=(1, 0.5))\n",
    "    plt.show()\n",
    "    \n",
    "    return()\n",
    "\n",
    "def plotSpikes(events, id_array, raster_order, color, label, ax):\n",
    "    \n",
    "    label_done = False\n",
    "    \n",
    "    for neuron_id in id_array:\n",
    "        \n",
    "        spikes = events[neuron_id] #array of the spike times of neuron i\n",
    "        \n",
    "        index = raster_order.index(neuron_id)\n",
    "        if not label_done:\n",
    "            ax.plot(spikes, np.full_like(spikes, index), ms = 1, marker=\".\", label=label, color=color, linestyle=\"None\")\n",
    "\n",
    "            #this full_like function generates an array that has the same size as events[i], with the value index\n",
    "            #on every position (so we #have the same number of x and ys for plotting)\n",
    "            label_done = True\n",
    "        else:\n",
    "            ax.plot(spikes, np.full_like(spikes, index), ms = 1, marker=\".\", color=color, linestyle=\"None\")\n",
    "    return()"
   ]
  },
  {
   "cell_type": "code",
   "execution_count": null,
   "id": "8d1b0b04-1cae-4415-87ff-980946958231",
   "metadata": {},
   "outputs": [],
   "source": []
  }
 ],
 "metadata": {
  "kernelspec": {
   "display_name": "Python 3 (ipykernel)",
   "language": "python",
   "name": "python3"
  },
  "language_info": {
   "codemirror_mode": {
    "name": "ipython",
    "version": 3
   },
   "file_extension": ".py",
   "mimetype": "text/x-python",
   "name": "python",
   "nbconvert_exporter": "python",
   "pygments_lexer": "ipython3",
   "version": "3.8.10"
  }
 },
 "nbformat": 4,
 "nbformat_minor": 5
}
