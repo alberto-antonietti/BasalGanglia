{
 "cells": [
  {
   "cell_type": "code",
   "execution_count": 1,
   "id": "d8777fd1-29da-4ca2-a674-2e6fd5b5d355",
   "metadata": {},
   "outputs": [],
   "source": [
    "import nest"
   ]
  },
  {
   "cell_type": "code",
   "execution_count": 9,
   "id": "d6e422c4-6e52-4843-b14d-27cb0a7cf81a",
   "metadata": {},
   "outputs": [],
   "source": [
    "neurons = []"
   ]
  },
  {
   "cell_type": "code",
   "execution_count": 11,
   "id": "f06d76bf-7759-4c89-be14-fb1e7d1c9eed",
   "metadata": {},
   "outputs": [
    {
     "name": "stdout",
     "output_type": "stream",
     "text": [
      "NodeCollection(metadata=None, model=iaf_cond_alpha, size=20, first=100, last=119)\n"
     ]
    }
   ],
   "source": [
    "nest.GetStatus(neurons)\n",
    "print(neurons) #here we have an array with the IDs of the nodes we've created"
   ]
  },
  {
   "cell_type": "code",
   "execution_count": 3,
   "id": "00adf908-bae4-4d20-9e01-2d2cf9e084c9",
   "metadata": {},
   "outputs": [],
   "source": [
    "import h5py\n",
    "\n",
    "with h5py.File('/home/ubuntu/BasalGanglia/obsolete and testing notebooks/network-neuron-positions-Copy1.hdf5', 'r') as hdf5:\n",
    "\n",
    "    position = hdf5.get('network').get('neurons').get('position')\n",
    "    neuron_positions = []\n",
    "\n",
    "    for i in range(0,len(position)):\n",
    "        single_neuron = []\n",
    "        for j in range(0, len(position[0])):\n",
    "            single_neuron.append(position[i][j])                    \n",
    "        neuron_positions.append(single_neuron)"
   ]
  },
  {
   "cell_type": "code",
   "execution_count": 6,
   "id": "ccc8d85d-a09d-428d-aeb5-23ae3ffe47af",
   "metadata": {},
   "outputs": [],
   "source": [
    "pos = nest.spatial.free(neuron_positions) # using NEURON positions\n",
    "s_nodes = nest.Create(\"iaf_cond_alpha\", 99, positions=pos)\n"
   ]
  },
  {
   "cell_type": "code",
   "execution_count": 8,
   "id": "3a4b5c48-a99f-4531-9b9b-0a0d6259093a",
   "metadata": {},
   "outputs": [
    {
     "ename": "NameError",
     "evalue": "name 'PlotLayer' is not defined",
     "output_type": "error",
     "traceback": [
      "\u001b[0;31m---------------------------------------------------------------------------\u001b[0m",
      "\u001b[0;31mNameError\u001b[0m                                 Traceback (most recent call last)",
      "\u001b[0;32m<ipython-input-8-8d0e957172f2>\u001b[0m in \u001b[0;36m<module>\u001b[0;34m\u001b[0m\n\u001b[1;32m      1\u001b[0m \u001b[0;32mimport\u001b[0m \u001b[0mmatplotlib\u001b[0m\u001b[0;34m.\u001b[0m\u001b[0mpyplot\u001b[0m \u001b[0;32mas\u001b[0m \u001b[0mplt\u001b[0m\u001b[0;34m\u001b[0m\u001b[0;34m\u001b[0m\u001b[0m\n\u001b[1;32m      2\u001b[0m \u001b[0;34m\u001b[0m\u001b[0m\n\u001b[0;32m----> 3\u001b[0;31m \u001b[0mfig1\u001b[0m \u001b[0;34m=\u001b[0m \u001b[0mPlotLayer\u001b[0m\u001b[0;34m(\u001b[0m\u001b[0mlayer1\u001b[0m\u001b[0;34m,\u001b[0m \u001b[0mnodesize\u001b[0m\u001b[0;34m=\u001b[0m\u001b[0;36m50\u001b[0m\u001b[0;34m)\u001b[0m\u001b[0;34m\u001b[0m\u001b[0;34m\u001b[0m\u001b[0m\n\u001b[0m\u001b[1;32m      4\u001b[0m \u001b[0;34m\u001b[0m\u001b[0m\n\u001b[1;32m      5\u001b[0m \u001b[0mplt\u001b[0m\u001b[0;34m.\u001b[0m\u001b[0msavefig\u001b[0m\u001b[0;34m(\u001b[0m\u001b[0;34m'layer.png'\u001b[0m\u001b[0;34m,\u001b[0m \u001b[0mbbox_inches\u001b[0m\u001b[0;34m=\u001b[0m\u001b[0;34m'tight'\u001b[0m\u001b[0;34m)\u001b[0m\u001b[0;34m\u001b[0m\u001b[0;34m\u001b[0m\u001b[0m\n",
      "\u001b[0;31mNameError\u001b[0m: name 'PlotLayer' is not defined"
     ]
    }
   ],
   "source": [
    "import matplotlib.pyplot as plt\n",
    "\n",
    "fig1 = PlotLayer(layer1, nodesize=50)\n",
    "\n",
    "plt.savefig('layer.png', bbox_inches='tight')"
   ]
  },
  {
   "cell_type": "code",
   "execution_count": 12,
   "id": "f80c0511-2a97-4fee-a8a1-38a1e793d59e",
   "metadata": {},
   "outputs": [
    {
     "name": "stdout",
     "output_type": "stream",
     "text": [
      "\n",
      "Sorry, there is no help for model 'iaf_cond_alpha'.\n",
      "Use the Python help() function to obtain help on PyNEST functions.\n"
     ]
    }
   ],
   "source": [
    "nest.help('iaf_cond_alpha')"
   ]
  },
  {
   "cell_type": "code",
   "execution_count": 14,
   "id": "a5b187b8-d442-4697-ac8e-2cba6fb1b528",
   "metadata": {},
   "outputs": [
    {
     "data": {
      "text/plain": [
       "({'archiver_length': 0,\n",
       "  'beta_Ca': 0.001,\n",
       "  'C_m': 250.0,\n",
       "  'Ca': 0.0,\n",
       "  'dg_ex': 0.0,\n",
       "  'dg_in': 0.0,\n",
       "  'E_L': -70.0,\n",
       "  'E_ex': 0.0,\n",
       "  'E_in': -85.0,\n",
       "  'element_type': 'neuron',\n",
       "  'frozen': False,\n",
       "  'g_L': 16.6667,\n",
       "  'g_ex': 0.0,\n",
       "  'g_in': 0.0,\n",
       "  'global_id': 1,\n",
       "  'I_e': 0.0,\n",
       "  'local': True,\n",
       "  'model': 'iaf_cond_alpha',\n",
       "  'node_uses_wfr': False,\n",
       "  'post_trace': 0.0,\n",
       "  'recordables': ('g_ex', 'g_in', 't_ref_remaining', 'V_m'),\n",
       "  'synaptic_elements': {},\n",
       "  't_ref': 2.0,\n",
       "  't_spike': -1.0,\n",
       "  'tau_Ca': 10000.0,\n",
       "  'tau_minus': 20.0,\n",
       "  'tau_minus_triplet': 110.0,\n",
       "  'tau_syn_ex': 0.2,\n",
       "  'tau_syn_in': 2.0,\n",
       "  'thread': 0,\n",
       "  'thread_local_id': -1,\n",
       "  'V_m': -70.0,\n",
       "  'V_reset': -60.0,\n",
       "  'V_th': -55.0,\n",
       "  'vp': 0},)"
      ]
     },
     "execution_count": 14,
     "metadata": {},
     "output_type": "execute_result"
    }
   ],
   "source": [
    "neuron1 = nest.Create('iaf_cond_alpha')\n",
    "nest.GetStatus(neuron1)"
   ]
  },
  {
   "cell_type": "code",
   "execution_count": null,
   "id": "d412269b-e2f0-4739-bc5d-436d108b5782",
   "metadata": {},
   "outputs": [],
   "source": []
  }
 ],
 "metadata": {
  "kernelspec": {
   "display_name": "Python 3",
   "language": "python",
   "name": "python3"
  },
  "language_info": {
   "codemirror_mode": {
    "name": "ipython",
    "version": 3
   },
   "file_extension": ".py",
   "mimetype": "text/x-python",
   "name": "python",
   "nbconvert_exporter": "python",
   "pygments_lexer": "ipython3",
   "version": "3.8.10"
  }
 },
 "nbformat": 4,
 "nbformat_minor": 5
}
