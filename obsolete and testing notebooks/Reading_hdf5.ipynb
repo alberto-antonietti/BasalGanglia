{
 "cells": [
  {
   "cell_type": "code",
   "execution_count": 1,
   "id": "preliminary-narrow",
   "metadata": {},
   "outputs": [
    {
     "ename": "NameError",
     "evalue": "name 'self' is not defined",
     "output_type": "error",
     "traceback": [
      "\u001b[0;31m---------------------------------------------------------------------------\u001b[0m",
      "\u001b[0;31mNameError\u001b[0m                                 Traceback (most recent call last)",
      "\u001b[0;32m<ipython-input-1-41a08b3962df>\u001b[0m in \u001b[0;36m<module>\u001b[0;34m\u001b[0m\n\u001b[1;32m      4\u001b[0m \u001b[0;32mimport\u001b[0m \u001b[0mmatplotlib\u001b[0m\u001b[0;34m\u001b[0m\u001b[0;34m\u001b[0m\u001b[0m\n\u001b[1;32m      5\u001b[0m \u001b[0;32mimport\u001b[0m \u001b[0mmatplotlib\u001b[0m\u001b[0;34m.\u001b[0m\u001b[0mpyplot\u001b[0m \u001b[0;32mas\u001b[0m \u001b[0mplt\u001b[0m\u001b[0;34m\u001b[0m\u001b[0;34m\u001b[0m\u001b[0m\n\u001b[0;32m----> 6\u001b[0;31m \u001b[0mplt\u001b[0m\u001b[0;34m.\u001b[0m\u001b[0mscatter\u001b[0m\u001b[0;34m(\u001b[0m\u001b[0mself\u001b[0m\u001b[0;34m.\u001b[0m\u001b[0mtime\u001b[0m\u001b[0;34m-\u001b[0m\u001b[0mskipTime\u001b[0m\u001b[0;34m,\u001b[0m\u001b[0mself\u001b[0m\u001b[0;34m.\u001b[0m\u001b[0mspikeID\u001b[0m\u001b[0;34m,\u001b[0m\u001b[0mcolor\u001b[0m\u001b[0;34m=\u001b[0m\u001b[0;34m'black'\u001b[0m\u001b[0;34m,\u001b[0m\u001b[0ms\u001b[0m\u001b[0;34m=\u001b[0m\u001b[0;36m1\u001b[0m\u001b[0;34m)\u001b[0m\u001b[0;34m\u001b[0m\u001b[0;34m\u001b[0m\u001b[0m\n\u001b[0m",
      "\u001b[0;31mNameError\u001b[0m: name 'self' is not defined"
     ]
    }
   ],
   "source": [
    "import numpy as np\n",
    "import h5py\n",
    "import pandas as pd\n",
    "import matplotlib\n",
    "import matplotlib.pyplot as plt\n",
    "plt.scatter(self.time-skipTime,self.spikeID,color='black',s=1)"
   ]
  },
  {
   "cell_type": "code",
   "execution_count": 2,
   "id": "printable-norwegian",
   "metadata": {},
   "outputs": [
    {
     "name": "stdout",
     "output_type": "stream",
     "text": [
      "Items on root : [('meta', <HDF5 group \"/meta\" (2 members)>), ('network', <HDF5 group \"/network\" (1 members)>)]\n",
      "Items on meta : [('config', <HDF5 dataset \"config\": shape (), type \"|O\">), ('configFile', <HDF5 dataset \"configFile\": shape (), type \"|O\">)]\n",
      "Items on network : [('neurons', <HDF5 group \"/network/neurons\" (19 members)>)]\n",
      "Items on neurons : [('axonDensity', <HDF5 dataset \"axonDensity\": shape (99,), type \"|S245\">), ('axonDensityBoundsXYZ', <HDF5 dataset \"axonDensityBoundsXYZ\": shape (99, 6), type \"<f8\">), ('axonDensityRadius', <HDF5 dataset \"axonDensityRadius\": shape (99,), type \"<f8\">), ('axonDensityType', <HDF5 dataset \"axonDensityType\": shape (99,), type \"|S3\">), ('channelID', <HDF5 dataset \"channelID\": shape (99,), type \"<i8\">), ('channelMethod', <HDF5 dataset \"channelMethod\": shape (), type \"|O\">), ('hoc', <HDF5 dataset \"hoc\": shape (99,), type \"|S10\">), ('maxAxonRadius', <HDF5 dataset \"maxAxonRadius\": shape (99,), type \"<f8\">), ('maxDendRadius', <HDF5 dataset \"maxDendRadius\": shape (99,), type \"<f8\">), ('modulationID', <HDF5 dataset \"modulationID\": shape (99,), type \"<i8\">), ('morphology', <HDF5 dataset \"morphology\": shape (99,), type \"|S159\">), ('nChannels', <HDF5 dataset \"nChannels\": shape (), type \"<i8\">), ('name', <HDF5 dataset \"name\": shape (99,), type \"|S6\">), ('neuronID', <HDF5 dataset \"neuronID\": shape (99,), type \"<i8\">), ('parameterID', <HDF5 dataset \"parameterID\": shape (99,), type \"<i8\">), ('position', <HDF5 dataset \"position\": shape (99, 3), type \"<f8\">), ('rotation', <HDF5 dataset \"rotation\": shape (99, 9), type \"<f8\">), ('virtualNeuron', <HDF5 dataset \"virtualNeuron\": shape (99,), type \"|b1\">), ('volumeID', <HDF5 dataset \"volumeID\": shape (99,), type \"|S8\">)]\n"
     ]
    }
   ],
   "source": [
    "with h5py.File('Snudda/networks/tinySim/network-neuron-positions.hdf5', 'r') as hdf5:\n",
    "    base_items = list(hdf5.items())\n",
    "    print(\"Items on root :\", base_items)\n",
    "    meta = hdf5.get('meta')\n",
    "    meta_items = list(meta.items())\n",
    "    print(\"Items on meta :\", meta_items)\n",
    "    network = hdf5.get('network')\n",
    "    network_items = list(network.items())\n",
    "    print(\"Items on network :\", network_items)\n",
    "    neurons = network.get('neurons')\n",
    "    neurons_items = list(neurons.items())\n",
    "    print(\"Items on neurons :\", neurons_items)\n",
    "    neuronID = np.array(neurons.get('neuronID'))\n",
    "    neuron_type = np.array(neurons.get('morphology'))"
   ]
  },
  {
   "cell_type": "code",
   "execution_count": 3,
   "id": "excessive-facility",
   "metadata": {},
   "outputs": [
    {
     "name": "stdout",
     "output_type": "stream",
     "text": [
      "<class 'str'>\n",
      "['dspn', 'ispn', 'dspn', 'dspn', 'ispn', 'ispn', 'dspn', 'ispn', 'ispn', 'dspn', 'ispn', 'ispn', 'ispn', 'dspn', 'ispn', 'dspn', 'dspn', 'dspn', 'dspn', 'ispn', 'ispn', 'dspn', 'ispn', 'dspn', 'dspn', 'dspn', 'ispn', 'ispn', 'ispn', 'ispn', 'dspn', 'dspn', 'ispn', 'ispn', 'ispn', 'dspn', 'ispn', 'dspn', 'dspn', 'ispn', 'dspn', 'dspn', 'ispn', 'dspn', 'dspn', 'ispn', 'ispn', 'ispn', 'ispn', 'dspn', 'ispn', 'ispn', 'ispn', 'ispn', 'dspn', 'ispn', 'fs', 'ispn', 'ispn', 'dspn', 'ispn', 'dspn', 'dspn', 'ispn', 'ispn', 'ispn', 'dspn', 'dspn', 'ispn', 'ispn', 'dspn', 'dspn', 'dspn', 'ispn', 'dspn', 'ispn', 'dspn', 'dspn', 'ispn', 'chin', 'dspn', 'dspn', 'dspn', 'ispn', 'dspn', 'ispn', 'ispn', 'lts', 'ispn', 'dspn', 'ispn', 'dspn', 'dspn', 'dspn', 'ispn', 'dspn', 'dspn', 'dspn', 'dspn']\n"
     ]
    }
   ],
   "source": [
    "neuron_type2 = []\n",
    "\n",
    "for i in range (0, neuron_type.size) :\n",
    "    neuron_type2.append(str(neuron_type[i]))\n",
    "    \n",
    "print(type(neuron_type2[0]))\n",
    "\n",
    "for i in range (0, len(neuron_type2)):\n",
    "    if \"dspn\" in neuron_type2[i]:\n",
    "        neuron_type2[i] = \"dspn\"\n",
    "    elif ('ispn' in neuron_type2[i]) :\n",
    "        neuron_type2[i] = \"ispn\"\n",
    "    elif 'lts' in neuron_type2[i] :\n",
    "        neuron_type2[i] = \"lts\"\n",
    "    elif 'fs' in neuron_type2[i] :\n",
    "        neuron_type2[i] = \"fs\"\n",
    "    elif 'chin' in neuron_type2[i] :\n",
    "        neuron_type2[i] = \"chin\"\n",
    "print(neuron_type2)\n",
    "\n"
   ]
  },
  {
   "cell_type": "code",
   "execution_count": 4,
   "id": "plastic-organ",
   "metadata": {},
   "outputs": [
    {
     "name": "stdout",
     "output_type": "stream",
     "text": [
      "    neuronID neuron_type\n",
      "0          0        dspn\n",
      "1          1        ispn\n",
      "2          2        dspn\n",
      "3          3        dspn\n",
      "4          4        ispn\n",
      "..       ...         ...\n",
      "94        94        ispn\n",
      "95        95        dspn\n",
      "96        96        dspn\n",
      "97        97        dspn\n",
      "98        98        dspn\n",
      "\n",
      "[99 rows x 2 columns]\n"
     ]
    },
    {
     "data": {
      "text/plain": [
       "<AxesSubplot:ylabel='neuron_type'>"
      ]
     },
     "execution_count": 4,
     "metadata": {},
     "output_type": "execute_result"
    },
    {
     "data": {
      "image/png": "[encoded data removed]",
      "text/plain": [
       "<Figure size 432x288 with 1 Axes>"
      ]
     },
     "metadata": {},
     "output_type": "display_data"
    }
   ],
   "source": [
    "\n",
    "\n",
    "d = {'neuronID': neuronID, 'neuron_type': neuron_type2}\n",
    "df = pd.DataFrame(data=d)\n",
    "print(df)\n",
    "df['neuron_type'].value_counts().plot(kind='pie')\n"
   ]
  },
  {
   "cell_type": "code",
   "execution_count": 5,
   "id": "super-antarctica",
   "metadata": {},
   "outputs": [
    {
     "name": "stdout",
     "output_type": "stream",
     "text": [
      "      sourceID  destinID    3    4    5  synapseType   7  dentDistance    9  \\\n",
      "0            3         0   75  136  199            6  14           240  143   \n",
      "1            3         0   91  132  211            7  14           260  107   \n",
      "2            3         0  111  136  185           26  14           192   40   \n",
      "3            6         0  117  116  178           26  14           366  115   \n",
      "4            6         0  128  118  167           26  14           289  130   \n",
      "...        ...       ...  ...  ...  ...          ...  ..           ...  ...   \n",
      "7029        89        98  142  104  186           26  14           223   92   \n",
      "7030        89        98  159  135  187           26  14           312   53   \n",
      "7031        92        98  135   94  176           21  14           239  136   \n",
      "7032        92        98  135   98  177           21  14           149  120   \n",
      "7033        92        98  136   98  177           21  14           156  122   \n",
      "\n",
      "      10   11   12      13  \n",
      "0      5  960  191  552959  \n",
      "1      3  612  414  260302  \n",
      "2     22  393  250  294471  \n",
      "3     40  592  209  951077  \n",
      "4      8  852  105  499311  \n",
      "...   ..  ...  ...     ...  \n",
      "7029   5  561  339  364442  \n",
      "7030  66  189  296  178807  \n",
      "7031   3  864  175  241093  \n",
      "7032   3  724  257  701402  \n",
      "7033   3  742  143  753730  \n",
      "\n",
      "[7034 rows x 13 columns]\n"
     ]
    }
   ],
   "source": [
    "with h5py.File('Snudda/networks/tinySim/network-pruned-synapses.hdf5', 'r') as file:\n",
    "    network = file.get('network')\n",
    "    synapses = network.get('synapses')\n",
    "    neurons = network.get('neurons')\n",
    "    neuronID = np.array(neurons.get('neuronID'))\n",
    "    morphology = np.array(neurons.get('morphology'))\n",
    "    \n",
    "    syn_table = []\n",
    "    for i in range(0,len(synapses)):\n",
    "        syn_table.append(synapses[i])\n",
    "\n",
    "    df2 = pd.DataFrame(data=syn_table)\n",
    "    df2.columns = ['sourceID', 'destinID', '3', '4', '5', 'synapseType', '7', 'dentDistance', '9', '10', '11', '12', '13']\n",
    "    print(df2)    "
   ]
  },
  {
   "cell_type": "code",
   "execution_count": 6,
   "id": "appointed-edition",
   "metadata": {},
   "outputs": [],
   "source": [
    "neuron_type = []\n",
    "\n",
    "for i in range (0, morphology.size) :\n",
    "    neuron_type.append(str(morphology[i]))\n",
    "\n",
    "#maybe this loop can be erased, if it is going to make the process lengthy (finding and replacing every neuron).\n",
    "#we can leave the neuron_type as is, with the long doc path, and just change the name at the end, for printing\n",
    "for i in range (0, len(neuron_type)):\n",
    "    if \"dspn\" in neuron_type[i]:\n",
    "        neuron_type[i] = \"DSPN\"\n",
    "    elif ('ispn' in neuron_type[i]) :\n",
    "        neuron_type[i] = \"ISPN\"\n",
    "    elif 'lts' in neuron_type[i] :\n",
    "        neuron_type[i] = \"LTS\"\n",
    "    elif 'fs' in neuron_type[i] :\n",
    "        neuron_type[i] = \"FS\"\n",
    "    elif 'chin' in neuron_type[i] :\n",
    "        neuron_type[i] = \"ChIN\"\n",
    "            \n",
    "structure_df = {'neuronID': neuronID, 'neuron_type': neuron_type}\n",
    "df = pd.DataFrame(data=structure_df)\n"
   ]
  },
  {
   "cell_type": "code",
   "execution_count": null,
   "id": "aggregate-tension",
   "metadata": {},
   "outputs": [],
   "source": [
    "#dsp_to_dsp = []\n",
    "#print(df2['sourceID'])\n",
    "#for row in df2:\n",
    "#    if(row['sourceID'])"
   ]
  },
  {
   "cell_type": "code",
   "execution_count": 7,
   "id": "fatty-coaching",
   "metadata": {},
   "outputs": [
    {
     "name": "stdout",
     "output_type": "stream",
     "text": [
      "<bound method DataFrame.info of     neuronID neuron_type\n",
      "0          0        DSPN\n",
      "1          1        ISPN\n",
      "2          2        DSPN\n",
      "3          3        DSPN\n",
      "4          4        ISPN\n",
      "..       ...         ...\n",
      "94        94        ISPN\n",
      "95        95        DSPN\n",
      "96        96        DSPN\n",
      "97        97        DSPN\n",
      "98        98        DSPN\n",
      "\n",
      "[99 rows x 2 columns]>\n",
      "<class 'pandas.core.frame.DataFrame'>\n"
     ]
    },
    {
     "data": {
      "text/plain": [
       "<bound method DataFrame.info of     neuronID neuron_type\n",
       "0          0        DSPN\n",
       "1          1        ISPN\n",
       "2          2        DSPN\n",
       "3          3        DSPN\n",
       "4          4        ISPN\n",
       "..       ...         ...\n",
       "94        94        ISPN\n",
       "95        95        DSPN\n",
       "96        96        DSPN\n",
       "97        97        DSPN\n",
       "98        98        DSPN\n",
       "\n",
       "[99 rows x 2 columns]>"
      ]
     },
     "execution_count": 7,
     "metadata": {},
     "output_type": "execute_result"
    }
   ],
   "source": [
    "#net = df.get('network')\n",
    "#.get('synapses')\n",
    "print(df.info)\n",
    "print(type(df))\n",
    "df.info"
   ]
  },
  {
   "cell_type": "code",
   "execution_count": null,
   "id": "sufficient-summer",
   "metadata": {},
   "outputs": [],
   "source": [
    "type(df)"
   ]
  },
  {
   "cell_type": "code",
   "execution_count": 8,
   "id": "entitled-crash",
   "metadata": {},
   "outputs": [
    {
     "ename": "FileNotFoundError",
     "evalue": "[Errno 2] No such file or directory: 'Snudda/networks/tinySim/simulation/volt.txt'",
     "output_type": "error",
     "traceback": [
      "\u001b[0;31m---------------------------------------------------------------------------\u001b[0m",
      "\u001b[0;31mFileNotFoundError\u001b[0m                         Traceback (most recent call last)",
      "\u001b[0;32m<ipython-input-8-b70fc1e6f712>\u001b[0m in \u001b[0;36m<module>\u001b[0;34m\u001b[0m\n\u001b[0;32m----> 1\u001b[0;31m \u001b[0;32mwith\u001b[0m \u001b[0mopen\u001b[0m\u001b[0;34m(\u001b[0m\u001b[0;34m\"Snudda/networks/tinySim/simulation/volt.txt\"\u001b[0m\u001b[0;34m,\u001b[0m \u001b[0;34m'r'\u001b[0m\u001b[0;34m)\u001b[0m \u001b[0;32mas\u001b[0m \u001b[0mvolt_txt\u001b[0m\u001b[0;34m:\u001b[0m\u001b[0;34m\u001b[0m\u001b[0;34m\u001b[0m\u001b[0m\n\u001b[0m\u001b[1;32m      2\u001b[0m     \u001b[0mvolt\u001b[0m \u001b[0;34m=\u001b[0m \u001b[0mvolt_txt\u001b[0m\u001b[0;34m.\u001b[0m\u001b[0mreadlines\u001b[0m\u001b[0;34m(\u001b[0m\u001b[0;34m)\u001b[0m\u001b[0;34m\u001b[0m\u001b[0;34m\u001b[0m\u001b[0m\n\u001b[1;32m      3\u001b[0m \u001b[0;34m\u001b[0m\u001b[0m\n\u001b[1;32m      4\u001b[0m \u001b[0mtime\u001b[0m \u001b[0;34m=\u001b[0m \u001b[0mnp\u001b[0m\u001b[0;34m.\u001b[0m\u001b[0marray\u001b[0m\u001b[0;34m(\u001b[0m\u001b[0mvolt\u001b[0m\u001b[0;34m[\u001b[0m\u001b[0;36m0\u001b[0m\u001b[0;34m]\u001b[0m\u001b[0;34m.\u001b[0m\u001b[0msplit\u001b[0m\u001b[0;34m(\u001b[0m\u001b[0;34m\",\"\u001b[0m\u001b[0;34m)\u001b[0m\u001b[0;34m,\u001b[0m\u001b[0mfloat\u001b[0m\u001b[0;34m)\u001b[0m\u001b[0;34m\u001b[0m\u001b[0;34m\u001b[0m\u001b[0m\n\u001b[1;32m      5\u001b[0m \u001b[0mvolt\u001b[0m \u001b[0;34m=\u001b[0m \u001b[0mvolt\u001b[0m\u001b[0;34m[\u001b[0m\u001b[0;36m1\u001b[0m\u001b[0;34m:\u001b[0m\u001b[0;34m]\u001b[0m\u001b[0;34m\u001b[0m\u001b[0;34m\u001b[0m\u001b[0m\n",
      "\u001b[0;31mFileNotFoundError\u001b[0m: [Errno 2] No such file or directory: 'Snudda/networks/tinySim/simulation/volt.txt'"
     ]
    }
   ],
   "source": [
    "with open(\"Snudda/networks/tinySim/simulation/volt.txt\", 'r') as volt_txt:\n",
    "    volt = volt_txt.readlines()\n",
    "\n",
    "time = np.array(volt[0].split(\",\"),float)\n",
    "volt = volt[1:]\n",
    "volt_2 =[]\n",
    "for i in range(0,len(volt)):\n",
    "    volt_2.append(np.array(volt[i].split(\",\"),float))\n",
    "print(volt_2[0])"
   ]
  },
  {
   "cell_type": "code",
   "execution_count": null,
   "id": "increased-sunday",
   "metadata": {},
   "outputs": [],
   "source": [
    "x =volt[0][0]\n",
    "print(x)"
   ]
  },
  {
   "cell_type": "code",
   "execution_count": null,
   "id": "unexpected-microphone",
   "metadata": {},
   "outputs": [],
   "source": [
    "# Data for plotting\n",
    "fig, ax = plt.subplots()\n",
    "ax.plot(time[1:], volt_2[0][1:])\n",
    "\n",
    "ax.set(xlabel='time (ms)', ylabel='voltage (mV)',\n",
    "       title='About as simple as it gets, folks')\n",
    "ax.grid()\n",
    "\n",
    "fig.savefig(\"test.png\")\n",
    "plt.show()"
   ]
  },
  {
   "cell_type": "code",
   "execution_count": null,
   "id": "deadly-enclosure",
   "metadata": {},
   "outputs": [],
   "source": [
    "import matplotlib.pyplot as plt\n",
    "\n",
    "import numpy as np\n",
    "\n",
    "from numpy import genfromtxt\n",
    "#genfromtxt('my_file.csv', delimiter=',')\n",
    " \n",
    "\n",
    "# Set the random seed for data generation\n",
    "\n",
    "np.random.seed(2)\n",
    "\n",
    " \n",
    "\n",
    "# Create rows of random data with 50 data points simulating rows of spike trains\n",
    "\n",
    "data = genfromtxt('02-Data Analysis/data/lgn/plain/neuron_06_stimulus_07.csv', delimiter=',')\n",
    "z=0\n",
    "i=0\n",
    "j=0\n",
    "for i in range(10):\n",
    "    for j in range(4500):\n",
    "        if(data[i,j] == 1):\n",
    "            x1 = [i,i+0.5]\n",
    "            x2 = [j,j]\n",
    "            plt.plot(x2,x1,color = 'black')\n",
    "        else:\n",
    "            z= z+1\n",
    "# # Provide the title for the spike raster plot\n",
    "plt.title('raster plot Neuron-5-Stimulus-7')\n",
    "# # Give x axis label for the spike raster plot\n",
    "fig = plt.gcf()\n",
    "fig.set_size_inches(18.5, 10.5)\n",
    "fig.savefig('test1png.png', dpi=100)\n",
    "# # Give y axis label for the spike raster plot\n",
    "plt.ylabel('trial')\n",
    "# # Display the spike raster plot\n",
    "plt.show()\n"
   ]
  },
  {
   "cell_type": "code",
   "execution_count": null,
   "id": "excited-capacity",
   "metadata": {},
   "outputs": [],
   "source": [
    "xspikes = [[0.2,0.5],[0.2,0.5],[0.2,0.5]]\n",
    "yspikes = [[1,2],[1,2],[0,0]]\n",
    "\n",
    "plt.plot(xspikes, yspikes)\n",
    "plt.show()"
   ]
  },
  {
   "cell_type": "code",
   "execution_count": null,
   "id": "proved-healing",
   "metadata": {},
   "outputs": [],
   "source": []
  }
 ],
 "metadata": {
  "kernelspec": {
   "display_name": "Python 3",
   "language": "python",
   "name": "python3"
  },
  "language_info": {
   "codemirror_mode": {
    "name": "ipython",
    "version": 3
   },
   "file_extension": ".py",
   "mimetype": "text/x-python",
   "name": "python",
   "nbconvert_exporter": "python",
   "pygments_lexer": "ipython3",
   "version": "3.8.5"
  }
 },
 "nbformat": 4,
 "nbformat_minor": 5
}
